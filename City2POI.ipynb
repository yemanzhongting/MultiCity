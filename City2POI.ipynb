{
  "nbformat": 4,
  "nbformat_minor": 0,
  "metadata": {
    "kernelspec": {
      "display_name": "Python 3",
      "language": "python",
      "name": "python3"
    },
    "language_info": {
      "codemirror_mode": {
        "name": "ipython",
        "version": 3
      },
      "file_extension": ".py",
      "mimetype": "text/x-python",
      "name": "python",
      "nbconvert_exporter": "python",
      "pygments_lexer": "ipython3",
      "version": "3.6.13"
    },
    "colab": {
      "name": "seq2seq_translation_tutorial.ipynb",
      "provenance": [],
      "include_colab_link": true
    }
  },
  "cells": [
    {
      "cell_type": "markdown",
      "metadata": {
        "id": "view-in-github",
        "colab_type": "text"
      },
      "source": [
        "<a href=\"https://colab.research.google.com/github/yemanzhongting/MultiCity/blob/main/City2POI.ipynb\" target=\"_parent\"><img src=\"https://colab.research.google.com/assets/colab-badge.svg\" alt=\"Open In Colab\"/></a>"
      ]
    },
    {
      "cell_type": "code",
      "metadata": {
        "id": "XqOI185olb9W"
      },
      "source": [
        "%matplotlib inline"
      ],
      "execution_count": 2,
      "outputs": []
    },
    {
      "cell_type": "code",
      "metadata": {
        "id": "G0SU57-Vewmm",
        "colab": {
          "base_uri": "https://localhost:8080/"
        },
        "outputId": "7db17437-60c5-49b0-9d09-8ba65b5dff50"
      },
      "source": [
        "from google.colab import drive\n",
        "drive.mount('/content/drive')"
      ],
      "execution_count": 1,
      "outputs": [
        {
          "output_type": "stream",
          "name": "stdout",
          "text": [
            "Mounted at /content/drive\n"
          ]
        }
      ]
    },
    {
      "cell_type": "code",
      "metadata": {
        "id": "oxig8rKxe6eI"
      },
      "source": [
        "!cp /content/drive/MyDrive/language.csv /content"
      ],
      "execution_count": 3,
      "outputs": []
    },
    {
      "cell_type": "code",
      "metadata": {
        "id": "UoXcUg_YfQbZ"
      },
      "source": [
        "!cp /content/language.csv /content/data"
      ],
      "execution_count": 4,
      "outputs": []
    },
    {
      "cell_type": "code",
      "metadata": {
        "id": "lTRvCVQWfY6r"
      },
      "source": [
        "import pandas as pd\n",
        "poi=pd.read_csv('/content/language.csv')"
      ],
      "execution_count": 5,
      "outputs": []
    },
    {
      "cell_type": "code",
      "metadata": {
        "id": "91_kdN7bfeZ5"
      },
      "source": [
        "sview=pd.read_csv('/content/streetview2.csv')"
      ],
      "execution_count": null,
      "outputs": []
    },
    {
      "cell_type": "code",
      "metadata": {
        "id": "bk_L8y3jfjff",
        "colab": {
          "base_uri": "https://localhost:8080/",
          "height": 865
        },
        "outputId": "05347c2b-f5c4-40c0-82fb-18e3eb68881e"
      },
      "source": [
        "poi.head()"
      ],
      "execution_count": 6,
      "outputs": [
        {
          "output_type": "execute_result",
          "data": {
            "text/html": [
              "<div>\n",
              "<style scoped>\n",
              "    .dataframe tbody tr th:only-of-type {\n",
              "        vertical-align: middle;\n",
              "    }\n",
              "\n",
              "    .dataframe tbody tr th {\n",
              "        vertical-align: top;\n",
              "    }\n",
              "\n",
              "    .dataframe thead th {\n",
              "        text-align: right;\n",
              "    }\n",
              "</style>\n",
              "<table border=\"1\" class=\"dataframe\">\n",
              "  <thead>\n",
              "    <tr style=\"text-align: right;\">\n",
              "      <th></th>\n",
              "      <th>id</th>\n",
              "      <th>description</th>\n",
              "      <th>tags</th>\n",
              "      <th>lat_gcj</th>\n",
              "      <th>lon_gcj</th>\n",
              "      <th>lat_wgs</th>\n",
              "      <th>lon_wgs</th>\n",
              "      <th>pov_exp</th>\n",
              "      <th>heading</th>\n",
              "      <th>POI</th>\n",
              "      <th>POI32</th>\n",
              "      <th>POI64</th>\n",
              "      <th>CATEGORY</th>\n",
              "      <th>CATEGORY50</th>\n",
              "      <th>CATEGORY100</th>\n",
              "      <th>language2</th>\n",
              "    </tr>\n",
              "  </thead>\n",
              "  <tbody>\n",
              "    <tr>\n",
              "      <th>0</th>\n",
              "      <td>10141003150306134427600</td>\n",
              "      <td>Ｓ１１３</td>\n",
              "      <td>GENERAL</td>\n",
              "      <td>30.458431</td>\n",
              "      <td>114.307388</td>\n",
              "      <td>30.460880</td>\n",
              "      <td>114.301952</td>\n",
              "      <td>2</td>\n",
              "      <td>153</td>\n",
              "      <td>[  4154 395493 208493  19057 395492 216694 332...</td>\n",
              "      <td>[  4154 395493 208493  19057 395492 216694 332...</td>\n",
              "      <td>[  4154 395493 208493  19057 395492 216694 332...</td>\n",
              "      <td>['公交车站相关', '美容美发店', '快餐厅', '工厂', '维修站点', '中餐厅'...</td>\n",
              "      <td>['公交车站相关', '美容美发店', '快餐厅', '工厂', '维修站点', '中餐厅'...</td>\n",
              "      <td>['公交车站相关', '美容美发店', '快餐厅', '工厂', '维修站点', '中餐厅'...</td>\n",
              "      <td>Tree Plant House Window Car Land Street Billbo...</td>\n",
              "    </tr>\n",
              "    <tr>\n",
              "      <th>1</th>\n",
              "      <td>10141003150306134525400</td>\n",
              "      <td>Ｓ１１３</td>\n",
              "      <td>GENERAL</td>\n",
              "      <td>30.461331</td>\n",
              "      <td>114.306847</td>\n",
              "      <td>30.463780</td>\n",
              "      <td>114.301411</td>\n",
              "      <td>2</td>\n",
              "      <td>16</td>\n",
              "      <td>[216628 221539 218523 395495  32257 127973  32...</td>\n",
              "      <td>[216628 221539 218523 395495  32257 127973  32...</td>\n",
              "      <td>[216628 221539 218523 395495  32257 127973  32...</td>\n",
              "      <td>['餐饮相关', '中餐厅', '餐饮相关', '物流速递', '其它农林牧渔基地', '汽...</td>\n",
              "      <td>['餐饮相关', '中餐厅', '餐饮相关', '物流速递', '其它农林牧渔基地', '汽...</td>\n",
              "      <td>['餐饮相关', '中餐厅', '餐饮相关', '物流速递', '其它农林牧渔基地', '汽...</td>\n",
              "      <td>Tree House Plant Window Footwear Land Human Wh...</td>\n",
              "    </tr>\n",
              "    <tr>\n",
              "      <th>2</th>\n",
              "      <td>10141003150306134608900</td>\n",
              "      <td>Ｓ１１３</td>\n",
              "      <td>GENERAL</td>\n",
              "      <td>30.463268</td>\n",
              "      <td>114.308234</td>\n",
              "      <td>30.465714</td>\n",
              "      <td>114.302797</td>\n",
              "      <td>2</td>\n",
              "      <td>228</td>\n",
              "      <td>[342477  32463  32451  32219  32015 446011 216...</td>\n",
              "      <td>[342477  32463  32451  32219  32015 446011 216...</td>\n",
              "      <td>[342477  32463  32451  32219  32015 446011 216...</td>\n",
              "      <td>['政府及社会团体相关', '公司', '公司', '机械电子', '公司', '科教文化场...</td>\n",
              "      <td>['政府及社会团体相关', '公司', '公司', '机械电子', '公司', '科教文化场...</td>\n",
              "      <td>['政府及社会团体相关', '公司', '公司', '机械电子', '公司', '科教文化场...</td>\n",
              "      <td>Tree Window House Plant Car Building Palm Whee...</td>\n",
              "    </tr>\n",
              "    <tr>\n",
              "      <th>3</th>\n",
              "      <td>10141003150306134621500</td>\n",
              "      <td>Ｓ１１３</td>\n",
              "      <td>GENERAL</td>\n",
              "      <td>30.463926</td>\n",
              "      <td>114.308983</td>\n",
              "      <td>30.466371</td>\n",
              "      <td>114.303544</td>\n",
              "      <td>2</td>\n",
              "      <td>225</td>\n",
              "      <td>[ 32219  32015 342477  32463 446011 120814 307...</td>\n",
              "      <td>[ 32219  32015 342477  32463 446011 120814 307...</td>\n",
              "      <td>[ 32219  32015 342477  32463 446011 120814 307...</td>\n",
              "      <td>['机械电子', '公司', '政府及社会团体相关', '公司', '科教文化场所', '政...</td>\n",
              "      <td>['机械电子', '公司', '政府及社会团体相关', '公司', '科教文化场所', '政...</td>\n",
              "      <td>['机械电子', '公司', '政府及社会团体相关', '公司', '科教文化场所', '政...</td>\n",
              "      <td>Tree Window House Building Car Train Plant Whe...</td>\n",
              "    </tr>\n",
              "    <tr>\n",
              "      <th>4</th>\n",
              "      <td>10141003150306134625100</td>\n",
              "      <td>Ｓ１１３</td>\n",
              "      <td>GENERAL</td>\n",
              "      <td>30.464176</td>\n",
              "      <td>114.309251</td>\n",
              "      <td>30.466621</td>\n",
              "      <td>114.303812</td>\n",
              "      <td>2</td>\n",
              "      <td>39</td>\n",
              "      <td>[ 32219  32015 446011 342477  32463 120814 307...</td>\n",
              "      <td>[ 32219  32015 446011 342477  32463 120814 307...</td>\n",
              "      <td>[ 32219  32015 446011 342477  32463 120814 307...</td>\n",
              "      <td>['机械电子', '公司', '科教文化场所', '政府及社会团体相关', '公司', '政...</td>\n",
              "      <td>['机械电子', '公司', '科教文化场所', '政府及社会团体相关', '公司', '政...</td>\n",
              "      <td>['机械电子', '公司', '科教文化场所', '政府及社会团体相关', '公司', '政...</td>\n",
              "      <td>Tree Window House Plant Car Wheel</td>\n",
              "    </tr>\n",
              "  </tbody>\n",
              "</table>\n",
              "</div>"
            ],
            "text/plain": [
              "                        id  ...                                          language2\n",
              "0  10141003150306134427600  ...  Tree Plant House Window Car Land Street Billbo...\n",
              "1  10141003150306134525400  ...  Tree House Plant Window Footwear Land Human Wh...\n",
              "2  10141003150306134608900  ...  Tree Window House Plant Car Building Palm Whee...\n",
              "3  10141003150306134621500  ...  Tree Window House Building Car Train Plant Whe...\n",
              "4  10141003150306134625100  ...                  Tree Window House Plant Car Wheel\n",
              "\n",
              "[5 rows x 16 columns]"
            ]
          },
          "metadata": {},
          "execution_count": 6
        }
      ]
    },
    {
      "cell_type": "code",
      "metadata": {
        "id": "K9j2TYscJgt6",
        "colab": {
          "base_uri": "https://localhost:8080/"
        },
        "outputId": "e572e301-8512-4c55-b5f1-0d29e146012c"
      },
      "source": [
        "import json\n",
        "with open(\"/content/drive/MyDrive/base.json\", 'r') as f:\n",
        "    result = json.load(f)\n",
        "    print (result)"
      ],
      "execution_count": 7,
      "outputs": [
        {
          "output_type": "stream",
          "name": "stdout",
          "text": [
            "{'体育休闲服务': ['体育休闲服务场所', '健身中心', '运动场所', '休闲场所', 'KTV', '网吧', '台球厅', '乒乓球馆', '娱乐场所', '棋牌室', '疗养院', '游乐场', '游戏厅', '跆拳道场馆', '篮球场馆', '体育休闲服务', '酒吧', '剧场', '网球场', '游泳馆', '羽毛球场', '水上活动中心', '溜冰场', '夜总会', '度假村', '电影院', '综合体育馆', '保龄球馆', '影剧院相关', '足球场', '迪厅', '垂钓园', '高尔夫球场', '采摘园', '户外健身场所', '滑雪场', '高尔夫练习场', '马术俱乐部', '度假疗养场所', '高尔夫相关', '赛马场', '海滨浴场', '露营地', '音乐厅', '壁球场'], '室内设施': ['室内设施'], '餐饮服务': ['火锅店', '四川菜(川菜)', '餐饮服务', '餐饮相关', '中餐厅', '特色/地方风味餐厅', '糕饼店', '快餐厅', '咖啡厅', '冷饮店', '外国餐厅', '综合酒楼', '茶艺馆', '清真菜馆', '日本料理', '海鲜酒楼', '西餐厅(综合风味)', '茶餐厅', '云贵菜', '东北菜', '韩国料理', '广东菜(粤菜)', '湖南菜(湘菜)', '休闲餐饮场所', '甜品店', '湖北菜(鄂菜)', '必胜客', '牛扒店(扒房)', '永和豆浆', '浙江菜', '中式素菜馆', '肯德基', '意式菜品餐厅', '安徽菜(徽菜)', '台湾菜', '星巴克咖啡', '法式菜品餐厅', '西北菜', '老字号', '麦当劳', '上海菜', '潮州菜', '江苏菜', '大家乐', '北京菜', '上岛咖啡', '其它亚洲菜', '泰国/越南菜品餐厅', '山东菜(鲁菜)', '印度风味', '巴西菜', 'Pacific Coffee Company', '美式风味', '德国菜', '福建菜', '地中海风格菜品', '呷哺呷哺'], '住宿服务': ['四星级宾馆', '住宿服务相关', '旅馆招待所', '住宿服务', '宾馆酒店', '三星级宾馆', '经济型连锁酒店', '五星级宾馆', '青年旅舍', '六星级及以上宾馆'], '通行设施': ['通行设施', '临街院门', '临街院正门', '建筑物正门', '建筑物门'], '汽车维修': ['汽车维修', '汽车综合维修', '斯柯达维修', '东风维修', '东风本田维修', '奇瑞维修', '别克维修', '货车维修', '福特维修', '北京现代维修', '进口现代维修', '东风日产维修', '吉利维修', '宝马维修', '现代维修', '劳斯莱斯维修', '广汽丰田维修', '梅赛德斯-奔驰维修', '东风雪铁龙维修', '东风标致维修', '马自达维修', '林肯维修', '雷诺维修', '名爵维修', '一汽-大众奥迪维修', '广汽本田维修', '上海大众维修', '沃尔沃维修', '本田讴歌维修', '三菱维修', '进口大众维修', '法拉利维修', '宝马MINI维修', '兰博基尼维修', '雷克萨斯维修', '玛莎拉蒂维修', '一汽丰田维修', '东风悦达起亚维修', '观致维修', 'DS维修', '吉普维修', '雪佛兰维修', '凯迪拉克维修', '斯巴鲁维修', '江淮维修', '一汽-大众维修', '郑州日产维修', '陕西重汽维修', '进口起亚维修', '保时捷维修', '东风货车维修', '福田卡车维修', '英菲尼迪维修', '红旗维修'], '公司企业': ['公司', '网络科技', '公司企业', '机械电子', '电信公司', '工厂', '商业贸易', '广告装饰', '建筑公司', '其它农林牧渔基地', '医药公司', '冶金化工', '知名企业', '花卉苗圃基地', '农场', '水果基地', '矿产公司', '家禽养殖基地', '渔场', '林场'], '科教文化服务': ['科教文化场所', '高等院校', '学校', '成人教育', '中学', '小学', '幼儿园', '美术馆', '科研机构', '培训机构', '图书馆', '职业技术学校', '驾校', '会展中心', '文化宫', '传媒机构', '展览馆', '档案馆', '文艺团体', '博物馆', '报社', '科技馆', '科教文化服务', '学校内部设施', '杂志社', '出版社', '电视台', '电台', '天文馆'], '交通设施服务': ['公共停车场', '公交车站相关', '停车场入口', '交通设施服务', '停车场相关', '停车场出口', '专用停车场', '地铁站', '路边停车场', '交通服务相关', '火车站', '停车场出入口', '长途汽车站', '出入口', '候车室', '港口码头', '轮渡站', '机场货运处', '出站口', '站台', '货运火车站', '票务相关', '机场出发/到达', '飞机场', '人渡口', '售票', '改签', '进站口/检票口', '货运港口码头', '车渡口', '客运港', '机场相关', '候机室', '退票', '出租车'], '医疗保健服务': ['药房', '诊所', '口腔医院', '三级甲等医院', '专科医院', '卫生院', '整形美容', '医疗保健用品', '医疗保健服务场所', '综合医院', '疾病预防', '肿瘤医院', '妇科医院', '急救中心', '动物医疗场所', '精神病医院', '骨科医院', '宠物诊所', '眼科医院', '兽医站', '医疗保健服务', '医药保健相关', '脑科医院', '耳鼻喉医院', '传染病医院', '胸科医院'], '金融保险服务': ['兴业银行ATM', '金融保险机构', '中国农业银行ATM', '中国银行', '自动提款机', '中国工商银行', '银行', '中国工商银行ATM', '中国邮政储蓄银行', '中国建设银行', '中国民生银行ATM', '华夏银行ATM', '中国建设银行ATM', '招商银行ATM', '兴业银行', '中国光大银行', '保险公司', '中国邮政储蓄银行ATM', '证券营业厅', '交通银行ATM', '银行相关', '中国农业银行', '中国人寿保险公司', '农村商业银行ATM', '华泰财产保险股份有限公司', '农村商业银行', '中国人民保险公司', '中国人民银行', '泰康人寿保险公司', '中国太平洋保险', '中国平安保险公司', '新华人寿保险公司', '中信银行', '广发银行ATM', '金融保险服务', '中国民生银行', '交通银行', '广发银行', '中国银行ATM', '中信银行ATM', '汇丰银行', '平安银行', '平安银行ATM', '中国光大银行ATM', '汇丰银行ATM', '上海浦东发展银行ATM', '证券公司', '招商银行', '华夏银行', '财务公司', '上海浦东发展银行', '东亚银行', '东亚银行ATM', '上海银行ATM', '法国兴业银行ATM', '国家开发银行', '中信银行(国际)ATM', '渣打银行', '巴克莱银行ATM', '法国兴业银行', '渣打银行ATM', '中国进出口银行'], '公共设施': ['公共设施', '公共厕所', '紧急避难场所', '报刊亭', '男洗手间', '女洗手间', '公用电话'], '政府机构及社会团体': ['政府机关相关', '公安警察', '乡镇以下级政府及事业单位', '行业协会', '社会治安机构', '公证鉴定机构', '乡镇级政府及事业单位', '社会团体相关', '区县级政府及事业单位', '公检法机关', '省直辖市级政府及事业单位', '验车场', '法院', '残联', '红十字会', '地市级政府及事业单位', '交通管理机构', '政府及社会团体相关', '检察院', '地税机关', '慈善机构', '工商部门', '国税机关', '政府机构及社会团体', '教会', '共青团', '国家级机关及事业单位', '外地政府办', '妇联', '民主党派', '工商税务机构', '消防机关', '交通执法站', '交通车辆管理相关', '消费者协会', '车辆管理机构', '车辆通行证办理处', '外国使领馆', '外国机构相关', '少先队'], '风景名胜': ['风景名胜', '纪念馆', '寺庙道观', '国家级景点', '旅游景点', '公园', '城市广场', '公园广场', '教堂', '水族馆', '植物园', '动物园', '省级景点', '回教寺', '世界遗产'], '商务住宅': ['住宅小区', '商务写字楼', '别墅', '商务住宅相关', '产业园区', '宿舍', '住宅区', '商住两用楼宇', '商务住宅', '楼宇相关', '社区中心', '工业大厦建筑物'], '摩托车服务': ['摩托车服务相关', '摩托车维修', '摩托车销售', '摩托车服务'], '购物服务': ['专营店', '购物中心', '数码电子', '家具城', '品牌服装店', '普通商场', '超市', '购物相关场所', '便民商店/便利店', '文化用品店', '厨卫市场', '服装鞋帽皮具店', '步行街', '布艺市场', '其它个人用品店', '家居建材市场', '果品市场', '花卉市场', '家电电子卖场', '儿童用品店', '烟酒专卖店', '书店', '品牌鞋店', '购物服务', '品牌皮具店', '建材五金市场', '综合市场', '体育用品店', '珠宝首饰工艺品', '自行车专卖店', '眼镜店', '手机销售', '商场', '农副产品市场', '礼品饰品店', '宠物用品店', '音像店', '古玩字画店', '特殊买卖场所', '水产海鲜市场', '李宁专卖店', '旧货市场', '蔬菜市场', '宠物市场', '特色商业街', '灯具瓷器市场', '钟表店', '户外用品', '家具建材综合市场', '麦德龙', '小商品市场', '花鸟鱼虫市场', '土特产专卖店', '典当行', '综合家电商场', '苏宁', '屈臣氏', '国美', '耐克专卖店', '阿迪达斯专卖店', '摄影器材店', '沃尔玛', '华润', '北京华联', '卜蜂莲花', '乐天玛特', '拍卖行'], '汽车销售': ['汽车销售', '东风销售', '福特销售', '货车销售', '荣威销售', '宝马销售', '东风悦达起亚销售', '大众销售', '梅赛德斯-奔驰销售', '宝马MINI销售', '东风日产销售', '斯巴鲁销售', '三菱销售', '一汽大众销售', '保时捷销售', '雷克萨斯销售', '现代销售', '奇瑞销售', '雷诺销售', '北京现代销售', '进口起亚销售', '进口现代销售', '上海大众销售', '一汽丰田销售', '广汽丰田销售', '起亚销售', 'DS销售', '劳斯莱斯销售', '玛莎拉蒂销售', '广汽本田销售', '马自达销售', '郑州日产销售', '东风货车销售', '一汽-大众奥迪销售', '克莱斯勒销售', '江淮销售', '陕西重汽销售', '福田卡车销售', '一汽解放销售', '吉利销售', '北奔重汽销售', '江淮货车销售', '东风雪铁龙销售', '一汽-大众销售', '雪佛兰销售', '别克销售', '一汽大众奥迪销售', '凯迪拉克销售', '菲亚特销售', '东风本田销售', '广汽三菱销售', '捷豹销售', '吉普销售', '宾利销售', '英菲尼迪销售', '雪铁龙销售', '观致销售', '沃尔沃销售', '法拉利销售', '林肯销售', '斯柯达销售', '东风标致销售', '路虎销售', '进口大众销售', '名爵销售'], '汽车服务': ['中国石化', '中国石油', '汽车租赁', '汽车养护', '汽车配件销售', '洗车场', '汽车服务相关', '加气站', '汽车俱乐部', '汽车租赁还车', '加油站', '道达尔', '其它能源站', '充电站', '汽车服务', '二手车交易', '汽车救援', '加水站'], '生活服务': ['彩票彩券销售点', '摄影冲印', '飞机票代售点', '长途汽车票代售点', '洗浴推拿场所', '生活服务场所', '售票处', '物流速递', '美容美发店', '中国电信营业厅', '火车票代售点', '公园景点售票处', '中介机构', '旅行社', '维修站点', '洗衣店', '邮局', '中国移动营业厅', '婴儿游泳馆', '生活服务', '律师事务所', '人才市场', '中国联通营业厅', '电讯营业厅', '专利事务所', '丧葬设施', '邮政速递', '自来水营业厅', '陵园', '事务所', '电力营业厅', '会计师事务所', '婴儿服务场所', '物流仓储场地', '评估事务所', '公墓', '中国铁通营业厅', '信息咨询中心', '公交卡/月票代售点', '认证事务所', '搬家公司', '殡仪馆', '服务中心', '船票代售点', '行李查询/行李问询'], '地名地址信息': ['楼栋号', '山', '路口名', '城市快速路入口', '村庄级地名', '城市快速路出口', '道路名', '热点地名', '河流', '门牌信息', '普通地名', '乡镇级地名', '桥', '岛屿', '湖泊', '立交桥', '隧道', '街道级地名', '高速路出口', '自然地名', '地名地址信息', '高速路入口', '区县级地名', '地市级地名'], '道路附属设施': ['收费站', '高速服务区', '高速加油站服务区', '道路附属设施', '违章停车', '高速停车区']}\n"
          ]
        }
      ]
    },
    {
      "cell_type": "code",
      "metadata": {
        "id": "lx0uq8k_Js9b",
        "colab": {
          "base_uri": "https://localhost:8080/"
        },
        "outputId": "9480df7f-7e59-42f0-aa1d-33797d03decb"
      },
      "source": [
        "num=0\n",
        "for i in result:\n",
        "  num=num+len(i)\n",
        "num"
      ],
      "execution_count": 8,
      "outputs": [
        {
          "output_type": "execute_result",
          "data": {
            "text/plain": [
              "108"
            ]
          },
          "metadata": {},
          "execution_count": 8
        }
      ]
    },
    {
      "cell_type": "code",
      "metadata": {
        "id": "aqETkiH9J4MS",
        "colab": {
          "base_uri": "https://localhost:8080/"
        },
        "outputId": "7b874ddd-649d-4986-d59a-022bd61de165"
      },
      "source": [
        "# import json\n",
        "with open(\"/content/drive/MyDrive/subtype.json\", 'r') as f:\n",
        "    result2 = json.load(f)\n",
        "    print (result2)"
      ],
      "execution_count": 9,
      "outputs": [
        {
          "output_type": "stream",
          "name": "stdout",
          "text": [
            "{'生活服务场所': ['生活服务场所', '生活服务'], '福特特约维修': ['福特维修', '汽车维修', '马自达维修', '林肯维修'], '医药保健销售店': ['药房', '医疗保健用品', '医疗保健服务', '医药保健相关'], '梅赛德斯-奔驰卡车维修': ['汽车维修'], '娱乐场所': ['KTV', '网吧', '娱乐场所', '棋牌室', '游戏厅', '体育休闲服务', '酒吧', '夜总会', '迪厅'], '咖啡厅': ['咖啡厅', '餐饮服务', '星巴克咖啡', '上岛咖啡', 'Pacific Coffee Company'], '公检法机构': ['公安警察', '社会治安机构', '公证鉴定机构', '公检法机关', '法院', '检察院', '政府机构及社会团体', '消防机关'], '汽车维修': ['汽车维修'], '大众特约维修': ['斯柯达维修', '汽车维修', '上海大众维修', '进口大众维修', '兰博基尼维修', '一汽-大众维修'], '自动提款机': ['兴业银行ATM', '中国农业银行ATM', '自动提款机', '中国工商银行ATM', '中国民生银行ATM', '华夏银行ATM', '中国建设银行ATM', '招商银行ATM', '中国邮政储蓄银行ATM', '交通银行ATM', '农村商业银行ATM', '广发银行ATM', '中国银行ATM', '中信银行ATM', '平安银行ATM', '中国光大银行ATM', '金融保险服务', '汇丰银行ATM', '上海浦东发展银行ATM', '东亚银行ATM', '上海银行ATM', '法国兴业银行ATM', '中信银行(国际)ATM', '巴克莱银行ATM', '渣打银行ATM'], '江淮货车销售': ['江淮货车销售'], '医疗保健服务场所': ['医疗保健服务场所', '医疗保健服务'], '陕西重汽维修': ['陕西重汽维修'], '展览馆': ['展览馆', '科教文化服务'], '洗浴推拿场所': ['洗浴推拿场所', '生活服务'], '机场相关': ['机场货运处', '交通设施服务', '机场出发/到达', '飞机场', '机场相关', '候机室'], '诊所': ['诊所', '医疗保健服务'], '梅赛德斯-奔驰特约维修': ['梅赛德斯-奔驰维修'], '摄影冲印店': ['摄影冲印', '生活服务'], '博物馆': ['博物馆'], '保时捷特约维修': ['保时捷维修'], '快餐厅': ['快餐厅', '茶餐厅', '必胜客', '永和豆浆', '餐饮服务', '肯德基', '麦当劳', '大家乐', '呷哺呷哺'], '摩托车服务相关': ['摩托车服务相关'], '家居建材市场': ['家具城', '厨卫市场', '布艺市场', '家居建材市场', '建材五金市场', '灯具瓷器市场', '购物服务', '家具建材综合市场'], '餐饮相关场所': ['餐饮相关', '餐饮服务'], '体育休闲服务场所': ['体育休闲服务场所', '体育休闲服务'], '洗车场': ['洗车场', '汽车服务'], '休闲场所': ['休闲场所', '游乐场', '水上活动中心', '体育休闲服务', '垂钓园', '采摘园', '露营地'], '公共设施': ['公共设施'], '雷诺特约维修': ['雷诺维修'], '汽车俱乐部': ['汽车俱乐部'], '搬家公司': ['搬家公司'], '疾病预防机构': ['疾病预防'], '文化宫': ['文化宫'], '金融保险服务机构': ['金融保险机构', '金融保险服务'], '中餐厅': ['火锅店', '四川菜(川菜)', '中餐厅', '特色/地方风味餐厅', '综合酒楼', '清真菜馆', '海鲜酒楼', '云贵菜', '东北菜', '广东菜(粤菜)', '湖南菜(湘菜)', '湖北菜(鄂菜)', '餐饮服务', '浙江菜', '中式素菜馆', '安徽菜(徽菜)', '台湾菜', '西北菜', '老字号', '上海菜', '潮州菜', '江苏菜', '北京菜', '山东菜(鲁菜)', '福建菜'], '便民商店/便利店': ['便民商店/便利店', '购物服务'], '休闲餐饮场所': ['餐饮服务', '休闲餐饮场所'], '茶艺馆': ['茶艺馆', '餐饮服务'], '银行': ['中国银行', '中国工商银行', '银行', '中国邮政储蓄银行', '中国建设银行', '兴业银行', '中国光大银行', '中国农业银行', '农村商业银行', '中国人民银行', '中信银行', '金融保险服务', '中国民生银行', '交通银行', '广发银行', '汇丰银行', '平安银行', '招商银行', '华夏银行', '上海浦东发展银行', '东亚银行', '国家开发银行', '渣打银行', '法国兴业银行', '中国进出口银行'], '民主党派': ['民主党派'], '旅行社': ['旅行社', '生活服务'], '一汽解放销售': ['一汽解放销售'], '天文馆': ['天文馆'], '公共厕所': ['公共厕所', '男洗手间', '女洗手间'], '农林牧渔基地': ['其它农林牧渔基地', '花卉苗圃基地', '农场', '水果基地', '家禽养殖基地', '渔场', '林场', '公司企业'], '汽车养护/装饰': ['汽车养护', '汽车服务', '加水站'], '综合市场': ['果品市场', '综合市场', '农副产品市场', '水产海鲜市场', '旧货市场', '蔬菜市场', '小商品市场', '购物服务'], '专科医院': ['口腔医院', '专科医院', '整形美容', '肿瘤医院', '妇科医院', '精神病医院', '骨科医院', '眼科医院', '医疗保健服务', '脑科医院', '耳鼻喉医院', '传染病医院', '胸科医院'], '荣威维修': ['汽车维修'], '大众特约销售': ['大众销售', '一汽大众销售', '汽车销售', '上海大众销售', '一汽-大众销售', '宾利销售', '斯柯达销售', '进口大众销售'], '住宅区': ['住宅小区', '别墅', '宿舍', '住宅区', '商务住宅', '社区中心'], '彩票彩券销售点': ['彩票彩券销售点'], '名爵维修': ['名爵维修'], '名爵销售': ['名爵销售'], '住宿服务相关': ['住宿服务相关', '住宿服务'], '起亚特约销售': ['东风悦达起亚销售', '汽车销售', '进口起亚销售', '起亚销售'], '港口码头': ['港口码头', '人渡口', '货运港口码头', '车渡口', '客运港'], '交通车辆管理': ['验车场', '交通管理机构', '政府机构及社会团体', '交通执法站', '交通车辆管理相关', '车辆管理机构', '车辆通行证办理处'], '奇瑞特约维修': ['奇瑞维修'], '现代特约维修': ['北京现代维修', '进口现代维修', '现代维修'], '保时捷特约销售': ['保时捷销售'], '本田特约维修': ['汽车维修', '东风本田维修', '广汽本田维修', '本田讴歌维修'], '三菱特约销售': ['三菱销售', '广汽三菱销售'], '克莱斯勒特约维修': ['汽车维修', '吉普维修'], '火车站': ['火车站', '候车室', '出站口', '站台', '货运火车站', '票务相关', '交通设施服务', '售票', '改签', '进站口/检票口', '退票'], '吉利特约维修': ['汽车维修', '吉利维修', '沃尔沃维修'], '克莱斯勒特约销售': ['汽车销售', '克莱斯勒销售', '吉普销售'], '交通服务相关': ['交通服务相关'], '洗衣店': ['洗衣店'], '长途汽车站': ['长途汽车站'], '斯巴鲁特约销售': ['斯巴鲁销售'], '个人用品/化妆品店': ['其它个人用品店', '购物服务'], '影剧院': ['剧场', '电影院', '影剧院相关', '体育休闲服务', '音乐厅'], '人才市场': ['人才市场'], '普通地名': ['村庄级地名', '普通地名', '乡镇级地名', '街道级地名', '地名地址信息', '区县级地名', '地市级地名'], '通用特约销售': ['汽车销售', '雪佛兰销售', '别克销售', '凯迪拉克销售'], '知名企业': ['知名企业', '公司企业'], '斯巴鲁特约维修': ['汽车维修', '斯巴鲁维修'], '丰田特约销售': ['雷克萨斯销售', '汽车销售', '一汽丰田销售', '广汽丰田销售'], '传媒机构': ['传媒机构', '报社', '杂志社', '出版社', '电视台', '电台', '科教文化服务'], '培训机构': ['培训机构', '科教文化服务'], '东风特约维修': ['东风维修', '汽车维修'], '财务公司': ['财务公司'], '文化用品店': ['文化用品店'], '中介机构': ['中介机构', '生活服务'], '科教文化场所': ['科教文化场所', '科教文化服务'], '交通地名': ['路口名', '城市快速路入口', '城市快速路出口', '道路名', '桥', '立交桥', '隧道', '高速路出口', '高速路入口'], '政府机关': ['政府机关相关', '乡镇以下级政府及事业单位', '乡镇级政府及事业单位', '区县级政府及事业单位', '省直辖市级政府及事业单位', '地市级政府及事业单位', '政府机构及社会团体', '国家级机关及事业单位', '外地政府办'], '起亚特约维修': ['东风悦达起亚维修', '进口起亚维修'], '日产特约维修': ['汽车维修', '东风日产维修', '郑州日产维修', '英菲尼迪维修'], '风景名胜': ['风景名胜', '纪念馆', '寺庙道观', '国家级景点', '教堂', '省级景点', '回教寺', '世界遗产'], '超级市场': ['超市', '购物服务', '麦德龙', '屈臣氏', '沃尔玛', '华润', '北京华联', '卜蜂莲花', '乐天玛特'], '银行相关': ['银行相关', '金融保险服务'], '特殊买卖场所': ['特殊买卖场所', '典当行', '拍卖行'], '江淮销售': ['江淮销售'], '摩托车维修': ['摩托车维修', '摩托车服务'], '商务住宅相关': ['商务住宅相关'], '日产特约销售': ['汽车销售', '东风日产销售', '郑州日产销售', '英菲尼迪销售'], '汽车销售': ['汽车销售'], '动物医疗场所': ['动物医疗场所', '宠物诊所', '兽医站', '医疗保健服务'], '二手车交易': ['二手车交易'], '售票处': ['飞机票代售点', '长途汽车票代售点', '售票处', '火车票代售点', '公园景点售票处', '公交卡/月票代售点', '生活服务', '船票代售点'], '美术馆': ['美术馆'], '江淮维修': ['江淮维修'], '体育用品店': ['体育用品店', '李宁专卖店', '户外用品', '耐克专卖店', '阿迪达斯专卖店'], '加气站': ['加气站'], '货车维修': ['货车维修'], '商场': ['购物中心', '普通商场', '购物服务', '商场'], '地铁站': ['地铁站', '出入口'], '奥迪特约维修': ['汽车维修', '一汽-大众奥迪维修'], '充电站': ['充电站', '汽车服务'], '梅赛德斯-奔驰特约销售': ['梅赛德斯-奔驰销售', '汽车销售'], '美容美发店': ['美容美发店', '生活服务'], '急救中心': ['急救中心', '医疗保健服务'], '地名地址信息': ['地名地址信息'], '会展中心': ['会展中心'], '服装鞋帽皮具店': ['品牌服装店', '服装鞋帽皮具店', '品牌鞋店', '品牌皮具店', '购物服务'], '道路附属设施': ['道路附属设施'], '证券公司': ['证券营业厅', '证券公司'], '路虎特约销售': ['汽车销售', '路虎销售'], '科研机构': ['科研机构', '科教文化服务'], '吉利特约销售': ['汽车销售', '吉利销售', '沃尔沃销售'], '维修站点': ['维修站点', '生活服务'], '专卖店': ['专营店', '儿童用品店', '烟酒专卖店', '书店', '珠宝首饰工艺品', '自行车专卖店', '眼镜店', '礼品饰品店', '宠物用品店', '音像店', '古玩字画店', '钟表店', '购物服务', '土特产专卖店', '摄影器材店'], '出租车': ['出租车'], '雷诺特约销售': ['雷诺销售', '汽车销售'], '荣威销售': ['荣威销售'], '东风货车销售': ['东风货车销售'], '家电电子卖场': ['数码电子', '家电电子卖场', '购物服务', '手机销售', '综合家电商场', '苏宁', '国美'], '通用特约维修': ['别克维修', '汽车维修', '雪佛兰维修', '凯迪拉克维修'], '轮渡站': ['轮渡站'], '收费站': ['收费站'], '保险公司': ['保险公司', '中国人寿保险公司', '华泰财产保险股份有限公司', '中国人民保险公司', '泰康人寿保险公司', '中国太平洋保险', '中国平安保险公司', '新华人寿保险公司'], '档案馆': ['档案馆'], '法拉利特约销售': ['玛莎拉蒂销售', '法拉利销售'], '度假疗养场所': ['疗养院', '度假村', '体育休闲服务', '度假疗养场所'], '公用电话': ['公用电话'], '甜品店': ['餐饮服务', '甜品店'], '标致雪铁龙特约销售': ['汽车销售', 'DS销售', '东风雪铁龙销售', '雪铁龙销售', '东风标致销售'], '电讯营业厅': ['中国电信营业厅', '中国移动营业厅', '中国联通营业厅', '生活服务', '电讯营业厅', '中国铁通营业厅'], '公司': ['公司', '网络科技', '机械电子', '电信公司', '商业贸易', '广告装饰', '建筑公司', '公司企业', '医药公司', '冶金化工', '矿产公司'], '建筑物门': ['通行设施', '建筑物正门', '建筑物门'], '丰田特约维修': ['汽车维修', '广汽丰田维修', '雷克萨斯维修', '一汽丰田维修'], '陕西重汽销售': ['陕西重汽销售'], '外国餐厅': ['外国餐厅', '日本料理', '西餐厅(综合风味)', '韩国料理', '牛扒店(扒房)', '意式菜品餐厅', '餐饮服务', '法式菜品餐厅', '其它亚洲菜', '泰国/越南菜品餐厅', '印度风味', '巴西菜', '美式风味', '德国菜', '地中海风格菜品'], '门牌信息': ['楼栋号', '门牌信息'], '信息咨询中心': ['信息咨询中心', '服务中心', '生活服务', '行李查询/行李问询'], '福特特约销售': ['福特销售', '汽车销售', '马自达销售', '林肯销售'], '其它能源站': ['其它能源站', '汽车服务'], '福田卡车销售': ['福田卡车销售'], '福田卡车维修': ['福田卡车维修'], '汽车配件销售': ['汽车配件销售', '汽车服务'], '警示信息': ['违章停车'], '捷豹特约销售': ['捷豹销售'], '楼宇': ['商务写字楼', '商住两用楼宇', '商务住宅', '楼宇相关', '工业大厦建筑物'], '现代特约销售': ['汽车销售', '现代销售', '北京现代销售', '进口现代销售'], '事务所': ['律师事务所', '专利事务所', '事务所', '会计师事务所', '评估事务所', '认证事务所'], '物流速递': ['物流速递', '物流仓储场地', '生活服务'], '丧葬设施': ['丧葬设施', '陵园', '公墓', '殡仪馆'], '邮局': ['邮局', '邮政速递', '生活服务'], '特色商业街': ['步行街', '特色商业街'], '本田特约销售': ['汽车销售', '广汽本田销售', '东风本田销售'], '旅馆招待所': ['旅馆招待所', '住宿服务', '青年旅舍'], '东风特约销售': ['东风销售', '汽车销售'], '风景名胜相关': ['旅游景点', '风景名胜'], '停车场': ['公共停车场', '停车场入口', '交通设施服务', '停车场相关', '停车场出口', '专用停车场', '路边停车场', '停车场出入口'], '宝马特约销售': ['宝马销售', '宝马MINI销售', '劳斯莱斯销售'], '奥迪特约销售': ['一汽-大众奥迪销售', '一汽大众奥迪销售'], '观致销售': ['观致销售'], '婴儿服务场所': ['婴儿游泳馆', '婴儿服务场所'], '图书馆': ['图书馆'], '糕饼店': ['糕饼店', '餐饮服务'], '高尔夫相关': ['高尔夫球场', '高尔夫练习场', '高尔夫相关'], '观致维修': ['观致维修'], '自来水营业厅': ['生活服务', '自来水营业厅'], '外国机构': ['外国使领馆', '外国机构相关'], '临街院门': ['临街院门', '临街院正门'], '花鸟鱼虫市场': ['花卉市场', '宠物市场', '花鸟鱼虫市场'], '文艺团体': ['文艺团体', '科教文化服务'], '自然地名': ['山', '河流', '岛屿', '湖泊', '自然地名', '地名地址信息'], '室内设施': ['室内设施'], '摩托车销售': ['摩托车销售', '摩托车服务'], '科技馆': ['科技馆'], '运动场馆': ['健身中心', '运动场所', '台球厅', '乒乓球馆', '跆拳道场馆', '篮球场馆', '网球场', '游泳馆', '羽毛球场', '溜冰场', '综合体育馆', '保龄球馆', '体育休闲服务', '足球场', '户外健身场所', '滑雪场', '马术俱乐部', '赛马场', '海滨浴场', '壁球场'], '政府及社会团体相关': ['政府及社会团体相关', '政府机构及社会团体'], '菲亚特约销售': ['汽车销售', '菲亚特销售'], '通行设施': ['通行设施'], '宝马特约维修': ['汽车维修', '宝马维修', '劳斯莱斯维修', '宝马MINI维修'], '公司企业': ['公司企业'], '奇瑞特约销售': ['奇瑞销售'], '三菱特约维修': ['汽车维修', '三菱维修'], '报刊亭': ['公共设施', '报刊亭'], '冷饮店': ['餐饮服务', '冷饮店'], '热点地名': ['热点地名'], '标致雪铁龙特约维修': ['汽车维修', '东风雪铁龙维修', '东风标致维修', 'DS维修'], '宾馆酒店': ['四星级宾馆', '住宿服务', '宾馆酒店', '三星级宾馆', '经济型连锁酒店', '五星级宾馆', '六星级及以上宾馆'], '工商税务机构': ['地税机关', '工商部门', '国税机关', '工商税务机构'], '北奔重汽销售': ['北奔重汽销售'], '工厂': ['工厂', '公司企业'], '社会团体': ['行业协会', '社会团体相关', '残联', '红十字会', '慈善机构', '教会', '共青团', '妇联', '消费者协会', '政府机构及社会团体', '少先队'], '汽车救援': ['汽车救援'], '法拉利特约维修': ['法拉利维修', '玛莎拉蒂维修'], '综合医院': ['三级甲等医院', '卫生院', '综合医院', '医疗保健服务'], '驾校': ['驾校', '科教文化服务'], '东风货车维修': ['东风货车维修'], '公园广场': ['公园', '城市广场', '公园广场', '风景名胜', '水族馆', '植物园', '动物园'], '公交车站': ['公交车站相关'], '产业园区': ['产业园区', '商务住宅'], '购物相关场所': ['购物相关场所'], '汽车租赁': ['汽车租赁', '汽车租赁还车'], '紧急避难场所': ['紧急避难场所'], '红旗维修': ['红旗维修'], '学校': ['高等院校', '学校', '成人教育', '中学', '小学', '幼儿园', '职业技术学校', '学校内部设施', '科教文化服务'], '汽车综合维修': ['汽车综合维修', '汽车维修'], '货车销售': ['货车销售'], '电力营业厅': ['电力营业厅', '生活服务'], '服务区': ['高速服务区', '高速加油站服务区', '高速停车区'], '加油站': ['中国石化', '中国石油', '加油站', '道达尔', '汽车服务'], '汽车服务相关': ['汽车服务相关', '汽车服务']}\n"
          ]
        }
      ]
    },
    {
      "cell_type": "code",
      "metadata": {
        "id": "0CNGvCvfJ_8i",
        "colab": {
          "base_uri": "https://localhost:8080/"
        },
        "outputId": "924058ab-5f69-4555-d86f-7e3df0b0067e"
      },
      "source": [
        "num=0\n",
        "for i in result2:\n",
        "  num=num+len(i)\n",
        "num"
      ],
      "execution_count": 10,
      "outputs": [
        {
          "output_type": "execute_result",
          "data": {
            "text/plain": [
              "1085"
            ]
          },
          "metadata": {},
          "execution_count": 10
        }
      ]
    },
    {
      "cell_type": "markdown",
      "metadata": {
        "id": "2pFLnZaMqhMP"
      },
      "source": [
        "###增加一个遍历代码，减少POI的类别数"
      ]
    },
    {
      "cell_type": "code",
      "metadata": {
        "id": "uPou6LgzTGv-",
        "colab": {
          "base_uri": "https://localhost:8080/",
          "height": 269
        },
        "outputId": "67fd2b0f-467b-42e3-c14d-12f85e755d3f"
      },
      "source": [
        "import jieba\n",
        "from wordcloud import WordCloud\n",
        "import imageio\n",
        "import matplotlib.pyplot as plt\n",
        "from collections import Counter\n",
        "\n",
        "#导入一个文本文件\n",
        "content = poi['language2'].values.tolist()\n",
        "mylist = list(content)\n",
        "\n",
        "#对mylist进行遍历,并将其做分词切割后做成列表\n",
        "word_list = [''.join(jieba.cut(sentence)) for sentence in mylist]\n",
        "\n",
        "#将word_list内的元素用空格连接起来，以便于计算词频\n",
        "new_text = ''.join(word_list)\n",
        "\n",
        "#根据词频生成词云\n",
        "con_words = [x for x in jieba.cut(new_text) if len(x) >= 2]\n",
        "fq = Counter(con_words).most_common()\n",
        "fq = dict(fq)\n",
        "\n",
        "# #导入背景图片，注意路径\n",
        "# pac_mask = imageio.imread(r'e:\\boy.png')\n",
        "\n",
        "#设置词云的字体和背景颜色\n",
        "wc = WordCloud(background_color='white',max_words=2000).fit_words(fq)#,mask=pac_mask\n",
        "plt.imshow(wc)\n",
        "plt.axis('off')\n",
        "plt.show()"
      ],
      "execution_count": 11,
      "outputs": [
        {
          "output_type": "stream",
          "name": "stderr",
          "text": [
            "Building prefix dict from the default dictionary ...\n",
            "Dumping model to file cache /tmp/jieba.cache\n",
            "Loading model cost 1.046 seconds.\n",
            "Prefix dict has been built successfully.\n"
          ]
        },
        {
          "output_type": "display_data",
          "data": {
            "image/png": "[encoded data removed]",
            "text/plain": [
              "<Figure size 432x288 with 1 Axes>"
            ]
          },
          "metadata": {
            "needs_background": "light"
          }
        }
      ]
    },
    {
      "cell_type": "markdown",
      "metadata": {
        "id": "jTYeQRrLSJde"
      },
      "source": [
        "之后的代码就是 做了一个其他的工作"
      ]
    },
    {
      "cell_type": "code",
      "metadata": {
        "id": "Khm6ZFXITS2m",
        "colab": {
          "base_uri": "https://localhost:8080/"
        },
        "outputId": "6b45ac16-2b69-4526-e13d-1161e8da919c"
      },
      "source": [
        "#把词云图保存下来\n",
        "wc.to_file('24.png')\n",
        "# poi['language2'].values.tolist()"
      ],
      "execution_count": null,
      "outputs": [
        {
          "output_type": "execute_result",
          "data": {
            "text/plain": [
              "<wordcloud.wordcloud.WordCloud at 0x7f70f36d4390>"
            ]
          },
          "metadata": {},
          "execution_count": 17
        }
      ]
    },
    {
      "cell_type": "code",
      "metadata": {
        "id": "kPTb3Oqjga5Q",
        "colab": {
          "base_uri": "https://localhost:8080/",
          "height": 35
        },
        "outputId": "2a528fcf-deaf-44ca-ee72-7fcc13db657a"
      },
      "source": [
        "test=poi['CATEGORY'].values.tolist()[0]\n",
        "test"
      ],
      "execution_count": 12,
      "outputs": [
        {
          "output_type": "execute_result",
          "data": {
            "application/vnd.google.colaboratory.intrinsic+json": {
              "type": "string"
            },
            "text/plain": [
              "\"['公交车站相关', '美容美发店', '快餐厅', '工厂', '维修站点', '中餐厅', '摩托车维修', '清真菜馆', '美容美发店', '美容美发店']\""
            ]
          },
          "metadata": {},
          "execution_count": 12
        }
      ]
    },
    {
      "cell_type": "code",
      "metadata": {
        "id": "6rE45GxbM0Qy",
        "colab": {
          "base_uri": "https://localhost:8080/"
        },
        "outputId": "b75cadee-c7c4-4827-ee5d-bfd625c85d7c"
      },
      "source": [
        "len(result2)"
      ],
      "execution_count": null,
      "outputs": [
        {
          "output_type": "execute_result",
          "data": {
            "text/plain": [
              "220"
            ]
          },
          "metadata": {},
          "execution_count": 32
        }
      ]
    },
    {
      "cell_type": "code",
      "metadata": {
        "id": "zV5TD3LgMMH6"
      },
      "source": [
        "def get_subtype_from_cat(CATEGORY):\n",
        "  for i in result2:\n",
        "    if CATEGORY in result2[i]:\n",
        "      return i"
      ],
      "execution_count": 13,
      "outputs": []
    },
    {
      "cell_type": "code",
      "metadata": {
        "id": "U07NLYo3MiAS",
        "colab": {
          "base_uri": "https://localhost:8080/",
          "height": 35
        },
        "outputId": "7db87305-1055-44a9-c590-29ca040a1f51"
      },
      "source": [
        "get_subtype_from_cat('公交车站相关')"
      ],
      "execution_count": 14,
      "outputs": [
        {
          "output_type": "execute_result",
          "data": {
            "application/vnd.google.colaboratory.intrinsic+json": {
              "type": "string"
            },
            "text/plain": [
              "'公交车站'"
            ]
          },
          "metadata": {},
          "execution_count": 14
        }
      ]
    },
    {
      "cell_type": "code",
      "metadata": {
        "id": "UrTizmYWNfQP"
      },
      "source": [
        "def get_type_from_cat(CATEGORY):\n",
        "  for i in result:\n",
        "    if CATEGORY in result[i]:\n",
        "      return i"
      ],
      "execution_count": 15,
      "outputs": []
    },
    {
      "cell_type": "code",
      "metadata": {
        "id": "3csMC9oDQEe1",
        "colab": {
          "base_uri": "https://localhost:8080/"
        },
        "outputId": "7a905406-ba6c-433f-f3d7-4f2b383e285b"
      },
      "source": [
        "# '公交车站相关' in result"
      ],
      "execution_count": null,
      "outputs": [
        {
          "output_type": "execute_result",
          "data": {
            "text/plain": [
              "False"
            ]
          },
          "metadata": {},
          "execution_count": 44
        }
      ]
    },
    {
      "cell_type": "code",
      "metadata": {
        "id": "kHE90V4oNib6",
        "colab": {
          "base_uri": "https://localhost:8080/",
          "height": 35
        },
        "outputId": "419ccbbd-d9a3-4194-e105-bb34a8b9a736"
      },
      "source": [
        "get_type_from_cat('公交车站相关')"
      ],
      "execution_count": 16,
      "outputs": [
        {
          "output_type": "execute_result",
          "data": {
            "application/vnd.google.colaboratory.intrinsic+json": {
              "type": "string"
            },
            "text/plain": [
              "'交通设施服务'"
            ]
          },
          "metadata": {},
          "execution_count": 16
        }
      ]
    },
    {
      "cell_type": "markdown",
      "metadata": {
        "id": "OUr8aIg4OKpd"
      },
      "source": [
        "以上两个函数，分别获取两个类\n",
        "速度太慢，优化下一个列表"
      ]
    },
    {
      "cell_type": "code",
      "metadata": {
        "id": "db_N8lTQQiOR",
        "colab": {
          "base_uri": "https://localhost:8080/"
        },
        "outputId": "c39d574e-48d9-4674-f885-5b8d487a2934"
      },
      "source": [
        "names=[]\n",
        "for i in poi['CATEGORY100'].values.tolist():\n",
        "  for j in eval(i):\n",
        "    if j not in names:\n",
        "      names.append(j)\n",
        "len(names)"
      ],
      "execution_count": 17,
      "outputs": [
        {
          "output_type": "execute_result",
          "data": {
            "text/plain": [
              "599"
            ]
          },
          "metadata": {},
          "execution_count": 17
        }
      ]
    },
    {
      "cell_type": "code",
      "metadata": {
        "id": "p_LzYN2mQkUl"
      },
      "source": [
        "data={}\n",
        "data1={}\n",
        "#一个是子类，一个是父类\n",
        "for i in names:\n",
        "  data[i]=get_type_from_cat(i)\n",
        "  data1[i]=get_subtype_from_cat(i)"
      ],
      "execution_count": 18,
      "outputs": []
    },
    {
      "cell_type": "markdown",
      "metadata": {
        "id": "ZKl8Z2SMOUWa"
      },
      "source": [
        "下面我们抽取特征序列"
      ]
    },
    {
      "cell_type": "code",
      "metadata": {
        "id": "8dYyFlYCOdIG"
      },
      "source": [
        "def get_subtype(X):\n",
        "  res=[]\n",
        "  # if type(X)=='str':\n",
        "  for i in eval(X):\n",
        "    # print(i)\n",
        "    res.append(data1[i])\n",
        "  # else:\n",
        "  #   for i in X:\n",
        "  #     res.append(data1(i))\n",
        "  return res"
      ],
      "execution_count": 19,
      "outputs": []
    },
    {
      "cell_type": "code",
      "metadata": {
        "id": "1-eSbJRJOaAP"
      },
      "source": [
        "poi['SUB100'] = poi.apply(lambda x: get_subtype(x['CATEGORY100']), axis=1)"
      ],
      "execution_count": null,
      "outputs": []
    },
    {
      "cell_type": "code",
      "metadata": {
        "id": "gpmmm0zwPGhu"
      },
      "source": [
        "def get_type(X):\n",
        "  res=[]\n",
        "  for i in eval(X):\n",
        "      res.append(data[i])\n",
        "  return res"
      ],
      "execution_count": null,
      "outputs": []
    },
    {
      "cell_type": "code",
      "metadata": {
        "id": "KOgDDRHQPQSB"
      },
      "source": [
        "poi['Type100'] = poi.apply(lambda x: get_type(x['CATEGORY100']), axis=1)"
      ],
      "execution_count": null,
      "outputs": []
    },
    {
      "cell_type": "code",
      "metadata": {
        "id": "dkpuKM0NPVlp"
      },
      "source": [
        "poi.to_csv('/content/drive/MyDrive/language0905.csv',encoding='utf_8_sig',index=None)"
      ],
      "execution_count": null,
      "outputs": []
    },
    {
      "cell_type": "code",
      "metadata": {
        "id": "94yJ_nReSHh_",
        "colab": {
          "base_uri": "https://localhost:8080/",
          "height": 1000
        },
        "outputId": "0aab8be8-c882-4345-a550-9d8dca767e29"
      },
      "source": [
        "import pandas as pd\n",
        "poi=pd.read_csv('/content/drive/MyDrive/language0905.csv',encoding='utf_8_sig')\n",
        "poi.head()"
      ],
      "execution_count": 20,
      "outputs": [
        {
          "output_type": "execute_result",
          "data": {
            "text/html": [
              "<div>\n",
              "<style scoped>\n",
              "    .dataframe tbody tr th:only-of-type {\n",
              "        vertical-align: middle;\n",
              "    }\n",
              "\n",
              "    .dataframe tbody tr th {\n",
              "        vertical-align: top;\n",
              "    }\n",
              "\n",
              "    .dataframe thead th {\n",
              "        text-align: right;\n",
              "    }\n",
              "</style>\n",
              "<table border=\"1\" class=\"dataframe\">\n",
              "  <thead>\n",
              "    <tr style=\"text-align: right;\">\n",
              "      <th></th>\n",
              "      <th>id</th>\n",
              "      <th>description</th>\n",
              "      <th>tags</th>\n",
              "      <th>lat_gcj</th>\n",
              "      <th>lon_gcj</th>\n",
              "      <th>lat_wgs</th>\n",
              "      <th>lon_wgs</th>\n",
              "      <th>pov_exp</th>\n",
              "      <th>heading</th>\n",
              "      <th>POI</th>\n",
              "      <th>POI32</th>\n",
              "      <th>POI64</th>\n",
              "      <th>CATEGORY</th>\n",
              "      <th>CATEGORY50</th>\n",
              "      <th>CATEGORY100</th>\n",
              "      <th>language2</th>\n",
              "      <th>SUB100</th>\n",
              "      <th>Type100</th>\n",
              "    </tr>\n",
              "  </thead>\n",
              "  <tbody>\n",
              "    <tr>\n",
              "      <th>0</th>\n",
              "      <td>10141003150306134427600</td>\n",
              "      <td>Ｓ１１３</td>\n",
              "      <td>GENERAL</td>\n",
              "      <td>30.458431</td>\n",
              "      <td>114.307388</td>\n",
              "      <td>30.460880</td>\n",
              "      <td>114.301952</td>\n",
              "      <td>2</td>\n",
              "      <td>153</td>\n",
              "      <td>[  4154 395493 208493  19057 395492 216694 332...</td>\n",
              "      <td>[  4154 395493 208493  19057 395492 216694 332...</td>\n",
              "      <td>[  4154 395493 208493  19057 395492 216694 332...</td>\n",
              "      <td>['公交车站相关', '美容美发店', '快餐厅', '工厂', '维修站点', '中餐厅'...</td>\n",
              "      <td>['公交车站相关', '美容美发店', '快餐厅', '工厂', '维修站点', '中餐厅'...</td>\n",
              "      <td>['公交车站相关', '美容美发店', '快餐厅', '工厂', '维修站点', '中餐厅'...</td>\n",
              "      <td>Tree Plant House Window Car Land Street Billbo...</td>\n",
              "      <td>['公交车站', '美容美发店', '快餐厅', '工厂', '维修站点', '中餐厅', ...</td>\n",
              "      <td>['交通设施服务', '生活服务', '餐饮服务', '公司企业', '生活服务', '餐饮...</td>\n",
              "    </tr>\n",
              "    <tr>\n",
              "      <th>1</th>\n",
              "      <td>10141003150306134525400</td>\n",
              "      <td>Ｓ１１３</td>\n",
              "      <td>GENERAL</td>\n",
              "      <td>30.461331</td>\n",
              "      <td>114.306847</td>\n",
              "      <td>30.463780</td>\n",
              "      <td>114.301411</td>\n",
              "      <td>2</td>\n",
              "      <td>16</td>\n",
              "      <td>[216628 221539 218523 395495  32257 127973  32...</td>\n",
              "      <td>[216628 221539 218523 395495  32257 127973  32...</td>\n",
              "      <td>[216628 221539 218523 395495  32257 127973  32...</td>\n",
              "      <td>['餐饮相关', '中餐厅', '餐饮相关', '物流速递', '其它农林牧渔基地', '汽...</td>\n",
              "      <td>['餐饮相关', '中餐厅', '餐饮相关', '物流速递', '其它农林牧渔基地', '汽...</td>\n",
              "      <td>['餐饮相关', '中餐厅', '餐饮相关', '物流速递', '其它农林牧渔基地', '汽...</td>\n",
              "      <td>Tree House Plant Window Footwear Land Human Wh...</td>\n",
              "      <td>['餐饮相关场所', '中餐厅', '餐饮相关场所', '物流速递', '农林牧渔基地', ...</td>\n",
              "      <td>['餐饮服务', '餐饮服务', '餐饮服务', '生活服务', '公司企业', '汽车维修...</td>\n",
              "    </tr>\n",
              "    <tr>\n",
              "      <th>2</th>\n",
              "      <td>10141003150306134608900</td>\n",
              "      <td>Ｓ１１３</td>\n",
              "      <td>GENERAL</td>\n",
              "      <td>30.463268</td>\n",
              "      <td>114.308234</td>\n",
              "      <td>30.465714</td>\n",
              "      <td>114.302797</td>\n",
              "      <td>2</td>\n",
              "      <td>228</td>\n",
              "      <td>[342477  32463  32451  32219  32015 446011 216...</td>\n",
              "      <td>[342477  32463  32451  32219  32015 446011 216...</td>\n",
              "      <td>[342477  32463  32451  32219  32015 446011 216...</td>\n",
              "      <td>['政府及社会团体相关', '公司', '公司', '机械电子', '公司', '科教文化场...</td>\n",
              "      <td>['政府及社会团体相关', '公司', '公司', '机械电子', '公司', '科教文化场...</td>\n",
              "      <td>['政府及社会团体相关', '公司', '公司', '机械电子', '公司', '科教文化场...</td>\n",
              "      <td>Tree Window House Plant Car Building Palm Whee...</td>\n",
              "      <td>['政府及社会团体相关', '公司', '公司', '公司', '公司', '科教文化场所'...</td>\n",
              "      <td>['政府机构及社会团体', '公司企业', '公司企业', '公司企业', '公司企业', ...</td>\n",
              "    </tr>\n",
              "    <tr>\n",
              "      <th>3</th>\n",
              "      <td>10141003150306134621500</td>\n",
              "      <td>Ｓ１１３</td>\n",
              "      <td>GENERAL</td>\n",
              "      <td>30.463926</td>\n",
              "      <td>114.308983</td>\n",
              "      <td>30.466371</td>\n",
              "      <td>114.303544</td>\n",
              "      <td>2</td>\n",
              "      <td>225</td>\n",
              "      <td>[ 32219  32015 342477  32463 446011 120814 307...</td>\n",
              "      <td>[ 32219  32015 342477  32463 446011 120814 307...</td>\n",
              "      <td>[ 32219  32015 342477  32463 446011 120814 307...</td>\n",
              "      <td>['机械电子', '公司', '政府及社会团体相关', '公司', '科教文化场所', '政...</td>\n",
              "      <td>['机械电子', '公司', '政府及社会团体相关', '公司', '科教文化场所', '政...</td>\n",
              "      <td>['机械电子', '公司', '政府及社会团体相关', '公司', '科教文化场所', '政...</td>\n",
              "      <td>Tree Window House Building Car Train Plant Whe...</td>\n",
              "      <td>['公司', '公司', '政府及社会团体相关', '公司', '科教文化场所', '政府及...</td>\n",
              "      <td>['公司企业', '公司企业', '政府机构及社会团体', '公司企业', '科教文化服务'...</td>\n",
              "    </tr>\n",
              "    <tr>\n",
              "      <th>4</th>\n",
              "      <td>10141003150306134625100</td>\n",
              "      <td>Ｓ１１３</td>\n",
              "      <td>GENERAL</td>\n",
              "      <td>30.464176</td>\n",
              "      <td>114.309251</td>\n",
              "      <td>30.466621</td>\n",
              "      <td>114.303812</td>\n",
              "      <td>2</td>\n",
              "      <td>39</td>\n",
              "      <td>[ 32219  32015 446011 342477  32463 120814 307...</td>\n",
              "      <td>[ 32219  32015 446011 342477  32463 120814 307...</td>\n",
              "      <td>[ 32219  32015 446011 342477  32463 120814 307...</td>\n",
              "      <td>['机械电子', '公司', '科教文化场所', '政府及社会团体相关', '公司', '政...</td>\n",
              "      <td>['机械电子', '公司', '科教文化场所', '政府及社会团体相关', '公司', '政...</td>\n",
              "      <td>['机械电子', '公司', '科教文化场所', '政府及社会团体相关', '公司', '政...</td>\n",
              "      <td>Tree Window House Plant Car Wheel</td>\n",
              "      <td>['公司', '公司', '科教文化场所', '政府及社会团体相关', '公司', '政府及...</td>\n",
              "      <td>['公司企业', '公司企业', '科教文化服务', '政府机构及社会团体', '公司企业'...</td>\n",
              "    </tr>\n",
              "  </tbody>\n",
              "</table>\n",
              "</div>"
            ],
            "text/plain": [
              "                        id  ...                                            Type100\n",
              "0  10141003150306134427600  ...  ['交通设施服务', '生活服务', '餐饮服务', '公司企业', '生活服务', '餐饮...\n",
              "1  10141003150306134525400  ...  ['餐饮服务', '餐饮服务', '餐饮服务', '生活服务', '公司企业', '汽车维修...\n",
              "2  10141003150306134608900  ...  ['政府机构及社会团体', '公司企业', '公司企业', '公司企业', '公司企业', ...\n",
              "3  10141003150306134621500  ...  ['公司企业', '公司企业', '政府机构及社会团体', '公司企业', '科教文化服务'...\n",
              "4  10141003150306134625100  ...  ['公司企业', '公司企业', '科教文化服务', '政府机构及社会团体', '公司企业'...\n",
              "\n",
              "[5 rows x 18 columns]"
            ]
          },
          "metadata": {},
          "execution_count": 20
        }
      ]
    },
    {
      "cell_type": "markdown",
      "metadata": {
        "id": "yRHw9f9PSj11"
      },
      "source": [
        "下面是POI序列端的 特征抽取步骤"
      ]
    },
    {
      "cell_type": "code",
      "metadata": {
        "id": "jYikfmH-Kxi-"
      },
      "source": [
        "# CATEGORY50\tCATEGORY100"
      ],
      "execution_count": null,
      "outputs": []
    },
    {
      "cell_type": "code",
      "metadata": {
        "colab": {
          "base_uri": "https://localhost:8080/"
        },
        "id": "2RPWAmsyhF3Y",
        "outputId": "58272e06-ea81-4871-b490-5698eb236b87"
      },
      "source": [
        "from collections import Counter\n",
        "data = eval(test)\n",
        "c = Counter(data)\n",
        "c"
      ],
      "execution_count": 21,
      "outputs": [
        {
          "output_type": "execute_result",
          "data": {
            "text/plain": [
              "Counter({'中餐厅': 1,\n",
              "         '公交车站相关': 1,\n",
              "         '工厂': 1,\n",
              "         '快餐厅': 1,\n",
              "         '摩托车维修': 1,\n",
              "         '清真菜馆': 1,\n",
              "         '维修站点': 1,\n",
              "         '美容美发店': 3})"
            ]
          },
          "metadata": {},
          "execution_count": 21
        }
      ]
    },
    {
      "cell_type": "markdown",
      "metadata": {
        "id": "j0AdPSWoSjN-"
      },
      "source": [
        ""
      ]
    },
    {
      "cell_type": "code",
      "metadata": {
        "colab": {
          "base_uri": "https://localhost:8080/"
        },
        "id": "2Mz5YQWYiXVY",
        "outputId": "3064b020-cf84-4713-90fa-3116660b8d4c"
      },
      "source": [
        "c.most_common(10)"
      ],
      "execution_count": 22,
      "outputs": [
        {
          "output_type": "execute_result",
          "data": {
            "text/plain": [
              "[('美容美发店', 3),\n",
              " ('公交车站相关', 1),\n",
              " ('快餐厅', 1),\n",
              " ('工厂', 1),\n",
              " ('维修站点', 1),\n",
              " ('中餐厅', 1),\n",
              " ('摩托车维修', 1),\n",
              " ('清真菜馆', 1)]"
            ]
          },
          "metadata": {},
          "execution_count": 22
        }
      ]
    },
    {
      "cell_type": "code",
      "metadata": {
        "id": "NwB_S9CSg8al"
      },
      "source": [
        "def get_language(test):\n",
        "  res=[]\n",
        "  data = eval(test)\n",
        "  c = Counter(data)\n",
        "  for i in c.most_common(10):\n",
        "    res.append(i[0])\n",
        "  return ' '.join(res).strip()"
      ],
      "execution_count": 23,
      "outputs": []
    },
    {
      "cell_type": "code",
      "metadata": {
        "id": "gAwFIiH_ftJ4"
      },
      "source": [
        "# poi['language']=['CATEGORY']\n",
        "poi['language'] = poi.apply(lambda x: get_language(x['CATEGORY100']), axis=1)"
      ],
      "execution_count": 24,
      "outputs": []
    },
    {
      "cell_type": "code",
      "metadata": {
        "id": "bJDO-wMDfeLy",
        "outputId": "68ec3c57-983c-4115-c80c-db451b98aea3",
        "colab": {
          "base_uri": "https://localhost:8080/"
        }
      },
      "source": [
        "poi.shape"
      ],
      "execution_count": 26,
      "outputs": [
        {
          "output_type": "execute_result",
          "data": {
            "text/plain": [
              "(20790, 19)"
            ]
          },
          "metadata": {},
          "execution_count": 26
        }
      ]
    },
    {
      "cell_type": "code",
      "metadata": {
        "id": "cROBsR-nfiuD"
      },
      "source": [
        "poi['Type100']"
      ],
      "execution_count": null,
      "outputs": []
    },
    {
      "cell_type": "code",
      "metadata": {
        "id": "r_6Vtyo7gcM_",
        "outputId": "3cefb3c0-0f30-4e36-ed64-04bcd52abc71",
        "colab": {
          "base_uri": "https://localhost:8080/"
        }
      },
      "source": [
        "from collections import Counter\n",
        "data = ['a','2',2,4,5,'2','b',4,7,'a',5,'d','a','z']\n",
        "c = Counter(data)\n",
        "print (c)"
      ],
      "execution_count": 27,
      "outputs": [
        {
          "output_type": "stream",
          "name": "stdout",
          "text": [
            "Counter({'a': 3, '2': 2, 4: 2, 5: 2, 2: 1, 'b': 1, 7: 1, 'd': 1, 'z': 1})\n"
          ]
        }
      ]
    },
    {
      "cell_type": "code",
      "metadata": {
        "id": "mSUai9Z0gvyz",
        "outputId": "1005b0d2-f6d4-4183-b1b5-9a90f5a2ea8b",
        "colab": {
          "base_uri": "https://localhost:8080/"
        }
      },
      "source": [
        "c.most_common(3) # 最多的前三位\n"
      ],
      "execution_count": 34,
      "outputs": [
        {
          "output_type": "execute_result",
          "data": {
            "text/plain": [
              "[('a', 3), ('2', 2), (4, 2)]"
            ]
          },
          "metadata": {},
          "execution_count": 34
        }
      ]
    },
    {
      "cell_type": "code",
      "metadata": {
        "id": "CdG-nb6zfsmv"
      },
      "source": [
        "from collections import Counter\n",
        "def get_type(x):\n",
        "  results=[]\n",
        "  res=eval(x)\n",
        "  # data = ['a','2',2,4,5,'2','b',4,7,'a',5,'d','a','z']\n",
        "  c = Counter(res)\n",
        "  for i in c.most_common(10):\n",
        "    results.append(i[0])\n",
        "  return ' '.join(results).strip()"
      ],
      "execution_count": 47,
      "outputs": []
    },
    {
      "cell_type": "code",
      "metadata": {
        "id": "pAWWHrWPjW62"
      },
      "source": [
        "poi['langtype'] = poi.apply(lambda x: get_type(x['Type100']), axis=1)"
      ],
      "execution_count": 48,
      "outputs": []
    },
    {
      "cell_type": "code",
      "metadata": {
        "id": "Mj1bVczrjKYq"
      },
      "source": [
        "from collections import Counter\n",
        "def get_sub(x):\n",
        "  results=[]\n",
        "  res=eval(x)\n",
        "  c = Counter(res)\n",
        "  for i in c.most_common(10):\n",
        "    results.append(i[0])\n",
        "  return ' '.join(results).strip()"
      ],
      "execution_count": 46,
      "outputs": []
    },
    {
      "cell_type": "code",
      "metadata": {
        "id": "U4o7R_gVjx81"
      },
      "source": [
        "poi['langsub'] = poi.apply(lambda x: get_sub(x['SUB100']), axis=1)"
      ],
      "execution_count": 49,
      "outputs": []
    },
    {
      "cell_type": "code",
      "metadata": {
        "id": "2NHufRx8id4K",
        "outputId": "be94d1e7-7a86-4b1f-f419-d43a97341f41",
        "colab": {
          "base_uri": "https://localhost:8080/"
        }
      },
      "source": [
        "poi.columns"
      ],
      "execution_count": 42,
      "outputs": [
        {
          "output_type": "execute_result",
          "data": {
            "text/plain": [
              "Index(['id', 'description', 'tags', 'lat_gcj', 'lon_gcj', 'lat_wgs', 'lon_wgs',\n",
              "       'pov_exp', 'heading', 'POI', 'POI32', 'POI64', 'CATEGORY', 'CATEGORY50',\n",
              "       'CATEGORY100', 'language2', 'SUB100', 'Type100', 'language'],\n",
              "      dtype='object')"
            ]
          },
          "metadata": {},
          "execution_count": 42
        }
      ]
    },
    {
      "cell_type": "code",
      "metadata": {
        "id": "MyzcNlunfO-F",
        "outputId": "5d42f77c-bd21-4029-bc2d-6e46a8f1d249",
        "colab": {
          "base_uri": "https://localhost:8080/",
          "height": 1000
        }
      },
      "source": [
        "poi.head()"
      ],
      "execution_count": 50,
      "outputs": [
        {
          "output_type": "execute_result",
          "data": {
            "text/html": [
              "<div>\n",
              "<style scoped>\n",
              "    .dataframe tbody tr th:only-of-type {\n",
              "        vertical-align: middle;\n",
              "    }\n",
              "\n",
              "    .dataframe tbody tr th {\n",
              "        vertical-align: top;\n",
              "    }\n",
              "\n",
              "    .dataframe thead th {\n",
              "        text-align: right;\n",
              "    }\n",
              "</style>\n",
              "<table border=\"1\" class=\"dataframe\">\n",
              "  <thead>\n",
              "    <tr style=\"text-align: right;\">\n",
              "      <th></th>\n",
              "      <th>id</th>\n",
              "      <th>description</th>\n",
              "      <th>tags</th>\n",
              "      <th>lat_gcj</th>\n",
              "      <th>lon_gcj</th>\n",
              "      <th>lat_wgs</th>\n",
              "      <th>lon_wgs</th>\n",
              "      <th>pov_exp</th>\n",
              "      <th>heading</th>\n",
              "      <th>POI</th>\n",
              "      <th>POI32</th>\n",
              "      <th>POI64</th>\n",
              "      <th>CATEGORY</th>\n",
              "      <th>CATEGORY50</th>\n",
              "      <th>CATEGORY100</th>\n",
              "      <th>language2</th>\n",
              "      <th>SUB100</th>\n",
              "      <th>Type100</th>\n",
              "      <th>language</th>\n",
              "      <th>langtype</th>\n",
              "      <th>langsub</th>\n",
              "    </tr>\n",
              "  </thead>\n",
              "  <tbody>\n",
              "    <tr>\n",
              "      <th>0</th>\n",
              "      <td>10141003150306134427600</td>\n",
              "      <td>Ｓ１１３</td>\n",
              "      <td>GENERAL</td>\n",
              "      <td>30.458431</td>\n",
              "      <td>114.307388</td>\n",
              "      <td>30.460880</td>\n",
              "      <td>114.301952</td>\n",
              "      <td>2</td>\n",
              "      <td>153</td>\n",
              "      <td>[  4154 395493 208493  19057 395492 216694 332...</td>\n",
              "      <td>[  4154 395493 208493  19057 395492 216694 332...</td>\n",
              "      <td>[  4154 395493 208493  19057 395492 216694 332...</td>\n",
              "      <td>['公交车站相关', '美容美发店', '快餐厅', '工厂', '维修站点', '中餐厅'...</td>\n",
              "      <td>['公交车站相关', '美容美发店', '快餐厅', '工厂', '维修站点', '中餐厅'...</td>\n",
              "      <td>['公交车站相关', '美容美发店', '快餐厅', '工厂', '维修站点', '中餐厅'...</td>\n",
              "      <td>Tree Plant House Window Car Land Street Billbo...</td>\n",
              "      <td>['公交车站', '美容美发店', '快餐厅', '工厂', '维修站点', '中餐厅', ...</td>\n",
              "      <td>['交通设施服务', '生活服务', '餐饮服务', '公司企业', '生活服务', '餐饮...</td>\n",
              "      <td>物流速递 住宅小区 美容美发店 公司 诊所 乡镇以下级政府及事业单位 中餐厅 汽车维修 路口...</td>\n",
              "      <td>生活服务 商务住宅 公司企业 政府机构及社会团体 餐饮服务 医疗保健服务 科教文化服务 汽车...</td>\n",
              "      <td>物流速递 住宅区 美容美发店 公司 中餐厅 诊所 政府机关 福特特约维修 临街院门 交通地名</td>\n",
              "    </tr>\n",
              "    <tr>\n",
              "      <th>1</th>\n",
              "      <td>10141003150306134525400</td>\n",
              "      <td>Ｓ１１３</td>\n",
              "      <td>GENERAL</td>\n",
              "      <td>30.461331</td>\n",
              "      <td>114.306847</td>\n",
              "      <td>30.463780</td>\n",
              "      <td>114.301411</td>\n",
              "      <td>2</td>\n",
              "      <td>16</td>\n",
              "      <td>[216628 221539 218523 395495  32257 127973  32...</td>\n",
              "      <td>[216628 221539 218523 395495  32257 127973  32...</td>\n",
              "      <td>[216628 221539 218523 395495  32257 127973  32...</td>\n",
              "      <td>['餐饮相关', '中餐厅', '餐饮相关', '物流速递', '其它农林牧渔基地', '汽...</td>\n",
              "      <td>['餐饮相关', '中餐厅', '餐饮相关', '物流速递', '其它农林牧渔基地', '汽...</td>\n",
              "      <td>['餐饮相关', '中餐厅', '餐饮相关', '物流速递', '其它农林牧渔基地', '汽...</td>\n",
              "      <td>Tree House Plant Window Footwear Land Human Wh...</td>\n",
              "      <td>['餐饮相关场所', '中餐厅', '餐饮相关场所', '物流速递', '农林牧渔基地', ...</td>\n",
              "      <td>['餐饮服务', '餐饮服务', '餐饮服务', '生活服务', '公司企业', '汽车维修...</td>\n",
              "      <td>住宅小区 美容美发店 中餐厅 公司 诊所 汽车维修 生活服务场所 乡镇以下级政府及事业单位 ...</td>\n",
              "      <td>生活服务 商务住宅 餐饮服务 公司企业 政府机构及社会团体 医疗保健服务 科教文化服务 汽车...</td>\n",
              "      <td>住宅区 中餐厅 美容美发店 公司 诊所 临街院门 福特特约维修 交通地名 生活服务场所 政府机关</td>\n",
              "    </tr>\n",
              "    <tr>\n",
              "      <th>2</th>\n",
              "      <td>10141003150306134608900</td>\n",
              "      <td>Ｓ１１３</td>\n",
              "      <td>GENERAL</td>\n",
              "      <td>30.463268</td>\n",
              "      <td>114.308234</td>\n",
              "      <td>30.465714</td>\n",
              "      <td>114.302797</td>\n",
              "      <td>2</td>\n",
              "      <td>228</td>\n",
              "      <td>[342477  32463  32451  32219  32015 446011 216...</td>\n",
              "      <td>[342477  32463  32451  32219  32015 446011 216...</td>\n",
              "      <td>[342477  32463  32451  32219  32015 446011 216...</td>\n",
              "      <td>['政府及社会团体相关', '公司', '公司', '机械电子', '公司', '科教文化场...</td>\n",
              "      <td>['政府及社会团体相关', '公司', '公司', '机械电子', '公司', '科教文化场...</td>\n",
              "      <td>['政府及社会团体相关', '公司', '公司', '机械电子', '公司', '科教文化场...</td>\n",
              "      <td>Tree Window House Plant Car Building Palm Whee...</td>\n",
              "      <td>['政府及社会团体相关', '公司', '公司', '公司', '公司', '科教文化场所'...</td>\n",
              "      <td>['政府机构及社会团体', '公司企业', '公司企业', '公司企业', '公司企业', ...</td>\n",
              "      <td>中餐厅 美容美发店 生活服务场所 公司 餐饮相关 乡镇以下级政府及事业单位 培训机构 学校 ...</td>\n",
              "      <td>科教文化服务 餐饮服务 生活服务 公司企业 政府机构及社会团体 医疗保健服务 商务住宅 地名...</td>\n",
              "      <td>学校 中餐厅 美容美发店 生活服务场所 公司 餐饮相关场所 政府机关 培训机构 政府及社会团...</td>\n",
              "    </tr>\n",
              "    <tr>\n",
              "      <th>3</th>\n",
              "      <td>10141003150306134621500</td>\n",
              "      <td>Ｓ１１３</td>\n",
              "      <td>GENERAL</td>\n",
              "      <td>30.463926</td>\n",
              "      <td>114.308983</td>\n",
              "      <td>30.466371</td>\n",
              "      <td>114.303544</td>\n",
              "      <td>2</td>\n",
              "      <td>225</td>\n",
              "      <td>[ 32219  32015 342477  32463 446011 120814 307...</td>\n",
              "      <td>[ 32219  32015 342477  32463 446011 120814 307...</td>\n",
              "      <td>[ 32219  32015 342477  32463 446011 120814 307...</td>\n",
              "      <td>['机械电子', '公司', '政府及社会团体相关', '公司', '科教文化场所', '政...</td>\n",
              "      <td>['机械电子', '公司', '政府及社会团体相关', '公司', '科教文化场所', '政...</td>\n",
              "      <td>['机械电子', '公司', '政府及社会团体相关', '公司', '科教文化场所', '政...</td>\n",
              "      <td>Tree Window House Building Car Train Plant Whe...</td>\n",
              "      <td>['公司', '公司', '政府及社会团体相关', '公司', '科教文化场所', '政府及...</td>\n",
              "      <td>['公司企业', '公司企业', '政府机构及社会团体', '公司企业', '科教文化服务'...</td>\n",
              "      <td>中餐厅 学校 公司 政府及社会团体相关 餐饮相关 培训机构 生活服务场所 美容美发店 住宅小...</td>\n",
              "      <td>科教文化服务 餐饮服务 生活服务 公司企业 政府机构及社会团体 医疗保健服务 住宿服务 商务...</td>\n",
              "      <td>中餐厅 学校 公司 政府及社会团体相关 餐饮相关场所 培训机构 生活服务场所 美容美发店 住...</td>\n",
              "    </tr>\n",
              "    <tr>\n",
              "      <th>4</th>\n",
              "      <td>10141003150306134625100</td>\n",
              "      <td>Ｓ１１３</td>\n",
              "      <td>GENERAL</td>\n",
              "      <td>30.464176</td>\n",
              "      <td>114.309251</td>\n",
              "      <td>30.466621</td>\n",
              "      <td>114.303812</td>\n",
              "      <td>2</td>\n",
              "      <td>39</td>\n",
              "      <td>[ 32219  32015 446011 342477  32463 120814 307...</td>\n",
              "      <td>[ 32219  32015 446011 342477  32463 120814 307...</td>\n",
              "      <td>[ 32219  32015 446011 342477  32463 120814 307...</td>\n",
              "      <td>['机械电子', '公司', '科教文化场所', '政府及社会团体相关', '公司', '政...</td>\n",
              "      <td>['机械电子', '公司', '科教文化场所', '政府及社会团体相关', '公司', '政...</td>\n",
              "      <td>['机械电子', '公司', '科教文化场所', '政府及社会团体相关', '公司', '政...</td>\n",
              "      <td>Tree Window House Plant Car Wheel</td>\n",
              "      <td>['公司', '公司', '科教文化场所', '政府及社会团体相关', '公司', '政府及...</td>\n",
              "      <td>['公司企业', '公司企业', '科教文化服务', '政府机构及社会团体', '公司企业'...</td>\n",
              "      <td>中餐厅 学校 公司 政府及社会团体相关 餐饮相关 旅馆招待所 培训机构 生活服务场所 住宅小...</td>\n",
              "      <td>科教文化服务 餐饮服务 生活服务 公司企业 政府机构及社会团体 住宿服务 医疗保健服务 商务...</td>\n",
              "      <td>中餐厅 学校 公司 政府及社会团体相关 餐饮相关场所 旅馆招待所 培训机构 生活服务场所 住...</td>\n",
              "    </tr>\n",
              "  </tbody>\n",
              "</table>\n",
              "</div>"
            ],
            "text/plain": [
              "                        id  ...                                            langsub\n",
              "0  10141003150306134427600  ...     物流速递 住宅区 美容美发店 公司 中餐厅 诊所 政府机关 福特特约维修 临街院门 交通地名\n",
              "1  10141003150306134525400  ...   住宅区 中餐厅 美容美发店 公司 诊所 临街院门 福特特约维修 交通地名 生活服务场所 政府机关\n",
              "2  10141003150306134608900  ...  学校 中餐厅 美容美发店 生活服务场所 公司 餐饮相关场所 政府机关 培训机构 政府及社会团...\n",
              "3  10141003150306134621500  ...  中餐厅 学校 公司 政府及社会团体相关 餐饮相关场所 培训机构 生活服务场所 美容美发店 住...\n",
              "4  10141003150306134625100  ...  中餐厅 学校 公司 政府及社会团体相关 餐饮相关场所 旅馆招待所 培训机构 生活服务场所 住...\n",
              "\n",
              "[5 rows x 21 columns]"
            ]
          },
          "metadata": {},
          "execution_count": 50
        }
      ]
    },
    {
      "cell_type": "markdown",
      "metadata": {
        "id": "rjrEmHv9g7Iz"
      },
      "source": [
        "## 构建训练对"
      ]
    },
    {
      "cell_type": "code",
      "metadata": {
        "id": "8kn8eKzgN3Zf"
      },
      "source": [
        "# CATEGORY\tCATEGORY50\tCATEGORY100\tlanguage2"
      ],
      "execution_count": null,
      "outputs": []
    },
    {
      "cell_type": "code",
      "metadata": {
        "colab": {
          "base_uri": "https://localhost:8080/",
          "height": 35
        },
        "id": "zoo6bMfcVlav",
        "outputId": "f7b58a7a-19d0-4d2d-f68f-7ccce1cac9c3"
      },
      "source": [
        "# from pypinyin import pinyin, lazy_pinyin, Style\n",
        "# ''.join(lazy_pinyin('中心'))"
      ],
      "execution_count": null,
      "outputs": [
        {
          "output_type": "execute_result",
          "data": {
            "application/vnd.google.colaboratory.intrinsic+json": {
              "type": "string"
            },
            "text/plain": [
              "'zhongxin'"
            ]
          },
          "metadata": {},
          "execution_count": 56
        }
      ]
    },
    {
      "cell_type": "markdown",
      "metadata": {
        "id": "wXUDTXevkfbD"
      },
      "source": [
        "构建rouge"
      ]
    },
    {
      "cell_type": "code",
      "metadata": {
        "id": "mR9ITVBQkhs-"
      },
      "source": [
        ""
      ],
      "execution_count": null,
      "outputs": []
    },
    {
      "cell_type": "markdown",
      "metadata": {
        "id": "-SHYbeZykck0"
      },
      "source": [
        "存入 txt"
      ]
    },
    {
      "cell_type": "code",
      "metadata": {
        "id": "rxUSudSPN5iF"
      },
      "source": [
        "pairs=[]\n",
        "with open('/content/data/poi-sv.txt','w+',encoding='utf-8') as f:\n",
        "  for index, row in poi.iterrows():\n",
        "      # print(index) # 输出每行的索引值\n",
        "      # tmp=eval(row['CATEGORY'])\n",
        "      # emp=[]\n",
        "      # for i in tmp:\n",
        "      #   emp.append(' '.join(i))\n",
        "      #   #lazy_pinyin(i)\n",
        "      # f.write(' '.join(emp))\n",
        "\n",
        "      f.write(row['language'])\n",
        "      f.write('\\t')\n",
        "      f.write(row['language2'])\n",
        "      f.write('\\n')\n",
        "      pairs.append(\n",
        "      [row['language'],row['language2']]\n",
        "      )"
      ],
      "execution_count": null,
      "outputs": []
    },
    {
      "cell_type": "code",
      "metadata": {
        "colab": {
          "base_uri": "https://localhost:8080/"
        },
        "id": "3Mp1L8fujdyR",
        "outputId": "9f55b815-2ebc-4e63-f7e8-7646eee1b768"
      },
      "source": [
        "pairs[0]"
      ],
      "execution_count": null,
      "outputs": [
        {
          "output_type": "execute_result",
          "data": {
            "text/plain": [
              "['物流速递 住宅小区 美容美发店 公司 诊所 乡镇以下级政府及事业单位 中餐厅 汽车维修 路口名 生活服务场所',\n",
              " 'Tree Plant House Window Car Land Street Billboard Tire']"
            ]
          },
          "metadata": {},
          "execution_count": 28
        }
      ]
    },
    {
      "cell_type": "markdown",
      "metadata": {
        "id": "Ip_MQcRXlb9b"
      },
      "source": [
        "\n",
        "NLP From Scratch: Translation with a Sequence to Sequence Network and Attention\n",
        "*******************************************************************************\n",
        "**Author**: `Sean Robertson <https://github.com/spro/practical-pytorch>`_\n",
        "\n",
        "This is the third and final tutorial on doing \"NLP From Scratch\", where we\n",
        "write our own classes and functions to preprocess the data to do our NLP\n",
        "modeling tasks. We hope after you complete this tutorial that you'll proceed to\n",
        "learn how `torchtext` can handle much of this preprocessing for you in the\n",
        "three tutorials immediately following this one.\n",
        "\n",
        "In this project we will be teaching a neural network to translate from\n",
        "French to English.\n",
        "\n",
        "::\n",
        "\n",
        "    [KEY: > input, = target, < output]\n",
        "    > il est en train de peindre un tableau .\n",
        "    = he is painting a picture .\n",
        "    < he is painting a picture .\n",
        "... to varying degrees of success.\n",
        "\n",
        "This is made possible by the simple but powerful idea of the `sequence\n",
        "to sequence network <https://arxiv.org/abs/1409.3215>`__, in which two\n",
        "recurrent neural networks work together to transform one sequence to\n",
        "another. An encoder network condenses an input sequence into a vector,\n",
        "and a decoder network unfolds that vector into a new sequence.\n",
        "\n",
        ".. figure:: /_static/img/seq-seq-images/seq2seq.png\n",
        "   :alt:\n",
        "\n",
        "To improve upon this model we'll use an `attention\n",
        "mechanism <https://arxiv.org/abs/1409.0473>`__, which lets the decoder\n",
        "learn to focus over a specific range of the input sequence.\n",
        "\n",
        "**Recommended Reading:**\n",
        "\n",
        "I assume you have at least installed PyTorch, know Python, and\n",
        "understand Tensors:\n",
        "\n",
        "-  https://pytorch.org/ For installation instructions\n",
        "-  :doc:`/beginner/deep_learning_60min_blitz` to get started with PyTorch in general\n",
        "-  :doc:`/beginner/pytorch_with_examples` for a wide and deep overview\n",
        "-  :doc:`/beginner/former_torchies_tutorial` if you are former Lua Torch user\n",
        "\n",
        "\n",
        "It would also be useful to know about Sequence to Sequence networks and\n",
        "how they work:\n",
        "\n",
        "-  `Learning Phrase Representations using RNN Encoder-Decoder for\n",
        "   Statistical Machine Translation <https://arxiv.org/abs/1406.1078>`__\n",
        "-  `Sequence to Sequence Learning with Neural\n",
        "   Networks <https://arxiv.org/abs/1409.3215>`__\n",
        "-  `Neural Machine Translation by Jointly Learning to Align and\n",
        "   Translate <https://arxiv.org/abs/1409.0473>`__\n",
        "-  `A Neural Conversational Model <https://arxiv.org/abs/1506.05869>`__\n",
        "\n",
        "You will also find the previous tutorials on\n",
        ":doc:`/intermediate/char_rnn_classification_tutorial`\n",
        "and :doc:`/intermediate/char_rnn_generation_tutorial`\n",
        "helpful as those concepts are very similar to the Encoder and Decoder\n",
        "models, respectively.\n",
        "\n",
        "**Requirements**\n",
        "\n"
      ]
    },
    {
      "cell_type": "code",
      "metadata": {
        "id": "bIy1czP8lb9d"
      },
      "source": [
        "from __future__ import unicode_literals, print_function, division\n",
        "from io import open\n",
        "import unicodedata\n",
        "import string\n",
        "import re\n",
        "import random\n",
        "\n",
        "import torch\n",
        "import torch.nn as nn\n",
        "from torch import optim\n",
        "import torch.nn.functional as F\n",
        "\n",
        "device = torch.device(\"cuda\" if torch.cuda.is_available() else \"cpu\")"
      ],
      "execution_count": null,
      "outputs": []
    },
    {
      "cell_type": "code",
      "metadata": {
        "id": "kZnTlENJGu21",
        "colab": {
          "base_uri": "https://localhost:8080/"
        },
        "outputId": "1c94c254-9a77-4c84-ebfa-aaa192e98036"
      },
      "source": [
        "device"
      ],
      "execution_count": null,
      "outputs": [
        {
          "output_type": "execute_result",
          "data": {
            "text/plain": [
              "device(type='cuda')"
            ]
          },
          "metadata": {},
          "execution_count": 12
        }
      ]
    },
    {
      "cell_type": "markdown",
      "metadata": {
        "id": "AWJ_GhGglb9e"
      },
      "source": [
        "Loading data files\n",
        "==================\n",
        "\n",
        "The data for this project is a set of many thousands of English to\n",
        "French translation pairs.\n",
        "\n",
        "`This question on Open Data Stack\n",
        "Exchange <https://opendata.stackexchange.com/questions/3888/dataset-of-sentences-translated-into-many-languages>`__\n",
        "pointed me to the open translation site https://tatoeba.org/ which has\n",
        "downloads available at https://tatoeba.org/eng/downloads - and better\n",
        "yet, someone did the extra work of splitting language pairs into\n",
        "individual text files here: https://www.manythings.org/anki/\n",
        "\n",
        "The English to French pairs are too big to include in the repo, so\n",
        "download to ``data/eng-fra.txt`` before continuing. The file is a tab\n",
        "separated list of translation pairs:\n",
        "\n",
        "::\n",
        "\n",
        "    I am cold.    J'ai froid.\n",
        "\n",
        ".. Note::\n",
        "   Download the data from\n",
        "   `here <https://download.pytorch.org/tutorial/data.zip>`_\n",
        "   and extract it to the current directory.\n",
        "\n"
      ]
    },
    {
      "cell_type": "markdown",
      "metadata": {
        "id": "xaG9_ie5lb9f"
      },
      "source": [
        "Similar to the character encoding used in the character-level RNN\n",
        "tutorials, we will be representing each word in a language as a one-hot\n",
        "vector, or giant vector of zeros except for a single one (at the index\n",
        "of the word). Compared to the dozens of characters that might exist in a\n",
        "language, there are many many more words, so the encoding vector is much\n",
        "larger. We will however cheat a bit and trim the data to only use a few\n",
        "thousand words per language.\n",
        "\n",
        ".. figure:: /_static/img/seq-seq-images/word-encoding.png\n",
        "   :alt:\n",
        "\n",
        "\n",
        "\n"
      ]
    },
    {
      "cell_type": "markdown",
      "metadata": {
        "id": "V0EPrID4lb9g"
      },
      "source": [
        "We'll need a unique index per word to use as the inputs and targets of\n",
        "the networks later. To keep track of all this we will use a helper class\n",
        "called ``Lang`` which has word → index (``word2index``) and index → word\n",
        "(``index2word``) dictionaries, as well as a count of each word\n",
        "``word2count`` which will be used to replace rare words later.\n",
        "\n",
        "\n"
      ]
    },
    {
      "cell_type": "markdown",
      "metadata": {
        "id": "7aAVNeMFSZLF"
      },
      "source": [
        "我们需要每个单词有一个唯一的索引，以便稍后用作网络的输入和目标。为了跟踪所有这些，我们将使用一个名为Lang的助手类，该类包含word→ 索引（word2index）和索引→ 单词（index2word）字典，以及每个单词的计数word2count，稍后将用于替换稀有单词"
      ]
    },
    {
      "cell_type": "code",
      "metadata": {
        "id": "QvufVOXVlb9h"
      },
      "source": [
        "SOS_token = 0\n",
        "EOS_token = 1\n",
        "\n",
        "class Lang:\n",
        "    def __init__(self, name):\n",
        "        self.name = name\n",
        "        self.word2index = {}\n",
        "        self.word2count = {}\n",
        "        self.index2word = {0: \"SOS\", 1: \"EOS\"}\n",
        "        self.n_words = 2  # Count SOS and EOS\n",
        "\n",
        "    def addSentence(self, sentence):\n",
        "        for word in sentence.split(' '):\n",
        "            self.addWord(word)\n",
        "\n",
        "    def addWord(self, word):\n",
        "        if word not in self.word2index:\n",
        "            self.word2index[word] = self.n_words\n",
        "            self.word2count[word] = 1\n",
        "            self.index2word[self.n_words] = word\n",
        "            self.n_words += 1\n",
        "        else:\n",
        "            self.word2count[word] += 1"
      ],
      "execution_count": null,
      "outputs": []
    },
    {
      "cell_type": "markdown",
      "metadata": {
        "id": "59vgGnxHlb9h"
      },
      "source": [
        "The files are all in Unicode, to simplify we will turn Unicode\n",
        "characters to ASCII, make everything lowercase, and trim most\n",
        "punctuation.\n",
        "\n",
        "\n"
      ]
    },
    {
      "cell_type": "code",
      "metadata": {
        "id": "iAYfE3Qllb9i"
      },
      "source": [
        "# Turn a Unicode string to plain ASCII, thanks to\n",
        "# https://stackoverflow.com/a/518232/2809427\n",
        "def unicodeToAscii(s):\n",
        "    return ''.join(\n",
        "        c for c in unicodedata.normalize('NFD', s)\n",
        "        if unicodedata.category(c) != 'Mn'\n",
        "    )\n",
        "\n",
        "# Lowercase, trim, and remove non-letter characters\n",
        "\n",
        "\n",
        "def normalizeString(s):\n",
        "    s = unicodeToAscii(s.lower().strip())\n",
        "    # s = re.sub(r\"([.!?])\", r\" \\1\", s)\n",
        "    # s = re.sub(r\"[^a-zA-Z.!?]+\", r\" \", s)\n",
        "    return s"
      ],
      "execution_count": null,
      "outputs": []
    },
    {
      "cell_type": "code",
      "metadata": {
        "colab": {
          "base_uri": "https://localhost:8080/"
        },
        "id": "lQVMAJdLjVGT",
        "outputId": "6022cb48-67c4-4b22-d490-1b5d6a086a62"
      },
      "source": [
        "pairs[0]"
      ],
      "execution_count": null,
      "outputs": [
        {
          "output_type": "execute_result",
          "data": {
            "text/plain": [
              "['公交车站相关 美容美发店 快餐厅 工厂 维修站点 中餐厅 摩托车维修 清真菜馆 美容美发店 美容美发店',\n",
              " 'Tree Plant House Window Car Land Street Billboard Tire']"
            ]
          },
          "metadata": {},
          "execution_count": 15
        }
      ]
    },
    {
      "cell_type": "markdown",
      "metadata": {
        "id": "OT8mpEa2lb9i"
      },
      "source": [
        "To read the data file we will split the file into lines, and then split\n",
        "lines into pairs. The files are all English → Other Language, so if we\n",
        "want to translate from Other Language → English I added the ``reverse``\n",
        "flag to reverse the pairs.\n",
        "\n",
        "\n"
      ]
    },
    {
      "cell_type": "code",
      "metadata": {
        "colab": {
          "base_uri": "https://localhost:8080/",
          "height": 35
        },
        "id": "J5cN3BV0k_cO",
        "outputId": "64388ca1-f8c9-46a2-96d8-c3700cdd78b2"
      },
      "source": [
        "normalizeString('武汉大师兄 是多少')"
      ],
      "execution_count": null,
      "outputs": [
        {
          "output_type": "execute_result",
          "data": {
            "application/vnd.google.colaboratory.intrinsic+json": {
              "type": "string"
            },
            "text/plain": [
              "'武汉大师兄 是多少'"
            ]
          },
          "metadata": {},
          "execution_count": 16
        }
      ]
    },
    {
      "cell_type": "markdown",
      "metadata": {
        "id": "4DMdNOFPkznW"
      },
      "source": [
        "这里修改的时候pairs[1] 是空，其实是normalizeString错了"
      ]
    },
    {
      "cell_type": "code",
      "metadata": {
        "id": "2uP5tQvBlb9j"
      },
      "source": [
        "def readLangs(lang1, lang2, reverse=False):\n",
        "    print(\"Reading lines...\")\n",
        "\n",
        "    # Read the file and split into lines\n",
        "    lines = open('data/%s-%s.txt' % (lang1, lang2), encoding='utf-8').\\\n",
        "        read().strip().split('\\n')\n",
        "\n",
        "    # Split every line into pairs and normalize\n",
        "    pairs = [[normalizeString(s) for s in l.split('\\t')] for l in lines]\n",
        "\n",
        "    # Reverse pairs, make Lang instances\n",
        "    if reverse:\n",
        "        pairs = [list(reversed(p)) for p in pairs]\n",
        "        input_lang = Lang(lang2)\n",
        "        output_lang = Lang(lang1)\n",
        "    else:\n",
        "        input_lang = Lang(lang1)\n",
        "        output_lang = Lang(lang2)\n",
        "\n",
        "    return input_lang, output_lang, pairs"
      ],
      "execution_count": null,
      "outputs": []
    },
    {
      "cell_type": "markdown",
      "metadata": {
        "id": "Cm1lWhExSLHC"
      },
      "source": [
        "## 修改这个函数"
      ]
    },
    {
      "cell_type": "markdown",
      "metadata": {
        "id": "z5W7e-pClb9j"
      },
      "source": [
        "Since there are a *lot* of example sentences and we want to train\n",
        "something quickly, we'll trim the data set to only relatively short and\n",
        "simple sentences. Here the maximum length is 10 words (that includes\n",
        "ending punctuation) and we're filtering to sentences that translate to\n",
        "the form \"I am\" or \"He is\" etc. (accounting for apostrophes replaced\n",
        "earlier).\n",
        "\n",
        "\n"
      ]
    },
    {
      "cell_type": "markdown",
      "metadata": {
        "id": "FluxrUxaXDrN"
      },
      "source": [
        "因为有很多例句，我们想快速地训练一些东西，所以我们将把数据集精简为相对简短的句子。这里的最大长度是10个单词（包括结尾标点符号），我们将过滤到翻译为“我是”或“他是”等形式的句子（考虑前面替换的撇号）。"
      ]
    },
    {
      "cell_type": "markdown",
      "metadata": {
        "id": "hyKYOx12lU4B"
      },
      "source": [
        "我们修改好了，不需要"
      ]
    },
    {
      "cell_type": "code",
      "metadata": {
        "id": "nkVqrvOVlb9k"
      },
      "source": [
        "MAX_LENGTH =11\n",
        "\n",
        "eng_prefixes = (\n",
        "    \"i am \", \"i m \",\n",
        "    \"he is\", \"he s \",\n",
        "    \"she is\", \"she s \",\n",
        "    \"you are\", \"you re \",\n",
        "    \"we are\", \"we re \",\n",
        "    \"they are\", \"they re \"\n",
        ")\n",
        "\n",
        "\n",
        "def filterPair(p):\n",
        "    return len(p[0].split(' ')) < MAX_LENGTH and \\\n",
        "        len(p[1].split(' ')) < MAX_LENGTH #and \\\n",
        "        # p[1].startswith(eng_prefixes)\n",
        "\n",
        "\n",
        "def filterPairs(pairs):\n",
        "    return [pair for pair in pairs if filterPair(pair)]"
      ],
      "execution_count": null,
      "outputs": []
    },
    {
      "cell_type": "code",
      "metadata": {
        "colab": {
          "base_uri": "https://localhost:8080/"
        },
        "id": "W7CtW4KCl3WE",
        "outputId": "4b93c664-6f00-4d1d-df6e-483639dad6d4"
      },
      "source": [
        "input_lang, output_lang, pairs = readLangs('poi', 'sv', True)\n",
        "pairs[0]"
      ],
      "execution_count": null,
      "outputs": [
        {
          "output_type": "stream",
          "name": "stdout",
          "text": [
            "Reading lines...\n"
          ]
        },
        {
          "output_type": "execute_result",
          "data": {
            "text/plain": [
              "['tree plant house window car land street billboard tire',\n",
              " '物流速递 住宅小区 美容美发店 公司 诊所 乡镇以下级政府及事业单位 中餐厅 汽车维修 路口名 生活服务场所']"
            ]
          },
          "metadata": {},
          "execution_count": 34
        }
      ]
    },
    {
      "cell_type": "code",
      "metadata": {
        "colab": {
          "base_uri": "https://localhost:8080/"
        },
        "id": "rckZfxOnlyWt",
        "outputId": "c19e3477-64e7-4385-93e8-75da8dc76d47"
      },
      "source": [
        "filterPairs(pairs[0])"
      ],
      "execution_count": null,
      "outputs": [
        {
          "output_type": "execute_result",
          "data": {
            "text/plain": [
              "['tree plant house window car land street billboard tire',\n",
              " '公交车站相关 美容美发店 快餐厅 工厂 维修站点 中餐厅 摩托车维修 清真菜馆 美容美发店 美容美发店']"
            ]
          },
          "metadata": {},
          "execution_count": 52
        }
      ]
    },
    {
      "cell_type": "code",
      "metadata": {
        "colab": {
          "base_uri": "https://localhost:8080/",
          "height": 35
        },
        "id": "qsGEjIIDkQoo",
        "outputId": "62c752aa-6751-4651-81a7-89ebb8d0d9cb"
      },
      "source": [
        "pairs[0][1]"
      ],
      "execution_count": null,
      "outputs": [
        {
          "output_type": "execute_result",
          "data": {
            "application/vnd.google.colaboratory.intrinsic+json": {
              "type": "string"
            },
            "text/plain": [
              "'公交车站相关 美容美发店 快餐厅 工厂 维修站点 中餐厅 摩托车维修 清真菜馆 美容美发店 美容美发店'"
            ]
          },
          "metadata": {},
          "execution_count": 53
        }
      ]
    },
    {
      "cell_type": "code",
      "metadata": {
        "colab": {
          "base_uri": "https://localhost:8080/"
        },
        "id": "3d-kkDcLXhMK",
        "outputId": "1b963f3c-ffb7-45b2-d990-6f695a8ef9f8"
      },
      "source": [
        "len(pairs[0][1].split(' '))"
      ],
      "execution_count": null,
      "outputs": [
        {
          "output_type": "execute_result",
          "data": {
            "text/plain": [
              "10"
            ]
          },
          "metadata": {},
          "execution_count": 54
        }
      ]
    },
    {
      "cell_type": "code",
      "metadata": {
        "colab": {
          "base_uri": "https://localhost:8080/"
        },
        "id": "sH41FHouXZfp",
        "outputId": "1dc7fba9-1ef2-4890-8d4f-025e838fdfdc"
      },
      "source": [
        "pairs[0]"
      ],
      "execution_count": null,
      "outputs": [
        {
          "output_type": "execute_result",
          "data": {
            "text/plain": [
              "['tree plant house window car land street billboard tire',\n",
              " '公交车站相关 美容美发店 快餐厅 工厂 维修站点 中餐厅 摩托车维修 清真菜馆 美容美发店 美容美发店']"
            ]
          },
          "metadata": {},
          "execution_count": 55
        }
      ]
    },
    {
      "cell_type": "code",
      "metadata": {
        "colab": {
          "base_uri": "https://localhost:8080/"
        },
        "id": "RUD_lDvUVE4h",
        "outputId": "eeaebc02-3f45-4706-a183-8cf2f20256e5"
      },
      "source": [
        "filterPair([\"i am \", \"i m \"])"
      ],
      "execution_count": null,
      "outputs": [
        {
          "output_type": "execute_result",
          "data": {
            "text/plain": [
              "True"
            ]
          },
          "metadata": {},
          "execution_count": 56
        }
      ]
    },
    {
      "cell_type": "code",
      "metadata": {
        "colab": {
          "base_uri": "https://localhost:8080/"
        },
        "id": "aevyO2utVB0K",
        "outputId": "983f017d-014e-4f15-d209-858e1807707e"
      },
      "source": [
        "filterPairs(pairs[0])"
      ],
      "execution_count": null,
      "outputs": [
        {
          "output_type": "execute_result",
          "data": {
            "text/plain": [
              "['tree plant house window car land street billboard tire',\n",
              " '公交车站相关 美容美发店 快餐厅 工厂 维修站点 中餐厅 摩托车维修 清真菜馆 美容美发店 美容美发店']"
            ]
          },
          "metadata": {},
          "execution_count": 57
        }
      ]
    },
    {
      "cell_type": "markdown",
      "metadata": {
        "id": "K74xSsR4lb9k"
      },
      "source": [
        "The full process for preparing the data is:\n",
        "\n",
        "-  Read text file and split into lines, split lines into pairs\n",
        "-  Normalize text, filter by length and content\n",
        "-  Make word lists from sentences in pairs\n",
        "\n",
        "\n"
      ]
    },
    {
      "cell_type": "code",
      "metadata": {
        "id": "oGz7OhD_uOeC",
        "colab": {
          "base_uri": "https://localhost:8080/"
        },
        "outputId": "290a3be8-a67c-4d30-c102-daa192f76410"
      },
      "source": [
        "!wget https://raw.githubusercontent.com/astorfi/sequence-to-sequence-from-scratch/master/data/eng-fra.txt"
      ],
      "execution_count": null,
      "outputs": [
        {
          "output_type": "stream",
          "name": "stdout",
          "text": [
            "--2021-08-31 02:56:41--  https://raw.githubusercontent.com/astorfi/sequence-to-sequence-from-scratch/master/data/eng-fra.txt\n",
            "Resolving raw.githubusercontent.com (raw.githubusercontent.com)... 185.199.108.133, 185.199.109.133, 185.199.110.133, ...\n",
            "Connecting to raw.githubusercontent.com (raw.githubusercontent.com)|185.199.108.133|:443... connected.\n",
            "HTTP request sent, awaiting response... 200 OK\n",
            "Length: 9541158 (9.1M) [text/plain]\n",
            "Saving to: ‘eng-fra.txt.1’\n",
            "\n",
            "\reng-fra.txt.1         0%[                    ]       0  --.-KB/s               \reng-fra.txt.1       100%[===================>]   9.10M  --.-KB/s    in 0.1s    \n",
            "\n",
            "2021-08-31 02:56:42 (93.2 MB/s) - ‘eng-fra.txt.1’ saved [9541158/9541158]\n",
            "\n"
          ]
        }
      ]
    },
    {
      "cell_type": "code",
      "metadata": {
        "id": "fRnjTVWSlb9l"
      },
      "source": [
        "def prepareData(lang1, lang2, reverse=False):\n",
        "    input_lang, output_lang, pairs = readLangs(lang1, lang2, reverse)\n",
        "    print(\"Read %s sentence pairs\" % len(pairs))\n",
        "    # pairs = filterPairs(pairs)\n",
        "    print(\"Trimmed to %s sentence pairs\" % len(pairs))\n",
        "    print(\"Counting words...\")\n",
        "    for pair in pairs:\n",
        "        input_lang.addSentence(pair[0])\n",
        "        output_lang.addSentence(pair[1])\n",
        "    print(\"Counted words:\")\n",
        "    print(input_lang.name, input_lang.n_words)\n",
        "    print(output_lang.name, output_lang.n_words)\n",
        "    return input_lang, output_lang, pairs"
      ],
      "execution_count": null,
      "outputs": []
    },
    {
      "cell_type": "code",
      "metadata": {
        "id": "KNiPWFpnlnbK"
      },
      "source": [
        "# filterPairs(pairs)"
      ],
      "execution_count": null,
      "outputs": []
    },
    {
      "cell_type": "markdown",
      "metadata": {
        "id": "GXhkqufRkize"
      },
      "source": [
        "文件修改"
      ]
    },
    {
      "cell_type": "code",
      "metadata": {
        "colab": {
          "base_uri": "https://localhost:8080/"
        },
        "id": "kJBYp2jAUsgw",
        "outputId": "25a91065-96cd-4f51-bfe0-5d6c39382252"
      },
      "source": [
        "input_lang, output_lang, pairs = readLangs('poi', 'sv', True)"
      ],
      "execution_count": null,
      "outputs": [
        {
          "output_type": "stream",
          "name": "stdout",
          "text": [
            "Reading lines...\n"
          ]
        }
      ]
    },
    {
      "cell_type": "code",
      "metadata": {
        "colab": {
          "base_uri": "https://localhost:8080/"
        },
        "id": "iEw-KxnskofN",
        "outputId": "39d444aa-2555-4fb6-a4bf-9fdd0ef32f9d"
      },
      "source": [
        "pairs[0]"
      ],
      "execution_count": null,
      "outputs": [
        {
          "output_type": "execute_result",
          "data": {
            "text/plain": [
              "['tree plant house window car land street billboard tire',\n",
              " '物流速递 住宅小区 美容美发店 公司 诊所 乡镇以下级政府及事业单位 中餐厅 汽车维修 路口名 生活服务场所']"
            ]
          },
          "metadata": {},
          "execution_count": 37
        }
      ]
    },
    {
      "cell_type": "code",
      "metadata": {
        "colab": {
          "base_uri": "https://localhost:8080/"
        },
        "id": "l-eLofhHUwQy",
        "outputId": "25c01473-0447-4cb5-f245-65396e5742a8"
      },
      "source": [
        "type(input_lang)"
      ],
      "execution_count": null,
      "outputs": [
        {
          "output_type": "execute_result",
          "data": {
            "text/plain": [
              "__main__.Lang"
            ]
          },
          "metadata": {},
          "execution_count": 66
        }
      ]
    },
    {
      "cell_type": "code",
      "metadata": {
        "id": "8NqxR4sMunH_",
        "colab": {
          "base_uri": "https://localhost:8080/"
        },
        "outputId": "185488f0-e2fc-475a-fd0d-dea5c4752760"
      },
      "source": [
        "input_lang, output_lang, pairs = prepareData('poi', 'sv', True)\n",
        "print(random.choice(pairs))"
      ],
      "execution_count": null,
      "outputs": [
        {
          "output_type": "stream",
          "name": "stdout",
          "text": [
            "Reading lines...\n",
            "Read 20790 sentence pairs\n",
            "Trimmed to 20790 sentence pairs\n",
            "Counting words...\n",
            "Counted words:\n",
            "sv 141\n",
            "poi 384\n",
            "['tree plant palm person', '生活服务场所 餐饮相关 临街院门 中餐厅 住宅小区 快餐厅 停车场出入口 冷饮店 公司企业 学校']\n"
          ]
        }
      ]
    },
    {
      "cell_type": "code",
      "metadata": {
        "colab": {
          "base_uri": "https://localhost:8080/"
        },
        "id": "4x-pek7GkVlS",
        "outputId": "91ffb75d-8950-4b43-a89c-df4d1cc182bc"
      },
      "source": [
        "input_lang.n_words"
      ],
      "execution_count": null,
      "outputs": [
        {
          "output_type": "execute_result",
          "data": {
            "text/plain": [
              "141"
            ]
          },
          "metadata": {},
          "execution_count": 57
        }
      ]
    },
    {
      "cell_type": "markdown",
      "metadata": {
        "id": "h9FAVCTzlb9l"
      },
      "source": [
        "The Seq2Seq Model\n",
        "=================\n",
        "\n",
        "A Recurrent Neural Network, or RNN, is a network that operates on a\n",
        "sequence and uses its own output as input for subsequent steps.\n",
        "\n",
        "A `Sequence to Sequence network <https://arxiv.org/abs/1409.3215>`__, or\n",
        "seq2seq network, or `Encoder Decoder\n",
        "network <https://arxiv.org/pdf/1406.1078v3.pdf>`__, is a model\n",
        "consisting of two RNNs called the encoder and decoder. The encoder reads\n",
        "an input sequence and outputs a single vector, and the decoder reads\n",
        "that vector to produce an output sequence.\n",
        "\n",
        ".. figure:: /_static/img/seq-seq-images/seq2seq.png\n",
        "   :alt:\n",
        "\n",
        "Unlike sequence prediction with a single RNN, where every input\n",
        "corresponds to an output, the seq2seq model frees us from sequence\n",
        "length and order, which makes it ideal for translation between two\n",
        "languages.\n",
        "\n",
        "Consider the sentence \"Je ne suis pas le chat noir\" → \"I am not the\n",
        "black cat\". Most of the words in the input sentence have a direct\n",
        "translation in the output sentence, but are in slightly different\n",
        "orders, e.g. \"chat noir\" and \"black cat\". Because of the \"ne/pas\"\n",
        "construction there is also one more word in the input sentence. It would\n",
        "be difficult to produce a correct translation directly from the sequence\n",
        "of input words.\n",
        "\n",
        "With a seq2seq model the encoder creates a single vector which, in the\n",
        "ideal case, encodes the \"meaning\" of the input sequence into a single\n",
        "vector — a single point in some N dimensional space of sentences.\n",
        "\n",
        "\n"
      ]
    },
    {
      "cell_type": "markdown",
      "metadata": {
        "id": "UHYjcrfAlb9m"
      },
      "source": [
        "The Encoder\n",
        "-----------\n",
        "\n",
        "The encoder of a seq2seq network is a RNN that outputs some value for\n",
        "every word from the input sentence. For every input word the encoder\n",
        "outputs a vector and a hidden state, and uses the hidden state for the\n",
        "next input word.\n",
        "\n",
        ".. figure:: /_static/img/seq-seq-images/encoder-network.png\n",
        "   :alt:\n",
        "\n",
        "\n",
        "\n"
      ]
    },
    {
      "cell_type": "code",
      "metadata": {
        "id": "d9Ugirgilb9m"
      },
      "source": [
        "class EncoderRNN(nn.Module):\n",
        "    def __init__(self, input_size, hidden_size):\n",
        "        super(EncoderRNN, self).__init__()\n",
        "        self.hidden_size = hidden_size\n",
        "\n",
        "        self.embedding = nn.Embedding(input_size, hidden_size)\n",
        "        self.gru = nn.GRU(hidden_size, hidden_size)\n",
        "\n",
        "    def forward(self, input, hidden):\n",
        "        embedded = self.embedding(input).view(1, 1, -1)\n",
        "        output = embedded\n",
        "        output, hidden = self.gru(output, hidden)\n",
        "        return output, hidden\n",
        "\n",
        "    def initHidden(self):\n",
        "        return torch.zeros(1, 1, self.hidden_size, device=device)"
      ],
      "execution_count": null,
      "outputs": []
    },
    {
      "cell_type": "markdown",
      "metadata": {
        "id": "hk-ODgwslb9n"
      },
      "source": [
        "The Decoder\n",
        "-----------\n",
        "\n",
        "The decoder is another RNN that takes the encoder output vector(s) and\n",
        "outputs a sequence of words to create the translation.\n",
        "\n",
        "\n"
      ]
    },
    {
      "cell_type": "markdown",
      "metadata": {
        "id": "OxJlejJ2lb9n"
      },
      "source": [
        "Simple Decoder\n",
        "^^^^^^^^^^^^^^\n",
        "\n",
        "In the simplest seq2seq decoder we use only last output of the encoder.\n",
        "This last output is sometimes called the *context vector* as it encodes\n",
        "context from the entire sequence. This context vector is used as the\n",
        "initial hidden state of the decoder.\n",
        "\n",
        "At every step of decoding, the decoder is given an input token and\n",
        "hidden state. The initial input token is the start-of-string ``<SOS>``\n",
        "token, and the first hidden state is the context vector (the encoder's\n",
        "last hidden state).\n",
        "\n",
        ".. figure:: /_static/img/seq-seq-images/decoder-network.png\n",
        "   :alt:\n",
        "\n",
        "\n",
        "\n"
      ]
    },
    {
      "cell_type": "code",
      "metadata": {
        "id": "ajg3EWg_lb9o"
      },
      "source": [
        "class DecoderRNN(nn.Module):\n",
        "    def __init__(self, hidden_size, output_size):\n",
        "        super(DecoderRNN, self).__init__()\n",
        "        self.hidden_size = hidden_size\n",
        "\n",
        "        self.embedding = nn.Embedding(output_size, hidden_size)\n",
        "        self.gru = nn.GRU(hidden_size, hidden_size)\n",
        "        self.out = nn.Linear(hidden_size, output_size)\n",
        "        self.softmax = nn.LogSoftmax(dim=1)\n",
        "\n",
        "    def forward(self, input, hidden):\n",
        "        output = self.embedding(input).view(1, 1, -1)\n",
        "        output = F.relu(output)\n",
        "        output, hidden = self.gru(output, hidden)\n",
        "        output = self.softmax(self.out(output[0]))\n",
        "        return output, hidden\n",
        "\n",
        "    def initHidden(self):\n",
        "        return torch.zeros(1, 1, self.hidden_size, device=device)"
      ],
      "execution_count": null,
      "outputs": []
    },
    {
      "cell_type": "markdown",
      "metadata": {
        "id": "QCcusKVFlb9p"
      },
      "source": [
        "I encourage you to train and observe the results of this model, but to\n",
        "save space we'll be going straight for the gold and introducing the\n",
        "Attention Mechanism.\n",
        "\n",
        "\n"
      ]
    },
    {
      "cell_type": "markdown",
      "metadata": {
        "id": "OwSnRRqolb9q"
      },
      "source": [
        "Attention Decoder\n",
        "^^^^^^^^^^^^^^^^^\n",
        "\n",
        "If only the context vector is passed between the encoder and decoder,\n",
        "that single vector carries the burden of encoding the entire sentence.\n",
        "\n",
        "Attention allows the decoder network to \"focus\" on a different part of\n",
        "the encoder's outputs for every step of the decoder's own outputs. First\n",
        "we calculate a set of *attention weights*. These will be multiplied by\n",
        "the encoder output vectors to create a weighted combination. The result\n",
        "(called ``attn_applied`` in the code) should contain information about\n",
        "that specific part of the input sequence, and thus help the decoder\n",
        "choose the right output words.\n",
        "\n",
        ".. figure:: https://i.imgur.com/1152PYf.png\n",
        "   :alt:\n",
        "\n",
        "Calculating the attention weights is done with another feed-forward\n",
        "layer ``attn``, using the decoder's input and hidden state as inputs.\n",
        "Because there are sentences of all sizes in the training data, to\n",
        "actually create and train this layer we have to choose a maximum\n",
        "sentence length (input length, for encoder outputs) that it can apply\n",
        "to. Sentences of the maximum length will use all the attention weights,\n",
        "while shorter sentences will only use the first few.\n",
        "\n",
        ".. figure:: /_static/img/seq-seq-images/attention-decoder-network.png\n",
        "   :alt:\n",
        "\n",
        "\n",
        "\n"
      ]
    },
    {
      "cell_type": "code",
      "metadata": {
        "id": "gC9ytHoFlb9q"
      },
      "source": [
        "class AttnDecoderRNN(nn.Module):\n",
        "    def __init__(self, hidden_size, output_size, dropout_p=0.1, max_length=MAX_LENGTH):\n",
        "        super(AttnDecoderRNN, self).__init__()\n",
        "        self.hidden_size = hidden_size\n",
        "        self.output_size = output_size\n",
        "        self.dropout_p = dropout_p\n",
        "        self.max_length = max_length\n",
        "\n",
        "        self.embedding = nn.Embedding(self.output_size, self.hidden_size)\n",
        "        self.attn = nn.Linear(self.hidden_size * 2, self.max_length)\n",
        "        self.attn_combine = nn.Linear(self.hidden_size * 2, self.hidden_size)\n",
        "        self.dropout = nn.Dropout(self.dropout_p)\n",
        "        self.gru = nn.GRU(self.hidden_size, self.hidden_size)\n",
        "        self.out = nn.Linear(self.hidden_size, self.output_size)\n",
        "\n",
        "    def forward(self, input, hidden, encoder_outputs):\n",
        "        embedded = self.embedding(input).view(1, 1, -1)\n",
        "        embedded = self.dropout(embedded)\n",
        "\n",
        "        attn_weights = F.softmax(\n",
        "            self.attn(torch.cat((embedded[0], hidden[0]), 1)), dim=1)\n",
        "        attn_applied = torch.bmm(attn_weights.unsqueeze(0),\n",
        "                                 encoder_outputs.unsqueeze(0))\n",
        "\n",
        "        output = torch.cat((embedded[0], attn_applied[0]), 1)\n",
        "        output = self.attn_combine(output).unsqueeze(0)\n",
        "\n",
        "        output = F.relu(output)\n",
        "        output, hidden = self.gru(output, hidden)\n",
        "\n",
        "        output = F.log_softmax(self.out(output[0]), dim=1)\n",
        "        return output, hidden, attn_weights\n",
        "\n",
        "    def initHidden(self):\n",
        "        return torch.zeros(1, 1, self.hidden_size, device=device)"
      ],
      "execution_count": null,
      "outputs": []
    },
    {
      "cell_type": "markdown",
      "metadata": {
        "id": "MVaME_wrlb9q"
      },
      "source": [
        "<div class=\"alert alert-info\"><h4>Note</h4><p>There are other forms of attention that work around the length\n",
        "  limitation by using a relative position approach. Read about \"local\n",
        "  attention\" in `Effective Approaches to Attention-based Neural Machine\n",
        "  Translation <https://arxiv.org/abs/1508.04025>`__.</p></div>\n",
        "\n",
        "Training\n",
        "========\n",
        "\n",
        "Preparing Training Data\n",
        "-----------------------\n",
        "\n",
        "To train, for each pair we will need an input tensor (indexes of the\n",
        "words in the input sentence) and target tensor (indexes of the words in\n",
        "the target sentence). While creating these vectors we will append the\n",
        "EOS token to both sequences.\n",
        "\n",
        "\n"
      ]
    },
    {
      "cell_type": "code",
      "metadata": {
        "id": "ZQYFLv3ilb9r"
      },
      "source": [
        "def indexesFromSentence(lang, sentence):\n",
        "    return [lang.word2index[word] for word in sentence.split(' ')]\n",
        "\n",
        "\n",
        "def tensorFromSentence(lang, sentence):\n",
        "    indexes = indexesFromSentence(lang, sentence)\n",
        "    indexes.append(EOS_token)\n",
        "    return torch.tensor(indexes, dtype=torch.long, device=device).view(-1, 1)\n",
        "\n",
        "\n",
        "def tensorsFromPair(pair):\n",
        "    input_tensor = tensorFromSentence(input_lang, pair[0])\n",
        "    target_tensor = tensorFromSentence(output_lang, pair[1])\n",
        "    return (input_tensor, target_tensor)"
      ],
      "execution_count": null,
      "outputs": []
    },
    {
      "cell_type": "markdown",
      "metadata": {
        "id": "VSaW3zo6lb9r"
      },
      "source": [
        "Training the Model\n",
        "------------------\n",
        "\n",
        "To train we run the input sentence through the encoder, and keep track\n",
        "of every output and the latest hidden state. Then the decoder is given\n",
        "the ``<SOS>`` token as its first input, and the last hidden state of the\n",
        "encoder as its first hidden state.\n",
        "\n",
        "\"Teacher forcing\" is the concept of using the real target outputs as\n",
        "each next input, instead of using the decoder's guess as the next input.\n",
        "Using teacher forcing causes it to converge faster but `when the trained\n",
        "network is exploited, it may exhibit\n",
        "instability <http://citeseerx.ist.psu.edu/viewdoc/download?doi=10.1.1.378.4095&rep=rep1&type=pdf>`__.\n",
        "\n",
        "You can observe outputs of teacher-forced networks that read with\n",
        "coherent grammar but wander far from the correct translation -\n",
        "intuitively it has learned to represent the output grammar and can \"pick\n",
        "up\" the meaning once the teacher tells it the first few words, but it\n",
        "has not properly learned how to create the sentence from the translation\n",
        "in the first place.\n",
        "\n",
        "Because of the freedom PyTorch's autograd gives us, we can randomly\n",
        "choose to use teacher forcing or not with a simple if statement. Turn\n",
        "``teacher_forcing_ratio`` up to use more of it.\n",
        "\n",
        "\n"
      ]
    },
    {
      "cell_type": "code",
      "metadata": {
        "id": "Y3b8TbWzlb9s"
      },
      "source": [
        "teacher_forcing_ratio = 0.5\n",
        "\n",
        "\n",
        "def train(input_tensor, target_tensor, encoder, decoder, encoder_optimizer, decoder_optimizer, criterion, max_length=MAX_LENGTH):\n",
        "    encoder_hidden = encoder.initHidden()\n",
        "\n",
        "    encoder_optimizer.zero_grad()\n",
        "    decoder_optimizer.zero_grad()\n",
        "\n",
        "    input_length = input_tensor.size(0)\n",
        "    target_length = target_tensor.size(0)\n",
        "\n",
        "    encoder_outputs = torch.zeros(max_length, encoder.hidden_size, device=device)\n",
        "\n",
        "    loss = 0\n",
        "\n",
        "    for ei in range(input_length):\n",
        "        encoder_output, encoder_hidden = encoder(\n",
        "            input_tensor[ei], encoder_hidden)\n",
        "        encoder_outputs[ei] = encoder_output[0, 0]\n",
        "\n",
        "    decoder_input = torch.tensor([[SOS_token]], device=device)\n",
        "\n",
        "    decoder_hidden = encoder_hidden\n",
        "\n",
        "    use_teacher_forcing = True if random.random() < teacher_forcing_ratio else False\n",
        "\n",
        "    if use_teacher_forcing:\n",
        "        # Teacher forcing: Feed the target as the next input\n",
        "        for di in range(target_length):\n",
        "            decoder_output, decoder_hidden, decoder_attention = decoder(\n",
        "                decoder_input, decoder_hidden, encoder_outputs)\n",
        "            loss += criterion(decoder_output, target_tensor[di])\n",
        "            decoder_input = target_tensor[di]  # Teacher forcing\n",
        "\n",
        "    else:\n",
        "        # Without teacher forcing: use its own predictions as the next input\n",
        "        for di in range(target_length):\n",
        "            decoder_output, decoder_hidden, decoder_attention = decoder(\n",
        "                decoder_input, decoder_hidden, encoder_outputs)\n",
        "            topv, topi = decoder_output.topk(1)\n",
        "            decoder_input = topi.squeeze().detach()  # detach from history as input\n",
        "\n",
        "            loss += criterion(decoder_output, target_tensor[di])\n",
        "            if decoder_input.item() == EOS_token:\n",
        "                break\n",
        "\n",
        "    loss.backward()\n",
        "\n",
        "    encoder_optimizer.step()\n",
        "    decoder_optimizer.step()\n",
        "\n",
        "    return loss.item() / target_length"
      ],
      "execution_count": null,
      "outputs": []
    },
    {
      "cell_type": "markdown",
      "metadata": {
        "id": "Et8hCknylb9s"
      },
      "source": [
        "This is a helper function to print time elapsed and estimated time\n",
        "remaining given the current time and progress %.\n",
        "\n",
        "\n"
      ]
    },
    {
      "cell_type": "code",
      "metadata": {
        "id": "Ngcd8gsslb9t"
      },
      "source": [
        "import time\n",
        "import math\n",
        "\n",
        "\n",
        "def asMinutes(s):\n",
        "    m = math.floor(s / 60)\n",
        "    s -= m * 60\n",
        "    return '%dm %ds' % (m, s)\n",
        "\n",
        "\n",
        "def timeSince(since, percent):\n",
        "    now = time.time()\n",
        "    s = now - since\n",
        "    es = s / (percent)\n",
        "    rs = es - s\n",
        "    return '%s (- %s)' % (asMinutes(s), asMinutes(rs))"
      ],
      "execution_count": null,
      "outputs": []
    },
    {
      "cell_type": "markdown",
      "metadata": {
        "id": "w_V5GHuWlb9t"
      },
      "source": [
        "The whole training process looks like this:\n",
        "\n",
        "-  Start a timer\n",
        "-  Initialize optimizers and criterion\n",
        "-  Create set of training pairs\n",
        "-  Start empty losses array for plotting\n",
        "\n",
        "Then we call ``train`` many times and occasionally print the progress (%\n",
        "of examples, time so far, estimated time) and average loss.\n",
        "\n",
        "\n"
      ]
    },
    {
      "cell_type": "markdown",
      "metadata": {
        "id": "9Jsu1n6wmtH_"
      },
      "source": [
        "整个训练过程看起来像这样。\n",
        "\n",
        "- 启动一个定时器\n",
        "- 初始化优化器和准则\n",
        "- 创建一组训练对\n",
        "- 启动空的损失数组以进行绘图\n",
        "\n",
        "然后我们多次调用``train``，并不时地打印进度（到目前为止的例子百分比\n",
        "的例子，到目前为止的时间，估计时间）和平均损失。"
      ]
    },
    {
      "cell_type": "markdown",
      "metadata": {
        "id": "5xk3eZ6ui1s0"
      },
      "source": [
        "修改它，生成我们需要的loss列表"
      ]
    },
    {
      "cell_type": "code",
      "metadata": {
        "id": "JW9xHRUelb9u"
      },
      "source": [
        "def trainIters(encoder, decoder, n_iters, print_every=1000, plot_every=100, learning_rate=0.01):\n",
        "    start = time.time()\n",
        "    plot_losses = []\n",
        "    print_loss_total = 0  # Reset every print_every\n",
        "    plot_loss_total = 0  # Reset every plot_every\n",
        "\n",
        "    encoder_optimizer = optim.SGD(encoder.parameters(), lr=learning_rate)\n",
        "    decoder_optimizer = optim.SGD(decoder.parameters(), lr=learning_rate)\n",
        "    training_pairs = [tensorsFromPair(random.choice(pairs))\n",
        "                      for i in range(n_iters)]\n",
        "    criterion = nn.NLLLoss()\n",
        "\n",
        "    loss_list=[]\n",
        "\n",
        "    for iter in range(1, n_iters + 1):\n",
        "        training_pair = training_pairs[iter - 1]\n",
        "        input_tensor = training_pair[0]\n",
        "        target_tensor = training_pair[1]\n",
        "\n",
        "        loss = train(input_tensor, target_tensor, encoder,\n",
        "                     decoder, encoder_optimizer, decoder_optimizer, criterion)\n",
        "        print_loss_total += loss\n",
        "        plot_loss_total += loss\n",
        "\n",
        "        loss_list.append(print_loss_total / print_every)\n",
        "\n",
        "        if iter % print_every == 0:\n",
        "            print_loss_avg = print_loss_total / print_every\n",
        "            print_loss_total = 0\n",
        "            print('%s (%d %d%%) %.4f' % (timeSince(start, iter / n_iters),\n",
        "                                         iter, iter / n_iters * 100, print_loss_avg))\n",
        "\n",
        "        if iter % plot_every == 0:\n",
        "            plot_loss_avg = plot_loss_total / plot_every\n",
        "            plot_losses.append(plot_loss_avg)\n",
        "            plot_loss_total = 0\n",
        "\n",
        "    showPlot(plot_losses)\n",
        "    return (loss_list)"
      ],
      "execution_count": null,
      "outputs": []
    },
    {
      "cell_type": "markdown",
      "metadata": {
        "id": "6-rwK4X2lb9u"
      },
      "source": [
        "Plotting results\n",
        "----------------\n",
        "\n",
        "Plotting is done with matplotlib, using the array of loss values\n",
        "``plot_losses`` saved while training.\n",
        "\n",
        "\n"
      ]
    },
    {
      "cell_type": "code",
      "metadata": {
        "id": "bbBGUBxKlb9u"
      },
      "source": [
        "%matplotlib inline\n",
        "import matplotlib.pyplot as plt\n",
        "# plt.rcParams['font.sans-serif']=['SimHei'] #用来正常显示中文标签\n",
        "# plt.rcParams['axes.unicode_minus']=False #用来正常显示负号\n",
        "\n",
        "plt.switch_backend('agg')\n",
        "import matplotlib.ticker as ticker\n",
        "import numpy as np\n",
        "\n",
        "def showPlot(points):\n",
        "    plt.figure()\n",
        "    fig, ax = plt.subplots()\n",
        "    # this locator puts ticks at regular intervals\n",
        "    loc = ticker.MultipleLocator(base=0.2)\n",
        "    ax.yaxis.set_major_locator(loc)\n",
        "    plt.plot(points)"
      ],
      "execution_count": null,
      "outputs": []
    },
    {
      "cell_type": "markdown",
      "metadata": {
        "id": "lKoUgTi-lb9v"
      },
      "source": [
        "Evaluation\n",
        "==========\n",
        "\n",
        "Evaluation is mostly the same as training, but there are no targets so\n",
        "we simply feed the decoder's predictions back to itself for each step.\n",
        "Every time it predicts a word we add it to the output string, and if it\n",
        "predicts the EOS token we stop there. We also store the decoder's\n",
        "attention outputs for display later.\n",
        "\n",
        "\n"
      ]
    },
    {
      "cell_type": "markdown",
      "metadata": {
        "id": "-fGZhv5xrRNj"
      },
      "source": [
        "能不能在这里找到encoder_hidden 或者嵌入向量？找i到单词嵌入？"
      ]
    },
    {
      "cell_type": "code",
      "metadata": {
        "id": "UoJ5MV3YXI8I",
        "colab": {
          "base_uri": "https://localhost:8080/"
        },
        "outputId": "0dd7ef66-0ca3-41f4-bf17-0c25b0f01438"
      },
      "source": [
        "evaluate(encoder1, attn_decoder1, pairs[0][0], 11)[1].shape"
      ],
      "execution_count": null,
      "outputs": [
        {
          "output_type": "execute_result",
          "data": {
            "text/plain": [
              "torch.Size([11, 11])"
            ]
          },
          "metadata": {},
          "execution_count": 89
        }
      ]
    },
    {
      "cell_type": "code",
      "metadata": {
        "id": "lzBvlP_uXdN7",
        "colab": {
          "base_uri": "https://localhost:8080/"
        },
        "outputId": "8252775e-fe9c-410a-97cb-74ae4090758b"
      },
      "source": [
        "evaluate(encoder1, attn_decoder1, pairs[0][0], 11)[2].shape"
      ],
      "execution_count": null,
      "outputs": [
        {
          "output_type": "stream",
          "name": "stdout",
          "text": [
            "------\n",
            "tensor([[ 0.0050,  0.9987, -0.0852,  ...,  0.9898,  0.9306, -0.1805],\n",
            "        [-0.0349,  0.9982, -0.1514,  ...,  0.9869, -0.9909, -0.1076],\n",
            "        [ 0.5328, -0.9968, -0.1231,  ...,  0.9869,  0.9844, -0.1183],\n",
            "        ...,\n",
            "        [-0.0992, -0.9906, -0.1164,  ...,  0.9796,  0.9732,  0.9416],\n",
            "        [-0.1001, -0.9898, -0.1171,  ...,  0.9797,  0.9342,  0.9261],\n",
            "        [ 0.0000,  0.0000,  0.0000,  ...,  0.0000,  0.0000,  0.0000]],\n",
            "       device='cuda:0')\n"
          ]
        },
        {
          "output_type": "execute_result",
          "data": {
            "text/plain": [
              "torch.Size([11, 256])"
            ]
          },
          "metadata": {},
          "execution_count": 95
        }
      ]
    },
    {
      "cell_type": "code",
      "metadata": {
        "id": "ww-eL-jIZu-M",
        "colab": {
          "base_uri": "https://localhost:8080/"
        },
        "outputId": "577a4d24-ff40-4e6e-f5a9-9297e07292a1"
      },
      "source": [
        "evaluate(encoder1, attn_decoder1,'tree house window plant car wheel', 11)"
      ],
      "execution_count": null,
      "outputs": [
        {
          "output_type": "stream",
          "name": "stdout",
          "text": [
            "------\n",
            "tensor([[ 0.0050,  0.9987, -0.0852,  ...,  0.9898,  0.9306, -0.1805],\n",
            "        [ 0.3252, -0.9999,  0.4221,  ...,  0.9897,  0.9990, -0.2297],\n",
            "        [ 0.3524, -0.9745,  0.7969,  ...,  0.9895,  0.9980, -0.9228],\n",
            "        ...,\n",
            "        [ 0.0000,  0.0000,  0.0000,  ...,  0.0000,  0.0000,  0.0000],\n",
            "        [ 0.0000,  0.0000,  0.0000,  ...,  0.0000,  0.0000,  0.0000],\n",
            "        [ 0.0000,  0.0000,  0.0000,  ...,  0.0000,  0.0000,  0.0000]],\n",
            "       device='cuda:0')\n"
          ]
        },
        {
          "output_type": "execute_result",
          "data": {
            "text/plain": [
              "(['临街院门',\n",
              "  '住宅小区',\n",
              "  '临街院门',\n",
              "  '临街院门',\n",
              "  '临街院门',\n",
              "  '临街院门',\n",
              "  '临街院门',\n",
              "  '临街院门',\n",
              "  '住宅小区',\n",
              "  '住宅小区',\n",
              "  '<EOS>'],\n",
              " tensor([[1.1605e-05, 2.3282e-05, 9.9980e-01, 5.0843e-07, 3.7539e-08, 6.7308e-06,\n",
              "          6.8762e-06, 5.0362e-05, 1.6756e-05, 4.8202e-06, 8.1925e-05],\n",
              "         [1.3764e-03, 7.1089e-04, 3.2003e-04, 1.9484e-04, 1.2371e-06, 9.6058e-01,\n",
              "          7.7739e-03, 2.3251e-03, 8.7646e-03, 1.7206e-02, 7.4312e-04],\n",
              "         [7.4651e-02, 5.5732e-04, 8.7867e-04, 1.2296e-03, 8.8658e-01, 4.0239e-03,\n",
              "          1.0302e-02, 1.9453e-02, 5.4129e-04, 1.2730e-03, 5.0963e-04],\n",
              "         [1.1019e-04, 2.3588e-02, 1.7183e-03, 5.1203e-03, 1.6542e-04, 9.0337e-01,\n",
              "          3.1668e-02, 1.1008e-02, 9.8336e-03, 8.6062e-03, 4.8089e-03],\n",
              "         [8.7327e-06, 4.6483e-03, 1.0945e-03, 7.2392e-03, 1.6048e-05, 9.7418e-01,\n",
              "          5.4948e-03, 2.9275e-03, 2.3506e-03, 1.5444e-03, 4.9996e-04],\n",
              "         [3.0531e-05, 4.6507e-03, 4.9169e-03, 1.3617e-02, 6.2447e-04, 9.5077e-01,\n",
              "          9.4990e-03, 3.9725e-03, 6.2745e-03, 5.1062e-03, 5.3717e-04],\n",
              "         [1.0533e-05, 4.5441e-03, 5.5196e-03, 1.6290e-02, 1.2028e-03, 9.4371e-01,\n",
              "          1.3645e-02, 1.0112e-03, 9.0846e-03, 4.6803e-03, 3.0263e-04],\n",
              "         [4.3416e-05, 1.3290e-03, 5.3349e-04, 9.6919e-04, 1.6540e-05, 9.8031e-01,\n",
              "          1.8005e-03, 5.7129e-04, 8.4008e-03, 5.7181e-03, 3.1172e-04],\n",
              "         [1.8485e-05, 1.6931e-03, 1.6238e-03, 2.5709e-02, 2.9918e-05, 9.3883e-01,\n",
              "          1.6228e-02, 5.0077e-04, 1.3085e-02, 1.8731e-03, 4.0855e-04],\n",
              "         [5.8864e-04, 1.2332e-05, 1.1079e-04, 1.0044e-03, 9.9650e-01, 1.4668e-04,\n",
              "          7.3059e-04, 8.3967e-04, 2.3999e-05, 3.3443e-05, 6.5379e-06],\n",
              "         [7.5753e-05, 2.7338e-05, 4.4156e-04, 4.8841e-03, 9.9148e-01, 2.2492e-04,\n",
              "          8.6667e-04, 1.9635e-03, 1.1971e-05, 1.8920e-05, 9.1723e-06]]),\n",
              " tensor([[ 0.0050,  0.9987, -0.0852,  ...,  0.9898,  0.9306, -0.1805],\n",
              "         [ 0.3252, -0.9999,  0.4221,  ...,  0.9897,  0.9990, -0.2297],\n",
              "         [ 0.3524, -0.9745,  0.7969,  ...,  0.9895,  0.9980, -0.9228],\n",
              "         ...,\n",
              "         [ 0.0000,  0.0000,  0.0000,  ...,  0.0000,  0.0000,  0.0000],\n",
              "         [ 0.0000,  0.0000,  0.0000,  ...,  0.0000,  0.0000,  0.0000],\n",
              "         [ 0.0000,  0.0000,  0.0000,  ...,  0.0000,  0.0000,  0.0000]],\n",
              "        device='cuda:0'))"
            ]
          },
          "metadata": {},
          "execution_count": 110
        }
      ]
    },
    {
      "cell_type": "markdown",
      "metadata": {
        "id": "R5KbIKdzXmpD"
      },
      "source": [
        "## 试试 会不会变化"
      ]
    },
    {
      "cell_type": "code",
      "metadata": {
        "id": "fxEPStKTXpuw",
        "colab": {
          "base_uri": "https://localhost:8080/"
        },
        "outputId": "90f995cf-81e5-4c57-9f5d-f9c1ac2d8c33"
      },
      "source": [
        "evaluate(encoder1, attn_decoder1, pairs[1][0], 11)[2].shape"
      ],
      "execution_count": null,
      "outputs": [
        {
          "output_type": "stream",
          "name": "stdout",
          "text": [
            "------\n",
            "tensor([[ 0.0050,  0.9987, -0.0852,  ...,  0.9898,  0.9306, -0.1805],\n",
            "        [ 0.3252, -0.9999,  0.4221,  ...,  0.9897,  0.9990, -0.2297],\n",
            "        [ 0.1463, -0.9943,  0.4196,  ...,  0.9877, -0.9971, -0.2197],\n",
            "        ...,\n",
            "        [-0.1547, -0.8851,  0.3311,  ...,  0.9874,  0.1551,  0.9263],\n",
            "        [-0.9275, -0.8819,  0.1806,  ...,  0.9874, -0.0907,  0.9342],\n",
            "        [-0.9277, -0.8668,  0.1795,  ...,  0.9874, -0.0983,  0.9109]],\n",
            "       device='cuda:0')\n"
          ]
        },
        {
          "output_type": "execute_result",
          "data": {
            "text/plain": [
              "torch.Size([11, 256])"
            ]
          },
          "metadata": {},
          "execution_count": 98
        }
      ]
    },
    {
      "cell_type": "markdown",
      "metadata": {
        "id": "sXMuAt9ujLIw"
      },
      "source": [
        "evaluate 有输出"
      ]
    },
    {
      "cell_type": "code",
      "metadata": {
        "id": "SprH-Sehlb9v"
      },
      "source": [
        "def evaluate(encoder, decoder, sentence, max_length=MAX_LENGTH):\n",
        "    with torch.no_grad():\n",
        "        input_tensor = tensorFromSentence(input_lang, sentence)\n",
        "        input_length = input_tensor.size()[0]\n",
        "        encoder_hidden = encoder.initHidden()\n",
        "\n",
        "        encoder_outputs = torch.zeros(max_length, encoder.hidden_size, device=device)\n",
        "\n",
        "        # print(encoder_outputs)\n",
        "\n",
        "        for ei in range(input_length):\n",
        "            encoder_output, encoder_hidden = encoder(input_tensor[ei],\n",
        "                                                     encoder_hidden)\n",
        "            encoder_outputs[ei] += encoder_output[0, 0]\n",
        "\n",
        "        print('------')\n",
        "        print(encoder_outputs)\n",
        "\n",
        "        decoder_input = torch.tensor([[SOS_token]], device=device)  # SOS\n",
        "\n",
        "        decoder_hidden = encoder_hidden\n",
        "\n",
        "        decoded_words = []\n",
        "        decoder_attentions = torch.zeros(max_length, max_length)\n",
        "\n",
        "        for di in range(max_length):\n",
        "            decoder_output, decoder_hidden, decoder_attention = decoder(\n",
        "                decoder_input, decoder_hidden, encoder_outputs)\n",
        "            decoder_attentions[di] = decoder_attention.data\n",
        "            topv, topi = decoder_output.data.topk(1)\n",
        "            if topi.item() == EOS_token:\n",
        "                decoded_words.append('<EOS>')\n",
        "                break\n",
        "            else:\n",
        "                decoded_words.append(output_lang.index2word[topi.item()])\n",
        "\n",
        "            decoder_input = topi.squeeze().detach()\n",
        "\n",
        "        return decoded_words, decoder_attentions[:di + 1],encoder_outputs"
      ],
      "execution_count": null,
      "outputs": []
    },
    {
      "cell_type": "markdown",
      "metadata": {
        "id": "38mREK9ejQe6"
      },
      "source": [
        "evalute 无输出"
      ]
    },
    {
      "cell_type": "code",
      "metadata": {
        "id": "yCtUUQYjjP1q"
      },
      "source": [
        "def evaluate(encoder, decoder, sentence, max_length=MAX_LENGTH):\n",
        "    with torch.no_grad():\n",
        "        input_tensor = tensorFromSentence(input_lang, sentence)\n",
        "        input_length = input_tensor.size()[0]\n",
        "        encoder_hidden = encoder.initHidden()\n",
        "\n",
        "        encoder_outputs = torch.zeros(max_length, encoder.hidden_size, device=device)\n",
        "\n",
        "        # print(encoder_outputs)\n",
        "\n",
        "        for ei in range(input_length):\n",
        "            encoder_output, encoder_hidden = encoder(input_tensor[ei],\n",
        "                                                     encoder_hidden)\n",
        "            encoder_outputs[ei] += encoder_output[0, 0]\n",
        "\n",
        "        # print('------')\n",
        "        # print(encoder_outputs)\n",
        "\n",
        "        decoder_input = torch.tensor([[SOS_token]], device=device)  # SOS\n",
        "\n",
        "        decoder_hidden = encoder_hidden\n",
        "\n",
        "        decoded_words = []\n",
        "        decoder_attentions = torch.zeros(max_length, max_length)\n",
        "\n",
        "        for di in range(max_length):\n",
        "            decoder_output, decoder_hidden, decoder_attention = decoder(\n",
        "                decoder_input, decoder_hidden, encoder_outputs)\n",
        "            decoder_attentions[di] = decoder_attention.data\n",
        "            topv, topi = decoder_output.data.topk(1)\n",
        "            if topi.item() == EOS_token:\n",
        "                decoded_words.append('<EOS>')\n",
        "                break\n",
        "            else:\n",
        "                decoded_words.append(output_lang.index2word[topi.item()])\n",
        "\n",
        "            decoder_input = topi.squeeze().detach()\n",
        "\n",
        "        return decoded_words, decoder_attentions[:di + 1],encoder_outputs"
      ],
      "execution_count": null,
      "outputs": []
    },
    {
      "cell_type": "markdown",
      "metadata": {
        "id": "blhXZg8mlb9v"
      },
      "source": [
        "We can evaluate random sentences from the training set and print out the\n",
        "input, target, and output to make some subjective quality judgements:\n",
        "\n",
        "\n"
      ]
    },
    {
      "cell_type": "code",
      "metadata": {
        "id": "CLdRQBmHlb9w"
      },
      "source": [
        "def evaluateRandomly(encoder, decoder, n=10):\n",
        "    for i in range(n):\n",
        "        pair = random.choice(pairs)\n",
        "        print('>', pair[0])\n",
        "        print('=', pair[1])\n",
        "        output_words, attentions = evaluate(encoder, decoder, pair[0])\n",
        "        output_sentence = ' '.join(output_words)\n",
        "        print('<', output_sentence)\n",
        "        print('')"
      ],
      "execution_count": null,
      "outputs": []
    },
    {
      "cell_type": "markdown",
      "metadata": {
        "id": "vX4AyX_Tlb9w"
      },
      "source": [
        "Training and Evaluating\n",
        "=======================\n",
        "\n",
        "With all these helper functions in place (it looks like extra work, but\n",
        "it makes it easier to run multiple experiments) we can actually\n",
        "initialize a network and start training.\n",
        "\n",
        "Remember that the input sentences were heavily filtered. For this small\n",
        "dataset we can use relatively small networks of 256 hidden nodes and a\n",
        "single GRU layer. After about 40 minutes on a MacBook CPU we'll get some\n",
        "reasonable results.\n",
        "\n",
        ".. Note::\n",
        "   If you run this notebook you can train, interrupt the kernel,\n",
        "   evaluate, and continue training later. Comment out the lines where the\n",
        "   encoder and decoder are initialized and run ``trainIters`` again.\n",
        "\n",
        "\n"
      ]
    },
    {
      "cell_type": "markdown",
      "metadata": {
        "id": "b3JnedqDJDWy"
      },
      "source": [
        "有了所有这些辅助函数（看起来是额外的工作，但它使运行多个实验更容易），我们实际上可以初始化一个网络并开始训练。\n",
        "请记住，输入的句子经过了严格的过滤。对于这个小数据集，我们可以使用相对较小的网络，即256个隐藏节点和一个GRU层。在MacBook CPU上大约40分钟后，我们会得到一些合理的结果。\n",
        ".. 注意：：如果你运行这个笔记本，你可以训练，中断内核，评估，并在以后继续训练。注释掉初始化编码器和解码器的那几行，然后再次运行trainIters。"
      ]
    },
    {
      "cell_type": "code",
      "metadata": {
        "colab": {
          "base_uri": "https://localhost:8080/"
        },
        "id": "eDRKomAXnDDz",
        "outputId": "ac805748-c4ac-43cc-9c0d-4c28611405d6"
      },
      "source": [
        "!nvidia-smi"
      ],
      "execution_count": null,
      "outputs": [
        {
          "output_type": "stream",
          "name": "stdout",
          "text": [
            "Wed Sep  1 13:30:01 2021       \n",
            "+-----------------------------------------------------------------------------+\n",
            "| NVIDIA-SMI 470.57.02    Driver Version: 460.32.03    CUDA Version: 11.2     |\n",
            "|-------------------------------+----------------------+----------------------+\n",
            "| GPU  Name        Persistence-M| Bus-Id        Disp.A | Volatile Uncorr. ECC |\n",
            "| Fan  Temp  Perf  Pwr:Usage/Cap|         Memory-Usage | GPU-Util  Compute M. |\n",
            "|                               |                      |               MIG M. |\n",
            "|===============================+======================+======================|\n",
            "|   0  Tesla K80           Off  | 00000000:00:04.0 Off |                    0 |\n",
            "| N/A   36C    P8    26W / 149W |      3MiB / 11441MiB |      0%      Default |\n",
            "|                               |                      |                  N/A |\n",
            "+-------------------------------+----------------------+----------------------+\n",
            "                                                                               \n",
            "+-----------------------------------------------------------------------------+\n",
            "| Processes:                                                                  |\n",
            "|  GPU   GI   CI        PID   Type   Process name                  GPU Memory |\n",
            "|        ID   ID                                                   Usage      |\n",
            "|=============================================================================|\n",
            "|  No running processes found                                                 |\n",
            "+-----------------------------------------------------------------------------+\n"
          ]
        }
      ]
    },
    {
      "cell_type": "code",
      "metadata": {
        "id": "GkPY-B1flb9w"
      },
      "source": [
        "hidden_size = 256\n",
        "encoder1 = EncoderRNN(input_lang.n_words, hidden_size).to(device)\n",
        "attn_decoder1 = AttnDecoderRNN(hidden_size, output_lang.n_words, dropout_p=0.1).to(device)"
      ],
      "execution_count": null,
      "outputs": []
    },
    {
      "cell_type": "code",
      "metadata": {
        "id": "cRqFyAoejZMZ"
      },
      "source": [
        "train_loss=trainIters(encoder1, attn_decoder1, 75000, print_every=5000)\n",
        "#新建一个函数记录loss"
      ],
      "execution_count": null,
      "outputs": []
    },
    {
      "cell_type": "code",
      "metadata": {
        "id": "xlTMl2CbjcBz"
      },
      "source": [
        "with open('/content/drive/MyDrive/loss.text','w+',encoding='utf-8') as f:\n",
        "  for row in train_loss:\n",
        "      f.write(str(row))   \n",
        "      f.write('\\n')"
      ],
      "execution_count": null,
      "outputs": []
    },
    {
      "cell_type": "code",
      "metadata": {
        "id": "YBmXMIGbjzDI"
      },
      "source": [
        "encoder1 = torch.load('/content/drive/MyDrive/encoder91')\n",
        "attn_decoder1 = torch.load('/content/drive/MyDrive/attn_decoder91')\n",
        "# model.eval()"
      ],
      "execution_count": null,
      "outputs": []
    },
    {
      "cell_type": "code",
      "metadata": {
        "colab": {
          "base_uri": "https://localhost:8080/"
        },
        "id": "aXY2K7ZnkIgh",
        "outputId": "0facba0d-eb8f-4016-e0ce-3c2e75d9ec7b"
      },
      "source": [
        "pairs[0][0]"
      ],
      "execution_count": null,
      "outputs": [
        {
          "output_type": "execute_result",
          "data": {
            "text/plain": [
              "['tree plant house window car land street billboard tire',\n",
              " '物流速递 住宅小区 美容美发店 公司 诊所 乡镇以下级政府及事业单位 中餐厅 汽车维修 路口名 生活服务场所']"
            ]
          },
          "metadata": {},
          "execution_count": 59
        }
      ]
    },
    {
      "cell_type": "markdown",
      "metadata": {
        "id": "LSi4NcEefI_6"
      },
      "source": [
        "### 增加词袋token ID 的方法"
      ]
    },
    {
      "cell_type": "code",
      "metadata": {
        "id": "cef8JIVUYXyt",
        "colab": {
          "base_uri": "https://localhost:8080/"
        },
        "outputId": "5b02fa4a-8717-4c45-96ec-5a6b887d42bf"
      },
      "source": [
        "evaluate(encoder1, attn_decoder1, 'tree plant house window car land street billboard tire', 11)[0][:-1]"
      ],
      "execution_count": null,
      "outputs": [
        {
          "output_type": "execute_result",
          "data": {
            "text/plain": [
              "['生活服务场所',\n",
              " '生活服务场所',\n",
              " '临街院门',\n",
              " '临街院门',\n",
              " '生活服务场所',\n",
              " '物流速递',\n",
              " '美容美发店',\n",
              " '中餐厅',\n",
              " '公交车站相关',\n",
              " '公交车站相关']"
            ]
          },
          "metadata": {},
          "execution_count": 74
        }
      ]
    },
    {
      "cell_type": "code",
      "metadata": {
        "id": "eieuFgoOm0gN",
        "colab": {
          "base_uri": "https://localhost:8080/",
          "height": 35
        },
        "outputId": "35ef93ca-91db-4ec5-b40f-de3a3cc52038"
      },
      "source": [
        "pairs[0][1]"
      ],
      "execution_count": null,
      "outputs": [
        {
          "output_type": "execute_result",
          "data": {
            "application/vnd.google.colaboratory.intrinsic+json": {
              "type": "string"
            },
            "text/plain": [
              "'物流速递 住宅小区 美容美发店 公司 诊所 乡镇以下级政府及事业单位 中餐厅 汽车维修 路口名 生活服务场所'"
            ]
          },
          "metadata": {},
          "execution_count": 79
        }
      ]
    },
    {
      "cell_type": "code",
      "metadata": {
        "id": "Fq85eoEAnYFr",
        "colab": {
          "base_uri": "https://localhost:8080/"
        },
        "outputId": "270a7448-35b2-46ba-c312-1f006c717169"
      },
      "source": [
        "evaluate(encoder1, attn_decoder1,pairs[10][0], 11)[0][:-1]"
      ],
      "execution_count": null,
      "outputs": [
        {
          "output_type": "execute_result",
          "data": {
            "text/plain": [
              "['公司',\n",
              " '公司企业',\n",
              " '临街院门',\n",
              " '物流速递',\n",
              " '生活服务场所',\n",
              " '公交车站相关',\n",
              " '中餐厅',\n",
              " '公交车站相关',\n",
              " '临街院正门',\n",
              " '中餐厅']"
            ]
          },
          "metadata": {},
          "execution_count": 84
        }
      ]
    },
    {
      "cell_type": "code",
      "metadata": {
        "id": "PmEvQ88-nbT9",
        "colab": {
          "base_uri": "https://localhost:8080/",
          "height": 35
        },
        "outputId": "5ecd98d1-04ab-447b-b7c4-c71465cc18ba"
      },
      "source": [
        "pairs[10][1]"
      ],
      "execution_count": null,
      "outputs": [
        {
          "output_type": "execute_result",
          "data": {
            "application/vnd.google.colaboratory.intrinsic+json": {
              "type": "string"
            },
            "text/plain": [
              "'中餐厅 临街院门 生活服务场所 旅馆招待所 住宅小区 公司 住宿服务相关 宾馆酒店 快餐厅 餐饮相关'"
            ]
          },
          "metadata": {},
          "execution_count": 85
        }
      ]
    },
    {
      "cell_type": "code",
      "metadata": {
        "id": "DhDKfjQGniwt",
        "colab": {
          "base_uri": "https://localhost:8080/"
        },
        "outputId": "374ed99b-5e62-4c82-edac-1537fef093b5"
      },
      "source": [
        "print(pairs[15][1])\n",
        "evaluate(encoder1, attn_decoder1,pairs[15][0], 11)[0][:-1]"
      ],
      "execution_count": null,
      "outputs": [
        {
          "output_type": "stream",
          "name": "stdout",
          "text": [
            "生活服务场所 物流速递 住宅小区 培训机构 汽车综合维修 中餐厅 公交车站相关 驾校 快餐厅 临街院门\n"
          ]
        },
        {
          "output_type": "execute_result",
          "data": {
            "text/plain": [
              "['生活服务场所',\n",
              " '临街院门',\n",
              " '住宅小区',\n",
              " '临街院门',\n",
              " '公交车站相关',\n",
              " '中餐厅',\n",
              " '物流速递',\n",
              " '美容美发店',\n",
              " '中餐厅',\n",
              " '公司企业']"
            ]
          },
          "metadata": {},
          "execution_count": 86
        }
      ]
    },
    {
      "cell_type": "code",
      "metadata": {
        "id": "8yk4ms3in0Un",
        "colab": {
          "base_uri": "https://localhost:8080/"
        },
        "outputId": "dfad80e8-4af7-4c43-e8b2-798889ee6202"
      },
      "source": [
        "print(pairs[16][1])\n",
        "evaluate(encoder1, attn_decoder1,pairs[16][0], 11)[0][:-1]"
      ],
      "execution_count": null,
      "outputs": [
        {
          "output_type": "stream",
          "name": "stdout",
          "text": [
            "生活服务场所 住宅小区 中餐厅 物流速递 培训机构 汽车养护 驾校 中国石化 汽车配件销售 汽车综合维修\n"
          ]
        },
        {
          "output_type": "execute_result",
          "data": {
            "text/plain": [
              "['生活服务场所',\n",
              " '生活服务场所',\n",
              " '临街院门',\n",
              " '临街院门',\n",
              " '生活服务场所',\n",
              " '公司',\n",
              " '公司企业',\n",
              " '中餐厅',\n",
              " '住宅小区',\n",
              " '美容美发店']"
            ]
          },
          "metadata": {},
          "execution_count": 87
        }
      ]
    },
    {
      "cell_type": "code",
      "metadata": {
        "colab": {
          "base_uri": "https://localhost:8080/"
        },
        "id": "zcGsFuZ5lM3Q",
        "outputId": "1f139e2b-ef6b-48e2-b232-be4dd495ef05"
      },
      "source": [
        "# !pip install rouge-score\n",
        "from rouge_score import rouge_scorer\n",
        "# 我们只计算 rouge1 就行\n",
        "scorer = rouge_scorer.RougeScorer(['rouge1', 'rougeL'], use_stemmer=True)\n",
        "scores = scorer.score(' '.join(evaluate(encoder1, attn_decoder1,pairs[0][0], 11)[0][:-1]),\n",
        "                      pairs[0][1])\n",
        "# score =rouge_scorer. rougeEvaluationScore(candidate,references)\n",
        "scores['rouge1']"
      ],
      "execution_count": null,
      "outputs": [
        {
          "output_type": "execute_result",
          "data": {
            "text/plain": [
              "Score(precision=0.0, recall=0.0, fmeasure=0.0)"
            ]
          },
          "metadata": {},
          "execution_count": 81
        }
      ]
    },
    {
      "cell_type": "code",
      "metadata": {
        "id": "lRHLbm5InQgX",
        "colab": {
          "base_uri": "https://localhost:8080/",
          "height": 35
        },
        "outputId": "cc275b1e-0d7b-42cf-e791-90ce326c0293"
      },
      "source": [
        "' '.join(evaluate(encoder1, attn_decoder1,pairs[0][0], 11)[0][:-1])"
      ],
      "execution_count": null,
      "outputs": [
        {
          "output_type": "execute_result",
          "data": {
            "application/vnd.google.colaboratory.intrinsic+json": {
              "type": "string"
            },
            "text/plain": [
              "'生活服务场所 生活服务场所 临街院门 物流速递 临街院门 美容美发店 中餐厅 公交车站相关 公共厕所 公交车站相关'"
            ]
          },
          "metadata": {},
          "execution_count": 82
        }
      ]
    },
    {
      "cell_type": "code",
      "metadata": {
        "id": "Vnxd3onFnR5P",
        "colab": {
          "base_uri": "https://localhost:8080/"
        },
        "outputId": "9037f175-dcd2-4282-d573-46805cc685cf"
      },
      "source": [
        "print(pairs[16][1])\n",
        "print(pairs[16][0])"
      ],
      "execution_count": null,
      "outputs": [
        {
          "output_type": "stream",
          "name": "stdout",
          "text": [
            "生活服务场所 住宅小区 中餐厅 物流速递 培训机构 汽车养护 驾校 中国石化 汽车配件销售 汽车综合维修\n",
            "tree billboard boat house building person footwear wheel skyscraper\n"
          ]
        }
      ]
    },
    {
      "cell_type": "code",
      "metadata": {
        "id": "O3NSBIo-ogpt",
        "colab": {
          "base_uri": "https://localhost:8080/"
        },
        "outputId": "7a742186-ef82-4938-a792-abe1e9594964"
      },
      "source": [
        "evaluate(encoder1, attn_decoder1, pairs[16][0], 11)[0]"
      ],
      "execution_count": null,
      "outputs": [
        {
          "output_type": "execute_result",
          "data": {
            "text/plain": [
              "['生活服务场所',\n",
              " '生活服务场所',\n",
              " '临街院门',\n",
              " '临街院门',\n",
              " '临街院门',\n",
              " '公司',\n",
              " '公司企业',\n",
              " '中餐厅',\n",
              " '住宅小区',\n",
              " '美容美发店',\n",
              " '<EOS>']"
            ]
          },
          "metadata": {},
          "execution_count": 91
        }
      ]
    },
    {
      "cell_type": "code",
      "metadata": {
        "id": "tWZaoQHOYkIe",
        "colab": {
          "base_uri": "https://localhost:8080/",
          "height": 293
        },
        "outputId": "372ac778-33dd-459e-e2b3-2ffad7c836f5"
      },
      "source": [
        "%matplotlib inline\n",
        "mat=evaluate(encoder1, attn_decoder1, pairs[16][0], 11)[1].numpy()\n",
        "plt.matshow(mat, cmap=plt.cm.Blues)"
      ],
      "execution_count": null,
      "outputs": [
        {
          "output_type": "execute_result",
          "data": {
            "text/plain": [
              "<matplotlib.image.AxesImage at 0x7fed12375750>"
            ]
          },
          "metadata": {},
          "execution_count": 89
        },
        {
          "output_type": "display_data",
          "data": {
            "image/png": "[encoded data removed]",
            "text/plain": [
              "<Figure size 288x288 with 1 Axes>"
            ]
          },
          "metadata": {
            "needs_background": "light"
          }
        }
      ]
    },
    {
      "cell_type": "code",
      "metadata": {
        "colab": {
          "base_uri": "https://localhost:8080/",
          "height": 1000
        },
        "id": "u8jATByxku27",
        "outputId": "dcd69ec3-c097-4327-b909-ee1c255f130e"
      },
      "source": [
        "def showAttention(input_sentence, output_words, attentions):\n",
        "    # Set up figure with colorbar\n",
        "    fig = plt.figure()\n",
        "    ax = fig.add_subplot(111)\n",
        "    cax = ax.matshow(attentions.numpy(), cmap='bone')\n",
        "    fig.colorbar(cax)\n",
        "\n",
        "    # Set up axes\n",
        "    ax.set_xticklabels([''] + input_sentence.split(' ') +\n",
        "                       ['<EOS>'], rotation=90)\n",
        "    ax.set_yticklabels([''] + output_words)\n",
        "\n",
        "    # Show label at every tick\n",
        "    ax.xaxis.set_major_locator(ticker.MultipleLocator(1))\n",
        "    ax.yaxis.set_major_locator(ticker.MultipleLocator(1))\n",
        "    plt.show()\n",
        "def evaluateAndShowAttention(input_sentence):\n",
        "    output_words, attentions,out = evaluate(\n",
        "        encoder1, attn_decoder1, input_sentence)\n",
        "    print('input =', input_sentence)\n",
        "    print('output =', ' '.join(output_words))\n",
        "    showAttention(input_sentence, output_words, attentions)\n",
        "\n",
        "    print(attentions.shape)\n",
        "evaluateAndShowAttention(pairs[0][0])"
      ],
      "execution_count": null,
      "outputs": [
        {
          "output_type": "stream",
          "name": "stdout",
          "text": [
            "------\n",
            "tensor([[-0.0135,  0.0053,  0.9214,  ..., -0.0549,  0.0619,  0.1896],\n",
            "        [ 0.0141, -0.0251,  0.9243,  ..., -0.0616, -0.9801,  0.3266],\n",
            "        [ 0.4219,  0.2004,  0.9337,  ..., -0.3645, -0.9594,  0.1004],\n",
            "        ...,\n",
            "        [ 0.2504, -0.0948, -0.8842,  ..., -0.9105, -0.2150,  0.6404],\n",
            "        [ 0.2549, -0.0674, -0.8279,  ..., -0.8955,  0.1731,  0.6264],\n",
            "        [ 0.0000,  0.0000,  0.0000,  ...,  0.0000,  0.0000,  0.0000]],\n",
            "       device='cuda:0')\n",
            "input = tree plant house window car land street billboard tire\n",
            "output = 生活服务场所 生活服务场所 临街院门 物流速递 美容美发店 公交车站相关 中餐厅 中餐厅 公共厕所 公交车站相关 <EOS>\n"
          ]
        },
        {
          "output_type": "stream",
          "name": "stderr",
          "text": [
            "/usr/local/lib/python3.7/dist-packages/matplotlib/backends/backend_agg.py:214: RuntimeWarning: Glyph 29983 missing from current font.\n",
            "  font.set_text(s, 0.0, flags=flags)\n",
            "/usr/local/lib/python3.7/dist-packages/matplotlib/backends/backend_agg.py:214: RuntimeWarning: Glyph 27963 missing from current font.\n",
            "  font.set_text(s, 0.0, flags=flags)\n",
            "/usr/local/lib/python3.7/dist-packages/matplotlib/backends/backend_agg.py:214: RuntimeWarning: Glyph 26381 missing from current font.\n",
            "  font.set_text(s, 0.0, flags=flags)\n",
            "/usr/local/lib/python3.7/dist-packages/matplotlib/backends/backend_agg.py:214: RuntimeWarning: Glyph 21153 missing from current font.\n",
            "  font.set_text(s, 0.0, flags=flags)\n",
            "/usr/local/lib/python3.7/dist-packages/matplotlib/backends/backend_agg.py:214: RuntimeWarning: Glyph 22330 missing from current font.\n",
            "  font.set_text(s, 0.0, flags=flags)\n",
            "/usr/local/lib/python3.7/dist-packages/matplotlib/backends/backend_agg.py:214: RuntimeWarning: Glyph 25152 missing from current font.\n",
            "  font.set_text(s, 0.0, flags=flags)\n",
            "/usr/local/lib/python3.7/dist-packages/matplotlib/backends/backend_agg.py:214: RuntimeWarning: Glyph 20020 missing from current font.\n",
            "  font.set_text(s, 0.0, flags=flags)\n",
            "/usr/local/lib/python3.7/dist-packages/matplotlib/backends/backend_agg.py:214: RuntimeWarning: Glyph 34903 missing from current font.\n",
            "  font.set_text(s, 0.0, flags=flags)\n",
            "/usr/local/lib/python3.7/dist-packages/matplotlib/backends/backend_agg.py:214: RuntimeWarning: Glyph 38498 missing from current font.\n",
            "  font.set_text(s, 0.0, flags=flags)\n",
            "/usr/local/lib/python3.7/dist-packages/matplotlib/backends/backend_agg.py:214: RuntimeWarning: Glyph 38376 missing from current font.\n",
            "  font.set_text(s, 0.0, flags=flags)\n",
            "/usr/local/lib/python3.7/dist-packages/matplotlib/backends/backend_agg.py:214: RuntimeWarning: Glyph 29289 missing from current font.\n",
            "  font.set_text(s, 0.0, flags=flags)\n",
            "/usr/local/lib/python3.7/dist-packages/matplotlib/backends/backend_agg.py:214: RuntimeWarning: Glyph 27969 missing from current font.\n",
            "  font.set_text(s, 0.0, flags=flags)\n",
            "/usr/local/lib/python3.7/dist-packages/matplotlib/backends/backend_agg.py:214: RuntimeWarning: Glyph 36895 missing from current font.\n",
            "  font.set_text(s, 0.0, flags=flags)\n",
            "/usr/local/lib/python3.7/dist-packages/matplotlib/backends/backend_agg.py:214: RuntimeWarning: Glyph 36882 missing from current font.\n",
            "  font.set_text(s, 0.0, flags=flags)\n",
            "/usr/local/lib/python3.7/dist-packages/matplotlib/backends/backend_agg.py:214: RuntimeWarning: Glyph 32654 missing from current font.\n",
            "  font.set_text(s, 0.0, flags=flags)\n",
            "/usr/local/lib/python3.7/dist-packages/matplotlib/backends/backend_agg.py:214: RuntimeWarning: Glyph 23481 missing from current font.\n",
            "  font.set_text(s, 0.0, flags=flags)\n",
            "/usr/local/lib/python3.7/dist-packages/matplotlib/backends/backend_agg.py:214: RuntimeWarning: Glyph 21457 missing from current font.\n",
            "  font.set_text(s, 0.0, flags=flags)\n",
            "/usr/local/lib/python3.7/dist-packages/matplotlib/backends/backend_agg.py:214: RuntimeWarning: Glyph 24215 missing from current font.\n",
            "  font.set_text(s, 0.0, flags=flags)\n",
            "/usr/local/lib/python3.7/dist-packages/matplotlib/backends/backend_agg.py:214: RuntimeWarning: Glyph 20844 missing from current font.\n",
            "  font.set_text(s, 0.0, flags=flags)\n",
            "/usr/local/lib/python3.7/dist-packages/matplotlib/backends/backend_agg.py:214: RuntimeWarning: Glyph 20132 missing from current font.\n",
            "  font.set_text(s, 0.0, flags=flags)\n",
            "/usr/local/lib/python3.7/dist-packages/matplotlib/backends/backend_agg.py:214: RuntimeWarning: Glyph 36710 missing from current font.\n",
            "  font.set_text(s, 0.0, flags=flags)\n",
            "/usr/local/lib/python3.7/dist-packages/matplotlib/backends/backend_agg.py:214: RuntimeWarning: Glyph 31449 missing from current font.\n",
            "  font.set_text(s, 0.0, flags=flags)\n",
            "/usr/local/lib/python3.7/dist-packages/matplotlib/backends/backend_agg.py:214: RuntimeWarning: Glyph 30456 missing from current font.\n",
            "  font.set_text(s, 0.0, flags=flags)\n",
            "/usr/local/lib/python3.7/dist-packages/matplotlib/backends/backend_agg.py:214: RuntimeWarning: Glyph 20851 missing from current font.\n",
            "  font.set_text(s, 0.0, flags=flags)\n",
            "/usr/local/lib/python3.7/dist-packages/matplotlib/backends/backend_agg.py:214: RuntimeWarning: Glyph 20013 missing from current font.\n",
            "  font.set_text(s, 0.0, flags=flags)\n",
            "/usr/local/lib/python3.7/dist-packages/matplotlib/backends/backend_agg.py:214: RuntimeWarning: Glyph 39184 missing from current font.\n",
            "  font.set_text(s, 0.0, flags=flags)\n",
            "/usr/local/lib/python3.7/dist-packages/matplotlib/backends/backend_agg.py:214: RuntimeWarning: Glyph 21381 missing from current font.\n",
            "  font.set_text(s, 0.0, flags=flags)\n",
            "/usr/local/lib/python3.7/dist-packages/matplotlib/backends/backend_agg.py:214: RuntimeWarning: Glyph 20849 missing from current font.\n",
            "  font.set_text(s, 0.0, flags=flags)\n",
            "/usr/local/lib/python3.7/dist-packages/matplotlib/backends/backend_agg.py:214: RuntimeWarning: Glyph 21397 missing from current font.\n",
            "  font.set_text(s, 0.0, flags=flags)\n",
            "/usr/local/lib/python3.7/dist-packages/matplotlib/backends/backend_agg.py:183: RuntimeWarning: Glyph 29983 missing from current font.\n",
            "  font.set_text(s, 0, flags=flags)\n",
            "/usr/local/lib/python3.7/dist-packages/matplotlib/backends/backend_agg.py:183: RuntimeWarning: Glyph 27963 missing from current font.\n",
            "  font.set_text(s, 0, flags=flags)\n",
            "/usr/local/lib/python3.7/dist-packages/matplotlib/backends/backend_agg.py:183: RuntimeWarning: Glyph 26381 missing from current font.\n",
            "  font.set_text(s, 0, flags=flags)\n",
            "/usr/local/lib/python3.7/dist-packages/matplotlib/backends/backend_agg.py:183: RuntimeWarning: Glyph 21153 missing from current font.\n",
            "  font.set_text(s, 0, flags=flags)\n",
            "/usr/local/lib/python3.7/dist-packages/matplotlib/backends/backend_agg.py:183: RuntimeWarning: Glyph 22330 missing from current font.\n",
            "  font.set_text(s, 0, flags=flags)\n",
            "/usr/local/lib/python3.7/dist-packages/matplotlib/backends/backend_agg.py:183: RuntimeWarning: Glyph 25152 missing from current font.\n",
            "  font.set_text(s, 0, flags=flags)\n",
            "/usr/local/lib/python3.7/dist-packages/matplotlib/backends/backend_agg.py:183: RuntimeWarning: Glyph 20020 missing from current font.\n",
            "  font.set_text(s, 0, flags=flags)\n",
            "/usr/local/lib/python3.7/dist-packages/matplotlib/backends/backend_agg.py:183: RuntimeWarning: Glyph 34903 missing from current font.\n",
            "  font.set_text(s, 0, flags=flags)\n",
            "/usr/local/lib/python3.7/dist-packages/matplotlib/backends/backend_agg.py:183: RuntimeWarning: Glyph 38498 missing from current font.\n",
            "  font.set_text(s, 0, flags=flags)\n",
            "/usr/local/lib/python3.7/dist-packages/matplotlib/backends/backend_agg.py:183: RuntimeWarning: Glyph 38376 missing from current font.\n",
            "  font.set_text(s, 0, flags=flags)\n",
            "/usr/local/lib/python3.7/dist-packages/matplotlib/backends/backend_agg.py:183: RuntimeWarning: Glyph 29289 missing from current font.\n",
            "  font.set_text(s, 0, flags=flags)\n",
            "/usr/local/lib/python3.7/dist-packages/matplotlib/backends/backend_agg.py:183: RuntimeWarning: Glyph 27969 missing from current font.\n",
            "  font.set_text(s, 0, flags=flags)\n",
            "/usr/local/lib/python3.7/dist-packages/matplotlib/backends/backend_agg.py:183: RuntimeWarning: Glyph 36895 missing from current font.\n",
            "  font.set_text(s, 0, flags=flags)\n",
            "/usr/local/lib/python3.7/dist-packages/matplotlib/backends/backend_agg.py:183: RuntimeWarning: Glyph 36882 missing from current font.\n",
            "  font.set_text(s, 0, flags=flags)\n",
            "/usr/local/lib/python3.7/dist-packages/matplotlib/backends/backend_agg.py:183: RuntimeWarning: Glyph 32654 missing from current font.\n",
            "  font.set_text(s, 0, flags=flags)\n",
            "/usr/local/lib/python3.7/dist-packages/matplotlib/backends/backend_agg.py:183: RuntimeWarning: Glyph 23481 missing from current font.\n",
            "  font.set_text(s, 0, flags=flags)\n",
            "/usr/local/lib/python3.7/dist-packages/matplotlib/backends/backend_agg.py:183: RuntimeWarning: Glyph 21457 missing from current font.\n",
            "  font.set_text(s, 0, flags=flags)\n",
            "/usr/local/lib/python3.7/dist-packages/matplotlib/backends/backend_agg.py:183: RuntimeWarning: Glyph 24215 missing from current font.\n",
            "  font.set_text(s, 0, flags=flags)\n",
            "/usr/local/lib/python3.7/dist-packages/matplotlib/backends/backend_agg.py:183: RuntimeWarning: Glyph 20844 missing from current font.\n",
            "  font.set_text(s, 0, flags=flags)\n",
            "/usr/local/lib/python3.7/dist-packages/matplotlib/backends/backend_agg.py:183: RuntimeWarning: Glyph 20132 missing from current font.\n",
            "  font.set_text(s, 0, flags=flags)\n",
            "/usr/local/lib/python3.7/dist-packages/matplotlib/backends/backend_agg.py:183: RuntimeWarning: Glyph 36710 missing from current font.\n",
            "  font.set_text(s, 0, flags=flags)\n",
            "/usr/local/lib/python3.7/dist-packages/matplotlib/backends/backend_agg.py:183: RuntimeWarning: Glyph 31449 missing from current font.\n",
            "  font.set_text(s, 0, flags=flags)\n",
            "/usr/local/lib/python3.7/dist-packages/matplotlib/backends/backend_agg.py:183: RuntimeWarning: Glyph 30456 missing from current font.\n",
            "  font.set_text(s, 0, flags=flags)\n",
            "/usr/local/lib/python3.7/dist-packages/matplotlib/backends/backend_agg.py:183: RuntimeWarning: Glyph 20851 missing from current font.\n",
            "  font.set_text(s, 0, flags=flags)\n",
            "/usr/local/lib/python3.7/dist-packages/matplotlib/backends/backend_agg.py:183: RuntimeWarning: Glyph 20013 missing from current font.\n",
            "  font.set_text(s, 0, flags=flags)\n",
            "/usr/local/lib/python3.7/dist-packages/matplotlib/backends/backend_agg.py:183: RuntimeWarning: Glyph 39184 missing from current font.\n",
            "  font.set_text(s, 0, flags=flags)\n",
            "/usr/local/lib/python3.7/dist-packages/matplotlib/backends/backend_agg.py:183: RuntimeWarning: Glyph 21381 missing from current font.\n",
            "  font.set_text(s, 0, flags=flags)\n",
            "/usr/local/lib/python3.7/dist-packages/matplotlib/backends/backend_agg.py:183: RuntimeWarning: Glyph 20849 missing from current font.\n",
            "  font.set_text(s, 0, flags=flags)\n",
            "/usr/local/lib/python3.7/dist-packages/matplotlib/backends/backend_agg.py:183: RuntimeWarning: Glyph 21397 missing from current font.\n",
            "  font.set_text(s, 0, flags=flags)\n"
          ]
        },
        {
          "output_type": "display_data",
          "data": {
            "image/png": "[encoded data removed]",
            "text/plain": [
              "<Figure size 432x288 with 2 Axes>"
            ]
          },
          "metadata": {
            "needs_background": "light"
          }
        },
        {
          "output_type": "stream",
          "name": "stdout",
          "text": [
            "torch.Size([11, 11])\n"
          ]
        }
      ]
    },
    {
      "cell_type": "code",
      "metadata": {
        "id": "eaIimpvqqF3H",
        "colab": {
          "base_uri": "https://localhost:8080/",
          "height": 35
        },
        "outputId": "f688efc2-c481-41c3-8cd9-cacb0e6e3918"
      },
      "source": [
        "# input = tree plant house window car land street billboard tire\n",
        "# output = 生活服务场所 生活服务场所 临街院门 物流速递 美容美发店 公交车站相关 中餐厅 中餐厅 公共厕所 公交车站相关 <EOS>\n",
        "pairs[0][1]"
      ],
      "execution_count": null,
      "outputs": [
        {
          "output_type": "execute_result",
          "data": {
            "application/vnd.google.colaboratory.intrinsic+json": {
              "type": "string"
            },
            "text/plain": [
              "'物流速递 住宅小区 美容美发店 公司 诊所 乡镇以下级政府及事业单位 中餐厅 汽车维修 路口名 生活服务场所'"
            ]
          },
          "metadata": {},
          "execution_count": 98
        }
      ]
    },
    {
      "cell_type": "markdown",
      "metadata": {
        "id": "xnassm-4p5iv"
      },
      "source": [
        "生活服务场所',\n",
        " '生活服务场所',\n",
        " '临街院门',\n",
        " '临街院门',\n",
        " '临街院门',\n",
        " '公司',\n",
        " '公司企业',\n",
        " '中餐厅',\n",
        " '住宅小区',\n",
        " '美容美发店'"
      ]
    },
    {
      "cell_type": "code",
      "metadata": {
        "id": "psf15AAsYEK7",
        "colab": {
          "base_uri": "https://localhost:8080/"
        },
        "outputId": "23a3310d-0fdb-4307-e512-cfa626b5dff1"
      },
      "source": [
        "evaluate(encoder1, attn_decoder1, 'window tree house plant building bicycle wheel footwear chair person', 11)"
      ],
      "execution_count": null,
      "outputs": [
        {
          "output_type": "stream",
          "name": "stdout",
          "text": [
            "------\n",
            "tensor([[ 0.0790,  0.0236,  0.8653,  ...,  0.0053,  0.8894, -0.8973],\n",
            "        [ 0.0685,  0.9930,  0.8529,  ...,  0.8694,  0.9790, -0.8895],\n",
            "        [ 0.2357, -0.9999,  0.8798,  ...,  0.8694,  0.9998, -0.8848],\n",
            "        ...,\n",
            "        [-0.0557, -0.9592, -0.3965,  ..., -0.9988, -0.9985,  0.9242],\n",
            "        [ 0.1211, -0.9602, -0.3565,  ..., -0.9966, -0.9889,  0.9945],\n",
            "        [ 0.1798, -0.8808, -0.3669,  ..., -0.9962, -0.9889,  0.9877]],\n",
            "       device='cuda:0')\n"
          ]
        },
        {
          "output_type": "execute_result",
          "data": {
            "text/plain": [
              "(['临街院门', '宿舍', '宿舍', '宿舍', '宿舍', '宿舍', '宿舍', '宿舍', '住宅小区', '住宅小区', '<EOS>'],\n",
              " tensor([[2.2393e-06, 3.2467e-06, 9.9996e-01, 4.8955e-07, 4.6633e-09, 9.6390e-07,\n",
              "          1.6922e-06, 3.1064e-06, 2.7785e-06, 4.2962e-07, 2.5152e-05],\n",
              "         [3.0125e-04, 4.2988e-03, 1.3938e-02, 4.1878e-04, 7.6659e-05, 9.2005e-01,\n",
              "          2.6907e-02, 2.6920e-03, 2.1858e-02, 8.6405e-03, 8.1602e-04],\n",
              "         [1.1196e-06, 9.7818e-01, 3.4284e-03, 3.8725e-05, 7.9162e-05, 6.0511e-03,\n",
              "          4.3512e-03, 5.0000e-03, 1.7401e-03, 8.3514e-04, 2.9310e-04],\n",
              "         [4.9101e-08, 9.8860e-01, 1.0897e-03, 3.1485e-04, 1.0150e-03, 2.0957e-03,\n",
              "          9.9162e-04, 4.7885e-03, 5.5231e-04, 3.9840e-04, 1.5851e-04],\n",
              "         [1.0063e-07, 9.8104e-01, 4.0160e-03, 1.5332e-04, 8.6301e-03, 1.6908e-03,\n",
              "          5.5749e-04, 2.8607e-03, 3.9706e-04, 4.2866e-04, 2.2431e-04],\n",
              "         [1.5419e-07, 9.6955e-01, 1.1856e-02, 1.7590e-03, 7.3301e-03, 6.2769e-03,\n",
              "          2.1016e-04, 2.0344e-03, 4.2108e-04, 4.3242e-04, 1.3028e-04],\n",
              "         [1.9377e-07, 9.1414e-01, 1.4247e-02, 2.0318e-03, 5.9225e-02, 3.7796e-03,\n",
              "          5.2554e-04, 3.9248e-03, 1.0190e-03, 8.3101e-04, 2.7822e-04],\n",
              "         [9.8040e-07, 8.5935e-01, 2.6005e-02, 9.1147e-04, 9.2816e-02, 5.4364e-03,\n",
              "          6.1430e-04, 1.1063e-02, 2.7384e-03, 7.7809e-04, 2.8457e-04],\n",
              "         [2.4451e-06, 9.4225e-01, 2.7160e-02, 5.5512e-04, 4.3714e-03, 1.2836e-02,\n",
              "          1.7056e-03, 5.8280e-03, 3.5758e-03, 1.0231e-03, 6.8862e-04],\n",
              "         [9.9721e-06, 8.0005e-06, 1.6391e-04, 1.9456e-04, 9.9894e-01, 1.6816e-04,\n",
              "          2.8684e-04, 1.6174e-04, 2.1438e-05, 4.1983e-05, 5.1846e-06],\n",
              "         [3.2073e-05, 2.0307e-05, 6.3980e-05, 5.1619e-05, 9.9798e-01, 7.3045e-05,\n",
              "          1.2549e-03, 4.8002e-04, 1.8528e-05, 1.3574e-05, 1.2456e-05]]),\n",
              " tensor([[ 0.0790,  0.0236,  0.8653,  ...,  0.0053,  0.8894, -0.8973],\n",
              "         [ 0.0685,  0.9930,  0.8529,  ...,  0.8694,  0.9790, -0.8895],\n",
              "         [ 0.2357, -0.9999,  0.8798,  ...,  0.8694,  0.9998, -0.8848],\n",
              "         ...,\n",
              "         [-0.0557, -0.9592, -0.3965,  ..., -0.9988, -0.9985,  0.9242],\n",
              "         [ 0.1211, -0.9602, -0.3565,  ..., -0.9966, -0.9889,  0.9945],\n",
              "         [ 0.1798, -0.8808, -0.3669,  ..., -0.9962, -0.9889,  0.9877]],\n",
              "        device='cuda:0'))"
            ]
          },
          "metadata": {},
          "execution_count": 99
        }
      ]
    },
    {
      "cell_type": "code",
      "metadata": {
        "id": "cApMGg_Wlb9x"
      },
      "source": [
        ""
      ],
      "execution_count": null,
      "outputs": []
    },
    {
      "cell_type": "markdown",
      "metadata": {
        "id": "26eQXeUflb9x"
      },
      "source": [
        "Visualizing Attention\n",
        "---------------------\n",
        "\n",
        "A useful property of the attention mechanism is its highly interpretable\n",
        "outputs. Because it is used to weight specific encoder outputs of the\n",
        "input sequence, we can imagine looking where the network is focused most\n",
        "at each time step.\n",
        "\n",
        "You could simply run ``plt.matshow(attentions)`` to see attention output\n",
        "displayed as a matrix, with the columns being input steps and rows being\n",
        "output steps:\n",
        "\n",
        "\n"
      ]
    },
    {
      "cell_type": "code",
      "metadata": {
        "id": "yVZLqBJA1U_8"
      },
      "source": [
        "torch.save(encoder1, '/content/drive/MyDrive/encoder1')\n",
        "torch.save(attn_decoder1, '/content/drive/MyDrive/attn_decoder1')"
      ],
      "execution_count": null,
      "outputs": []
    },
    {
      "cell_type": "markdown",
      "metadata": {
        "id": "R0F9iNebuP8c"
      },
      "source": [
        "明天测试 输出中间结果"
      ]
    },
    {
      "cell_type": "code",
      "metadata": {
        "id": "0GB-xgAk1j3z"
      },
      "source": [
        "encoder1 = torch.load('/content/encoder1')\n",
        "attn_decoder1 = torch.load('/content/attn_decoder1')\n",
        "# model.eval()"
      ],
      "execution_count": null,
      "outputs": []
    },
    {
      "cell_type": "code",
      "metadata": {
        "id": "uzlgQCoBj27f"
      },
      "source": [
        "evaluateRandomly(encoder1, attn_decoder1)"
      ],
      "execution_count": null,
      "outputs": []
    },
    {
      "cell_type": "code",
      "metadata": {
        "colab": {
          "base_uri": "https://localhost:8080/"
        },
        "id": "jbRVAmonmGvx",
        "outputId": "74323cc4-508c-4545-c1ea-a51c5ae58ee3"
      },
      "source": [
        "len(output_words)\n",
        "output_words"
      ],
      "execution_count": null,
      "outputs": [
        {
          "output_type": "execute_result",
          "data": {
            "text/plain": [
              "['linjieyuanmen',\n",
              " 'linjieyuanmen',\n",
              " 'linjieyuanmen',\n",
              " 'shenghuofuwuchangsuo',\n",
              " 'shenghuofuwuchangsuo',\n",
              " 'shenghuofuwuchangsuo',\n",
              " 'shenghuofuwuchangsuo',\n",
              " 'shenghuofuwuchangsuo',\n",
              " 'shenghuofuwuchangsuo',\n",
              " 'shenghuofuwuchangsuo',\n",
              " '<EOS>']"
            ]
          },
          "metadata": {},
          "execution_count": 127
        }
      ]
    },
    {
      "cell_type": "code",
      "metadata": {
        "id": "CIMJxSeFWG4q",
        "colab": {
          "base_uri": "https://localhost:8080/"
        },
        "outputId": "ee198af0-325f-4b1a-add4-b7980f4f3266"
      },
      "source": [
        "pairs[0]"
      ],
      "execution_count": null,
      "outputs": [
        {
          "output_type": "execute_result",
          "data": {
            "text/plain": [
              "['tree plant house window car land street billboard tire',\n",
              " '公交车站相关 美容美发店 快餐厅 工厂 维修站点 中餐厅 摩托车维修 清真菜馆 美容美发店 美容美发店']"
            ]
          },
          "metadata": {},
          "execution_count": 82
        }
      ]
    },
    {
      "cell_type": "code",
      "metadata": {
        "id": "X9RIw6f4lb9x",
        "colab": {
          "base_uri": "https://localhost:8080/",
          "height": 293
        },
        "outputId": "a995d0ed-e732-4378-aaf7-fa6521a71936"
      },
      "source": [
        "%matplotlib inline\n",
        "MAX_LENGTH=10\n",
        "output_words, attentions = evaluate(\n",
        "    encoder1, attn_decoder1,pairs[0][0])\n",
        "\n",
        "plt.matshow(attentions.numpy())\n",
        "# plt.show()"
      ],
      "execution_count": null,
      "outputs": [
        {
          "output_type": "execute_result",
          "data": {
            "text/plain": [
              "<matplotlib.image.AxesImage at 0x7f0f8eef15d0>"
            ]
          },
          "metadata": {},
          "execution_count": 84
        },
        {
          "output_type": "display_data",
          "data": {
            "image/png": "[encoded data removed]",
            "text/plain": [
              "<Figure size 288x288 with 1 Axes>"
            ]
          },
          "metadata": {
            "needs_background": "light"
          }
        }
      ]
    },
    {
      "cell_type": "code",
      "metadata": {
        "colab": {
          "base_uri": "https://localhost:8080/"
        },
        "id": "wWTSrqQikk3l",
        "outputId": "e3c3ba7e-78cb-4d54-c4a6-9f1ad942c88d"
      },
      "source": [
        "pairs[0]"
      ],
      "execution_count": null,
      "outputs": [
        {
          "output_type": "execute_result",
          "data": {
            "text/plain": [
              "['car tree tree car treecar tree tree tree treecar tree tree tree treetree tree tree tree tree',\n",
              " 'gongjiaochezhanxiangguan meirongmeifadian kuaicanting gongchang weixiuzhandian zhongcanting motuocheweixiu qingzhencaiguan meirongmeifadian meirongmeifadian']"
            ]
          },
          "metadata": {},
          "execution_count": 107
        }
      ]
    },
    {
      "cell_type": "markdown",
      "metadata": {
        "id": "sw8gOHsqlb9y"
      },
      "source": [
        "For a better viewing experience we will do the extra work of adding axes\n",
        "and labels:\n",
        "\n",
        "\n"
      ]
    },
    {
      "cell_type": "code",
      "metadata": {
        "id": "alLDfnQHlYti"
      },
      "source": [
        "# attentions.numpy()"
      ],
      "execution_count": null,
      "outputs": []
    },
    {
      "cell_type": "code",
      "metadata": {
        "id": "B3nejK_blb9y",
        "colab": {
          "base_uri": "https://localhost:8080/",
          "height": 932
        },
        "outputId": "7957e3d0-f7f0-418b-c937-09ed7b383a60"
      },
      "source": [
        "def showAttention(input_sentence, output_words, attentions):\n",
        "    # Set up figure with colorbar\n",
        "    fig = plt.figure()\n",
        "    ax = fig.add_subplot(111)\n",
        "    cax = ax.matshow(attentions.numpy(), cmap='bone')\n",
        "    fig.colorbar(cax)\n",
        "\n",
        "    # Set up axes\n",
        "    ax.set_xticklabels([''] + input_sentence.split(' ') +\n",
        "                       ['<EOS>'], rotation=90)\n",
        "    ax.set_yticklabels([''] + output_words)\n",
        "\n",
        "    # Show label at every tick\n",
        "    ax.xaxis.set_major_locator(ticker.MultipleLocator(1))\n",
        "    ax.yaxis.set_major_locator(ticker.MultipleLocator(1))\n",
        "\n",
        "    plt.show()\n",
        "\n",
        "\n",
        "def evaluateAndShowAttention(input_sentence):\n",
        "    output_words, attentions = evaluate(\n",
        "        encoder1, attn_decoder1, input_sentence)\n",
        "    print('input =', input_sentence)\n",
        "    print('output =', ' '.join(output_words))\n",
        "    showAttention(input_sentence, output_words, attentions)\n",
        "\n",
        "    print(attentions.shape)\n",
        "\n",
        "\n",
        "evaluateAndShowAttention(pairs[0][0])"
      ],
      "execution_count": null,
      "outputs": [
        {
          "output_type": "stream",
          "name": "stdout",
          "text": [
            "input = tree plant house window car land street billboard tire\n",
            "output = 临街院门 住宅小区 临街院门 临街院门 临街院门 临街院门 住宅小区 住宅小区 住宅小区 住宅小区 <EOS>\n"
          ]
        },
        {
          "output_type": "stream",
          "name": "stderr",
          "text": [
            "/usr/local/lib/python3.7/dist-packages/matplotlib/backends/backend_agg.py:214: RuntimeWarning: Glyph 20020 missing from current font.\n",
            "  font.set_text(s, 0.0, flags=flags)\n",
            "/usr/local/lib/python3.7/dist-packages/matplotlib/backends/backend_agg.py:214: RuntimeWarning: Glyph 34903 missing from current font.\n",
            "  font.set_text(s, 0.0, flags=flags)\n",
            "/usr/local/lib/python3.7/dist-packages/matplotlib/backends/backend_agg.py:214: RuntimeWarning: Glyph 38498 missing from current font.\n",
            "  font.set_text(s, 0.0, flags=flags)\n",
            "/usr/local/lib/python3.7/dist-packages/matplotlib/backends/backend_agg.py:214: RuntimeWarning: Glyph 38376 missing from current font.\n",
            "  font.set_text(s, 0.0, flags=flags)\n",
            "/usr/local/lib/python3.7/dist-packages/matplotlib/backends/backend_agg.py:214: RuntimeWarning: Glyph 20303 missing from current font.\n",
            "  font.set_text(s, 0.0, flags=flags)\n",
            "/usr/local/lib/python3.7/dist-packages/matplotlib/backends/backend_agg.py:214: RuntimeWarning: Glyph 23429 missing from current font.\n",
            "  font.set_text(s, 0.0, flags=flags)\n",
            "/usr/local/lib/python3.7/dist-packages/matplotlib/backends/backend_agg.py:214: RuntimeWarning: Glyph 23567 missing from current font.\n",
            "  font.set_text(s, 0.0, flags=flags)\n",
            "/usr/local/lib/python3.7/dist-packages/matplotlib/backends/backend_agg.py:214: RuntimeWarning: Glyph 21306 missing from current font.\n",
            "  font.set_text(s, 0.0, flags=flags)\n",
            "/usr/local/lib/python3.7/dist-packages/matplotlib/backends/backend_agg.py:183: RuntimeWarning: Glyph 20020 missing from current font.\n",
            "  font.set_text(s, 0, flags=flags)\n",
            "/usr/local/lib/python3.7/dist-packages/matplotlib/backends/backend_agg.py:183: RuntimeWarning: Glyph 34903 missing from current font.\n",
            "  font.set_text(s, 0, flags=flags)\n",
            "/usr/local/lib/python3.7/dist-packages/matplotlib/backends/backend_agg.py:183: RuntimeWarning: Glyph 38498 missing from current font.\n",
            "  font.set_text(s, 0, flags=flags)\n",
            "/usr/local/lib/python3.7/dist-packages/matplotlib/backends/backend_agg.py:183: RuntimeWarning: Glyph 38376 missing from current font.\n",
            "  font.set_text(s, 0, flags=flags)\n",
            "/usr/local/lib/python3.7/dist-packages/matplotlib/backends/backend_agg.py:183: RuntimeWarning: Glyph 20303 missing from current font.\n",
            "  font.set_text(s, 0, flags=flags)\n",
            "/usr/local/lib/python3.7/dist-packages/matplotlib/backends/backend_agg.py:183: RuntimeWarning: Glyph 23429 missing from current font.\n",
            "  font.set_text(s, 0, flags=flags)\n",
            "/usr/local/lib/python3.7/dist-packages/matplotlib/backends/backend_agg.py:183: RuntimeWarning: Glyph 23567 missing from current font.\n",
            "  font.set_text(s, 0, flags=flags)\n",
            "/usr/local/lib/python3.7/dist-packages/matplotlib/backends/backend_agg.py:183: RuntimeWarning: Glyph 21306 missing from current font.\n",
            "  font.set_text(s, 0, flags=flags)\n"
          ]
        },
        {
          "output_type": "display_data",
          "data": {
            "image/png": "[encoded data removed]",
            "text/plain": [
              "<Figure size 432x288 with 2 Axes>"
            ]
          },
          "metadata": {
            "needs_background": "light"
          }
        },
        {
          "output_type": "stream",
          "name": "stdout",
          "text": [
            "torch.Size([11, 11])\n"
          ]
        }
      ]
    },
    {
      "cell_type": "code",
      "metadata": {
        "colab": {
          "base_uri": "https://localhost:8080/",
          "height": 1000
        },
        "id": "et0fsLa5lKQn",
        "outputId": "b5dd1fa4-a3ac-4d5b-9479-de260e811b99"
      },
      "source": [
        "evaluateAndShowAttention('car tree tree car tree land vehicle truck house')\n"
      ],
      "execution_count": null,
      "outputs": [
        {
          "output_type": "stream",
          "name": "stdout",
          "text": [
            "input = car tree tree car tree land vehicle truck house\n",
            "output = 公交车站相关 公交车站相关 公交车站相关 临街院门 临街院门 临街院门 临街院门 临街院门 住宅小区 住宅小区 <EOS>\n"
          ]
        },
        {
          "output_type": "stream",
          "name": "stderr",
          "text": [
            "/usr/local/lib/python3.7/dist-packages/matplotlib/backends/backend_agg.py:214: RuntimeWarning: Glyph 20844 missing from current font.\n",
            "  font.set_text(s, 0.0, flags=flags)\n",
            "/usr/local/lib/python3.7/dist-packages/matplotlib/backends/backend_agg.py:214: RuntimeWarning: Glyph 20132 missing from current font.\n",
            "  font.set_text(s, 0.0, flags=flags)\n",
            "/usr/local/lib/python3.7/dist-packages/matplotlib/backends/backend_agg.py:214: RuntimeWarning: Glyph 36710 missing from current font.\n",
            "  font.set_text(s, 0.0, flags=flags)\n",
            "/usr/local/lib/python3.7/dist-packages/matplotlib/backends/backend_agg.py:214: RuntimeWarning: Glyph 31449 missing from current font.\n",
            "  font.set_text(s, 0.0, flags=flags)\n",
            "/usr/local/lib/python3.7/dist-packages/matplotlib/backends/backend_agg.py:214: RuntimeWarning: Glyph 30456 missing from current font.\n",
            "  font.set_text(s, 0.0, flags=flags)\n",
            "/usr/local/lib/python3.7/dist-packages/matplotlib/backends/backend_agg.py:214: RuntimeWarning: Glyph 20851 missing from current font.\n",
            "  font.set_text(s, 0.0, flags=flags)\n",
            "/usr/local/lib/python3.7/dist-packages/matplotlib/backends/backend_agg.py:214: RuntimeWarning: Glyph 20020 missing from current font.\n",
            "  font.set_text(s, 0.0, flags=flags)\n",
            "/usr/local/lib/python3.7/dist-packages/matplotlib/backends/backend_agg.py:214: RuntimeWarning: Glyph 34903 missing from current font.\n",
            "  font.set_text(s, 0.0, flags=flags)\n",
            "/usr/local/lib/python3.7/dist-packages/matplotlib/backends/backend_agg.py:214: RuntimeWarning: Glyph 38498 missing from current font.\n",
            "  font.set_text(s, 0.0, flags=flags)\n",
            "/usr/local/lib/python3.7/dist-packages/matplotlib/backends/backend_agg.py:214: RuntimeWarning: Glyph 38376 missing from current font.\n",
            "  font.set_text(s, 0.0, flags=flags)\n",
            "/usr/local/lib/python3.7/dist-packages/matplotlib/backends/backend_agg.py:214: RuntimeWarning: Glyph 20303 missing from current font.\n",
            "  font.set_text(s, 0.0, flags=flags)\n",
            "/usr/local/lib/python3.7/dist-packages/matplotlib/backends/backend_agg.py:214: RuntimeWarning: Glyph 23429 missing from current font.\n",
            "  font.set_text(s, 0.0, flags=flags)\n",
            "/usr/local/lib/python3.7/dist-packages/matplotlib/backends/backend_agg.py:214: RuntimeWarning: Glyph 23567 missing from current font.\n",
            "  font.set_text(s, 0.0, flags=flags)\n",
            "/usr/local/lib/python3.7/dist-packages/matplotlib/backends/backend_agg.py:214: RuntimeWarning: Glyph 21306 missing from current font.\n",
            "  font.set_text(s, 0.0, flags=flags)\n",
            "/usr/local/lib/python3.7/dist-packages/matplotlib/backends/backend_agg.py:183: RuntimeWarning: Glyph 20844 missing from current font.\n",
            "  font.set_text(s, 0, flags=flags)\n",
            "/usr/local/lib/python3.7/dist-packages/matplotlib/backends/backend_agg.py:183: RuntimeWarning: Glyph 20132 missing from current font.\n",
            "  font.set_text(s, 0, flags=flags)\n",
            "/usr/local/lib/python3.7/dist-packages/matplotlib/backends/backend_agg.py:183: RuntimeWarning: Glyph 36710 missing from current font.\n",
            "  font.set_text(s, 0, flags=flags)\n",
            "/usr/local/lib/python3.7/dist-packages/matplotlib/backends/backend_agg.py:183: RuntimeWarning: Glyph 31449 missing from current font.\n",
            "  font.set_text(s, 0, flags=flags)\n",
            "/usr/local/lib/python3.7/dist-packages/matplotlib/backends/backend_agg.py:183: RuntimeWarning: Glyph 30456 missing from current font.\n",
            "  font.set_text(s, 0, flags=flags)\n",
            "/usr/local/lib/python3.7/dist-packages/matplotlib/backends/backend_agg.py:183: RuntimeWarning: Glyph 20851 missing from current font.\n",
            "  font.set_text(s, 0, flags=flags)\n",
            "/usr/local/lib/python3.7/dist-packages/matplotlib/backends/backend_agg.py:183: RuntimeWarning: Glyph 20020 missing from current font.\n",
            "  font.set_text(s, 0, flags=flags)\n",
            "/usr/local/lib/python3.7/dist-packages/matplotlib/backends/backend_agg.py:183: RuntimeWarning: Glyph 34903 missing from current font.\n",
            "  font.set_text(s, 0, flags=flags)\n",
            "/usr/local/lib/python3.7/dist-packages/matplotlib/backends/backend_agg.py:183: RuntimeWarning: Glyph 38498 missing from current font.\n",
            "  font.set_text(s, 0, flags=flags)\n",
            "/usr/local/lib/python3.7/dist-packages/matplotlib/backends/backend_agg.py:183: RuntimeWarning: Glyph 38376 missing from current font.\n",
            "  font.set_text(s, 0, flags=flags)\n",
            "/usr/local/lib/python3.7/dist-packages/matplotlib/backends/backend_agg.py:183: RuntimeWarning: Glyph 20303 missing from current font.\n",
            "  font.set_text(s, 0, flags=flags)\n",
            "/usr/local/lib/python3.7/dist-packages/matplotlib/backends/backend_agg.py:183: RuntimeWarning: Glyph 23429 missing from current font.\n",
            "  font.set_text(s, 0, flags=flags)\n",
            "/usr/local/lib/python3.7/dist-packages/matplotlib/backends/backend_agg.py:183: RuntimeWarning: Glyph 23567 missing from current font.\n",
            "  font.set_text(s, 0, flags=flags)\n",
            "/usr/local/lib/python3.7/dist-packages/matplotlib/backends/backend_agg.py:183: RuntimeWarning: Glyph 21306 missing from current font.\n",
            "  font.set_text(s, 0, flags=flags)\n"
          ]
        },
        {
          "output_type": "display_data",
          "data": {
            "image/png": "[encoded data removed]",
            "text/plain": [
              "<Figure size 432x288 with 2 Axes>"
            ]
          },
          "metadata": {
            "needs_background": "light"
          }
        },
        {
          "output_type": "stream",
          "name": "stdout",
          "text": [
            "torch.Size([11, 11])\n"
          ]
        }
      ]
    },
    {
      "cell_type": "markdown",
      "metadata": {
        "id": "QM_7QOcvlb9y"
      },
      "source": [
        "Exercises\n",
        "=========\n",
        "\n",
        "-  Try with a different dataset\n",
        "\n",
        "   -  Another language pair\n",
        "   -  Human → Machine (e.g. IOT commands)\n",
        "   -  Chat → Response\n",
        "   -  Question → Answer\n",
        "\n",
        "-  Replace the embeddings with pre-trained word embeddings such as word2vec or\n",
        "   GloVe\n",
        "-  Try with more layers, more hidden units, and more sentences. Compare\n",
        "   the training time and results.\n",
        "-  If you use a translation file where pairs have two of the same phrase\n",
        "   (``I am test \\t I am test``), you can use this as an autoencoder. Try\n",
        "   this:\n",
        "\n",
        "   -  Train as an autoencoder\n",
        "   -  Save only the Encoder network\n",
        "   -  Train a new Decoder for translation from there\n",
        "\n",
        "\n"
      ]
    },
    {
      "cell_type": "markdown",
      "metadata": {
        "id": "BtVB34UC1Exk"
      },
      "source": [
        "尝试使用其他数据集\n",
        "另一对语言\n",
        "人类→ 机器（如物联网命令）\n",
        "聊天→ 回应\n",
        "问题:→ 答复\n",
        "用预先训练过的单词嵌入替换嵌入，如word2vec或GloVe\n",
        "尝试使用更多的层次、更多的隐藏单位和更多的句子。比较训练时间和结果。\n",
        "如果使用一个翻译文件，其中对具有两个相同短语（I am test\\t I am test），则可以将其用作自动编码器。试试这个：\n",
        "作为自动编码器训练\n",
        "仅保存编码器网络\n",
        "从那里训练一个新的译码器进行翻译"
      ]
    },
    {
      "cell_type": "markdown",
      "metadata": {
        "id": "scADqDy2fiT5"
      },
      "source": [
        "最后一部分我们来进行精度验证 基于rouge的方法"
      ]
    },
    {
      "cell_type": "code",
      "metadata": {
        "id": "a5s6KhzCfwJG"
      },
      "source": [
        "from keras.preprocessing.text import Tokenizer\n",
        "\n",
        "import keras \n",
        "\n",
        "tokenizer = Tokenizer()\n",
        "text = [' '.join(catetypes)]\n",
        "tokenizer.fit_on_texts(text)\n",
        "\n",
        "keras.preprocessing.sequence.pad_sequences(tokenizer.texts_to_sequences([\"下 雨 我 加班\"]), maxlen=2,padding='post',truncating='post')"
      ],
      "execution_count": null,
      "outputs": []
    },
    {
      "cell_type": "code",
      "metadata": {
        "id": "JCojwgxIlQ6b"
      },
      "source": [
        ""
      ],
      "execution_count": null,
      "outputs": []
    },
    {
      "cell_type": "code",
      "metadata": {
        "id": "6uGlJQMqti5N",
        "outputId": "1904df6f-892f-42d3-a9d2-6d19814efdf3",
        "colab": {
          "base_uri": "https://localhost:8080/"
        }
      },
      "source": [
        "!pip install rouge-score\n",
        "from rouge_score import rouge_scorer\n",
        "\n",
        "\n",
        "from __future__ import absolute_import\n",
        "from __future__ import division\n",
        "from __future__ import print_function\n",
        "\n",
        "import collections\n",
        "import re\n",
        "\n",
        "from nltk.stem import porter\n",
        "import six\n",
        "from six.moves import map\n",
        "from six.moves import range\n",
        "from rouge_score import scoring\n",
        "# from rouge_score import tokenize\n",
        "\n",
        "\n",
        "class RougeScorer(scoring.BaseScorer):\n",
        "  \"\"\"Calculate rouges scores between two blobs of text.\n",
        "\n",
        "  Sample usage:\n",
        "    scorer = RougeScorer(['rouge1', 'rougeL'], use_stemmer=True)\n",
        "    scores = scorer.score('The quick brown fox jumps over the lazy dog',\n",
        "                          'The quick brown dog jumps on the log.')\n",
        "  \"\"\"\n",
        "\n",
        "  def __init__(self, rouge_types, use_stemmer=False):\n",
        "    \"\"\"Initializes a new RougeScorer.\n",
        "\n",
        "    Valid rouge types that can be computed are:\n",
        "      rougen (e.g. rouge1, rouge2): n-gram based scoring.\n",
        "      rougeL: Longest common subsequence based scoring.\n",
        "\n",
        "    Args:\n",
        "      rouge_types: A list of rouge types to calculate.\n",
        "      use_stemmer: Bool indicating whether Porter stemmer should be used to\n",
        "        strip word suffixes to improve matching.\n",
        "    Returns:\n",
        "      A dict mapping rouge types to Score tuples.\n",
        "    \"\"\"\n",
        "\n",
        "    self.rouge_types = rouge_types\n",
        "    self._stemmer = porter.PorterStemmer() if use_stemmer else None\n",
        "\n",
        "  def score(self, target, prediction):\n",
        "    \"\"\"Calculates rouge scores between the target and prediction.\n",
        "\n",
        "    Args:\n",
        "      target: Text containing the target (ground truth) text.\n",
        "      prediction: Text containing the predicted text.\n",
        "    Returns:\n",
        "      A dict mapping each rouge type to a Score object.\n",
        "    Raises:\n",
        "      ValueError: If an invalid rouge type is encountered.\n",
        "    \"\"\"\n",
        "\n",
        "    target_tokens = tokenize(target, self._stemmer)\n",
        "    prediction_tokens = tokenize(prediction, self._stemmer)\n",
        "    result = {}\n",
        "\n",
        "    for rouge_type in self.rouge_types:\n",
        "      if rouge_type == \"rougeL\":\n",
        "        # Rouge from longest common subsequences.\n",
        "        scores = _score_lcs(target_tokens, prediction_tokens)\n",
        "      elif rouge_type == \"rougeLsum\":\n",
        "        # Note: Does not support multi-line text.\n",
        "        def get_sents(text):\n",
        "          # Assume sentences are separated by newline.\n",
        "          sents = six.ensure_str(text).split(\"\\n\")\n",
        "          sents = [x for x in sents if len(x)]\n",
        "          return sents\n",
        "\n",
        "        target_tokens_list = [\n",
        "            tokenize(s, self._stemmer) for s in get_sents(target)]\n",
        "        prediction_tokens_list = [\n",
        "            tokenize(s, self._stemmer) for s in get_sents(prediction)]\n",
        "        scores = _summary_level_lcs(target_tokens_list,\n",
        "                                    prediction_tokens_list)\n",
        "      elif re.match(r\"rouge[0-9]$\", six.ensure_str(rouge_type)):\n",
        "        # Rouge from n-grams.\n",
        "        n = int(rouge_type[5:])\n",
        "        if n <= 0:\n",
        "          raise ValueError(\"rougen requires positive n: %s\" % rouge_type)\n",
        "        target_ngrams = _create_ngrams(target_tokens, n)\n",
        "        prediction_ngrams = _create_ngrams(prediction_tokens, n)\n",
        "        scores = _score_ngrams(target_ngrams, prediction_ngrams)\n",
        "      else:\n",
        "        raise ValueError(\"Invalid rouge type: %s\" % rouge_type)\n",
        "      result[rouge_type] = scores\n",
        "\n",
        "    return result\n",
        "\n",
        "\n",
        "def _create_ngrams(tokens, n):\n",
        "  \"\"\"Creates ngrams from the given list of tokens.\n",
        "\n",
        "  Args:\n",
        "    tokens: A list of tokens from which ngrams are created.\n",
        "    n: Number of tokens to use, e.g. 2 for bigrams.\n",
        "  Returns:\n",
        "    A dictionary mapping each bigram to the number of occurrences.\n",
        "  \"\"\"\n",
        "\n",
        "  ngrams = collections.Counter()\n",
        "  for ngram in (tuple(tokens[i:i + n]) for i in range(len(tokens) - n + 1)):\n",
        "    ngrams[ngram] += 1\n",
        "  return ngrams\n",
        "\n",
        "\n",
        "def _score_lcs(target_tokens, prediction_tokens):\n",
        "  \"\"\"Computes LCS (Longest Common Subsequence) rouge scores.\n",
        "\n",
        "  Args:\n",
        "    target_tokens: Tokens from the target text.\n",
        "    prediction_tokens: Tokens from the predicted text.\n",
        "  Returns:\n",
        "    A Score object containing computed scores.\n",
        "  \"\"\"\n",
        "\n",
        "  if not target_tokens or not prediction_tokens:\n",
        "    return scoring.Score(precision=0, recall=0, fmeasure=0)\n",
        "\n",
        "  # Compute length of LCS from the bottom up in a table (DP appproach).\n",
        "  lcs_table = _lcs_table(target_tokens, prediction_tokens)\n",
        "  lcs_length = lcs_table[-1][-1]\n",
        "\n",
        "  precision = lcs_length / len(prediction_tokens)\n",
        "  recall = lcs_length / len(target_tokens)\n",
        "  fmeasure = scoring.fmeasure(precision, recall)\n",
        "\n",
        "  return scoring.Score(precision=precision, recall=recall, fmeasure=fmeasure)\n",
        "\n",
        "\n",
        "def _lcs_table(ref, can):\n",
        "  \"\"\"Create 2-d LCS score table.\"\"\"\n",
        "  rows = len(ref)\n",
        "  cols = len(can)\n",
        "  lcs_table = [[0] * (cols + 1) for _ in range(rows + 1)]\n",
        "  for i in range(1, rows + 1):\n",
        "    for j in range(1, cols + 1):\n",
        "      if ref[i - 1] == can[j - 1]:\n",
        "        lcs_table[i][j] = lcs_table[i - 1][j - 1] + 1\n",
        "      else:\n",
        "        lcs_table[i][j] = max(lcs_table[i - 1][j], lcs_table[i][j - 1])\n",
        "  return lcs_table\n",
        "\n",
        "\n",
        "def _backtrack_norec(t, ref, can):\n",
        "  \"\"\"Read out LCS.\"\"\"\n",
        "  i = len(ref)\n",
        "  j = len(can)\n",
        "  lcs = []\n",
        "  while i > 0 and j > 0:\n",
        "    if ref[i - 1] == can[j - 1]:\n",
        "      lcs.insert(0, i-1)\n",
        "      i -= 1\n",
        "      j -= 1\n",
        "    elif t[i][j - 1] > t[i - 1][j]:\n",
        "      j -= 1\n",
        "    else:\n",
        "      i -= 1\n",
        "  return lcs\n",
        "\n",
        "\n",
        "def _summary_level_lcs(ref_sent, can_sent):\n",
        "  \"\"\"ROUGE: Summary-level LCS, section 3.2 in ROUGE paper.\n",
        "\n",
        "  Args:\n",
        "    ref_sent: list of tokenized reference sentences\n",
        "    can_sent: list of tokenized candidate sentences\n",
        "\n",
        "  Returns:\n",
        "    summary level ROUGE score\n",
        "  \"\"\"\n",
        "  if not ref_sent or not can_sent:\n",
        "    return scoring.Score(precision=0, recall=0, fmeasure=0)\n",
        "\n",
        "  m = sum(map(len, ref_sent))\n",
        "  n = sum(map(len, can_sent))\n",
        "  if not n or not m:\n",
        "    return scoring.Score(precision=0, recall=0, fmeasure=0)\n",
        "\n",
        "  # get token counts to prevent double counting\n",
        "  token_cnts_r = collections.Counter()\n",
        "  token_cnts_c = collections.Counter()\n",
        "  for s in ref_sent:\n",
        "    # s is a list of tokens\n",
        "    token_cnts_r.update(s)\n",
        "  for s in can_sent:\n",
        "    token_cnts_c.update(s)\n",
        "\n",
        "  hits = 0\n",
        "  for r in ref_sent:\n",
        "    lcs = _union_lcs(r, can_sent)\n",
        "    # Prevent double-counting:\n",
        "    # The paper describes just computing hits += len(_union_lcs()),\n",
        "    # but the implementation prevents double counting. We also\n",
        "    # implement this as in version 1.5.5.\n",
        "    for t in lcs:\n",
        "      if token_cnts_c[t] > 0 and token_cnts_r[t] > 0:\n",
        "        hits += 1\n",
        "        token_cnts_c[t] -= 1\n",
        "        token_cnts_r[t] -= 1\n",
        "\n",
        "  recall = hits / m\n",
        "  precision = hits / n\n",
        "  fmeasure = scoring.fmeasure(precision, recall)\n",
        "  return scoring.Score(precision=precision, recall=recall, fmeasure=fmeasure)\n",
        "\n",
        "\n",
        "def _union_lcs(ref, c_list):\n",
        "  \"\"\"Find union LCS between a ref sentence and list of candidate sentences.\n",
        "\n",
        "  Args:\n",
        "    ref: list of tokens\n",
        "    c_list: list of list of indices for LCS into reference summary\n",
        "\n",
        "  Returns:\n",
        "    List of tokens in ref representing union LCS.\n",
        "  \"\"\"\n",
        "  lcs_list = [lcs_ind(ref, c) for c in c_list]\n",
        "  return [ref[i] for i in _find_union(lcs_list)]\n",
        "\n",
        "\n",
        "def _find_union(lcs_list):\n",
        "  \"\"\"Finds union LCS given a list of LCS.\"\"\"\n",
        "  return sorted(list(set().union(*lcs_list)))\n",
        "\n",
        "\n",
        "def lcs_ind(ref, can):\n",
        "  \"\"\"Returns one of the longest lcs.\"\"\"\n",
        "  t = _lcs_table(ref, can)\n",
        "  return _backtrack_norec(t, ref, can)\n",
        "\n",
        "\n",
        "def _score_ngrams(target_ngrams, prediction_ngrams):\n",
        "  \"\"\"Compute n-gram based rouge scores.\n",
        "\n",
        "  Args:\n",
        "    target_ngrams: A Counter object mapping each ngram to number of\n",
        "      occurrences for the target text.\n",
        "    prediction_ngrams: A Counter object mapping each ngram to number of\n",
        "      occurrences for the prediction text.\n",
        "  Returns:\n",
        "    A Score object containing computed scores.\n",
        "  \"\"\"\n",
        "\n",
        "  intersection_ngrams_count = 0\n",
        "  for ngram in six.iterkeys(target_ngrams):\n",
        "    intersection_ngrams_count += min(target_ngrams[ngram],\n",
        "                                     prediction_ngrams[ngram])\n",
        "  target_ngrams_count = sum(target_ngrams.values())\n",
        "  prediction_ngrams_count = sum(prediction_ngrams.values())\n",
        "\n",
        "  precision = intersection_ngrams_count / max(prediction_ngrams_count, 1)\n",
        "  recall = intersection_ngrams_count / max(target_ngrams_count, 1)\n",
        "  fmeasure = scoring.fmeasure(precision, recall)\n",
        "\n",
        "  return scoring.Score(precision=precision, recall=recall, fmeasure=fmeasure)"
      ],
      "execution_count": 54,
      "outputs": [
        {
          "output_type": "stream",
          "name": "stdout",
          "text": [
            "Collecting rouge-score\n",
            "  Downloading rouge_score-0.0.4-py2.py3-none-any.whl (22 kB)\n",
            "Requirement already satisfied: numpy in /usr/local/lib/python3.7/dist-packages (from rouge-score) (1.19.5)\n",
            "Requirement already satisfied: absl-py in /usr/local/lib/python3.7/dist-packages (from rouge-score) (0.12.0)\n",
            "Requirement already satisfied: six>=1.14.0 in /usr/local/lib/python3.7/dist-packages (from rouge-score) (1.15.0)\n",
            "Requirement already satisfied: nltk in /usr/local/lib/python3.7/dist-packages (from rouge-score) (3.2.5)\n",
            "Installing collected packages: rouge-score\n",
            "Successfully installed rouge-score-0.0.4\n"
          ]
        }
      ]
    },
    {
      "cell_type": "code",
      "metadata": {
        "id": "OoLH4O7Dkv0O"
      },
      "source": [
        "def tokenize(text, stemmer):\n",
        "  \"\"\"Tokenize input text into a list of tokens.\n",
        "\n",
        "  This approach aims to replicate the approach taken by Chin-Yew Lin in\n",
        "  the original ROUGE implementation.\n",
        "\n",
        "  Args:\n",
        "    text: A text blob to tokenize.\n",
        "    stemmer: An optional stemmer.\n",
        "\n",
        "  Returns:\n",
        "    A list of string tokens extracted from input text.\n",
        "  \"\"\"\n",
        "\n",
        "  # Convert everything to lowercase.\n",
        "  text = text.lower()\n",
        "  # Replace any non-alpha-numeric characters with spaces.\n",
        "  # text = re.sub(r\"[^a-z0-9]+\", \" \", six.ensure_str(text))\n",
        "  # ^ [ / u4E00 - / u9FFF]+$\n",
        "  tokens = re.split(r\"\\s+\", text)\n",
        "\n",
        "  # print(tokens)\n",
        "  # print(1)\n",
        "  if stemmer:\n",
        "    # Only stem words more than 3 characters long.\n",
        "    tokens = [stemmer.stem(x) if len(x) > 3 else x for x in tokens]\n",
        "\n",
        "  # print(tokens)\n",
        "  # print(2)\n",
        "  # print(six.ensure_str(x))\n",
        "  # One final check to drop any empty or invalid tokens.\n",
        "  # tokens = [x for x in tokens if re.match(r\"^[/u4E00 - /u9FFF]+$\", six.ensure_str(x))]\n",
        "  # tokens = [x for x in tokens if re.match(r\"^[a-z0-9]+$\", six.ensure_str(x))]\n",
        "  tokens=[x for x in tokens if six.ensure_str]\n",
        "\n",
        "\n",
        "  # print(tokens)\n",
        "  # print(3)\n",
        "  return tokens"
      ],
      "execution_count": 55,
      "outputs": []
    },
    {
      "cell_type": "code",
      "metadata": {
        "id": "wXQixbiKkzqk",
        "outputId": "58874090-75bc-490b-edea-949e5676a9e7",
        "colab": {
          "base_uri": "https://localhost:8080/"
        }
      },
      "source": [
        "# from rouge_score import rouge_scorer\n",
        "# 我们只计算 rouge1 就行\n",
        "scorer = RougeScorer(['rouge1', 'rougeL'], use_stemmer=True)\n",
        "scores =  scorer.score('武汉 大学',\n",
        "                          '武汉 测绘')\n",
        "# score =rouge_scorer. rougeEvaluationScore(candidate,references)\n",
        "scores['rouge1']"
      ],
      "execution_count": 56,
      "outputs": [
        {
          "output_type": "execute_result",
          "data": {
            "text/plain": [
              "Score(precision=0.5, recall=0.5, fmeasure=0.5)"
            ]
          },
          "metadata": {},
          "execution_count": 56
        }
      ]
    },
    {
      "cell_type": "code",
      "metadata": {
        "id": "unqE2xJJk1Yq"
      },
      "source": [
        ""
      ],
      "execution_count": null,
      "outputs": []
    }
  ]
}