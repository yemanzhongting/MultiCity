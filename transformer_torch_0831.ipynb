{
  "nbformat": 4,
  "nbformat_minor": 0,
  "metadata": {
    "kernelspec": {
      "display_name": "Python 3",
      "language": "python",
      "name": "python3"
    },
    "language_info": {
      "codemirror_mode": {
        "name": "ipython",
        "version": 3
      },
      "file_extension": ".py",
      "mimetype": "text/x-python",
      "name": "python",
      "nbconvert_exporter": "python",
      "pygments_lexer": "ipython3",
      "version": "3.6.13"
    },
    "colab": {
      "name": "translation_transformer.ipynb",
      "provenance": [],
      "include_colab_link": true
    },
    "accelerator": "GPU"
  },
  "cells": [
    {
      "cell_type": "markdown",
      "metadata": {
        "id": "view-in-github",
        "colab_type": "text"
      },
      "source": [
        "<a href=\"https://colab.research.google.com/github/yemanzhongting/MultiCity/blob/main/transformer_torch_0831.ipynb\" target=\"_parent\"><img src=\"https://colab.research.google.com/assets/colab-badge.svg\" alt=\"Open In Colab\"/></a>"
      ]
    },
    {
      "cell_type": "code",
      "metadata": {
        "id": "4roa_lSUS-8B"
      },
      "source": [
        "%matplotlib inline"
      ],
      "execution_count": 1,
      "outputs": []
    },
    {
      "cell_type": "markdown",
      "metadata": {
        "id": "syD9bgyYS-8E"
      },
      "source": [
        "\n",
        "Language Translation with nn.Transformer and torchtext\n",
        "======================================================\n",
        "\n",
        "This tutorial shows, how to train a translation model from scratch using\n",
        "Transformer. We will be using `Multi30k <http://www.statmt.org/wmt16/multimodal-task.html#task1>`__ \n",
        "dataset to train a German to English translation model.\n",
        "\n"
      ]
    },
    {
      "cell_type": "markdown",
      "metadata": {
        "id": "kwkhz-FaS-8G"
      },
      "source": [
        "Data Sourcing and Processing\n",
        "----------------------------\n",
        "\n",
        "`torchtext library <https://pytorch.org/text/stable/>`__ has utilities for creating datasets that can be easily\n",
        "iterated through for the purposes of creating a language translation\n",
        "model. In this example, we show how to use torchtext's inbuilt datasets, \n",
        "tokenize a raw text sentence, build vocabulary, and numericalize tokens into tensor. We will use\n",
        "`Multi30k dataset from torchtext library <https://pytorch.org/text/stable/datasets.html#multi30k>`__\n",
        "that yields a pair of source-target raw sentences. \n",
        "\n",
        "\n",
        "\n"
      ]
    },
    {
      "cell_type": "code",
      "metadata": {
        "id": "2cxeajWqTSoS",
        "outputId": "702a0523-26b3-4b94-eb61-dd8940eccad0",
        "colab": {
          "base_uri": "https://localhost:8080/"
        }
      },
      "source": [
        "!pip install -U spacy\n",
        "!python -m spacy download en_core_web_sm\n",
        "!python -m spacy download de_core_news_sm"
      ],
      "execution_count": 2,
      "outputs": [
        {
          "output_type": "stream",
          "name": "stdout",
          "text": [
            "Requirement already satisfied: spacy in /usr/local/lib/python3.7/dist-packages (2.2.4)\n",
            "Collecting spacy\n",
            "  Downloading spacy-3.1.2-cp37-cp37m-manylinux_2_17_x86_64.manylinux2014_x86_64.whl (5.8 MB)\n",
            "\u001b[K     |████████████████████████████████| 5.8 MB 13.0 MB/s \n",
            "\u001b[?25hCollecting srsly<3.0.0,>=2.4.1\n",
            "  Downloading srsly-2.4.1-cp37-cp37m-manylinux2014_x86_64.whl (456 kB)\n",
            "\u001b[K     |████████████████████████████████| 456 kB 45.3 MB/s \n",
            "\u001b[?25hRequirement already satisfied: typing-extensions<4.0.0.0,>=3.7.4 in /usr/local/lib/python3.7/dist-packages (from spacy) (3.7.4.3)\n",
            "Requirement already satisfied: cymem<2.1.0,>=2.0.2 in /usr/local/lib/python3.7/dist-packages (from spacy) (2.0.5)\n",
            "Requirement already satisfied: setuptools in /usr/local/lib/python3.7/dist-packages (from spacy) (57.4.0)\n",
            "Collecting typer<0.4.0,>=0.3.0\n",
            "  Downloading typer-0.3.2-py3-none-any.whl (21 kB)\n",
            "Collecting spacy-legacy<3.1.0,>=3.0.7\n",
            "  Downloading spacy_legacy-3.0.8-py2.py3-none-any.whl (14 kB)\n",
            "Requirement already satisfied: blis<0.8.0,>=0.4.0 in /usr/local/lib/python3.7/dist-packages (from spacy) (0.4.1)\n",
            "Requirement already satisfied: numpy>=1.15.0 in /usr/local/lib/python3.7/dist-packages (from spacy) (1.19.5)\n",
            "Requirement already satisfied: packaging>=20.0 in /usr/local/lib/python3.7/dist-packages (from spacy) (21.0)\n",
            "Requirement already satisfied: murmurhash<1.1.0,>=0.28.0 in /usr/local/lib/python3.7/dist-packages (from spacy) (1.0.5)\n",
            "Collecting thinc<8.1.0,>=8.0.8\n",
            "  Downloading thinc-8.0.8-cp37-cp37m-manylinux_2_17_x86_64.manylinux2014_x86_64.whl (621 kB)\n",
            "\u001b[K     |████████████████████████████████| 621 kB 39.2 MB/s \n",
            "\u001b[?25hRequirement already satisfied: tqdm<5.0.0,>=4.38.0 in /usr/local/lib/python3.7/dist-packages (from spacy) (4.62.0)\n",
            "Requirement already satisfied: wasabi<1.1.0,>=0.8.1 in /usr/local/lib/python3.7/dist-packages (from spacy) (0.8.2)\n",
            "Requirement already satisfied: requests<3.0.0,>=2.13.0 in /usr/local/lib/python3.7/dist-packages (from spacy) (2.23.0)\n",
            "Collecting catalogue<2.1.0,>=2.0.4\n",
            "  Downloading catalogue-2.0.6-py3-none-any.whl (17 kB)\n",
            "Requirement already satisfied: preshed<3.1.0,>=3.0.2 in /usr/local/lib/python3.7/dist-packages (from spacy) (3.0.5)\n",
            "Collecting pydantic!=1.8,!=1.8.1,<1.9.0,>=1.7.4\n",
            "  Downloading pydantic-1.8.2-cp37-cp37m-manylinux2014_x86_64.whl (10.1 MB)\n",
            "\u001b[K     |████████████████████████████████| 10.1 MB 43.6 MB/s \n",
            "\u001b[?25hCollecting pathy>=0.3.5\n",
            "  Downloading pathy-0.6.0-py3-none-any.whl (42 kB)\n",
            "\u001b[K     |████████████████████████████████| 42 kB 1.4 MB/s \n",
            "\u001b[?25hRequirement already satisfied: jinja2 in /usr/local/lib/python3.7/dist-packages (from spacy) (2.11.3)\n",
            "Requirement already satisfied: zipp>=0.5 in /usr/local/lib/python3.7/dist-packages (from catalogue<2.1.0,>=2.0.4->spacy) (3.5.0)\n",
            "Requirement already satisfied: pyparsing>=2.0.2 in /usr/local/lib/python3.7/dist-packages (from packaging>=20.0->spacy) (2.4.7)\n",
            "Requirement already satisfied: smart-open<6.0.0,>=5.0.0 in /usr/local/lib/python3.7/dist-packages (from pathy>=0.3.5->spacy) (5.1.0)\n",
            "Requirement already satisfied: idna<3,>=2.5 in /usr/local/lib/python3.7/dist-packages (from requests<3.0.0,>=2.13.0->spacy) (2.10)\n",
            "Requirement already satisfied: urllib3!=1.25.0,!=1.25.1,<1.26,>=1.21.1 in /usr/local/lib/python3.7/dist-packages (from requests<3.0.0,>=2.13.0->spacy) (1.24.3)\n",
            "Requirement already satisfied: chardet<4,>=3.0.2 in /usr/local/lib/python3.7/dist-packages (from requests<3.0.0,>=2.13.0->spacy) (3.0.4)\n",
            "Requirement already satisfied: certifi>=2017.4.17 in /usr/local/lib/python3.7/dist-packages (from requests<3.0.0,>=2.13.0->spacy) (2021.5.30)\n",
            "Requirement already satisfied: click<7.2.0,>=7.1.1 in /usr/local/lib/python3.7/dist-packages (from typer<0.4.0,>=0.3.0->spacy) (7.1.2)\n",
            "Requirement already satisfied: MarkupSafe>=0.23 in /usr/local/lib/python3.7/dist-packages (from jinja2->spacy) (2.0.1)\n",
            "Installing collected packages: catalogue, typer, srsly, pydantic, thinc, spacy-legacy, pathy, spacy\n",
            "  Attempting uninstall: catalogue\n",
            "    Found existing installation: catalogue 1.0.0\n",
            "    Uninstalling catalogue-1.0.0:\n",
            "      Successfully uninstalled catalogue-1.0.0\n",
            "  Attempting uninstall: srsly\n",
            "    Found existing installation: srsly 1.0.5\n",
            "    Uninstalling srsly-1.0.5:\n",
            "      Successfully uninstalled srsly-1.0.5\n",
            "  Attempting uninstall: thinc\n",
            "    Found existing installation: thinc 7.4.0\n",
            "    Uninstalling thinc-7.4.0:\n",
            "      Successfully uninstalled thinc-7.4.0\n",
            "  Attempting uninstall: spacy\n",
            "    Found existing installation: spacy 2.2.4\n",
            "    Uninstalling spacy-2.2.4:\n",
            "      Successfully uninstalled spacy-2.2.4\n",
            "Successfully installed catalogue-2.0.6 pathy-0.6.0 pydantic-1.8.2 spacy-3.1.2 spacy-legacy-3.0.8 srsly-2.4.1 thinc-8.0.8 typer-0.3.2\n",
            "Collecting en-core-web-sm==3.1.0\n",
            "  Downloading https://github.com/explosion/spacy-models/releases/download/en_core_web_sm-3.1.0/en_core_web_sm-3.1.0-py3-none-any.whl (13.6 MB)\n",
            "\u001b[K     |████████████████████████████████| 13.6 MB 72 kB/s \n",
            "\u001b[?25hRequirement already satisfied: spacy<3.2.0,>=3.1.0 in /usr/local/lib/python3.7/dist-packages (from en-core-web-sm==3.1.0) (3.1.2)\n",
            "Requirement already satisfied: jinja2 in /usr/local/lib/python3.7/dist-packages (from spacy<3.2.0,>=3.1.0->en-core-web-sm==3.1.0) (2.11.3)\n",
            "Requirement already satisfied: setuptools in /usr/local/lib/python3.7/dist-packages (from spacy<3.2.0,>=3.1.0->en-core-web-sm==3.1.0) (57.4.0)\n",
            "Requirement already satisfied: thinc<8.1.0,>=8.0.8 in /usr/local/lib/python3.7/dist-packages (from spacy<3.2.0,>=3.1.0->en-core-web-sm==3.1.0) (8.0.8)\n",
            "Requirement already satisfied: pydantic!=1.8,!=1.8.1,<1.9.0,>=1.7.4 in /usr/local/lib/python3.7/dist-packages (from spacy<3.2.0,>=3.1.0->en-core-web-sm==3.1.0) (1.8.2)\n",
            "Requirement already satisfied: pathy>=0.3.5 in /usr/local/lib/python3.7/dist-packages (from spacy<3.2.0,>=3.1.0->en-core-web-sm==3.1.0) (0.6.0)\n",
            "Requirement already satisfied: packaging>=20.0 in /usr/local/lib/python3.7/dist-packages (from spacy<3.2.0,>=3.1.0->en-core-web-sm==3.1.0) (21.0)\n",
            "Requirement already satisfied: spacy-legacy<3.1.0,>=3.0.7 in /usr/local/lib/python3.7/dist-packages (from spacy<3.2.0,>=3.1.0->en-core-web-sm==3.1.0) (3.0.8)\n",
            "Requirement already satisfied: murmurhash<1.1.0,>=0.28.0 in /usr/local/lib/python3.7/dist-packages (from spacy<3.2.0,>=3.1.0->en-core-web-sm==3.1.0) (1.0.5)\n",
            "Requirement already satisfied: wasabi<1.1.0,>=0.8.1 in /usr/local/lib/python3.7/dist-packages (from spacy<3.2.0,>=3.1.0->en-core-web-sm==3.1.0) (0.8.2)\n",
            "Requirement already satisfied: catalogue<2.1.0,>=2.0.4 in /usr/local/lib/python3.7/dist-packages (from spacy<3.2.0,>=3.1.0->en-core-web-sm==3.1.0) (2.0.6)\n",
            "Requirement already satisfied: blis<0.8.0,>=0.4.0 in /usr/local/lib/python3.7/dist-packages (from spacy<3.2.0,>=3.1.0->en-core-web-sm==3.1.0) (0.4.1)\n",
            "Requirement already satisfied: typing-extensions<4.0.0.0,>=3.7.4 in /usr/local/lib/python3.7/dist-packages (from spacy<3.2.0,>=3.1.0->en-core-web-sm==3.1.0) (3.7.4.3)\n",
            "Requirement already satisfied: cymem<2.1.0,>=2.0.2 in /usr/local/lib/python3.7/dist-packages (from spacy<3.2.0,>=3.1.0->en-core-web-sm==3.1.0) (2.0.5)\n",
            "Requirement already satisfied: preshed<3.1.0,>=3.0.2 in /usr/local/lib/python3.7/dist-packages (from spacy<3.2.0,>=3.1.0->en-core-web-sm==3.1.0) (3.0.5)\n",
            "Requirement already satisfied: numpy>=1.15.0 in /usr/local/lib/python3.7/dist-packages (from spacy<3.2.0,>=3.1.0->en-core-web-sm==3.1.0) (1.19.5)\n",
            "Requirement already satisfied: tqdm<5.0.0,>=4.38.0 in /usr/local/lib/python3.7/dist-packages (from spacy<3.2.0,>=3.1.0->en-core-web-sm==3.1.0) (4.62.0)\n",
            "Requirement already satisfied: typer<0.4.0,>=0.3.0 in /usr/local/lib/python3.7/dist-packages (from spacy<3.2.0,>=3.1.0->en-core-web-sm==3.1.0) (0.3.2)\n",
            "Requirement already satisfied: requests<3.0.0,>=2.13.0 in /usr/local/lib/python3.7/dist-packages (from spacy<3.2.0,>=3.1.0->en-core-web-sm==3.1.0) (2.23.0)\n",
            "Requirement already satisfied: srsly<3.0.0,>=2.4.1 in /usr/local/lib/python3.7/dist-packages (from spacy<3.2.0,>=3.1.0->en-core-web-sm==3.1.0) (2.4.1)\n",
            "Requirement already satisfied: zipp>=0.5 in /usr/local/lib/python3.7/dist-packages (from catalogue<2.1.0,>=2.0.4->spacy<3.2.0,>=3.1.0->en-core-web-sm==3.1.0) (3.5.0)\n",
            "Requirement already satisfied: pyparsing>=2.0.2 in /usr/local/lib/python3.7/dist-packages (from packaging>=20.0->spacy<3.2.0,>=3.1.0->en-core-web-sm==3.1.0) (2.4.7)\n",
            "Requirement already satisfied: smart-open<6.0.0,>=5.0.0 in /usr/local/lib/python3.7/dist-packages (from pathy>=0.3.5->spacy<3.2.0,>=3.1.0->en-core-web-sm==3.1.0) (5.1.0)\n",
            "Requirement already satisfied: certifi>=2017.4.17 in /usr/local/lib/python3.7/dist-packages (from requests<3.0.0,>=2.13.0->spacy<3.2.0,>=3.1.0->en-core-web-sm==3.1.0) (2021.5.30)\n",
            "Requirement already satisfied: idna<3,>=2.5 in /usr/local/lib/python3.7/dist-packages (from requests<3.0.0,>=2.13.0->spacy<3.2.0,>=3.1.0->en-core-web-sm==3.1.0) (2.10)\n",
            "Requirement already satisfied: urllib3!=1.25.0,!=1.25.1,<1.26,>=1.21.1 in /usr/local/lib/python3.7/dist-packages (from requests<3.0.0,>=2.13.0->spacy<3.2.0,>=3.1.0->en-core-web-sm==3.1.0) (1.24.3)\n",
            "Requirement already satisfied: chardet<4,>=3.0.2 in /usr/local/lib/python3.7/dist-packages (from requests<3.0.0,>=2.13.0->spacy<3.2.0,>=3.1.0->en-core-web-sm==3.1.0) (3.0.4)\n",
            "Requirement already satisfied: click<7.2.0,>=7.1.1 in /usr/local/lib/python3.7/dist-packages (from typer<0.4.0,>=0.3.0->spacy<3.2.0,>=3.1.0->en-core-web-sm==3.1.0) (7.1.2)\n",
            "Requirement already satisfied: MarkupSafe>=0.23 in /usr/local/lib/python3.7/dist-packages (from jinja2->spacy<3.2.0,>=3.1.0->en-core-web-sm==3.1.0) (2.0.1)\n",
            "Installing collected packages: en-core-web-sm\n",
            "  Attempting uninstall: en-core-web-sm\n",
            "    Found existing installation: en-core-web-sm 2.2.5\n",
            "    Uninstalling en-core-web-sm-2.2.5:\n",
            "      Successfully uninstalled en-core-web-sm-2.2.5\n",
            "Successfully installed en-core-web-sm-3.1.0\n",
            "\u001b[38;5;2m✔ Download and installation successful\u001b[0m\n",
            "You can now load the package via spacy.load('en_core_web_sm')\n",
            "Collecting de-core-news-sm==3.1.0\n",
            "  Downloading https://github.com/explosion/spacy-models/releases/download/de_core_news_sm-3.1.0/de_core_news_sm-3.1.0-py3-none-any.whl (18.8 MB)\n",
            "\u001b[K     |████████████████████████████████| 18.8 MB 1.3 MB/s \n",
            "\u001b[?25hRequirement already satisfied: spacy<3.2.0,>=3.1.0 in /usr/local/lib/python3.7/dist-packages (from de-core-news-sm==3.1.0) (3.1.2)\n",
            "Requirement already satisfied: thinc<8.1.0,>=8.0.8 in /usr/local/lib/python3.7/dist-packages (from spacy<3.2.0,>=3.1.0->de-core-news-sm==3.1.0) (8.0.8)\n",
            "Requirement already satisfied: pydantic!=1.8,!=1.8.1,<1.9.0,>=1.7.4 in /usr/local/lib/python3.7/dist-packages (from spacy<3.2.0,>=3.1.0->de-core-news-sm==3.1.0) (1.8.2)\n",
            "Requirement already satisfied: murmurhash<1.1.0,>=0.28.0 in /usr/local/lib/python3.7/dist-packages (from spacy<3.2.0,>=3.1.0->de-core-news-sm==3.1.0) (1.0.5)\n",
            "Requirement already satisfied: numpy>=1.15.0 in /usr/local/lib/python3.7/dist-packages (from spacy<3.2.0,>=3.1.0->de-core-news-sm==3.1.0) (1.19.5)\n",
            "Requirement already satisfied: tqdm<5.0.0,>=4.38.0 in /usr/local/lib/python3.7/dist-packages (from spacy<3.2.0,>=3.1.0->de-core-news-sm==3.1.0) (4.62.0)\n",
            "Requirement already satisfied: typing-extensions<4.0.0.0,>=3.7.4 in /usr/local/lib/python3.7/dist-packages (from spacy<3.2.0,>=3.1.0->de-core-news-sm==3.1.0) (3.7.4.3)\n",
            "Requirement already satisfied: blis<0.8.0,>=0.4.0 in /usr/local/lib/python3.7/dist-packages (from spacy<3.2.0,>=3.1.0->de-core-news-sm==3.1.0) (0.4.1)\n",
            "Requirement already satisfied: setuptools in /usr/local/lib/python3.7/dist-packages (from spacy<3.2.0,>=3.1.0->de-core-news-sm==3.1.0) (57.4.0)\n",
            "Requirement already satisfied: pathy>=0.3.5 in /usr/local/lib/python3.7/dist-packages (from spacy<3.2.0,>=3.1.0->de-core-news-sm==3.1.0) (0.6.0)\n",
            "Requirement already satisfied: typer<0.4.0,>=0.3.0 in /usr/local/lib/python3.7/dist-packages (from spacy<3.2.0,>=3.1.0->de-core-news-sm==3.1.0) (0.3.2)\n",
            "Requirement already satisfied: spacy-legacy<3.1.0,>=3.0.7 in /usr/local/lib/python3.7/dist-packages (from spacy<3.2.0,>=3.1.0->de-core-news-sm==3.1.0) (3.0.8)\n",
            "Requirement already satisfied: preshed<3.1.0,>=3.0.2 in /usr/local/lib/python3.7/dist-packages (from spacy<3.2.0,>=3.1.0->de-core-news-sm==3.1.0) (3.0.5)\n",
            "Requirement already satisfied: jinja2 in /usr/local/lib/python3.7/dist-packages (from spacy<3.2.0,>=3.1.0->de-core-news-sm==3.1.0) (2.11.3)\n",
            "Requirement already satisfied: cymem<2.1.0,>=2.0.2 in /usr/local/lib/python3.7/dist-packages (from spacy<3.2.0,>=3.1.0->de-core-news-sm==3.1.0) (2.0.5)\n",
            "Requirement already satisfied: wasabi<1.1.0,>=0.8.1 in /usr/local/lib/python3.7/dist-packages (from spacy<3.2.0,>=3.1.0->de-core-news-sm==3.1.0) (0.8.2)\n",
            "Requirement already satisfied: srsly<3.0.0,>=2.4.1 in /usr/local/lib/python3.7/dist-packages (from spacy<3.2.0,>=3.1.0->de-core-news-sm==3.1.0) (2.4.1)\n",
            "Requirement already satisfied: packaging>=20.0 in /usr/local/lib/python3.7/dist-packages (from spacy<3.2.0,>=3.1.0->de-core-news-sm==3.1.0) (21.0)\n",
            "Requirement already satisfied: requests<3.0.0,>=2.13.0 in /usr/local/lib/python3.7/dist-packages (from spacy<3.2.0,>=3.1.0->de-core-news-sm==3.1.0) (2.23.0)\n",
            "Requirement already satisfied: catalogue<2.1.0,>=2.0.4 in /usr/local/lib/python3.7/dist-packages (from spacy<3.2.0,>=3.1.0->de-core-news-sm==3.1.0) (2.0.6)\n",
            "Requirement already satisfied: zipp>=0.5 in /usr/local/lib/python3.7/dist-packages (from catalogue<2.1.0,>=2.0.4->spacy<3.2.0,>=3.1.0->de-core-news-sm==3.1.0) (3.5.0)\n",
            "Requirement already satisfied: pyparsing>=2.0.2 in /usr/local/lib/python3.7/dist-packages (from packaging>=20.0->spacy<3.2.0,>=3.1.0->de-core-news-sm==3.1.0) (2.4.7)\n",
            "Requirement already satisfied: smart-open<6.0.0,>=5.0.0 in /usr/local/lib/python3.7/dist-packages (from pathy>=0.3.5->spacy<3.2.0,>=3.1.0->de-core-news-sm==3.1.0) (5.1.0)\n",
            "Requirement already satisfied: certifi>=2017.4.17 in /usr/local/lib/python3.7/dist-packages (from requests<3.0.0,>=2.13.0->spacy<3.2.0,>=3.1.0->de-core-news-sm==3.1.0) (2021.5.30)\n",
            "Requirement already satisfied: idna<3,>=2.5 in /usr/local/lib/python3.7/dist-packages (from requests<3.0.0,>=2.13.0->spacy<3.2.0,>=3.1.0->de-core-news-sm==3.1.0) (2.10)\n",
            "Requirement already satisfied: chardet<4,>=3.0.2 in /usr/local/lib/python3.7/dist-packages (from requests<3.0.0,>=2.13.0->spacy<3.2.0,>=3.1.0->de-core-news-sm==3.1.0) (3.0.4)\n",
            "Requirement already satisfied: urllib3!=1.25.0,!=1.25.1,<1.26,>=1.21.1 in /usr/local/lib/python3.7/dist-packages (from requests<3.0.0,>=2.13.0->spacy<3.2.0,>=3.1.0->de-core-news-sm==3.1.0) (1.24.3)\n",
            "Requirement already satisfied: click<7.2.0,>=7.1.1 in /usr/local/lib/python3.7/dist-packages (from typer<0.4.0,>=0.3.0->spacy<3.2.0,>=3.1.0->de-core-news-sm==3.1.0) (7.1.2)\n",
            "Requirement already satisfied: MarkupSafe>=0.23 in /usr/local/lib/python3.7/dist-packages (from jinja2->spacy<3.2.0,>=3.1.0->de-core-news-sm==3.1.0) (2.0.1)\n",
            "Installing collected packages: de-core-news-sm\n",
            "Successfully installed de-core-news-sm-3.1.0\n",
            "\u001b[38;5;2m✔ Download and installation successful\u001b[0m\n",
            "You can now load the package via spacy.load('de_core_news_sm')\n"
          ]
        }
      ]
    },
    {
      "cell_type": "code",
      "metadata": {
        "id": "Af96rTFyS-8H",
        "outputId": "a74d30d4-a2dc-43e3-b98b-bdf7ccffcbde",
        "colab": {
          "base_uri": "https://localhost:8080/"
        }
      },
      "source": [
        "from torchtext.data.utils import get_tokenizer\n",
        "from torchtext.vocab import build_vocab_from_iterator\n",
        "from torchtext.datasets import Multi30k\n",
        "from typing import Iterable, List\n",
        "\n",
        "\n",
        "SRC_LANGUAGE = 'de'\n",
        "TGT_LANGUAGE = 'en'\n",
        "\n",
        "# Place-holders\n",
        "token_transform = {}\n",
        "vocab_transform = {}\n",
        "\n",
        "\n",
        "# Create source and target language tokenizer. Make sure to install the dependencies.\n",
        "# pip install -U spacy\n",
        "# python -m spacy download en_core_web_sm\n",
        "# python -m spacy download de_core_news_sm\n",
        "token_transform[SRC_LANGUAGE] = get_tokenizer('spacy', language='de_core_news_sm')\n",
        "token_transform[TGT_LANGUAGE] = get_tokenizer('spacy', language='en_core_web_sm')\n",
        "\n",
        "\n",
        "# helper function to yield list of tokens\n",
        "def yield_tokens(data_iter: Iterable, language: str) -> List[str]:\n",
        "    language_index = {SRC_LANGUAGE: 0, TGT_LANGUAGE: 1}\n",
        "\n",
        "    for data_sample in data_iter:\n",
        "        yield token_transform[language](data_sample[language_index[language]])\n",
        "\n",
        "# Define special symbols and indices\n",
        "UNK_IDX, PAD_IDX, BOS_IDX, EOS_IDX = 0, 1, 2, 3\n",
        "# Make sure the tokens are in order of their indices to properly insert them in vocab\n",
        "special_symbols = ['<unk>', '<pad>', '<bos>', '<eos>']\n",
        " \n",
        "for ln in [SRC_LANGUAGE, TGT_LANGUAGE]:\n",
        "    # Training data Iterator \n",
        "    train_iter = Multi30k(split='train', language_pair=(SRC_LANGUAGE, TGT_LANGUAGE))\n",
        "    # Create torchtext's Vocab object \n",
        "    vocab_transform[ln] = build_vocab_from_iterator(yield_tokens(train_iter, ln),\n",
        "                                                    min_freq=1,\n",
        "                                                    specials=special_symbols,\n",
        "                                                    special_first=True)\n",
        "\n",
        "# Set UNK_IDX as the default index. This index is returned when the token is not found. \n",
        "# If not set, it throws RuntimeError when the queried token is not found in the Vocabulary. \n",
        "for ln in [SRC_LANGUAGE, TGT_LANGUAGE]:\n",
        "  vocab_transform[ln].set_default_index(UNK_IDX)"
      ],
      "execution_count": 3,
      "outputs": [
        {
          "output_type": "stream",
          "name": "stderr",
          "text": [
            "training.tar.gz: 100%|██████████| 1.21M/1.21M [00:00<00:00, 10.5MB/s]\n"
          ]
        }
      ]
    },
    {
      "cell_type": "markdown",
      "metadata": {
        "id": "ttdyd_qQS-8I"
      },
      "source": [
        "Seq2Seq Network using Transformer\n",
        "---------------------------------\n",
        "\n",
        "Transformer is a Seq2Seq model introduced in `“Attention is all you\n",
        "need” <https://papers.nips.cc/paper/2017/file/3f5ee243547dee91fbd053c1c4a845aa-Paper.pdf>`__\n",
        "paper for solving machine translation tasks. \n",
        "Below, we will create a Seq2Seq network that uses Transformer. The network\n",
        "consists of three parts. First part is the embedding layer. This layer converts tensor of input indices\n",
        "into corresponding tensor of input embeddings. These embedding are further augmented with positional\n",
        "encodings to provide position information of input tokens to the model. The second part is the \n",
        "actual `Transformer <https://pytorch.org/docs/stable/generated/torch.nn.Transformer.html>`__ model. \n",
        "Finally, the output of Transformer model is passed through linear layer\n",
        "that give un-normalized probabilities for each token in the target language. \n",
        "\n",
        "\n"
      ]
    },
    {
      "cell_type": "code",
      "metadata": {
        "id": "tiNI1zIhS-8J"
      },
      "source": [
        "from torch import Tensor\n",
        "import torch\n",
        "import torch.nn as nn\n",
        "from torch.nn import Transformer\n",
        "import math\n",
        "DEVICE = torch.device('cuda' if torch.cuda.is_available() else 'cpu')\n",
        "\n",
        "# helper Module that adds positional encoding to the token embedding to introduce a notion of word order.\n",
        "class PositionalEncoding(nn.Module):\n",
        "    def __init__(self,\n",
        "                 emb_size: int,\n",
        "                 dropout: float,\n",
        "                 maxlen: int = 5000):\n",
        "        super(PositionalEncoding, self).__init__()\n",
        "        den = torch.exp(- torch.arange(0, emb_size, 2)* math.log(10000) / emb_size)\n",
        "        pos = torch.arange(0, maxlen).reshape(maxlen, 1)\n",
        "        pos_embedding = torch.zeros((maxlen, emb_size))\n",
        "        pos_embedding[:, 0::2] = torch.sin(pos * den)\n",
        "        pos_embedding[:, 1::2] = torch.cos(pos * den)\n",
        "        pos_embedding = pos_embedding.unsqueeze(-2)\n",
        "\n",
        "        self.dropout = nn.Dropout(dropout)\n",
        "        self.register_buffer('pos_embedding', pos_embedding)\n",
        "\n",
        "    def forward(self, token_embedding: Tensor):\n",
        "        return self.dropout(token_embedding + self.pos_embedding[:token_embedding.size(0), :])\n",
        "\n",
        "# helper Module to convert tensor of input indices into corresponding tensor of token embeddings\n",
        "class TokenEmbedding(nn.Module):\n",
        "    def __init__(self, vocab_size: int, emb_size):\n",
        "        super(TokenEmbedding, self).__init__()\n",
        "        self.embedding = nn.Embedding(vocab_size, emb_size)\n",
        "        self.emb_size = emb_size\n",
        "\n",
        "    def forward(self, tokens: Tensor):\n",
        "        return self.embedding(tokens.long()) * math.sqrt(self.emb_size)\n",
        "\n",
        "# Seq2Seq Network \n",
        "class Seq2SeqTransformer(nn.Module):\n",
        "    def __init__(self,\n",
        "                 num_encoder_layers: int,\n",
        "                 num_decoder_layers: int,\n",
        "                 emb_size: int,\n",
        "                 nhead: int,\n",
        "                 src_vocab_size: int,\n",
        "                 tgt_vocab_size: int,\n",
        "                 dim_feedforward: int = 512,\n",
        "                 dropout: float = 0.1):\n",
        "        super(Seq2SeqTransformer, self).__init__()\n",
        "        self.transformer = Transformer(d_model=emb_size,\n",
        "                                       nhead=nhead,\n",
        "                                       num_encoder_layers=num_encoder_layers,\n",
        "                                       num_decoder_layers=num_decoder_layers,\n",
        "                                       dim_feedforward=dim_feedforward,\n",
        "                                       dropout=dropout)\n",
        "        self.generator = nn.Linear(emb_size, tgt_vocab_size)\n",
        "        self.src_tok_emb = TokenEmbedding(src_vocab_size, emb_size)\n",
        "        self.tgt_tok_emb = TokenEmbedding(tgt_vocab_size, emb_size)\n",
        "        self.positional_encoding = PositionalEncoding(\n",
        "            emb_size, dropout=dropout)\n",
        "\n",
        "    def forward(self,\n",
        "                src: Tensor,\n",
        "                trg: Tensor,\n",
        "                src_mask: Tensor,\n",
        "                tgt_mask: Tensor,\n",
        "                src_padding_mask: Tensor,\n",
        "                tgt_padding_mask: Tensor,\n",
        "                memory_key_padding_mask: Tensor):\n",
        "        src_emb = self.positional_encoding(self.src_tok_emb(src))\n",
        "        tgt_emb = self.positional_encoding(self.tgt_tok_emb(trg))\n",
        "        outs = self.transformer(src_emb, tgt_emb, src_mask, tgt_mask, None, \n",
        "                                src_padding_mask, tgt_padding_mask, memory_key_padding_mask)\n",
        "        return self.generator(outs)\n",
        "\n",
        "    def encode(self, src: Tensor, src_mask: Tensor):\n",
        "        return self.transformer.encoder(self.positional_encoding(\n",
        "                            self.src_tok_emb(src)), src_mask)\n",
        "\n",
        "    def decode(self, tgt: Tensor, memory: Tensor, tgt_mask: Tensor):\n",
        "        return self.transformer.decoder(self.positional_encoding(\n",
        "                          self.tgt_tok_emb(tgt)), memory,\n",
        "                          tgt_mask)"
      ],
      "execution_count": 4,
      "outputs": []
    },
    {
      "cell_type": "markdown",
      "metadata": {
        "id": "C5FYVQ0KS-8M"
      },
      "source": [
        "During training, we need a subsequent word mask that will prevent model to look into\n",
        "the future words when making predictions. We will also need masks to hide\n",
        "source and target padding tokens. Below, let's define a function that will take care of both. \n",
        "\n",
        "\n"
      ]
    },
    {
      "cell_type": "code",
      "metadata": {
        "id": "pDlvrRNfS-8P"
      },
      "source": [
        "def generate_square_subsequent_mask(sz):\n",
        "    mask = (torch.triu(torch.ones((sz, sz), device=DEVICE)) == 1).transpose(0, 1)\n",
        "    mask = mask.float().masked_fill(mask == 0, float('-inf')).masked_fill(mask == 1, float(0.0))\n",
        "    return mask\n",
        "\n",
        "\n",
        "def create_mask(src, tgt):\n",
        "    src_seq_len = src.shape[0]\n",
        "    tgt_seq_len = tgt.shape[0]\n",
        "\n",
        "    tgt_mask = generate_square_subsequent_mask(tgt_seq_len)\n",
        "    src_mask = torch.zeros((src_seq_len, src_seq_len),device=DEVICE).type(torch.bool)\n",
        "\n",
        "    src_padding_mask = (src == PAD_IDX).transpose(0, 1)\n",
        "    tgt_padding_mask = (tgt == PAD_IDX).transpose(0, 1)\n",
        "    return src_mask, tgt_mask, src_padding_mask, tgt_padding_mask"
      ],
      "execution_count": 5,
      "outputs": []
    },
    {
      "cell_type": "markdown",
      "metadata": {
        "id": "iKb81S61S-8P"
      },
      "source": [
        "Let's now define the parameters of our model and instantiate the same. Below, we also \n",
        "define our loss function which is the cross-entropy loss and the optmizer used for training.\n",
        "\n",
        "\n"
      ]
    },
    {
      "cell_type": "code",
      "metadata": {
        "id": "tfemEzAcS-8Q"
      },
      "source": [
        "torch.manual_seed(0)\n",
        "\n",
        "SRC_VOCAB_SIZE = len(vocab_transform[SRC_LANGUAGE])\n",
        "TGT_VOCAB_SIZE = len(vocab_transform[TGT_LANGUAGE])\n",
        "EMB_SIZE = 512\n",
        "NHEAD = 8\n",
        "FFN_HID_DIM = 512\n",
        "BATCH_SIZE = 128\n",
        "NUM_ENCODER_LAYERS = 3\n",
        "NUM_DECODER_LAYERS = 3\n",
        "\n",
        "transformer = Seq2SeqTransformer(NUM_ENCODER_LAYERS, NUM_DECODER_LAYERS, EMB_SIZE, \n",
        "                                 NHEAD, SRC_VOCAB_SIZE, TGT_VOCAB_SIZE, FFN_HID_DIM)\n",
        "\n",
        "for p in transformer.parameters():\n",
        "    if p.dim() > 1:\n",
        "        nn.init.xavier_uniform_(p)\n",
        "\n",
        "transformer = transformer.to(DEVICE)\n",
        "\n",
        "loss_fn = torch.nn.CrossEntropyLoss(ignore_index=PAD_IDX)\n",
        "\n",
        "optimizer = torch.optim.Adam(transformer.parameters(), lr=0.0001, betas=(0.9, 0.98), eps=1e-9)"
      ],
      "execution_count": 6,
      "outputs": []
    },
    {
      "cell_type": "markdown",
      "metadata": {
        "id": "jzCCovbQS-8R"
      },
      "source": [
        "Collation\n",
        "---------\n",
        "\n",
        "As seen in the ``Data Sourcing and Processing`` section, our data iterator yields a pair of raw strings. \n",
        "We need to convert these string pairs into the batched tensors that can be processed by our ``Seq2Seq`` network \n",
        "defined previously. Below we define our collate function that convert batch of raw strings into batch tensors that\n",
        "can be fed directly into our model.   \n",
        "\n",
        "\n"
      ]
    },
    {
      "cell_type": "markdown",
      "metadata": {
        "id": "R15B5Dk6lcDo"
      },
      "source": [
        "很重要的预处理部分，我们要修改这里"
      ]
    },
    {
      "cell_type": "code",
      "metadata": {
        "id": "GIV2kYnRS-8S"
      },
      "source": [
        "from torch.nn.utils.rnn import pad_sequence\n",
        "\n",
        "# helper function to club together sequential operations\n",
        "def sequential_transforms(*transforms):\n",
        "    def func(txt_input):\n",
        "        for transform in transforms:\n",
        "            txt_input = transform(txt_input)\n",
        "        return txt_input\n",
        "    return func\n",
        "\n",
        "# function to add BOS/EOS and create tensor for input sequence indices\n",
        "def tensor_transform(token_ids: List[int]):\n",
        "    return torch.cat((torch.tensor([BOS_IDX]), \n",
        "                      torch.tensor(token_ids), \n",
        "                      torch.tensor([EOS_IDX])))\n",
        "\n",
        "# src and tgt language text transforms to convert raw strings into tensors indices\n",
        "text_transform = {}\n",
        "for ln in [SRC_LANGUAGE, TGT_LANGUAGE]:\n",
        "    text_transform[ln] = sequential_transforms(token_transform[ln], #Tokenization\n",
        "                                               vocab_transform[ln], #Numericalization\n",
        "                                               tensor_transform) # Add BOS/EOS and create tensor\n",
        "\n",
        "\n",
        "# function to collate data samples into batch tesors\n",
        "#转化为tensor，并且缺失补充\n",
        "def collate_fn(batch):\n",
        "    src_batch, tgt_batch = [], []\n",
        "    for src_sample, tgt_sample in batch:\n",
        "        src_batch.append(text_transform[SRC_LANGUAGE](src_sample.rstrip(\"\\n\")))\n",
        "        tgt_batch.append(text_transform[TGT_LANGUAGE](tgt_sample.rstrip(\"\\n\")))\n",
        "\n",
        "    src_batch = pad_sequence(src_batch, padding_value=PAD_IDX)\n",
        "    tgt_batch = pad_sequence(tgt_batch, padding_value=PAD_IDX)\n",
        "    return src_batch, tgt_batch"
      ],
      "execution_count": 7,
      "outputs": []
    },
    {
      "cell_type": "markdown",
      "metadata": {
        "id": "K-ap7OENS-8S"
      },
      "source": [
        "Let's define training and evaluation loop that will be called for each \n",
        "epoch.\n",
        "\n",
        "\n"
      ]
    },
    {
      "cell_type": "code",
      "metadata": {
        "id": "7zU_QPsZjPT6",
        "outputId": "d72a3757-e15e-48a2-8e9e-abd95094e43a",
        "colab": {
          "base_uri": "https://localhost:8080/"
        }
      },
      "source": [
        "type(train_iter)"
      ],
      "execution_count": 40,
      "outputs": [
        {
          "output_type": "execute_result",
          "data": {
            "text/plain": [
              "torchtext.data.datasets_utils._RawTextIterableDataset"
            ]
          },
          "metadata": {},
          "execution_count": 40
        }
      ]
    },
    {
      "cell_type": "code",
      "metadata": {
        "id": "cafNiuQZjS4L",
        "outputId": "db30519f-fc37-48ae-eda2-fdafe958189b",
        "colab": {
          "base_uri": "https://localhost:8080/"
        }
      },
      "source": [
        "train_iter = Multi30k(split='train', language_pair=(SRC_LANGUAGE, TGT_LANGUAGE))\n",
        "next(train_iter)"
      ],
      "execution_count": 42,
      "outputs": [
        {
          "output_type": "execute_result",
          "data": {
            "text/plain": [
              "('Zwei junge weiße Männer sind im Freien in der Nähe vieler Büsche.\\n',\n",
              " 'Two young, White males are outside near many bushes.\\n')"
            ]
          },
          "metadata": {},
          "execution_count": 42
        }
      ]
    },
    {
      "cell_type": "code",
      "metadata": {
        "id": "gFxkDG6zkTi5",
        "outputId": "baa56b1a-c796-49b9-ca92-fc2d9f217ba3",
        "colab": {
          "base_uri": "https://localhost:8080/"
        }
      },
      "source": [
        "train_dataloader = DataLoader(train_iter, batch_size=BATCH_SIZE, collate_fn=collate_fn)\n",
        "type(train_dataloader)\n",
        "# text_transform[SRC_LANGUAGE]"
      ],
      "execution_count": 45,
      "outputs": [
        {
          "output_type": "execute_result",
          "data": {
            "text/plain": [
              "torch.utils.data.dataloader.DataLoader"
            ]
          },
          "metadata": {},
          "execution_count": 45
        }
      ]
    },
    {
      "cell_type": "code",
      "metadata": {
        "id": "izKQ3QuEkyp8"
      },
      "source": [
        "a,b=iter(train_dataloader).next()"
      ],
      "execution_count": 55,
      "outputs": []
    },
    {
      "cell_type": "code",
      "metadata": {
        "id": "tRSxBazXk3Z-",
        "outputId": "9b8e8eb1-e59b-4fea-b1a1-b07d2aa85f15",
        "colab": {
          "base_uri": "https://localhost:8080/"
        }
      },
      "source": [
        "print(a.shape)\n",
        "b.shape"
      ],
      "execution_count": 57,
      "outputs": [
        {
          "output_type": "stream",
          "name": "stdout",
          "text": [
            "torch.Size([33, 128])\n"
          ]
        },
        {
          "output_type": "execute_result",
          "data": {
            "text/plain": [
              "torch.Size([28, 128])"
            ]
          },
          "metadata": {},
          "execution_count": 57
        }
      ]
    },
    {
      "cell_type": "code",
      "metadata": {
        "id": "y-6X92iElTsF",
        "outputId": "d605993d-325a-4b0a-8a27-9ed13a869fb7",
        "colab": {
          "base_uri": "https://localhost:8080/"
        }
      },
      "source": [
        "type(text_transform)"
      ],
      "execution_count": 58,
      "outputs": [
        {
          "output_type": "execute_result",
          "data": {
            "text/plain": [
              "dict"
            ]
          },
          "metadata": {},
          "execution_count": 58
        }
      ]
    },
    {
      "cell_type": "code",
      "metadata": {
        "id": "xpJOX-RclVoM",
        "outputId": "6c8680db-4e64-43cc-c00c-8a9f53b1aa10",
        "colab": {
          "base_uri": "https://localhost:8080/"
        }
      },
      "source": [
        "text_transform"
      ],
      "execution_count": 59,
      "outputs": [
        {
          "output_type": "execute_result",
          "data": {
            "text/plain": [
              "{'de': <function __main__.sequential_transforms.<locals>.func>,\n",
              " 'en': <function __main__.sequential_transforms.<locals>.func>}"
            ]
          },
          "metadata": {},
          "execution_count": 59
        }
      ]
    },
    {
      "cell_type": "code",
      "metadata": {
        "id": "rWy1DBDnkX1V"
      },
      "source": [
        "# next(train_dataloader)"
      ],
      "execution_count": 48,
      "outputs": []
    },
    {
      "cell_type": "code",
      "metadata": {
        "id": "jxH5S_zlS-8T"
      },
      "source": [
        "from torch.utils.data import DataLoader\n",
        "\n",
        "def train_epoch(model, optimizer):\n",
        "    model.train()\n",
        "    losses = 0\n",
        "    train_iter = Multi30k(split='train', language_pair=(SRC_LANGUAGE, TGT_LANGUAGE))\n",
        "    train_dataloader = DataLoader(train_iter, batch_size=BATCH_SIZE, collate_fn=collate_fn)\n",
        "    #我们在这里自定义我们的数据集 DataLoader\n",
        "    for src, tgt in train_dataloader:\n",
        "        src = src.to(DEVICE)\n",
        "        tgt = tgt.to(DEVICE)\n",
        "\n",
        "        tgt_input = tgt[:-1, :]\n",
        "\n",
        "        src_mask, tgt_mask, src_padding_mask, tgt_padding_mask = create_mask(src, tgt_input)\n",
        "\n",
        "        logits = model(src, tgt_input, src_mask, tgt_mask,src_padding_mask, tgt_padding_mask, src_padding_mask)\n",
        "\n",
        "        optimizer.zero_grad()\n",
        "\n",
        "        tgt_out = tgt[1:, :]\n",
        "        loss = loss_fn(logits.reshape(-1, logits.shape[-1]), tgt_out.reshape(-1))\n",
        "        loss.backward()\n",
        "\n",
        "        optimizer.step()\n",
        "        losses += loss.item()\n",
        "\n",
        "    return losses / len(train_dataloader)\n",
        "\n",
        "\n",
        "def evaluate(model):\n",
        "    model.eval()\n",
        "    losses = 0\n",
        "\n",
        "    val_iter = Multi30k(split='valid', language_pair=(SRC_LANGUAGE, TGT_LANGUAGE))\n",
        "    val_dataloader = DataLoader(val_iter, batch_size=BATCH_SIZE, collate_fn=collate_fn)\n",
        "\n",
        "    for src, tgt in val_dataloader:\n",
        "        src = src.to(DEVICE)\n",
        "        tgt = tgt.to(DEVICE)\n",
        "\n",
        "        tgt_input = tgt[:-1, :]\n",
        "\n",
        "        src_mask, tgt_mask, src_padding_mask, tgt_padding_mask = create_mask(src, tgt_input)\n",
        "\n",
        "        logits = model(src, tgt_input, src_mask, tgt_mask,src_padding_mask, tgt_padding_mask, src_padding_mask)\n",
        "        \n",
        "        tgt_out = tgt[1:, :]\n",
        "        loss = loss_fn(logits.reshape(-1, logits.shape[-1]), tgt_out.reshape(-1))\n",
        "        losses += loss.item()\n",
        "\n",
        "    return losses / len(val_dataloader)"
      ],
      "execution_count": 8,
      "outputs": []
    },
    {
      "cell_type": "code",
      "metadata": {
        "id": "69jBpPoadROv",
        "outputId": "00f1f481-0953-4f0d-bd80-0cf44da3fcf8",
        "colab": {
          "base_uri": "https://localhost:8080/"
        }
      },
      "source": [
        "type(Multi30k)"
      ],
      "execution_count": 22,
      "outputs": [
        {
          "output_type": "execute_result",
          "data": {
            "text/plain": [
              "function"
            ]
          },
          "metadata": {},
          "execution_count": 22
        }
      ]
    },
    {
      "cell_type": "code",
      "metadata": {
        "id": "zqDnptatdGjT",
        "outputId": "dfabe31d-0039-47b6-87ea-725b0ba4ce9c",
        "colab": {
          "base_uri": "https://localhost:8080/"
        }
      },
      "source": [
        "evaluate(transformer)"
      ],
      "execution_count": 20,
      "outputs": [
        {
          "output_type": "execute_result",
          "data": {
            "text/plain": [
              "1.9274716526269913"
            ]
          },
          "metadata": {},
          "execution_count": 20
        }
      ]
    },
    {
      "cell_type": "code",
      "metadata": {
        "id": "Nkn7jJMDVlE-",
        "outputId": "de5443a9-198a-491c-a8f5-e946fe4c981a",
        "colab": {
          "base_uri": "https://localhost:8080/"
        }
      },
      "source": [
        "Multi30k"
      ],
      "execution_count": 9,
      "outputs": [
        {
          "output_type": "execute_result",
          "data": {
            "text/plain": [
              "<function torchtext.datasets.multi30k.Multi30k>"
            ]
          },
          "metadata": {},
          "execution_count": 9
        }
      ]
    },
    {
      "cell_type": "markdown",
      "metadata": {
        "id": "hXs5I4pCS-8T"
      },
      "source": [
        "Now we have all the ingredients to train our model. Let's do it!\n",
        "\n",
        "\n"
      ]
    },
    {
      "cell_type": "code",
      "metadata": {
        "id": "9D3qp37Thqg6"
      },
      "source": [
        "from timeit import default_timer as timer\n",
        "NUM_EPOCHS = 18\n",
        "\n",
        "for epoch in range(1, NUM_EPOCHS+1):\n",
        "    start_time = timer()\n",
        "    train_loss = train_epoch(transformer, optimizer)\n",
        "    end_time = timer()\n",
        "    val_loss = evaluate(transformer)\n",
        "    print((f\"Epoch: {epoch}, Train loss: {train_loss:.3f}, Val loss: {val_loss:.3f}, \"f\"Epoch time = {(end_time - start_time):.3f}s\"))\n"
      ],
      "execution_count": null,
      "outputs": []
    },
    {
      "cell_type": "code",
      "metadata": {
        "id": "p9oCvX6oS-8U"
      },
      "source": [
        "# function to generate output sequence using greedy algorithm \n",
        "# 修改这个函数，令其可以输出中间层\n",
        "\n",
        "def greedy_decode(model, src, src_mask, max_len, start_symbol):\n",
        "    src = src.to(DEVICE)\n",
        "    src_mask = src_mask.to(DEVICE)\n",
        "\n",
        "    memory = model.encode(src, src_mask)\n",
        "    ys = torch.ones(1, 1).fill_(start_symbol).type(torch.long).to(DEVICE)\n",
        "\n",
        "    print(ys)\n",
        "\n",
        "    for i in range(max_len-1):\n",
        "        memory = memory.to(DEVICE)\n",
        "        tgt_mask = (generate_square_subsequent_mask(ys.size(0))\n",
        "                    .type(torch.bool)).to(DEVICE)\n",
        "        out = model.decode(ys, memory, tgt_mask)\n",
        "        out = out.transpose(0, 1)\n",
        "\n",
        "        print(out)\n",
        "        print(out.shape)\n",
        "\n",
        "        prob = model.generator(out[:, -1])\n",
        "\n",
        "        #输出预测下一个词的概率10838维度的向量\n",
        "        print(prob)\n",
        "        print(prob.shape)\n",
        "\n",
        "        _, next_word = torch.max(prob, dim=1)\n",
        "        next_word = next_word.item()\n",
        "        \n",
        "        print(next_word)\n",
        "\n",
        "        ys = torch.cat([ys,\n",
        "                        torch.ones(1, 1).type_as(src.data).fill_(next_word)], dim=0)\n",
        "        if next_word == EOS_IDX:\n",
        "            break\n",
        "    return ys\n",
        "\n",
        "\n",
        "# actual function to translate input sentence into target language\n",
        "def translate(model: torch.nn.Module, src_sentence: str):\n",
        "    model.eval()\n",
        "    src = text_transform[SRC_LANGUAGE](src_sentence).view(-1, 1)\n",
        "    num_tokens = src.shape[0]\n",
        "    src_mask = (torch.zeros(num_tokens, num_tokens)).type(torch.bool)\n",
        "    tgt_tokens = greedy_decode(\n",
        "        model,  src, src_mask, max_len=num_tokens + 5, start_symbol=BOS_IDX).flatten()\n",
        "    return \" \".join(vocab_transform[TGT_LANGUAGE].lookup_tokens(list(tgt_tokens.cpu().numpy()))).replace(\"<bos>\", \"\").replace(\"<eos>\", \"\")"
      ],
      "execution_count": 37,
      "outputs": []
    },
    {
      "cell_type": "code",
      "metadata": {
        "id": "gF1qAoHQS-8U",
        "outputId": "207715d7-e877-40c4-ec92-aac7f4f5daf9",
        "colab": {
          "base_uri": "https://localhost:8080/"
        }
      },
      "source": [
        "print(translate(transformer, \"Eine Gruppe von Menschen steht vor einem Iglu .\"))\n",
        "#为啥一个是长度11 一个是输出12 好像是因为\\n 换行符"
      ],
      "execution_count": 38,
      "outputs": [
        {
          "output_type": "stream",
          "name": "stdout",
          "text": [
            "tensor([[2]], device='cuda:0')\n",
            "tensor([[[-1.7156,  0.2848, -0.8494, -1.0188,  0.0556,  0.3877,  0.2509,\n",
            "          -2.2157, -1.6183, -1.7543,  3.1654,  0.5463,  0.4404, -0.3983,\n",
            "           0.2629,  0.7033,  0.9706, -1.5716, -1.4989,  1.2513, -2.1890,\n",
            "           1.4959,  0.3410, -1.4265,  0.2329, -1.1895,  0.7880,  0.5572,\n",
            "          -0.0953, -0.4533, -0.5618,  1.0785, -0.0129,  1.1697, -1.0064,\n",
            "          -0.7492, -0.2225, -0.7541, -0.0048,  0.0772, -2.0877, -0.7508,\n",
            "           1.5083, -0.0821,  0.4026, -0.4518, -1.7667, -0.3150,  0.8001,\n",
            "          -2.4648,  2.7320, -0.8564, -1.9375,  1.7234, -0.0169, -0.5499,\n",
            "           2.0018, -0.7014,  0.3265, -0.1239, -1.4747, -2.3950,  0.0296,\n",
            "          -1.3427,  0.6532,  2.3968,  1.7090, -0.6940, -1.7101, -0.6905,\n",
            "           1.0928,  2.5016,  1.6566, -0.7566, -1.5240,  2.5410, -0.6570,\n",
            "           0.8757,  0.5308,  1.4958,  0.9077,  0.6438,  0.2702,  1.1331,\n",
            "          -1.0984,  3.0428, -1.0090, -1.8032, -0.0840,  0.0113,  0.8166,\n",
            "          -0.5975,  0.1310,  1.6249, -0.1796, -1.9856, -0.7930,  3.1981,\n",
            "           0.0317, -0.9382, -0.5818, -1.6120, -0.7652,  0.7945,  1.5655,\n",
            "           1.7272, -0.3304, -0.1657,  0.8888,  0.6529,  2.3295,  1.6832,\n",
            "           3.2187,  0.3755,  0.1150, -2.6687, -1.6628,  1.1046, -1.1129,\n",
            "          -0.6154, -0.0527,  1.9041, -0.7659,  0.2566,  0.3855, -0.8276,\n",
            "          -1.1383,  0.5783,  1.1624,  1.1998, -0.7768,  0.3413,  1.1097,\n",
            "          -2.2808, -0.8172, -1.9652,  1.3987, -1.2627,  1.1226,  0.6784,\n",
            "          -0.5871, -1.7934,  0.9824, -1.8843,  0.3905, -0.3797,  3.1610,\n",
            "           0.2562, -0.7587, -2.4492, -1.5476, -0.1390, -0.3816, -2.5152,\n",
            "          -1.3400,  0.2510, -1.1308, -1.2603,  2.7893,  0.5416,  1.8376,\n",
            "           1.8927, -0.6103, -0.2845, -1.5271, -0.6225, -2.0576, -1.4863,\n",
            "           0.9450, -0.6193, -0.0865,  0.8516,  2.6605,  1.7557, -1.6050,\n",
            "          -2.5483,  0.2468,  1.6840, -2.4540, -1.7087, -0.0423,  1.1997,\n",
            "           0.4712, -0.4313, -0.7645,  0.0485,  0.9531,  0.9837,  0.2640,\n",
            "           1.0043, -1.3797, -0.0706, -1.6571, -1.9019,  0.4610, -0.1962,\n",
            "           1.3969,  1.0278,  0.8375, -0.4146,  0.9883,  1.3888, -1.7216,\n",
            "           1.2589, -1.4640,  2.9977, -1.3654, -2.1530, -1.2854,  0.8410,\n",
            "           0.1297,  1.6802, -2.1117, -1.0403,  1.8940,  1.2535,  0.7263,\n",
            "          -0.5927,  0.2126,  1.3800, -2.4114, -0.4778,  1.6975, -2.1087,\n",
            "           2.2999, -1.2319, -1.4683,  1.7822, -1.4706, -0.2381, -0.1562,\n",
            "          -2.6207,  2.9489,  1.3278,  0.2278,  3.2711,  0.9173,  0.1215,\n",
            "          -0.3937,  0.7902,  0.3432,  0.1723,  1.1261, -0.1938,  0.6594,\n",
            "           1.7075, -1.4303, -0.2658,  0.2378, -0.4311, -0.4666,  0.2913,\n",
            "           1.1497, -1.9357, -1.2525, -0.5662, -1.0636, -2.1186, -0.7246,\n",
            "           0.0264,  1.5362, -0.3453,  3.5416,  0.7258,  0.5581,  0.4052,\n",
            "           2.1503, -0.2062,  2.1181, -0.4118,  0.0799, -0.4959,  1.1672,\n",
            "           1.3171,  3.0136,  1.9657, -1.0836,  0.2541,  0.4215, -1.7402,\n",
            "          -1.2590, -1.6999, -1.5991, -1.0528,  0.5562,  0.7219,  0.8802,\n",
            "           0.3857,  2.1864, -2.4063, -0.4243, -0.4935,  0.3352, -0.0457,\n",
            "          -2.4535,  1.7587, -1.2133,  1.4750, -0.4887, -1.6411, -0.4316,\n",
            "           1.5164,  2.3223,  0.2100,  0.1601, -0.3146, -0.6423,  0.8524,\n",
            "          -1.3943,  2.0173,  0.4610,  0.6487, -1.8006,  1.3033,  0.0706,\n",
            "           0.1749,  1.8830,  1.7206, -0.9385, -1.5609,  1.0363, -0.7270,\n",
            "           0.5740, -0.1327, -1.4860,  1.3778,  0.2309, -1.3869,  2.4269,\n",
            "           1.2767,  1.1688,  1.6156,  1.0312, -2.0660,  1.2178, -1.2979,\n",
            "           1.2854, -0.4478, -2.1094, -1.7199,  1.7722,  0.1413, -0.4545,\n",
            "          -0.3331,  0.4943,  0.2632, -0.6249, -0.5568,  1.8049, -0.5478,\n",
            "           0.7480, -1.8697,  0.1424, -0.1542, -1.6086,  1.6666,  0.0262,\n",
            "          -0.0538, -1.9035,  0.6188, -0.8530,  1.4920, -1.7777,  2.7007,\n",
            "           1.3057, -0.6715,  0.7471,  1.5440, -1.1741,  0.0409, -1.4093,\n",
            "           1.0772, -0.1731, -2.0967, -1.6009,  1.3630, -1.4074,  0.0203,\n",
            "          -0.7883, -0.6144, -1.0731,  0.9249,  1.7970,  2.1465,  2.0497,\n",
            "          -1.2239,  2.6352, -0.3915,  1.1229, -0.7481, -0.7482, -1.2026,\n",
            "          -1.6442, -0.2772,  1.5875,  3.1127,  0.6943, -1.3738, -2.2025,\n",
            "           0.4354,  0.2511, -0.1487, -0.2429, -0.3330, -2.4679, -0.6969,\n",
            "          -2.3648, -0.3079, -0.0530,  0.8255, -0.4296,  0.1616,  0.2230,\n",
            "          -1.0682,  0.1074, -0.7063, -2.5735,  0.3748, -0.2332, -0.7616,\n",
            "           1.6915,  1.9324,  0.2957, -2.6388,  1.5588, -0.0794, -0.4293,\n",
            "          -0.5690, -0.7218, -0.7708, -1.0647, -0.2195, -0.2453, -0.5337,\n",
            "           1.2692, -1.3967, -0.0391, -0.5869,  0.1545, -0.2936, -1.9174,\n",
            "           0.4053,  0.1457, -0.7601,  0.9832, -3.4836, -2.3120,  3.5885,\n",
            "          -1.3324,  0.7015,  0.6376, -0.3000, -0.2139,  0.6085,  0.5743,\n",
            "          -0.2345, -0.9868, -0.2710, -0.0108, -0.8717,  1.5327,  2.9018,\n",
            "           0.4510,  1.3829,  1.5661, -2.4090,  0.5470,  0.4191, -1.8609,\n",
            "          -0.3683, -1.4115,  0.0473,  1.2937, -0.0493,  0.3079,  1.5714,\n",
            "           1.7416,  1.4950, -0.8870, -2.7374, -0.2110, -0.0327, -2.1736,\n",
            "           1.2586,  1.2749,  1.1240, -1.0961, -3.0515,  0.5945, -0.5927,\n",
            "           3.0122, -3.1800,  1.5387, -1.3786,  0.3115,  1.6724, -1.0737,\n",
            "           0.8708, -1.5199,  0.6980, -2.0490,  0.4871, -0.8564,  1.9542,\n",
            "           2.8121,  0.4330, -0.5629, -0.7175, -1.3507, -1.4711,  1.8184,\n",
            "          -0.4171]]], device='cuda:0', grad_fn=<TransposeBackward0>)\n",
            "torch.Size([1, 1, 512])\n",
            "tensor([[-3.4576, -3.2728, -3.3198,  ..., -0.6320, -0.9380, -1.1387]],\n",
            "       device='cuda:0', grad_fn=<AddmmBackward>)\n",
            "torch.Size([1, 10838])\n",
            "7\n",
            "tensor([[[-1.7156,  0.2848, -0.8494,  ..., -1.4711,  1.8184, -0.4171],\n",
            "         [-2.4953, -2.9894,  1.0751,  ..., -0.4401, -1.2863, -1.4981]]],\n",
            "       device='cuda:0', grad_fn=<TransposeBackward0>)\n",
            "torch.Size([1, 2, 512])\n",
            "tensor([[-5.4833, -5.4546, -5.4279,  ..., -2.9676, -4.1087, -3.0136]],\n",
            "       device='cuda:0', grad_fn=<AddmmBackward>)\n",
            "torch.Size([1, 10838])\n",
            "40\n",
            "tensor([[[-1.7156,  0.2848, -0.8494,  ..., -1.4711,  1.8184, -0.4171],\n",
            "         [-2.4953, -2.9894,  1.0751,  ..., -0.4401, -1.2863, -1.4981],\n",
            "         [ 0.6809, -1.1543,  0.9202,  ...,  0.2862, -0.9003,  0.9067]]],\n",
            "       device='cuda:0', grad_fn=<TransposeBackward0>)\n",
            "torch.Size([1, 3, 512])\n",
            "tensor([[-3.0012, -3.1379, -3.3271,  ..., -1.6492, -3.3044, -3.7474]],\n",
            "       device='cuda:0', grad_fn=<AddmmBackward>)\n",
            "torch.Size([1, 10838])\n",
            "14\n",
            "tensor([[[-1.7156,  0.2848, -0.8494,  ..., -1.4711,  1.8184, -0.4171],\n",
            "         [-2.4953, -2.9894,  1.0751,  ..., -0.4401, -1.2863, -1.4981],\n",
            "         [ 0.6809, -1.1543,  0.9202,  ...,  0.2862, -0.9003,  0.9067],\n",
            "         [-0.2140, -2.1360,  0.6246,  ..., -0.9428,  1.0365,  1.6279]]],\n",
            "       device='cuda:0', grad_fn=<TransposeBackward0>)\n",
            "torch.Size([1, 4, 512])\n",
            "tensor([[-1.7512, -1.6778, -1.7243,  ..., -1.0892, -1.0240, -1.0155]],\n",
            "       device='cuda:0', grad_fn=<AddmmBackward>)\n",
            "torch.Size([1, 10838])\n",
            "23\n",
            "tensor([[[-1.7156,  0.2848, -0.8494,  ..., -1.4711,  1.8184, -0.4171],\n",
            "         [-2.4953, -2.9894,  1.0751,  ..., -0.4401, -1.2863, -1.4981],\n",
            "         [ 0.6809, -1.1543,  0.9202,  ...,  0.2862, -0.9003,  0.9067],\n",
            "         [-0.2140, -2.1360,  0.6246,  ..., -0.9428,  1.0365,  1.6279],\n",
            "         [ 1.0007, -1.0903,  1.6442,  ...,  0.9787, -0.0105, -1.4650]]],\n",
            "       device='cuda:0', grad_fn=<TransposeBackward0>)\n",
            "torch.Size([1, 5, 512])\n",
            "tensor([[-3.6973, -3.6084, -3.9519,  ..., -3.1642, -3.0037, -4.0465]],\n",
            "       device='cuda:0', grad_fn=<AddmmBackward>)\n",
            "torch.Size([1, 10838])\n",
            "38\n",
            "tensor([[[-1.7156,  0.2848, -0.8494,  ..., -1.4711,  1.8184, -0.4171],\n",
            "         [-2.4953, -2.9894,  1.0751,  ..., -0.4401, -1.2863, -1.4981],\n",
            "         [ 0.6809, -1.1543,  0.9202,  ...,  0.2862, -0.9003,  0.9067],\n",
            "         [-0.2140, -2.1360,  0.6246,  ..., -0.9428,  1.0365,  1.6279],\n",
            "         [ 1.0007, -1.0903,  1.6442,  ...,  0.9787, -0.0105, -1.4650],\n",
            "         [ 0.9087, -0.6195, -0.1615,  ...,  0.2421, -0.0201, -0.1454]]],\n",
            "       device='cuda:0', grad_fn=<TransposeBackward0>)\n",
            "torch.Size([1, 6, 512])\n",
            "tensor([[-6.5635, -6.9664, -6.7721,  ..., -2.4891, -2.1341, -2.6705]],\n",
            "       device='cuda:0', grad_fn=<AddmmBackward>)\n",
            "torch.Size([1, 10838])\n",
            "8\n",
            "tensor([[[-1.7156,  0.2848, -0.8494,  ..., -1.4711,  1.8184, -0.4171],\n",
            "         [-2.4953, -2.9894,  1.0751,  ..., -0.4401, -1.2863, -1.4981],\n",
            "         [ 0.6809, -1.1543,  0.9202,  ...,  0.2862, -0.9003,  0.9067],\n",
            "         ...,\n",
            "         [ 1.0007, -1.0903,  1.6442,  ...,  0.9787, -0.0105, -1.4650],\n",
            "         [ 0.9087, -0.6195, -0.1615,  ...,  0.2421, -0.0201, -0.1454],\n",
            "         [-0.1777,  0.7253,  0.8131,  ..., -0.9817,  0.9674,  1.9268]]],\n",
            "       device='cuda:0', grad_fn=<TransposeBackward0>)\n",
            "torch.Size([1, 7, 512])\n",
            "tensor([[-4.3842, -4.4985, -4.6324,  ..., -2.1762, -1.0447, -2.1121]],\n",
            "       device='cuda:0', grad_fn=<AddmmBackward>)\n",
            "torch.Size([1, 10838])\n",
            "45\n",
            "tensor([[[-1.7156,  0.2848, -0.8494,  ..., -1.4711,  1.8184, -0.4171],\n",
            "         [-2.4953, -2.9894,  1.0751,  ..., -0.4401, -1.2863, -1.4981],\n",
            "         [ 0.6809, -1.1543,  0.9202,  ...,  0.2862, -0.9003,  0.9067],\n",
            "         ...,\n",
            "         [ 0.9087, -0.6195, -0.1615,  ...,  0.2421, -0.0201, -0.1454],\n",
            "         [-0.1777,  0.7253,  0.8131,  ..., -0.9817,  0.9674,  1.9268],\n",
            "         [ 1.6155,  0.1831,  1.2601,  ..., -0.5480, -0.8798,  0.6808]]],\n",
            "       device='cuda:0', grad_fn=<TransposeBackward0>)\n",
            "torch.Size([1, 8, 512])\n",
            "tensor([[-3.8912, -4.0694, -4.1474,  ..., -1.6965, -1.9259, -3.0172]],\n",
            "       device='cuda:0', grad_fn=<AddmmBackward>)\n",
            "torch.Size([1, 10838])\n",
            "14\n",
            "tensor([[[-1.7156,  0.2848, -0.8494,  ..., -1.4711,  1.8184, -0.4171],\n",
            "         [-2.4953, -2.9894,  1.0751,  ..., -0.4401, -1.2863, -1.4981],\n",
            "         [ 0.6809, -1.1543,  0.9202,  ...,  0.2862, -0.9003,  0.9067],\n",
            "         ...,\n",
            "         [-0.1777,  0.7253,  0.8131,  ..., -0.9817,  0.9674,  1.9268],\n",
            "         [ 1.6155,  0.1831,  1.2601,  ..., -0.5480, -0.8798,  0.6808],\n",
            "         [ 0.5473, -0.7263,  0.9936,  ..., -2.1221,  0.4316,  0.0110]]],\n",
            "       device='cuda:0', grad_fn=<TransposeBackward0>)\n",
            "torch.Size([1, 9, 512])\n",
            "tensor([[-3.5030, -3.4902, -3.7886,  ..., -1.2581, -0.2405, -1.2536]],\n",
            "       device='cuda:0', grad_fn=<AddmmBackward>)\n",
            "torch.Size([1, 10838])\n",
            "29\n",
            "tensor([[[-1.7156,  0.2848, -0.8494,  ..., -1.4711,  1.8184, -0.4171],\n",
            "         [-2.4953, -2.9894,  1.0751,  ..., -0.4401, -1.2863, -1.4981],\n",
            "         [ 0.6809, -1.1543,  0.9202,  ...,  0.2862, -0.9003,  0.9067],\n",
            "         ...,\n",
            "         [ 1.6155,  0.1831,  1.2601,  ..., -0.5480, -0.8798,  0.6808],\n",
            "         [ 0.5473, -0.7263,  0.9936,  ..., -2.1221,  0.4316,  0.0110],\n",
            "         [ 0.7325,  1.6314, -0.6629,  ..., -0.0879,  1.1793,  0.0434]]],\n",
            "       device='cuda:0', grad_fn=<TransposeBackward0>)\n",
            "torch.Size([1, 10, 512])\n",
            "tensor([[2.4182, 2.4764, 2.2523,  ..., 4.1091, 4.5884, 3.6747]],\n",
            "       device='cuda:0', grad_fn=<AddmmBackward>)\n",
            "torch.Size([1, 10838])\n",
            "773\n",
            "tensor([[[-1.7156,  0.2848, -0.8494,  ..., -1.4711,  1.8184, -0.4171],\n",
            "         [-2.4953, -2.9894,  1.0751,  ..., -0.4401, -1.2863, -1.4981],\n",
            "         [ 0.6809, -1.1543,  0.9202,  ...,  0.2862, -0.9003,  0.9067],\n",
            "         ...,\n",
            "         [ 0.5473, -0.7263,  0.9936,  ..., -2.1221,  0.4316,  0.0110],\n",
            "         [ 0.7325,  1.6314, -0.6629,  ..., -0.0879,  1.1793,  0.0434],\n",
            "         [-0.0434, -0.1877, -0.5132,  ...,  1.9305, -0.8621,  0.6786]]],\n",
            "       device='cuda:0', grad_fn=<TransposeBackward0>)\n",
            "torch.Size([1, 11, 512])\n",
            "tensor([[-1.1671, -1.3687, -1.4452,  ...,  1.2044,  0.7432, -0.0062]],\n",
            "       device='cuda:0', grad_fn=<AddmmBackward>)\n",
            "torch.Size([1, 10838])\n",
            "6\n",
            "tensor([[[-1.7156,  0.2848, -0.8494,  ..., -1.4711,  1.8184, -0.4171],\n",
            "         [-2.4953, -2.9894,  1.0751,  ..., -0.4401, -1.2863, -1.4981],\n",
            "         [ 0.6809, -1.1543,  0.9202,  ...,  0.2862, -0.9003,  0.9067],\n",
            "         ...,\n",
            "         [ 0.7325,  1.6314, -0.6629,  ..., -0.0879,  1.1793,  0.0434],\n",
            "         [-0.0434, -0.1877, -0.5132,  ...,  1.9305, -0.8621,  0.6786],\n",
            "         [ 0.2785, -1.4651,  0.6517,  ...,  1.0029, -1.4265,  0.2717]]],\n",
            "       device='cuda:0', grad_fn=<TransposeBackward0>)\n",
            "torch.Size([1, 12, 512])\n",
            "tensor([[-1.0731, -1.3034, -1.3706,  ..., -0.2489, -0.5911, -0.9405]],\n",
            "       device='cuda:0', grad_fn=<AddmmBackward>)\n",
            "torch.Size([1, 10838])\n",
            "3\n",
            " A group of people standing in front of an office . \n"
          ]
        }
      ]
    },
    {
      "cell_type": "code",
      "metadata": {
        "id": "muz2pR6ncV4J"
      },
      "source": [
        "torch.save(transformer,'save.pt')"
      ],
      "execution_count": 17,
      "outputs": []
    },
    {
      "cell_type": "code",
      "metadata": {
        "id": "58R9pRcEcY82",
        "outputId": "32ec3e18-63dc-4c04-8a24-c56b3f5b1f56",
        "colab": {
          "base_uri": "https://localhost:8080/"
        }
      },
      "source": [
        "model2=torch.load('save.pt')\n",
        "print(translate(model2, \"Eine Gruppe von Menschen steht vor einem Iglu .\"))"
      ],
      "execution_count": 18,
      "outputs": [
        {
          "output_type": "stream",
          "name": "stdout",
          "text": [
            " A group of people stand in front of an office store . \n"
          ]
        }
      ]
    },
    {
      "cell_type": "code",
      "metadata": {
        "id": "_Mtlkh-YfZnu",
        "outputId": "a1f535e8-8cba-45be-a44a-2155b4a7af52",
        "colab": {
          "base_uri": "https://localhost:8080/"
        }
      },
      "source": [
        "transformer.eval()"
      ],
      "execution_count": 26,
      "outputs": [
        {
          "output_type": "execute_result",
          "data": {
            "text/plain": [
              "Seq2SeqTransformer(\n",
              "  (transformer): Transformer(\n",
              "    (encoder): TransformerEncoder(\n",
              "      (layers): ModuleList(\n",
              "        (0): TransformerEncoderLayer(\n",
              "          (self_attn): MultiheadAttention(\n",
              "            (out_proj): NonDynamicallyQuantizableLinear(in_features=512, out_features=512, bias=True)\n",
              "          )\n",
              "          (linear1): Linear(in_features=512, out_features=512, bias=True)\n",
              "          (dropout): Dropout(p=0.1, inplace=False)\n",
              "          (linear2): Linear(in_features=512, out_features=512, bias=True)\n",
              "          (norm1): LayerNorm((512,), eps=1e-05, elementwise_affine=True)\n",
              "          (norm2): LayerNorm((512,), eps=1e-05, elementwise_affine=True)\n",
              "          (dropout1): Dropout(p=0.1, inplace=False)\n",
              "          (dropout2): Dropout(p=0.1, inplace=False)\n",
              "        )\n",
              "        (1): TransformerEncoderLayer(\n",
              "          (self_attn): MultiheadAttention(\n",
              "            (out_proj): NonDynamicallyQuantizableLinear(in_features=512, out_features=512, bias=True)\n",
              "          )\n",
              "          (linear1): Linear(in_features=512, out_features=512, bias=True)\n",
              "          (dropout): Dropout(p=0.1, inplace=False)\n",
              "          (linear2): Linear(in_features=512, out_features=512, bias=True)\n",
              "          (norm1): LayerNorm((512,), eps=1e-05, elementwise_affine=True)\n",
              "          (norm2): LayerNorm((512,), eps=1e-05, elementwise_affine=True)\n",
              "          (dropout1): Dropout(p=0.1, inplace=False)\n",
              "          (dropout2): Dropout(p=0.1, inplace=False)\n",
              "        )\n",
              "        (2): TransformerEncoderLayer(\n",
              "          (self_attn): MultiheadAttention(\n",
              "            (out_proj): NonDynamicallyQuantizableLinear(in_features=512, out_features=512, bias=True)\n",
              "          )\n",
              "          (linear1): Linear(in_features=512, out_features=512, bias=True)\n",
              "          (dropout): Dropout(p=0.1, inplace=False)\n",
              "          (linear2): Linear(in_features=512, out_features=512, bias=True)\n",
              "          (norm1): LayerNorm((512,), eps=1e-05, elementwise_affine=True)\n",
              "          (norm2): LayerNorm((512,), eps=1e-05, elementwise_affine=True)\n",
              "          (dropout1): Dropout(p=0.1, inplace=False)\n",
              "          (dropout2): Dropout(p=0.1, inplace=False)\n",
              "        )\n",
              "      )\n",
              "      (norm): LayerNorm((512,), eps=1e-05, elementwise_affine=True)\n",
              "    )\n",
              "    (decoder): TransformerDecoder(\n",
              "      (layers): ModuleList(\n",
              "        (0): TransformerDecoderLayer(\n",
              "          (self_attn): MultiheadAttention(\n",
              "            (out_proj): NonDynamicallyQuantizableLinear(in_features=512, out_features=512, bias=True)\n",
              "          )\n",
              "          (multihead_attn): MultiheadAttention(\n",
              "            (out_proj): NonDynamicallyQuantizableLinear(in_features=512, out_features=512, bias=True)\n",
              "          )\n",
              "          (linear1): Linear(in_features=512, out_features=512, bias=True)\n",
              "          (dropout): Dropout(p=0.1, inplace=False)\n",
              "          (linear2): Linear(in_features=512, out_features=512, bias=True)\n",
              "          (norm1): LayerNorm((512,), eps=1e-05, elementwise_affine=True)\n",
              "          (norm2): LayerNorm((512,), eps=1e-05, elementwise_affine=True)\n",
              "          (norm3): LayerNorm((512,), eps=1e-05, elementwise_affine=True)\n",
              "          (dropout1): Dropout(p=0.1, inplace=False)\n",
              "          (dropout2): Dropout(p=0.1, inplace=False)\n",
              "          (dropout3): Dropout(p=0.1, inplace=False)\n",
              "        )\n",
              "        (1): TransformerDecoderLayer(\n",
              "          (self_attn): MultiheadAttention(\n",
              "            (out_proj): NonDynamicallyQuantizableLinear(in_features=512, out_features=512, bias=True)\n",
              "          )\n",
              "          (multihead_attn): MultiheadAttention(\n",
              "            (out_proj): NonDynamicallyQuantizableLinear(in_features=512, out_features=512, bias=True)\n",
              "          )\n",
              "          (linear1): Linear(in_features=512, out_features=512, bias=True)\n",
              "          (dropout): Dropout(p=0.1, inplace=False)\n",
              "          (linear2): Linear(in_features=512, out_features=512, bias=True)\n",
              "          (norm1): LayerNorm((512,), eps=1e-05, elementwise_affine=True)\n",
              "          (norm2): LayerNorm((512,), eps=1e-05, elementwise_affine=True)\n",
              "          (norm3): LayerNorm((512,), eps=1e-05, elementwise_affine=True)\n",
              "          (dropout1): Dropout(p=0.1, inplace=False)\n",
              "          (dropout2): Dropout(p=0.1, inplace=False)\n",
              "          (dropout3): Dropout(p=0.1, inplace=False)\n",
              "        )\n",
              "        (2): TransformerDecoderLayer(\n",
              "          (self_attn): MultiheadAttention(\n",
              "            (out_proj): NonDynamicallyQuantizableLinear(in_features=512, out_features=512, bias=True)\n",
              "          )\n",
              "          (multihead_attn): MultiheadAttention(\n",
              "            (out_proj): NonDynamicallyQuantizableLinear(in_features=512, out_features=512, bias=True)\n",
              "          )\n",
              "          (linear1): Linear(in_features=512, out_features=512, bias=True)\n",
              "          (dropout): Dropout(p=0.1, inplace=False)\n",
              "          (linear2): Linear(in_features=512, out_features=512, bias=True)\n",
              "          (norm1): LayerNorm((512,), eps=1e-05, elementwise_affine=True)\n",
              "          (norm2): LayerNorm((512,), eps=1e-05, elementwise_affine=True)\n",
              "          (norm3): LayerNorm((512,), eps=1e-05, elementwise_affine=True)\n",
              "          (dropout1): Dropout(p=0.1, inplace=False)\n",
              "          (dropout2): Dropout(p=0.1, inplace=False)\n",
              "          (dropout3): Dropout(p=0.1, inplace=False)\n",
              "        )\n",
              "      )\n",
              "      (norm): LayerNorm((512,), eps=1e-05, elementwise_affine=True)\n",
              "    )\n",
              "  )\n",
              "  (generator): Linear(in_features=512, out_features=10838, bias=True)\n",
              "  (src_tok_emb): TokenEmbedding(\n",
              "    (embedding): Embedding(19215, 512)\n",
              "  )\n",
              "  (tgt_tok_emb): TokenEmbedding(\n",
              "    (embedding): Embedding(10838, 512)\n",
              "  )\n",
              "  (positional_encoding): PositionalEncoding(\n",
              "    (dropout): Dropout(p=0.1, inplace=False)\n",
              "  )\n",
              ")"
            ]
          },
          "metadata": {},
          "execution_count": 26
        }
      ]
    },
    {
      "cell_type": "code",
      "metadata": {
        "id": "CY0kmk5UgtbT"
      },
      "source": [
        ""
      ],
      "execution_count": null,
      "outputs": []
    },
    {
      "cell_type": "code",
      "metadata": {
        "id": "mzM0dZUCfvjR",
        "outputId": "8149cb79-604d-48cb-8d1c-118b83938d6d",
        "colab": {
          "base_uri": "https://localhost:8080/"
        }
      },
      "source": [
        "text_transform[SRC_LANGUAGE](\"Eine Gruppe von Menschen steht vor einem Iglu .\").view(-1, 1)"
      ],
      "execution_count": 29,
      "outputs": [
        {
          "output_type": "execute_result",
          "data": {
            "text/plain": [
              "tensor([[   2],\n",
              "        [  15],\n",
              "        [  39],\n",
              "        [  25],\n",
              "        [  55],\n",
              "        [  31],\n",
              "        [  29],\n",
              "        [   7],\n",
              "        [6133],\n",
              "        [   5],\n",
              "        [   3]])"
            ]
          },
          "metadata": {},
          "execution_count": 29
        }
      ]
    },
    {
      "cell_type": "code",
      "metadata": {
        "id": "QrYGuJqKcBnA",
        "outputId": "cd7bd092-b8d9-4030-c9b8-aa64e43f65d7",
        "colab": {
          "base_uri": "https://localhost:8080/"
        }
      },
      "source": [
        "# actual function to translate input sentence into target language\n",
        "def translate2(model: torch.nn.Module, src_sentence: str):\n",
        "    model.eval()\n",
        "    src = text_transform[SRC_LANGUAGE](src_sentence).view(-1, 1)\n",
        "    print(src)\n",
        "    num_tokens = src.shape[0]\n",
        "    print(num_tokens )\n",
        "    src_mask = (torch.zeros(num_tokens, num_tokens)).type(torch.bool)\n",
        "    print(src_mask)\n",
        "    tgt_tokens = greedy_decode(\n",
        "        model,  src, src_mask, max_len=num_tokens + 5, start_symbol=BOS_IDX).flatten()\n",
        "    print(tgt_tokens)\n",
        "    return \" \".join(vocab_transform[TGT_LANGUAGE].lookup_tokens(list(tgt_tokens.cpu().numpy()))).replace(\"<bos>\", \"\").replace(\"<eos>\", \"\")\n",
        "print(translate2(transformer, \"Eine Gruppe von Menschen steht vor einem Iglu .\"))"
      ],
      "execution_count": 24,
      "outputs": [
        {
          "output_type": "stream",
          "name": "stdout",
          "text": [
            "tensor([[   2],\n",
            "        [  15],\n",
            "        [  39],\n",
            "        [  25],\n",
            "        [  55],\n",
            "        [  31],\n",
            "        [  29],\n",
            "        [   7],\n",
            "        [6133],\n",
            "        [   5],\n",
            "        [   3]])\n",
            "11\n",
            "tensor([[False, False, False, False, False, False, False, False, False, False,\n",
            "         False],\n",
            "        [False, False, False, False, False, False, False, False, False, False,\n",
            "         False],\n",
            "        [False, False, False, False, False, False, False, False, False, False,\n",
            "         False],\n",
            "        [False, False, False, False, False, False, False, False, False, False,\n",
            "         False],\n",
            "        [False, False, False, False, False, False, False, False, False, False,\n",
            "         False],\n",
            "        [False, False, False, False, False, False, False, False, False, False,\n",
            "         False],\n",
            "        [False, False, False, False, False, False, False, False, False, False,\n",
            "         False],\n",
            "        [False, False, False, False, False, False, False, False, False, False,\n",
            "         False],\n",
            "        [False, False, False, False, False, False, False, False, False, False,\n",
            "         False],\n",
            "        [False, False, False, False, False, False, False, False, False, False,\n",
            "         False],\n",
            "        [False, False, False, False, False, False, False, False, False, False,\n",
            "         False]])\n",
            "tensor([  2,   7,  40,  14,  23, 105,   8,  45,  14,  29, 773, 209,   6,   3],\n",
            "       device='cuda:0')\n",
            " A group of people stand in front of an office store . \n"
          ]
        }
      ]
    },
    {
      "cell_type": "code",
      "metadata": {
        "id": "afQEGUfXcqTl",
        "outputId": "9b6caa4b-adef-43e0-b443-0ffc217f9615",
        "colab": {
          "base_uri": "https://localhost:8080/"
        }
      },
      "source": [
        "from google.colab import drive\n",
        "drive.mount('/content/drive')"
      ],
      "execution_count": 19,
      "outputs": [
        {
          "output_type": "stream",
          "name": "stdout",
          "text": [
            "Mounted at /content/drive\n"
          ]
        }
      ]
    },
    {
      "cell_type": "markdown",
      "metadata": {
        "id": "ZttC133-S-8V"
      },
      "source": [
        "References\n",
        "----------\n",
        "\n",
        "1. Attention is all you need paper.\n",
        "   https://papers.nips.cc/paper/2017/file/3f5ee243547dee91fbd053c1c4a845aa-Paper.pdf\n",
        "2. The annotated transformer. https://nlp.seas.harvard.edu/2018/04/03/attention.html#positional-encoding\n",
        "\n"
      ]
    },
    {
      "cell_type": "code",
      "metadata": {
        "id": "5IWMt-6GTYnu"
      },
      "source": [
        ""
      ],
      "execution_count": 11,
      "outputs": []
    },
    {
      "cell_type": "markdown",
      "metadata": {
        "id": "UuJnK1IVTzTi"
      },
      "source": [
        "## "
      ]
    },
    {
      "cell_type": "code",
      "metadata": {
        "id": "wSv_y--uUBYk"
      },
      "source": [
        "from torch import Tensor\n",
        "import torch\n",
        "import torch.nn as nn\n",
        "from torch.nn import Transformer\n",
        "import math\n",
        "DEVICE = torch.device('cuda' if torch.cuda.is_available() else 'cpu')\n",
        "\n",
        "from torchtext.data.utils import get_tokenizer\n",
        "from torchtext.vocab import build_vocab_from_iterator\n",
        "from torchtext.datasets import Multi30k\n",
        "from typing import Iterable, List\n",
        "\n",
        "\n",
        "SRC_LANGUAGE = 'de'\n",
        "TGT_LANGUAGE = 'en'"
      ],
      "execution_count": 12,
      "outputs": []
    },
    {
      "cell_type": "code",
      "metadata": {
        "id": "bG_AsWmHUJOM"
      },
      "source": [
        ""
      ],
      "execution_count": null,
      "outputs": []
    }
  ]
}