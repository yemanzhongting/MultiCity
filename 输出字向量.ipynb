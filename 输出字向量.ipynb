{
  "nbformat": 4,
  "nbformat_minor": 0,
  "metadata": {
    "colab": {
      "name": "输出字向量",
      "provenance": [],
      "authorship_tag": "ABX9TyM2H3LA3l8Onnmsb3vdwaOd",
      "include_colab_link": true
    },
    "kernelspec": {
      "name": "python3",
      "display_name": "Python 3"
    },
    "language_info": {
      "name": "python"
    },
    "widgets": {
      "application/vnd.jupyter.widget-state+json": {
        "82b24b78ea6a4936b1feb14c1a4f9a46": {
          "model_module": "@jupyter-widgets/controls",
          "model_name": "HBoxModel",
          "model_module_version": "1.5.0",
          "state": {
            "_view_name": "HBoxView",
            "_dom_classes": [],
            "_model_name": "HBoxModel",
            "_view_module": "@jupyter-widgets/controls",
            "_model_module_version": "1.5.0",
            "_view_count": null,
            "_view_module_version": "1.5.0",
            "box_style": "",
            "layout": "IPY_MODEL_56e794932dad425caeaf5ee7a2f1c63d",
            "_model_module": "@jupyter-widgets/controls",
            "children": [
              "IPY_MODEL_ead71306e76b4b529ab2c91bda5333dd",
              "IPY_MODEL_c42fa0febc464df6ad5f8a79504b59e1",
              "IPY_MODEL_42fc84301edd4b9ca4760af415fff96f"
            ]
          }
        },
        "56e794932dad425caeaf5ee7a2f1c63d": {
          "model_module": "@jupyter-widgets/base",
          "model_name": "LayoutModel",
          "model_module_version": "1.2.0",
          "state": {
            "_view_name": "LayoutView",
            "grid_template_rows": null,
            "right": null,
            "justify_content": null,
            "_view_module": "@jupyter-widgets/base",
            "overflow": null,
            "_model_module_version": "1.2.0",
            "_view_count": null,
            "flex_flow": null,
            "width": null,
            "min_width": null,
            "border": null,
            "align_items": null,
            "bottom": null,
            "_model_module": "@jupyter-widgets/base",
            "top": null,
            "grid_column": null,
            "overflow_y": null,
            "overflow_x": null,
            "grid_auto_flow": null,
            "grid_area": null,
            "grid_template_columns": null,
            "flex": null,
            "_model_name": "LayoutModel",
            "justify_items": null,
            "grid_row": null,
            "max_height": null,
            "align_content": null,
            "visibility": null,
            "align_self": null,
            "height": null,
            "min_height": null,
            "padding": null,
            "grid_auto_rows": null,
            "grid_gap": null,
            "max_width": null,
            "order": null,
            "_view_module_version": "1.2.0",
            "grid_template_areas": null,
            "object_position": null,
            "object_fit": null,
            "grid_auto_columns": null,
            "margin": null,
            "display": null,
            "left": null
          }
        },
        "ead71306e76b4b529ab2c91bda5333dd": {
          "model_module": "@jupyter-widgets/controls",
          "model_name": "HTMLModel",
          "model_module_version": "1.5.0",
          "state": {
            "_view_name": "HTMLView",
            "style": "IPY_MODEL_29b3c904f53a4912a5986e48826e3cda",
            "_dom_classes": [],
            "description": "",
            "_model_name": "HTMLModel",
            "placeholder": "​",
            "_view_module": "@jupyter-widgets/controls",
            "_model_module_version": "1.5.0",
            "value": "Downloading: 100%",
            "_view_count": null,
            "_view_module_version": "1.5.0",
            "description_tooltip": null,
            "_model_module": "@jupyter-widgets/controls",
            "layout": "IPY_MODEL_76b5017e320f42a3ab0c43373ffc7d3a"
          }
        },
        "c42fa0febc464df6ad5f8a79504b59e1": {
          "model_module": "@jupyter-widgets/controls",
          "model_name": "FloatProgressModel",
          "model_module_version": "1.5.0",
          "state": {
            "_view_name": "ProgressView",
            "style": "IPY_MODEL_9ae48ceeff1c4ca598abf574f0a9b505",
            "_dom_classes": [],
            "description": "",
            "_model_name": "FloatProgressModel",
            "bar_style": "success",
            "max": 519,
            "_view_module": "@jupyter-widgets/controls",
            "_model_module_version": "1.5.0",
            "value": 519,
            "_view_count": null,
            "_view_module_version": "1.5.0",
            "orientation": "horizontal",
            "min": 0,
            "description_tooltip": null,
            "_model_module": "@jupyter-widgets/controls",
            "layout": "IPY_MODEL_21ae9098fb694229a89c982450cd6660"
          }
        },
        "42fc84301edd4b9ca4760af415fff96f": {
          "model_module": "@jupyter-widgets/controls",
          "model_name": "HTMLModel",
          "model_module_version": "1.5.0",
          "state": {
            "_view_name": "HTMLView",
            "style": "IPY_MODEL_33add676856f4126a82d5798e700c957",
            "_dom_classes": [],
            "description": "",
            "_model_name": "HTMLModel",
            "placeholder": "​",
            "_view_module": "@jupyter-widgets/controls",
            "_model_module_version": "1.5.0",
            "value": " 519/519 [00:00&lt;00:00, 10.6kB/s]",
            "_view_count": null,
            "_view_module_version": "1.5.0",
            "description_tooltip": null,
            "_model_module": "@jupyter-widgets/controls",
            "layout": "IPY_MODEL_4907b22bc12648e982c1443b0fd9e700"
          }
        },
        "29b3c904f53a4912a5986e48826e3cda": {
          "model_module": "@jupyter-widgets/controls",
          "model_name": "DescriptionStyleModel",
          "model_module_version": "1.5.0",
          "state": {
            "_view_name": "StyleView",
            "_model_name": "DescriptionStyleModel",
            "description_width": "",
            "_view_module": "@jupyter-widgets/base",
            "_model_module_version": "1.5.0",
            "_view_count": null,
            "_view_module_version": "1.2.0",
            "_model_module": "@jupyter-widgets/controls"
          }
        },
        "76b5017e320f42a3ab0c43373ffc7d3a": {
          "model_module": "@jupyter-widgets/base",
          "model_name": "LayoutModel",
          "model_module_version": "1.2.0",
          "state": {
            "_view_name": "LayoutView",
            "grid_template_rows": null,
            "right": null,
            "justify_content": null,
            "_view_module": "@jupyter-widgets/base",
            "overflow": null,
            "_model_module_version": "1.2.0",
            "_view_count": null,
            "flex_flow": null,
            "width": null,
            "min_width": null,
            "border": null,
            "align_items": null,
            "bottom": null,
            "_model_module": "@jupyter-widgets/base",
            "top": null,
            "grid_column": null,
            "overflow_y": null,
            "overflow_x": null,
            "grid_auto_flow": null,
            "grid_area": null,
            "grid_template_columns": null,
            "flex": null,
            "_model_name": "LayoutModel",
            "justify_items": null,
            "grid_row": null,
            "max_height": null,
            "align_content": null,
            "visibility": null,
            "align_self": null,
            "height": null,
            "min_height": null,
            "padding": null,
            "grid_auto_rows": null,
            "grid_gap": null,
            "max_width": null,
            "order": null,
            "_view_module_version": "1.2.0",
            "grid_template_areas": null,
            "object_position": null,
            "object_fit": null,
            "grid_auto_columns": null,
            "margin": null,
            "display": null,
            "left": null
          }
        },
        "9ae48ceeff1c4ca598abf574f0a9b505": {
          "model_module": "@jupyter-widgets/controls",
          "model_name": "ProgressStyleModel",
          "model_module_version": "1.5.0",
          "state": {
            "_view_name": "StyleView",
            "_model_name": "ProgressStyleModel",
            "description_width": "",
            "_view_module": "@jupyter-widgets/base",
            "_model_module_version": "1.5.0",
            "_view_count": null,
            "_view_module_version": "1.2.0",
            "bar_color": null,
            "_model_module": "@jupyter-widgets/controls"
          }
        },
        "21ae9098fb694229a89c982450cd6660": {
          "model_module": "@jupyter-widgets/base",
          "model_name": "LayoutModel",
          "model_module_version": "1.2.0",
          "state": {
            "_view_name": "LayoutView",
            "grid_template_rows": null,
            "right": null,
            "justify_content": null,
            "_view_module": "@jupyter-widgets/base",
            "overflow": null,
            "_model_module_version": "1.2.0",
            "_view_count": null,
            "flex_flow": null,
            "width": null,
            "min_width": null,
            "border": null,
            "align_items": null,
            "bottom": null,
            "_model_module": "@jupyter-widgets/base",
            "top": null,
            "grid_column": null,
            "overflow_y": null,
            "overflow_x": null,
            "grid_auto_flow": null,
            "grid_area": null,
            "grid_template_columns": null,
            "flex": null,
            "_model_name": "LayoutModel",
            "justify_items": null,
            "grid_row": null,
            "max_height": null,
            "align_content": null,
            "visibility": null,
            "align_self": null,
            "height": null,
            "min_height": null,
            "padding": null,
            "grid_auto_rows": null,
            "grid_gap": null,
            "max_width": null,
            "order": null,
            "_view_module_version": "1.2.0",
            "grid_template_areas": null,
            "object_position": null,
            "object_fit": null,
            "grid_auto_columns": null,
            "margin": null,
            "display": null,
            "left": null
          }
        },
        "33add676856f4126a82d5798e700c957": {
          "model_module": "@jupyter-widgets/controls",
          "model_name": "DescriptionStyleModel",
          "model_module_version": "1.5.0",
          "state": {
            "_view_name": "StyleView",
            "_model_name": "DescriptionStyleModel",
            "description_width": "",
            "_view_module": "@jupyter-widgets/base",
            "_model_module_version": "1.5.0",
            "_view_count": null,
            "_view_module_version": "1.2.0",
            "_model_module": "@jupyter-widgets/controls"
          }
        },
        "4907b22bc12648e982c1443b0fd9e700": {
          "model_module": "@jupyter-widgets/base",
          "model_name": "LayoutModel",
          "model_module_version": "1.2.0",
          "state": {
            "_view_name": "LayoutView",
            "grid_template_rows": null,
            "right": null,
            "justify_content": null,
            "_view_module": "@jupyter-widgets/base",
            "overflow": null,
            "_model_module_version": "1.2.0",
            "_view_count": null,
            "flex_flow": null,
            "width": null,
            "min_width": null,
            "border": null,
            "align_items": null,
            "bottom": null,
            "_model_module": "@jupyter-widgets/base",
            "top": null,
            "grid_column": null,
            "overflow_y": null,
            "overflow_x": null,
            "grid_auto_flow": null,
            "grid_area": null,
            "grid_template_columns": null,
            "flex": null,
            "_model_name": "LayoutModel",
            "justify_items": null,
            "grid_row": null,
            "max_height": null,
            "align_content": null,
            "visibility": null,
            "align_self": null,
            "height": null,
            "min_height": null,
            "padding": null,
            "grid_auto_rows": null,
            "grid_gap": null,
            "max_width": null,
            "order": null,
            "_view_module_version": "1.2.0",
            "grid_template_areas": null,
            "object_position": null,
            "object_fit": null,
            "grid_auto_columns": null,
            "margin": null,
            "display": null,
            "left": null
          }
        },
        "bd91ed156af14bac9b392fad66ae9150": {
          "model_module": "@jupyter-widgets/controls",
          "model_name": "HBoxModel",
          "model_module_version": "1.5.0",
          "state": {
            "_view_name": "HBoxView",
            "_dom_classes": [],
            "_model_name": "HBoxModel",
            "_view_module": "@jupyter-widgets/controls",
            "_model_module_version": "1.5.0",
            "_view_count": null,
            "_view_module_version": "1.5.0",
            "box_style": "",
            "layout": "IPY_MODEL_ce01a9039f054b71985fec043f9f3e6c",
            "_model_module": "@jupyter-widgets/controls",
            "children": [
              "IPY_MODEL_5cd579ca3f26488aadffef490e83d116",
              "IPY_MODEL_5875cca1e0764e37b8b35020a115c90f",
              "IPY_MODEL_16860b9269f04c839e015ac180a65d0b"
            ]
          }
        },
        "ce01a9039f054b71985fec043f9f3e6c": {
          "model_module": "@jupyter-widgets/base",
          "model_name": "LayoutModel",
          "model_module_version": "1.2.0",
          "state": {
            "_view_name": "LayoutView",
            "grid_template_rows": null,
            "right": null,
            "justify_content": null,
            "_view_module": "@jupyter-widgets/base",
            "overflow": null,
            "_model_module_version": "1.2.0",
            "_view_count": null,
            "flex_flow": null,
            "width": null,
            "min_width": null,
            "border": null,
            "align_items": null,
            "bottom": null,
            "_model_module": "@jupyter-widgets/base",
            "top": null,
            "grid_column": null,
            "overflow_y": null,
            "overflow_x": null,
            "grid_auto_flow": null,
            "grid_area": null,
            "grid_template_columns": null,
            "flex": null,
            "_model_name": "LayoutModel",
            "justify_items": null,
            "grid_row": null,
            "max_height": null,
            "align_content": null,
            "visibility": null,
            "align_self": null,
            "height": null,
            "min_height": null,
            "padding": null,
            "grid_auto_rows": null,
            "grid_gap": null,
            "max_width": null,
            "order": null,
            "_view_module_version": "1.2.0",
            "grid_template_areas": null,
            "object_position": null,
            "object_fit": null,
            "grid_auto_columns": null,
            "margin": null,
            "display": null,
            "left": null
          }
        },
        "5cd579ca3f26488aadffef490e83d116": {
          "model_module": "@jupyter-widgets/controls",
          "model_name": "HTMLModel",
          "model_module_version": "1.5.0",
          "state": {
            "_view_name": "HTMLView",
            "style": "IPY_MODEL_a5938ea147b24ec2a83d09d4a54e852a",
            "_dom_classes": [],
            "description": "",
            "_model_name": "HTMLModel",
            "placeholder": "​",
            "_view_module": "@jupyter-widgets/controls",
            "_model_module_version": "1.5.0",
            "value": "Downloading: 100%",
            "_view_count": null,
            "_view_module_version": "1.5.0",
            "description_tooltip": null,
            "_model_module": "@jupyter-widgets/controls",
            "layout": "IPY_MODEL_da85254469a945cd97e3e8fa3cf5aa34"
          }
        },
        "5875cca1e0764e37b8b35020a115c90f": {
          "model_module": "@jupyter-widgets/controls",
          "model_name": "FloatProgressModel",
          "model_module_version": "1.5.0",
          "state": {
            "_view_name": "ProgressView",
            "style": "IPY_MODEL_4549ed17792b47d89fc65e514bc02f9f",
            "_dom_classes": [],
            "description": "",
            "_model_name": "FloatProgressModel",
            "bar_style": "success",
            "max": 93479,
            "_view_module": "@jupyter-widgets/controls",
            "_model_module_version": "1.5.0",
            "value": 93479,
            "_view_count": null,
            "_view_module_version": "1.5.0",
            "orientation": "horizontal",
            "min": 0,
            "description_tooltip": null,
            "_model_module": "@jupyter-widgets/controls",
            "layout": "IPY_MODEL_59ee3daa86f849ad8564fe3e6bdfb152"
          }
        },
        "16860b9269f04c839e015ac180a65d0b": {
          "model_module": "@jupyter-widgets/controls",
          "model_name": "HTMLModel",
          "model_module_version": "1.5.0",
          "state": {
            "_view_name": "HTMLView",
            "style": "IPY_MODEL_d55aac4cdd184a16ae174b7cc6c76c88",
            "_dom_classes": [],
            "description": "",
            "_model_name": "HTMLModel",
            "placeholder": "​",
            "_view_module": "@jupyter-widgets/controls",
            "_model_module_version": "1.5.0",
            "value": " 93.5k/93.5k [00:00&lt;00:00, 1.08MB/s]",
            "_view_count": null,
            "_view_module_version": "1.5.0",
            "description_tooltip": null,
            "_model_module": "@jupyter-widgets/controls",
            "layout": "IPY_MODEL_8606451e370b433687f1b2520f10e8fd"
          }
        },
        "a5938ea147b24ec2a83d09d4a54e852a": {
          "model_module": "@jupyter-widgets/controls",
          "model_name": "DescriptionStyleModel",
          "model_module_version": "1.5.0",
          "state": {
            "_view_name": "StyleView",
            "_model_name": "DescriptionStyleModel",
            "description_width": "",
            "_view_module": "@jupyter-widgets/base",
            "_model_module_version": "1.5.0",
            "_view_count": null,
            "_view_module_version": "1.2.0",
            "_model_module": "@jupyter-widgets/controls"
          }
        },
        "da85254469a945cd97e3e8fa3cf5aa34": {
          "model_module": "@jupyter-widgets/base",
          "model_name": "LayoutModel",
          "model_module_version": "1.2.0",
          "state": {
            "_view_name": "LayoutView",
            "grid_template_rows": null,
            "right": null,
            "justify_content": null,
            "_view_module": "@jupyter-widgets/base",
            "overflow": null,
            "_model_module_version": "1.2.0",
            "_view_count": null,
            "flex_flow": null,
            "width": null,
            "min_width": null,
            "border": null,
            "align_items": null,
            "bottom": null,
            "_model_module": "@jupyter-widgets/base",
            "top": null,
            "grid_column": null,
            "overflow_y": null,
            "overflow_x": null,
            "grid_auto_flow": null,
            "grid_area": null,
            "grid_template_columns": null,
            "flex": null,
            "_model_name": "LayoutModel",
            "justify_items": null,
            "grid_row": null,
            "max_height": null,
            "align_content": null,
            "visibility": null,
            "align_self": null,
            "height": null,
            "min_height": null,
            "padding": null,
            "grid_auto_rows": null,
            "grid_gap": null,
            "max_width": null,
            "order": null,
            "_view_module_version": "1.2.0",
            "grid_template_areas": null,
            "object_position": null,
            "object_fit": null,
            "grid_auto_columns": null,
            "margin": null,
            "display": null,
            "left": null
          }
        },
        "4549ed17792b47d89fc65e514bc02f9f": {
          "model_module": "@jupyter-widgets/controls",
          "model_name": "ProgressStyleModel",
          "model_module_version": "1.5.0",
          "state": {
            "_view_name": "StyleView",
            "_model_name": "ProgressStyleModel",
            "description_width": "",
            "_view_module": "@jupyter-widgets/base",
            "_model_module_version": "1.5.0",
            "_view_count": null,
            "_view_module_version": "1.2.0",
            "bar_color": null,
            "_model_module": "@jupyter-widgets/controls"
          }
        },
        "59ee3daa86f849ad8564fe3e6bdfb152": {
          "model_module": "@jupyter-widgets/base",
          "model_name": "LayoutModel",
          "model_module_version": "1.2.0",
          "state": {
            "_view_name": "LayoutView",
            "grid_template_rows": null,
            "right": null,
            "justify_content": null,
            "_view_module": "@jupyter-widgets/base",
            "overflow": null,
            "_model_module_version": "1.2.0",
            "_view_count": null,
            "flex_flow": null,
            "width": null,
            "min_width": null,
            "border": null,
            "align_items": null,
            "bottom": null,
            "_model_module": "@jupyter-widgets/base",
            "top": null,
            "grid_column": null,
            "overflow_y": null,
            "overflow_x": null,
            "grid_auto_flow": null,
            "grid_area": null,
            "grid_template_columns": null,
            "flex": null,
            "_model_name": "LayoutModel",
            "justify_items": null,
            "grid_row": null,
            "max_height": null,
            "align_content": null,
            "visibility": null,
            "align_self": null,
            "height": null,
            "min_height": null,
            "padding": null,
            "grid_auto_rows": null,
            "grid_gap": null,
            "max_width": null,
            "order": null,
            "_view_module_version": "1.2.0",
            "grid_template_areas": null,
            "object_position": null,
            "object_fit": null,
            "grid_auto_columns": null,
            "margin": null,
            "display": null,
            "left": null
          }
        },
        "d55aac4cdd184a16ae174b7cc6c76c88": {
          "model_module": "@jupyter-widgets/controls",
          "model_name": "DescriptionStyleModel",
          "model_module_version": "1.5.0",
          "state": {
            "_view_name": "StyleView",
            "_model_name": "DescriptionStyleModel",
            "description_width": "",
            "_view_module": "@jupyter-widgets/base",
            "_model_module_version": "1.5.0",
            "_view_count": null,
            "_view_module_version": "1.2.0",
            "_model_module": "@jupyter-widgets/controls"
          }
        },
        "8606451e370b433687f1b2520f10e8fd": {
          "model_module": "@jupyter-widgets/base",
          "model_name": "LayoutModel",
          "model_module_version": "1.2.0",
          "state": {
            "_view_name": "LayoutView",
            "grid_template_rows": null,
            "right": null,
            "justify_content": null,
            "_view_module": "@jupyter-widgets/base",
            "overflow": null,
            "_model_module_version": "1.2.0",
            "_view_count": null,
            "flex_flow": null,
            "width": null,
            "min_width": null,
            "border": null,
            "align_items": null,
            "bottom": null,
            "_model_module": "@jupyter-widgets/base",
            "top": null,
            "grid_column": null,
            "overflow_y": null,
            "overflow_x": null,
            "grid_auto_flow": null,
            "grid_area": null,
            "grid_template_columns": null,
            "flex": null,
            "_model_name": "LayoutModel",
            "justify_items": null,
            "grid_row": null,
            "max_height": null,
            "align_content": null,
            "visibility": null,
            "align_self": null,
            "height": null,
            "min_height": null,
            "padding": null,
            "grid_auto_rows": null,
            "grid_gap": null,
            "max_width": null,
            "order": null,
            "_view_module_version": "1.2.0",
            "grid_template_areas": null,
            "object_position": null,
            "object_fit": null,
            "grid_auto_columns": null,
            "margin": null,
            "display": null,
            "left": null
          }
        },
        "fb722be6da8342cf85341013a2783e22": {
          "model_module": "@jupyter-widgets/controls",
          "model_name": "HBoxModel",
          "model_module_version": "1.5.0",
          "state": {
            "_view_name": "HBoxView",
            "_dom_classes": [],
            "_model_name": "HBoxModel",
            "_view_module": "@jupyter-widgets/controls",
            "_model_module_version": "1.5.0",
            "_view_count": null,
            "_view_module_version": "1.5.0",
            "box_style": "",
            "layout": "IPY_MODEL_1dc2a1a9276e4bc08728ed5e46e7584d",
            "_model_module": "@jupyter-widgets/controls",
            "children": [
              "IPY_MODEL_d9e21b72827845aa8e3cd242f664c709",
              "IPY_MODEL_96d6689aa51a4a559a66a6ba2b1ff647",
              "IPY_MODEL_b0f2d3c96fef410eb4ab8aa7c7ed181a"
            ]
          }
        },
        "1dc2a1a9276e4bc08728ed5e46e7584d": {
          "model_module": "@jupyter-widgets/base",
          "model_name": "LayoutModel",
          "model_module_version": "1.2.0",
          "state": {
            "_view_name": "LayoutView",
            "grid_template_rows": null,
            "right": null,
            "justify_content": null,
            "_view_module": "@jupyter-widgets/base",
            "overflow": null,
            "_model_module_version": "1.2.0",
            "_view_count": null,
            "flex_flow": null,
            "width": null,
            "min_width": null,
            "border": null,
            "align_items": null,
            "bottom": null,
            "_model_module": "@jupyter-widgets/base",
            "top": null,
            "grid_column": null,
            "overflow_y": null,
            "overflow_x": null,
            "grid_auto_flow": null,
            "grid_area": null,
            "grid_template_columns": null,
            "flex": null,
            "_model_name": "LayoutModel",
            "justify_items": null,
            "grid_row": null,
            "max_height": null,
            "align_content": null,
            "visibility": null,
            "align_self": null,
            "height": null,
            "min_height": null,
            "padding": null,
            "grid_auto_rows": null,
            "grid_gap": null,
            "max_width": null,
            "order": null,
            "_view_module_version": "1.2.0",
            "grid_template_areas": null,
            "object_position": null,
            "object_fit": null,
            "grid_auto_columns": null,
            "margin": null,
            "display": null,
            "left": null
          }
        },
        "d9e21b72827845aa8e3cd242f664c709": {
          "model_module": "@jupyter-widgets/controls",
          "model_name": "HTMLModel",
          "model_module_version": "1.5.0",
          "state": {
            "_view_name": "HTMLView",
            "style": "IPY_MODEL_d6de9bd439d84f81b94efbc183e38afe",
            "_dom_classes": [],
            "description": "",
            "_model_name": "HTMLModel",
            "placeholder": "​",
            "_view_module": "@jupyter-widgets/controls",
            "_model_module_version": "1.5.0",
            "value": "Downloading: 100%",
            "_view_count": null,
            "_view_module_version": "1.5.0",
            "description_tooltip": null,
            "_model_module": "@jupyter-widgets/controls",
            "layout": "IPY_MODEL_638b975502bf4444a03dac7cc0d03aca"
          }
        },
        "96d6689aa51a4a559a66a6ba2b1ff647": {
          "model_module": "@jupyter-widgets/controls",
          "model_name": "FloatProgressModel",
          "model_module_version": "1.5.0",
          "state": {
            "_view_name": "ProgressView",
            "style": "IPY_MODEL_f28274bb4147471485fc8dfcf9ad3d3f",
            "_dom_classes": [],
            "description": "",
            "_model_name": "FloatProgressModel",
            "bar_style": "success",
            "max": 418326249,
            "_view_module": "@jupyter-widgets/controls",
            "_model_module_version": "1.5.0",
            "value": 418326249,
            "_view_count": null,
            "_view_module_version": "1.5.0",
            "orientation": "horizontal",
            "min": 0,
            "description_tooltip": null,
            "_model_module": "@jupyter-widgets/controls",
            "layout": "IPY_MODEL_c4da5f14ab654d09a17b095456438b23"
          }
        },
        "b0f2d3c96fef410eb4ab8aa7c7ed181a": {
          "model_module": "@jupyter-widgets/controls",
          "model_name": "HTMLModel",
          "model_module_version": "1.5.0",
          "state": {
            "_view_name": "HTMLView",
            "style": "IPY_MODEL_fb870898ca894f03a07a9de36fd0b334",
            "_dom_classes": [],
            "description": "",
            "_model_name": "HTMLModel",
            "placeholder": "​",
            "_view_module": "@jupyter-widgets/controls",
            "_model_module_version": "1.5.0",
            "value": " 418M/418M [00:12&lt;00:00, 42.0MB/s]",
            "_view_count": null,
            "_view_module_version": "1.5.0",
            "description_tooltip": null,
            "_model_module": "@jupyter-widgets/controls",
            "layout": "IPY_MODEL_16bf2f31c1ce4990a69b6373850907df"
          }
        },
        "d6de9bd439d84f81b94efbc183e38afe": {
          "model_module": "@jupyter-widgets/controls",
          "model_name": "DescriptionStyleModel",
          "model_module_version": "1.5.0",
          "state": {
            "_view_name": "StyleView",
            "_model_name": "DescriptionStyleModel",
            "description_width": "",
            "_view_module": "@jupyter-widgets/base",
            "_model_module_version": "1.5.0",
            "_view_count": null,
            "_view_module_version": "1.2.0",
            "_model_module": "@jupyter-widgets/controls"
          }
        },
        "638b975502bf4444a03dac7cc0d03aca": {
          "model_module": "@jupyter-widgets/base",
          "model_name": "LayoutModel",
          "model_module_version": "1.2.0",
          "state": {
            "_view_name": "LayoutView",
            "grid_template_rows": null,
            "right": null,
            "justify_content": null,
            "_view_module": "@jupyter-widgets/base",
            "overflow": null,
            "_model_module_version": "1.2.0",
            "_view_count": null,
            "flex_flow": null,
            "width": null,
            "min_width": null,
            "border": null,
            "align_items": null,
            "bottom": null,
            "_model_module": "@jupyter-widgets/base",
            "top": null,
            "grid_column": null,
            "overflow_y": null,
            "overflow_x": null,
            "grid_auto_flow": null,
            "grid_area": null,
            "grid_template_columns": null,
            "flex": null,
            "_model_name": "LayoutModel",
            "justify_items": null,
            "grid_row": null,
            "max_height": null,
            "align_content": null,
            "visibility": null,
            "align_self": null,
            "height": null,
            "min_height": null,
            "padding": null,
            "grid_auto_rows": null,
            "grid_gap": null,
            "max_width": null,
            "order": null,
            "_view_module_version": "1.2.0",
            "grid_template_areas": null,
            "object_position": null,
            "object_fit": null,
            "grid_auto_columns": null,
            "margin": null,
            "display": null,
            "left": null
          }
        },
        "f28274bb4147471485fc8dfcf9ad3d3f": {
          "model_module": "@jupyter-widgets/controls",
          "model_name": "ProgressStyleModel",
          "model_module_version": "1.5.0",
          "state": {
            "_view_name": "StyleView",
            "_model_name": "ProgressStyleModel",
            "description_width": "",
            "_view_module": "@jupyter-widgets/base",
            "_model_module_version": "1.5.0",
            "_view_count": null,
            "_view_module_version": "1.2.0",
            "bar_color": null,
            "_model_module": "@jupyter-widgets/controls"
          }
        },
        "c4da5f14ab654d09a17b095456438b23": {
          "model_module": "@jupyter-widgets/base",
          "model_name": "LayoutModel",
          "model_module_version": "1.2.0",
          "state": {
            "_view_name": "LayoutView",
            "grid_template_rows": null,
            "right": null,
            "justify_content": null,
            "_view_module": "@jupyter-widgets/base",
            "overflow": null,
            "_model_module_version": "1.2.0",
            "_view_count": null,
            "flex_flow": null,
            "width": null,
            "min_width": null,
            "border": null,
            "align_items": null,
            "bottom": null,
            "_model_module": "@jupyter-widgets/base",
            "top": null,
            "grid_column": null,
            "overflow_y": null,
            "overflow_x": null,
            "grid_auto_flow": null,
            "grid_area": null,
            "grid_template_columns": null,
            "flex": null,
            "_model_name": "LayoutModel",
            "justify_items": null,
            "grid_row": null,
            "max_height": null,
            "align_content": null,
            "visibility": null,
            "align_self": null,
            "height": null,
            "min_height": null,
            "padding": null,
            "grid_auto_rows": null,
            "grid_gap": null,
            "max_width": null,
            "order": null,
            "_view_module_version": "1.2.0",
            "grid_template_areas": null,
            "object_position": null,
            "object_fit": null,
            "grid_auto_columns": null,
            "margin": null,
            "display": null,
            "left": null
          }
        },
        "fb870898ca894f03a07a9de36fd0b334": {
          "model_module": "@jupyter-widgets/controls",
          "model_name": "DescriptionStyleModel",
          "model_module_version": "1.5.0",
          "state": {
            "_view_name": "StyleView",
            "_model_name": "DescriptionStyleModel",
            "description_width": "",
            "_view_module": "@jupyter-widgets/base",
            "_model_module_version": "1.5.0",
            "_view_count": null,
            "_view_module_version": "1.2.0",
            "_model_module": "@jupyter-widgets/controls"
          }
        },
        "16bf2f31c1ce4990a69b6373850907df": {
          "model_module": "@jupyter-widgets/base",
          "model_name": "LayoutModel",
          "model_module_version": "1.2.0",
          "state": {
            "_view_name": "LayoutView",
            "grid_template_rows": null,
            "right": null,
            "justify_content": null,
            "_view_module": "@jupyter-widgets/base",
            "overflow": null,
            "_model_module_version": "1.2.0",
            "_view_count": null,
            "flex_flow": null,
            "width": null,
            "min_width": null,
            "border": null,
            "align_items": null,
            "bottom": null,
            "_model_module": "@jupyter-widgets/base",
            "top": null,
            "grid_column": null,
            "overflow_y": null,
            "overflow_x": null,
            "grid_auto_flow": null,
            "grid_area": null,
            "grid_template_columns": null,
            "flex": null,
            "_model_name": "LayoutModel",
            "justify_items": null,
            "grid_row": null,
            "max_height": null,
            "align_content": null,
            "visibility": null,
            "align_self": null,
            "height": null,
            "min_height": null,
            "padding": null,
            "grid_auto_rows": null,
            "grid_gap": null,
            "max_width": null,
            "order": null,
            "_view_module_version": "1.2.0",
            "grid_template_areas": null,
            "object_position": null,
            "object_fit": null,
            "grid_auto_columns": null,
            "margin": null,
            "display": null,
            "left": null
          }
        }
      }
    }
  },
  "cells": [
    {
      "cell_type": "markdown",
      "metadata": {
        "id": "view-in-github",
        "colab_type": "text"
      },
      "source": [
        "<a href=\"https://colab.research.google.com/github/yemanzhongting/MultiCity/blob/main/%E8%BE%93%E5%87%BA%E5%AD%97%E5%90%91%E9%87%8F.ipynb\" target=\"_parent\"><img src=\"https://colab.research.google.com/assets/colab-badge.svg\" alt=\"Open In Colab\"/></a>"
      ]
    },
    {
      "cell_type": "code",
      "metadata": {
        "id": "J_NiudvKJPhI"
      },
      "source": [
        ""
      ],
      "execution_count": 2,
      "outputs": []
    },
    {
      "cell_type": "code",
      "metadata": {
        "colab": {
          "base_uri": "https://localhost:8080/"
        },
        "id": "PY2nH41nJWqN",
        "outputId": "1c5ee6e8-9f2e-4131-f745-24808d1c249a"
      },
      "source": [
        "!pip install transformers"
      ],
      "execution_count": 2,
      "outputs": [
        {
          "output_type": "stream",
          "text": [
            "Collecting transformers\n",
            "  Downloading transformers-4.9.2-py3-none-any.whl (2.6 MB)\n",
            "\u001b[K     |████████████████████████████████| 2.6 MB 5.0 MB/s \n",
            "\u001b[?25hRequirement already satisfied: filelock in /usr/local/lib/python3.7/dist-packages (from transformers) (3.0.12)\n",
            "Requirement already satisfied: numpy>=1.17 in /usr/local/lib/python3.7/dist-packages (from transformers) (1.19.5)\n",
            "Requirement already satisfied: tqdm>=4.27 in /usr/local/lib/python3.7/dist-packages (from transformers) (4.62.0)\n",
            "Requirement already satisfied: importlib-metadata in /usr/local/lib/python3.7/dist-packages (from transformers) (4.6.4)\n",
            "Requirement already satisfied: requests in /usr/local/lib/python3.7/dist-packages (from transformers) (2.23.0)\n",
            "Collecting huggingface-hub==0.0.12\n",
            "  Downloading huggingface_hub-0.0.12-py3-none-any.whl (37 kB)\n",
            "Collecting sacremoses\n",
            "  Downloading sacremoses-0.0.45-py3-none-any.whl (895 kB)\n",
            "\u001b[K     |████████████████████████████████| 895 kB 47.6 MB/s \n",
            "\u001b[?25hRequirement already satisfied: packaging in /usr/local/lib/python3.7/dist-packages (from transformers) (21.0)\n",
            "Collecting tokenizers<0.11,>=0.10.1\n",
            "  Downloading tokenizers-0.10.3-cp37-cp37m-manylinux_2_5_x86_64.manylinux1_x86_64.manylinux_2_12_x86_64.manylinux2010_x86_64.whl (3.3 MB)\n",
            "\u001b[K     |████████████████████████████████| 3.3 MB 44.6 MB/s \n",
            "\u001b[?25hRequirement already satisfied: regex!=2019.12.17 in /usr/local/lib/python3.7/dist-packages (from transformers) (2019.12.20)\n",
            "Collecting pyyaml>=5.1\n",
            "  Downloading PyYAML-5.4.1-cp37-cp37m-manylinux1_x86_64.whl (636 kB)\n",
            "\u001b[K     |████████████████████████████████| 636 kB 46.3 MB/s \n",
            "\u001b[?25hRequirement already satisfied: typing-extensions in /usr/local/lib/python3.7/dist-packages (from huggingface-hub==0.0.12->transformers) (3.7.4.3)\n",
            "Requirement already satisfied: pyparsing>=2.0.2 in /usr/local/lib/python3.7/dist-packages (from packaging->transformers) (2.4.7)\n",
            "Requirement already satisfied: zipp>=0.5 in /usr/local/lib/python3.7/dist-packages (from importlib-metadata->transformers) (3.5.0)\n",
            "Requirement already satisfied: certifi>=2017.4.17 in /usr/local/lib/python3.7/dist-packages (from requests->transformers) (2021.5.30)\n",
            "Requirement already satisfied: chardet<4,>=3.0.2 in /usr/local/lib/python3.7/dist-packages (from requests->transformers) (3.0.4)\n",
            "Requirement already satisfied: urllib3!=1.25.0,!=1.25.1,<1.26,>=1.21.1 in /usr/local/lib/python3.7/dist-packages (from requests->transformers) (1.24.3)\n",
            "Requirement already satisfied: idna<3,>=2.5 in /usr/local/lib/python3.7/dist-packages (from requests->transformers) (2.10)\n",
            "Requirement already satisfied: click in /usr/local/lib/python3.7/dist-packages (from sacremoses->transformers) (7.1.2)\n",
            "Requirement already satisfied: six in /usr/local/lib/python3.7/dist-packages (from sacremoses->transformers) (1.15.0)\n",
            "Requirement already satisfied: joblib in /usr/local/lib/python3.7/dist-packages (from sacremoses->transformers) (1.0.1)\n",
            "Installing collected packages: tokenizers, sacremoses, pyyaml, huggingface-hub, transformers\n",
            "  Attempting uninstall: pyyaml\n",
            "    Found existing installation: PyYAML 3.13\n",
            "    Uninstalling PyYAML-3.13:\n",
            "      Successfully uninstalled PyYAML-3.13\n",
            "Successfully installed huggingface-hub-0.0.12 pyyaml-5.4.1 sacremoses-0.0.45 tokenizers-0.10.3 transformers-4.9.2\n"
          ],
          "name": "stdout"
        }
      ]
    },
    {
      "cell_type": "code",
      "metadata": {
        "colab": {
          "base_uri": "https://localhost:8080/",
          "height": 239,
          "referenced_widgets": [
            "82b24b78ea6a4936b1feb14c1a4f9a46",
            "56e794932dad425caeaf5ee7a2f1c63d",
            "ead71306e76b4b529ab2c91bda5333dd",
            "c42fa0febc464df6ad5f8a79504b59e1",
            "42fc84301edd4b9ca4760af415fff96f",
            "29b3c904f53a4912a5986e48826e3cda",
            "76b5017e320f42a3ab0c43373ffc7d3a",
            "9ae48ceeff1c4ca598abf574f0a9b505",
            "21ae9098fb694229a89c982450cd6660",
            "33add676856f4126a82d5798e700c957",
            "4907b22bc12648e982c1443b0fd9e700",
            "bd91ed156af14bac9b392fad66ae9150",
            "ce01a9039f054b71985fec043f9f3e6c",
            "5cd579ca3f26488aadffef490e83d116",
            "5875cca1e0764e37b8b35020a115c90f",
            "16860b9269f04c839e015ac180a65d0b",
            "a5938ea147b24ec2a83d09d4a54e852a",
            "da85254469a945cd97e3e8fa3cf5aa34",
            "4549ed17792b47d89fc65e514bc02f9f",
            "59ee3daa86f849ad8564fe3e6bdfb152",
            "d55aac4cdd184a16ae174b7cc6c76c88",
            "8606451e370b433687f1b2520f10e8fd",
            "fb722be6da8342cf85341013a2783e22",
            "1dc2a1a9276e4bc08728ed5e46e7584d",
            "d9e21b72827845aa8e3cd242f664c709",
            "96d6689aa51a4a559a66a6ba2b1ff647",
            "b0f2d3c96fef410eb4ab8aa7c7ed181a",
            "d6de9bd439d84f81b94efbc183e38afe",
            "638b975502bf4444a03dac7cc0d03aca",
            "f28274bb4147471485fc8dfcf9ad3d3f",
            "c4da5f14ab654d09a17b095456438b23",
            "fb870898ca894f03a07a9de36fd0b334",
            "16bf2f31c1ce4990a69b6373850907df"
          ]
        },
        "id": "ehsd-UAKJRCT",
        "outputId": "8de3e745-baef-4c3a-9a4a-75ceb8803687"
      },
      "source": [
        "from transformers import AutoTokenizer, AutoModel\n",
        "\n",
        "tokenizer = AutoTokenizer.from_pretrained(\"ethanyt/guwenbert-base\")\n",
        "\n",
        "model = AutoModel.from_pretrained(\"ethanyt/guwenbert-base\")"
      ],
      "execution_count": 3,
      "outputs": [
        {
          "output_type": "display_data",
          "data": {
            "application/vnd.jupyter.widget-view+json": {
              "model_id": "82b24b78ea6a4936b1feb14c1a4f9a46",
              "version_minor": 0,
              "version_major": 2
            },
            "text/plain": [
              "Downloading:   0%|          | 0.00/519 [00:00<?, ?B/s]"
            ]
          },
          "metadata": {}
        },
        {
          "output_type": "display_data",
          "data": {
            "application/vnd.jupyter.widget-view+json": {
              "model_id": "bd91ed156af14bac9b392fad66ae9150",
              "version_minor": 0,
              "version_major": 2
            },
            "text/plain": [
              "Downloading:   0%|          | 0.00/93.5k [00:00<?, ?B/s]"
            ]
          },
          "metadata": {}
        },
        {
          "output_type": "display_data",
          "data": {
            "application/vnd.jupyter.widget-view+json": {
              "model_id": "fb722be6da8342cf85341013a2783e22",
              "version_minor": 0,
              "version_major": 2
            },
            "text/plain": [
              "Downloading:   0%|          | 0.00/418M [00:00<?, ?B/s]"
            ]
          },
          "metadata": {}
        },
        {
          "output_type": "stream",
          "text": [
            "Some weights of the model checkpoint at ethanyt/guwenbert-base were not used when initializing RobertaModel: ['lm_head.dense.weight', 'lm_head.dense.bias', 'lm_head.decoder.bias', 'lm_head.layer_norm.bias', 'lm_head.bias', 'lm_head.layer_norm.weight', 'lm_head.decoder.weight']\n",
            "- This IS expected if you are initializing RobertaModel from the checkpoint of a model trained on another task or with another architecture (e.g. initializing a BertForSequenceClassification model from a BertForPreTraining model).\n",
            "- This IS NOT expected if you are initializing RobertaModel from the checkpoint of a model that you expect to be exactly identical (initializing a BertForSequenceClassification model from a BertForSequenceClassification model).\n"
          ],
          "name": "stderr"
        }
      ]
    },
    {
      "cell_type": "code",
      "metadata": {
        "id": "zQviWXTEJZrw"
      },
      "source": [
        "import torch"
      ],
      "execution_count": 4,
      "outputs": []
    },
    {
      "cell_type": "code",
      "metadata": {
        "id": "odEOTnoQJdOT"
      },
      "source": [
        "input_ids=torch.tensor(tokenizer.encode(\"我爱喵喵哈哈\")).unsqueeze(0)"
      ],
      "execution_count": 16,
      "outputs": []
    },
    {
      "cell_type": "code",
      "metadata": {
        "colab": {
          "base_uri": "https://localhost:8080/"
        },
        "id": "IPoDk_GrJsum",
        "outputId": "a198ceb3-203f-42a5-c3a4-b8ffea68fc5a"
      },
      "source": [
        "input_ids"
      ],
      "execution_count": 17,
      "outputs": [
        {
          "output_type": "execute_result",
          "data": {
            "text/plain": [
              "tensor([[    0,    97,   597, 21117, 21117,  1572,  1572,     2]])"
            ]
          },
          "metadata": {},
          "execution_count": 17
        }
      ]
    },
    {
      "cell_type": "code",
      "metadata": {
        "id": "Nn2B79DqJt0A"
      },
      "source": [
        "output=model(input_ids)"
      ],
      "execution_count": 18,
      "outputs": []
    },
    {
      "cell_type": "code",
      "metadata": {
        "id": "nzVVammqJvkq"
      },
      "source": [
        "# output"
      ],
      "execution_count": 19,
      "outputs": []
    },
    {
      "cell_type": "code",
      "metadata": {
        "id": "sw9OA6aFJ6YY"
      },
      "source": [
        "sequence_output=output[0]"
      ],
      "execution_count": 20,
      "outputs": []
    },
    {
      "cell_type": "code",
      "metadata": {
        "id": "HOdEwekmKG2Z"
      },
      "source": [
        "pooled_output=output[1]"
      ],
      "execution_count": 21,
      "outputs": []
    },
    {
      "cell_type": "code",
      "metadata": {
        "colab": {
          "base_uri": "https://localhost:8080/"
        },
        "id": "K3CnayE3KJ91",
        "outputId": "41118cb5-0d58-4c3c-d186-c5cd2a0632d7"
      },
      "source": [
        "##输出单词向量\n",
        "sequence_output"
      ],
      "execution_count": 22,
      "outputs": [
        {
          "output_type": "execute_result",
          "data": {
            "text/plain": [
              "tensor([[[-0.0364, -0.0408, -0.1119,  ..., -0.0235, -0.0356,  0.0215],\n",
              "         [ 0.1632, -0.0586, -0.1037,  ...,  0.1123, -0.0552,  0.0053],\n",
              "         [ 0.0746,  0.0540, -0.1666,  ...,  0.0157, -0.0587,  0.0317],\n",
              "         ...,\n",
              "         [ 0.1804, -0.0677, -0.2322,  ...,  0.1561, -0.0610,  0.0555],\n",
              "         [ 0.2077, -0.0290, -0.2602,  ...,  0.1300, -0.0548,  0.0806],\n",
              "         [ 0.1602,  0.0786, -0.1318,  ...,  0.1721, -0.2063,  0.1287]]],\n",
              "       grad_fn=<NativeLayerNormBackward>)"
            ]
          },
          "metadata": {},
          "execution_count": 22
        }
      ]
    },
    {
      "cell_type": "code",
      "metadata": {
        "colab": {
          "base_uri": "https://localhost:8080/"
        },
        "id": "PE6JXXgWKO9g",
        "outputId": "877a9f6d-46d6-4751-fe3f-fb27da54561a"
      },
      "source": [
        "sequence_output.shape\n",
        "#对应的8个单词 有开始结尾的标签向量\n",
        "# [    0,    97,   597, 21117, 21117,  1572,  1572,     2]"
      ],
      "execution_count": 24,
      "outputs": [
        {
          "output_type": "execute_result",
          "data": {
            "text/plain": [
              "torch.Size([1, 8, 768])"
            ]
          },
          "metadata": {},
          "execution_count": 24
        }
      ]
    },
    {
      "cell_type": "code",
      "metadata": {
        "id": "A71z6X4XKzBk"
      },
      "source": [
        "##以下额外知识，可以不看"
      ],
      "execution_count": 27,
      "outputs": []
    },
    {
      "cell_type": "code",
      "metadata": {
        "colab": {
          "base_uri": "https://localhost:8080/"
        },
        "id": "VLxUJWhqKRFf",
        "outputId": "246ab98a-1c34-4914-d6fc-2642c9ab6cf7"
      },
      "source": [
        "##输出句子向量,隐藏状态在模型的最后一层输出\n",
        "pooled_output.shape"
      ],
      "execution_count": 30,
      "outputs": [
        {
          "output_type": "execute_result",
          "data": {
            "text/plain": [
              "torch.Size([1, 768])"
            ]
          },
          "metadata": {},
          "execution_count": 30
        }
      ]
    },
    {
      "cell_type": "code",
      "metadata": {
        "colab": {
          "base_uri": "https://localhost:8080/"
        },
        "id": "xlUc9YN5KxMY",
        "outputId": "ee514866-f456-493a-a049-f809717ab589"
      },
      "source": [
        "output"
      ],
      "execution_count": 29,
      "outputs": [
        {
          "output_type": "execute_result",
          "data": {
            "text/plain": [
              "BaseModelOutputWithPoolingAndCrossAttentions([('last_hidden_state',\n",
              "                                               tensor([[[-0.0364, -0.0408, -0.1119,  ..., -0.0235, -0.0356,  0.0215],\n",
              "                                                        [ 0.1632, -0.0586, -0.1037,  ...,  0.1123, -0.0552,  0.0053],\n",
              "                                                        [ 0.0746,  0.0540, -0.1666,  ...,  0.0157, -0.0587,  0.0317],\n",
              "                                                        ...,\n",
              "                                                        [ 0.1804, -0.0677, -0.2322,  ...,  0.1561, -0.0610,  0.0555],\n",
              "                                                        [ 0.2077, -0.0290, -0.2602,  ...,  0.1300, -0.0548,  0.0806],\n",
              "                                                        [ 0.1602,  0.0786, -0.1318,  ...,  0.1721, -0.2063,  0.1287]]],\n",
              "                                                      grad_fn=<NativeLayerNormBackward>)),\n",
              "                                              ('pooler_output',\n",
              "                                               tensor([[ 6.4561e-01,  6.6997e-02, -2.9398e-01, -3.3981e-01, -1.0678e-01,\n",
              "                                                        -6.3697e-02,  3.1720e-01,  8.1387e-02, -1.9167e-02, -2.1030e-01,\n",
              "                                                         4.0729e-02, -2.3194e-01,  9.6847e-02,  2.6488e-02,  1.7698e-01,\n",
              "                                                         2.9883e-01,  1.1203e-01, -1.2834e-01, -5.0010e-01, -2.8516e-02,\n",
              "                                                        -9.9731e-02, -1.3738e-01, -1.8808e-01,  1.3612e-01, -2.5770e-01,\n",
              "                                                        -6.8441e-02, -3.6783e-01, -1.3597e-01, -1.1786e-01, -3.1313e-02,\n",
              "                                                        -1.4047e-01, -2.9620e-01,  9.6604e-02, -9.8345e-02, -1.4722e-02,\n",
              "                                                        -2.7761e-01, -2.6802e-01, -1.3924e-01,  1.1442e-01, -7.0348e-02,\n",
              "                                                        -5.0859e-01,  5.0627e-01,  4.0134e-01,  1.1943e-01,  1.0758e-01,\n",
              "                                                         2.3399e-02, -2.9907e-01,  4.4461e-02, -1.7540e-01,  4.3190e-01,\n",
              "                                                         2.6646e-01,  2.3289e-01, -4.1197e-01,  1.7769e-01, -1.6587e-01,\n",
              "                                                        -3.5334e-01, -2.0612e-01, -3.8093e-01,  3.8828e-01, -1.2860e-01,\n",
              "                                                         5.7538e-02,  3.2195e-01,  1.0322e-01,  5.1785e-01,  1.7864e-01,\n",
              "                                                        -1.9966e-01,  2.4413e-01, -3.1022e-01, -3.4145e-01, -5.2375e-01,\n",
              "                                                        -2.2176e-01,  5.1469e-01, -6.8196e-01, -5.8400e-02, -4.4191e-01,\n",
              "                                                        -4.8190e-02,  2.0304e-03,  4.5085e-01,  3.4315e-02,  9.2623e-02,\n",
              "                                                        -4.1272e-01,  2.5612e-01, -2.9395e-02, -5.7974e-03, -9.4156e-02,\n",
              "                                                        -2.3617e-01, -3.8481e-01,  3.0114e-01,  4.2679e-02, -1.8170e-03,\n",
              "                                                         5.2968e-02,  2.1683e-01,  2.6203e-01,  2.1805e-01, -1.7945e-01,\n",
              "                                                        -3.9414e-03,  3.5284e-01, -4.5944e-02, -1.3718e-01, -3.5744e-02,\n",
              "                                                         2.2003e-01,  1.1736e-01, -4.7281e-02, -3.0859e-01,  3.6746e-01,\n",
              "                                                        -6.8051e-03, -1.2031e-02, -2.9600e-01, -2.1501e-01, -2.2305e-01,\n",
              "                                                        -9.7631e-02,  3.3206e-01, -1.6293e-01, -4.6918e-01, -1.8003e-01,\n",
              "                                                         4.2474e-01,  2.4382e-01,  1.0808e-01,  4.5005e-02,  1.0670e-02,\n",
              "                                                        -9.3408e-02,  7.5035e-02,  1.2125e-01, -5.2101e-02,  7.4572e-02,\n",
              "                                                        -6.7543e-01, -4.3885e-01,  3.5944e-03, -2.9864e-01,  2.8341e-01,\n",
              "                                                         3.4814e-01, -1.7095e-01,  4.5649e-01, -2.1483e-01,  6.5982e-02,\n",
              "                                                         2.6365e-02,  2.9764e-01,  8.2814e-02,  8.3655e-02, -1.8352e-01,\n",
              "                                                        -8.0812e-02, -1.7092e-01, -3.5345e-01,  6.7211e-02, -5.8639e-01,\n",
              "                                                        -4.0275e-01, -2.0063e-01, -2.0040e-01, -6.3107e-01, -3.5128e-01,\n",
              "                                                        -2.6427e-01, -2.4977e-01,  3.0974e-01,  1.2669e-01, -1.1107e-01,\n",
              "                                                         2.0397e-01,  9.4971e-02,  3.1877e-01,  1.8933e-01, -2.7898e-01,\n",
              "                                                        -8.4563e-02,  6.5138e-02, -4.9998e-01, -1.2931e-01,  1.2186e-01,\n",
              "                                                        -2.7601e-01, -1.8380e-01, -3.6078e-01, -8.3878e-02,  3.5869e-01,\n",
              "                                                        -3.8761e-01, -2.0426e-02,  3.4652e-01, -1.1579e-01,  1.5755e-01,\n",
              "                                                        -1.0405e-01, -2.1799e-01,  4.6229e-01, -2.2978e-01,  5.2907e-01,\n",
              "                                                        -1.5377e-01, -1.3201e-01, -2.4894e-01,  8.5206e-02,  6.8917e-02,\n",
              "                                                         2.8384e-02, -4.2426e-01,  6.2124e-01, -1.9772e-01,  4.1152e-01,\n",
              "                                                        -9.5487e-03,  6.4055e-01, -1.9176e-01, -4.1323e-02, -4.8137e-01,\n",
              "                                                        -8.1527e-02, -2.3730e-01,  6.8056e-02, -3.3479e-01, -2.5729e-01,\n",
              "                                                         6.9942e-02,  1.5291e-01,  6.0596e-02,  2.2452e-01, -4.8140e-01,\n",
              "                                                        -1.3515e-01,  1.9024e-02,  2.6614e-01,  1.3900e-01, -9.3515e-03,\n",
              "                                                        -9.5277e-02, -3.4429e-01, -1.6637e-01,  2.7157e-01, -2.9525e-01,\n",
              "                                                         3.0604e-01,  2.5765e-01, -6.5020e-02, -1.9316e-01, -3.2787e-01,\n",
              "                                                        -1.7044e-01,  1.7288e-01, -1.0405e-01,  1.4655e-01,  3.8015e-02,\n",
              "                                                         1.0091e-01,  2.5662e-01,  9.2382e-02, -3.9158e-01, -2.3832e-01,\n",
              "                                                         3.6151e-01, -1.4445e-01, -3.3920e-03,  2.6159e-01,  1.3914e-01,\n",
              "                                                         7.6055e-02,  2.0797e-01, -4.4530e-01,  1.4462e-01, -2.3544e-01,\n",
              "                                                        -3.2020e-01,  1.0504e-01, -9.0939e-02,  7.2634e-02,  1.7486e-01,\n",
              "                                                        -7.3282e-02,  4.2239e-01, -7.6957e-02, -3.2800e-01, -1.1995e-01,\n",
              "                                                         3.0976e-01, -3.8799e-01,  1.3124e-01,  4.9829e-01,  2.5725e-02,\n",
              "                                                        -3.7552e-01,  8.4359e-02, -1.1947e-02, -5.2790e-01, -1.7877e-02,\n",
              "                                                        -2.2052e-01,  6.9980e-01, -3.0797e-01,  1.8806e-01, -3.6929e-01,\n",
              "                                                         4.8518e-01,  1.8742e-01, -1.0273e-01, -3.1246e-01,  2.1717e-01,\n",
              "                                                        -8.5822e-03,  1.0462e-01,  5.6269e-01,  2.7296e-01,  1.0856e-01,\n",
              "                                                         3.7915e-01, -5.1706e-01,  3.0371e-01, -2.6770e-01, -1.5761e-01,\n",
              "                                                         3.9798e-01, -4.1336e-01, -2.2853e-02,  1.1528e-01, -2.7710e-01,\n",
              "                                                        -1.3059e-01,  1.1179e-01, -2.3224e-01,  1.8146e-01,  3.1463e-01,\n",
              "                                                         8.5358e-02,  5.2673e-02, -2.4510e-01,  9.0381e-02, -1.0836e-01,\n",
              "                                                        -3.4976e-01, -6.6058e-02,  1.5996e-01,  3.2174e-02, -1.6101e-01,\n",
              "                                                         4.4863e-01,  5.2164e-02,  2.0409e-01, -2.5932e-01,  1.7019e-02,\n",
              "                                                         2.6584e-01,  5.3771e-03, -1.2691e-01, -1.3164e-01,  3.2399e-01,\n",
              "                                                        -4.6323e-01, -2.9431e-01,  5.2625e-03, -1.0805e-01,  4.7962e-01,\n",
              "                                                         5.1419e-01,  9.9045e-02,  2.3002e-01,  2.1772e-01, -9.5778e-02,\n",
              "                                                         2.6171e-01,  2.1663e-01,  1.4500e-01, -1.8425e-01, -1.5313e-01,\n",
              "                                                         2.5492e-01,  1.3511e-01, -5.2384e-02, -4.4246e-01, -5.8570e-02,\n",
              "                                                         3.0461e-01, -4.0059e-03,  4.1939e-02,  4.0883e-01, -1.1218e-01,\n",
              "                                                         2.6665e-01,  1.7193e-01, -4.8760e-01, -1.1925e-01, -6.1382e-02,\n",
              "                                                         1.3098e-01,  1.9261e-01, -1.0507e-01, -5.4363e-01, -3.7134e-01,\n",
              "                                                         4.3890e-01,  4.4437e-01, -3.9375e-02, -3.0392e-01,  5.7952e-02,\n",
              "                                                         1.4570e-02,  1.7130e-01, -4.9283e-02, -1.0384e-01, -1.3099e-01,\n",
              "                                                         5.4286e-01, -1.4178e-01, -2.3248e-01, -3.0477e-02,  9.1935e-02,\n",
              "                                                         4.8160e-02,  4.8930e-01,  5.0809e-02, -1.6011e-01,  5.0507e-02,\n",
              "                                                         1.5534e-01, -7.4662e-02, -3.6212e-01, -2.5217e-01,  6.2453e-02,\n",
              "                                                        -4.4573e-01,  2.6847e-01,  6.0744e-02,  1.6722e-01, -3.4661e-01,\n",
              "                                                        -4.5619e-01,  1.1017e-03,  2.1120e-01,  2.4215e-01, -2.6002e-01,\n",
              "                                                        -1.9861e-02, -3.2975e-01,  3.7017e-02,  6.5801e-02, -2.1171e-01,\n",
              "                                                        -2.3748e-01,  5.3614e-01, -8.0758e-02, -4.1055e-01,  2.7532e-01,\n",
              "                                                         2.4675e-01,  3.2509e-01, -6.0275e-02, -3.5395e-02, -2.8428e-01,\n",
              "                                                        -2.8121e-01,  2.0448e-01, -2.9577e-01, -3.3685e-02,  5.7550e-01,\n",
              "                                                         7.8271e-01,  1.5435e-01, -2.1717e-01, -2.2760e-01,  1.9300e-01,\n",
              "                                                        -6.0056e-02,  2.0341e-01, -5.0437e-01,  9.3245e-02,  2.5364e-01,\n",
              "                                                         5.3846e-01,  6.2420e-01, -1.3406e-01, -5.3200e-02, -4.5813e-01,\n",
              "                                                        -3.3346e-01,  3.4406e-01,  2.5353e-01,  5.9250e-02, -1.1647e-01,\n",
              "                                                         2.3656e-01, -1.4273e-01,  9.0298e-02, -2.6999e-01,  5.4604e-01,\n",
              "                                                        -3.0966e-01, -4.5339e-01, -3.4638e-01, -2.5870e-01,  3.7595e-01,\n",
              "                                                         4.7617e-01, -1.9217e-01, -1.7662e-01,  2.5479e-01, -2.5507e-02,\n",
              "                                                        -2.7604e-01, -1.3979e-01, -2.4342e-01, -2.6569e-01,  1.4128e-01,\n",
              "                                                         7.3704e-02,  4.2103e-02, -5.6018e-01, -1.0554e-02, -2.8752e-01,\n",
              "                                                        -4.2935e-01,  1.0530e-01,  6.8080e-02,  6.4883e-02, -1.6443e-01,\n",
              "                                                        -2.3323e-01, -3.6691e-01,  2.1347e-01,  3.3970e-01, -5.0991e-01,\n",
              "                                                        -2.0307e-01, -1.1837e-01,  4.8348e-01, -3.1041e-01, -6.4964e-01,\n",
              "                                                        -3.6708e-01, -1.4526e-01,  4.3360e-01, -1.6231e-01,  9.6904e-02,\n",
              "                                                        -4.9663e-01, -2.2415e-01, -3.4451e-01,  6.1355e-02, -6.0641e-03,\n",
              "                                                         5.8843e-02,  1.7427e-01,  5.8816e-03,  8.7059e-02,  2.2273e-01,\n",
              "                                                        -8.8281e-02, -2.0256e-01,  3.8762e-01, -4.0052e-01, -2.9595e-01,\n",
              "                                                        -4.8032e-01, -1.4498e-01, -4.7322e-01, -2.0179e-01,  2.4610e-01,\n",
              "                                                        -3.0415e-01, -3.5195e-01, -3.0157e-01, -7.2230e-01,  4.6334e-01,\n",
              "                                                         4.5440e-01,  2.5201e-01,  3.8769e-01,  3.3331e-01,  1.0600e-01,\n",
              "                                                         3.9418e-01, -3.3493e-01, -3.1057e-01, -1.6321e-01, -1.6113e-01,\n",
              "                                                        -2.9748e-01,  4.0544e-01,  1.3227e-01, -4.6624e-02,  3.0175e-01,\n",
              "                                                        -1.1941e-01,  5.1358e-03, -9.7753e-02, -1.7233e-01, -2.2129e-02,\n",
              "                                                         5.9728e-02,  1.6117e-01, -5.4618e-02, -7.6303e-03, -3.0210e-01,\n",
              "                                                         1.3479e-01, -2.9337e-01,  1.6841e-01,  2.0700e-01, -6.1813e-02,\n",
              "                                                        -1.3616e-01,  1.1988e-01,  3.5024e-01,  3.7278e-02, -3.7547e-01,\n",
              "                                                         6.7871e-02,  9.9973e-02, -1.7967e-02,  1.7356e-01, -1.1888e-01,\n",
              "                                                        -2.4531e-01, -4.4940e-01,  1.9254e-01, -4.0533e-02, -3.6252e-01,\n",
              "                                                         2.0145e-01, -2.1227e-03, -2.7900e-01,  5.5377e-01,  6.1118e-01,\n",
              "                                                        -1.7266e-01,  3.7832e-02,  1.9777e-01,  2.0715e-01, -9.0316e-04,\n",
              "                                                         2.1388e-01,  3.3444e-01,  1.0381e-01,  3.5916e-01,  3.4699e-01,\n",
              "                                                        -3.6121e-02,  5.5344e-01, -4.5998e-01, -2.2179e-01,  2.0819e-01,\n",
              "                                                        -5.0361e-01, -4.5750e-01,  2.8184e-01, -2.1694e-01, -3.3844e-02,\n",
              "                                                         1.3818e-02,  2.7718e-02, -3.3046e-02,  2.5866e-01, -5.1467e-01,\n",
              "                                                        -1.1367e-01, -1.2413e-01, -5.8051e-01,  1.1820e-01,  2.9441e-01,\n",
              "                                                         1.0065e-01, -5.0416e-01, -7.7025e-02, -5.9608e-02,  3.9771e-02,\n",
              "                                                        -3.8002e-01,  3.2881e-02,  2.6881e-01, -7.2674e-02, -7.0662e-03,\n",
              "                                                         1.3412e-03,  2.9879e-01, -8.5260e-02,  2.6467e-01, -2.6931e-01,\n",
              "                                                         1.3567e-01, -1.4693e-01,  2.5033e-01, -1.8789e-01, -1.6990e-01,\n",
              "                                                        -2.3889e-01, -3.8225e-01, -8.4747e-02,  2.9440e-01, -2.6846e-01,\n",
              "                                                         2.3862e-01, -2.4852e-01, -4.9390e-02, -5.0926e-01,  3.5881e-01,\n",
              "                                                         5.4554e-02, -3.1730e-01, -2.1940e-02,  1.4475e-01,  1.8180e-01,\n",
              "                                                        -2.4140e-01, -4.7836e-01,  2.5258e-01, -5.7845e-01,  4.0754e-01,\n",
              "                                                        -6.3840e-01, -3.3167e-01,  2.3345e-01, -1.0595e-01,  3.6008e-01,\n",
              "                                                        -1.8344e-01, -2.0832e-01, -9.5738e-03,  3.9513e-01, -2.9867e-01,\n",
              "                                                        -2.3945e-01, -6.2792e-01, -4.7490e-01,  1.1271e-01, -9.0561e-02,\n",
              "                                                         4.8544e-01, -8.5049e-02, -5.7006e-01,  3.0674e-01, -3.6554e-01,\n",
              "                                                         5.7698e-03,  1.3069e-01,  3.0165e-02, -4.8480e-01, -3.1115e-01,\n",
              "                                                        -1.8342e-01,  1.5592e-01, -2.4712e-01,  1.2324e-01,  1.6763e-01,\n",
              "                                                        -2.0972e-01, -1.7549e-01,  4.7140e-01, -1.2088e-01,  4.7202e-01,\n",
              "                                                         2.6259e-03,  2.8397e-01, -6.6845e-02, -2.9869e-01, -1.0891e-01,\n",
              "                                                        -8.8904e-02,  3.8319e-01, -1.9838e-01, -1.3969e-01, -2.6615e-02,\n",
              "                                                        -5.4761e-01, -2.5537e-01, -1.5152e-01,  1.4616e-01, -1.7488e-01,\n",
              "                                                         1.9560e-02,  5.3318e-01,  3.5384e-01, -4.4691e-02,  4.2897e-01,\n",
              "                                                        -4.2429e-01,  3.0856e-01, -1.6731e-01, -1.4658e-01,  7.1456e-02,\n",
              "                                                        -3.9898e-01,  4.3742e-01,  1.8339e-01, -1.8914e-01,  5.0142e-01,\n",
              "                                                        -5.5912e-02, -5.4127e-02,  1.2655e-02, -2.8560e-01, -5.1655e-04,\n",
              "                                                        -1.2035e-01,  2.3946e-01,  3.8246e-02,  3.4322e-02, -5.5229e-01,\n",
              "                                                         2.9367e-01, -4.7080e-01, -1.3489e-01,  9.6782e-02, -1.0959e-01,\n",
              "                                                        -2.4151e-01, -4.4741e-01,  1.1693e-01,  1.9122e-01, -6.8597e-01,\n",
              "                                                         1.6744e-01,  3.5795e-01, -3.2048e-01,  1.0875e-01, -3.8149e-01,\n",
              "                                                        -3.3980e-02, -3.6555e-01,  2.8171e-01,  1.1343e-01, -1.3815e-01,\n",
              "                                                         7.3287e-04, -6.0072e-01,  3.4597e-01,  4.1096e-03, -5.6741e-03,\n",
              "                                                         1.1568e-01, -1.9764e-01,  1.7717e-01, -2.9254e-01,  4.1129e-01,\n",
              "                                                        -5.5553e-02, -3.3547e-01, -3.5186e-01, -7.1435e-02, -4.7323e-01,\n",
              "                                                        -1.4500e-01,  2.2954e-02, -6.3769e-01, -8.3656e-02,  1.2024e-01,\n",
              "                                                        -2.3634e-01,  1.0747e-01, -1.7664e-01,  1.6233e-01, -8.6473e-02,\n",
              "                                                         2.1554e-01, -3.2003e-01, -2.7243e-01, -1.0935e-01, -2.2642e-01,\n",
              "                                                        -3.9240e-01,  2.6318e-01, -3.0039e-01,  1.7922e-01, -2.8450e-01,\n",
              "                                                         3.7139e-01, -8.5812e-02, -2.7536e-01,  4.8569e-01,  6.0131e-02,\n",
              "                                                         2.0612e-01,  1.2448e-01,  2.6712e-01,  5.3140e-01,  1.5146e-01,\n",
              "                                                         3.4332e-02,  1.2403e-02,  5.3281e-01,  2.6906e-03,  4.5956e-01,\n",
              "                                                         6.6946e-01,  1.0649e-01,  2.4790e-01, -5.9161e-01, -1.8676e-01,\n",
              "                                                         3.0243e-01, -1.1187e-01, -7.5867e-02, -2.1495e-02, -1.2008e-01,\n",
              "                                                        -6.3714e-02,  1.4217e-01, -3.6597e-01]], grad_fn=<TanhBackward>))])"
            ]
          },
          "metadata": {},
          "execution_count": 29
        }
      ]
    },
    {
      "cell_type": "code",
      "metadata": {
        "id": "ICTBaMakK7Tr"
      },
      "source": [
        ""
      ],
      "execution_count": null,
      "outputs": []
    }
  ]
}