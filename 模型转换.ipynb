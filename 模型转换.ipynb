{
  "nbformat": 4,
  "nbformat_minor": 0,
  "metadata": {
    "colab": {
      "name": "欢迎使用 Colaboratory",
      "provenance": [],
      "collapsed_sections": [],
      "include_colab_link": true
    },
    "kernelspec": {
      "display_name": "Python 3",
      "name": "python3"
    }
  },
  "cells": [
    {
      "cell_type": "markdown",
      "metadata": {
        "id": "view-in-github",
        "colab_type": "text"
      },
      "source": [
        "<a href=\"https://colab.research.google.com/github/yemanzhongting/MultiCity/blob/main/%E6%A8%A1%E5%9E%8B%E8%BD%AC%E6%8D%A2.ipynb\" target=\"_parent\"><img src=\"https://colab.research.google.com/assets/colab-badge.svg\" alt=\"Open In Colab\"/></a>"
      ]
    },
    {
      "cell_type": "markdown",
      "metadata": {
        "id": "5fCEDCU_qrC0"
      },
      "source": [
        "<p><img alt=\"Colaboratory logo\" height=\"45px\" src=\"/img/colab_favicon.ico\" align=\"left\" hspace=\"10px\" vspace=\"0px\"></p>\n",
        "\n",
        "<h1>什么是 Colaboratory？</h1>\n",
        "\n",
        "借助 Colaboratory（简称 Colab），您可在浏览器中编写和执行 Python 代码，并且： \n",
        "- 无需任何配置\n",
        "- 免费使用 GPU\n",
        "- 轻松共享\n",
        "\n",
        "无论您是一名<strong>学生</strong>、<strong>数据科学家</strong>还是 <strong>AI 研究员</strong>，Colab 都能够帮助您更轻松地完成工作。您可以观看 <a href=\"https://www.youtube.com/watch?v=inN8seMm7UI\">Colab 简介</a>了解详情，或查看下面的入门指南！"
      ]
    },
    {
      "cell_type": "markdown",
      "metadata": {
        "id": "GJBs_flRovLc"
      },
      "source": [
        "## <strong>使用入门</strong>\n",
        "\n",
        "您正在阅读的文档并非静态网页，而是一个允许您编写和执行代码的交互式环境，称为 <strong>Colab 笔记本</strong>。\n",
        "\n",
        "例如，以下<strong>代码单元格</strong>包含一个简短的 Python 脚本，该脚本会计算值、将其存储在变量中并输出结果："
      ]
    },
    {
      "cell_type": "code",
      "metadata": {
        "colab": {
          "base_uri": "https://localhost:8080/"
        },
        "id": "gJr_9dXGpJ05",
        "outputId": "9e7f5209-b2e9-4c7b-d5eb-1608edf89376"
      },
      "source": [
        "seconds_in_a_day = 24 * 60 * 60\n",
        "seconds_in_a_day"
      ],
      "execution_count": 1,
      "outputs": [
        {
          "output_type": "execute_result",
          "data": {
            "text/plain": [
              "86400"
            ]
          },
          "metadata": {},
          "execution_count": 1
        }
      ]
    },
    {
      "cell_type": "markdown",
      "metadata": {
        "id": "2fhs6GZ4qFMx"
      },
      "source": [
        "要执行上述单元格中的代码，请点击选择它，然后按代码左侧的“播放”按钮，或使用键盘快捷键“Command/Ctrl+Enter”。要修改代码，只需点击单元格，然后开始修改。\n",
        "\n",
        "您在某个单元格中定义的变量之后可用在其他单元格中："
      ]
    },
    {
      "cell_type": "code",
      "metadata": {
        "colab": {
          "base_uri": "https://localhost:8080/"
        },
        "id": "-gE-Ez1qtyIA",
        "outputId": "e4e6f0c1-b0f9-4810-bdc0-717f475de7c8"
      },
      "source": [
        "seconds_in_a_week = 7 * seconds_in_a_day\n",
        "seconds_in_a_week"
      ],
      "execution_count": 2,
      "outputs": [
        {
          "output_type": "execute_result",
          "data": {
            "text/plain": [
              "604800"
            ]
          },
          "metadata": {},
          "execution_count": 2
        }
      ]
    },
    {
      "cell_type": "markdown",
      "metadata": {
        "id": "lSrWNr3MuFUS"
      },
      "source": [
        "对于 Colab 笔记本，您可以将<strong>可执行代码</strong>、<strong>富文本</strong>以及<strong>图像</strong>、<strong>HTML</strong>、<strong>LaTeX</strong> 等内容合入 1 个文档中。当您创建自己的 Colab 笔记本时，系统会将这些笔记本存储在您的 Google 云端硬盘帐号名下。您可以轻松地将 Colab 笔记本共享给同事或好友，允许他们评论甚至修改笔记本。要了解详情，请参阅 <a href=\"/notebooks/basic_features_overview.ipynb\">Colab 概览</a>。要创建新的 Colab 笔记本，您可以使用上方的“文件”菜单，也可以使用以下链接：<a href=\"http://colab.research.google.com#create=true\">创建新的 Colab 笔记本</a>。\n",
        "\n",
        "Colab 笔记本是由 Colab 托管的 Jupyter 笔记本。如需详细了解 Jupyter 项目，请访问 <a href=\"https://www.jupyter.org\">jupyter.org</a>。"
      ]
    },
    {
      "cell_type": "markdown",
      "metadata": {
        "id": "UdRyKR44dcNI"
      },
      "source": [
        "## 数据科学\n",
        "\n",
        "借助 Colab，您可以充分利用常用 Python 库的强大功能来分析和可视化数据。下方的代码单元格使用 <strong>NumPy</strong> 生成一些随机数据，并使用 <strong>Matplotlib</strong> 可视化这些数据。要修改代码，只需点击单元格，然后开始修改。"
      ]
    },
    {
      "cell_type": "code",
      "metadata": {
        "colab": {
          "base_uri": "https://localhost:8080/",
          "height": 281
        },
        "id": "C4HZx7Gndbrh",
        "outputId": "218f193f-df32-4efd-e57a-32407f652250"
      },
      "source": [
        "import numpy as np\n",
        "from matplotlib import pyplot as plt\n",
        "\n",
        "ys = 200 + np.random.randn(100)\n",
        "x = [x for x in range(len(ys))]\n",
        "\n",
        "plt.plot(x, ys, '-')\n",
        "plt.fill_between(x, ys, 195, where=(ys > 195), facecolor='g', alpha=0.6)\n",
        "\n",
        "plt.title(\"Sample Visualization\")\n",
        "plt.show()"
      ],
      "execution_count": 3,
      "outputs": [
        {
          "output_type": "display_data",
          "data": {
            "image/png": "[encoded data removed]",
            "text/plain": [
              "<Figure size 432x288 with 1 Axes>"
            ]
          },
          "metadata": {
            "needs_background": "light"
          }
        }
      ]
    },
    {
      "cell_type": "markdown",
      "metadata": {
        "id": "4_kCnsPUqS6o"
      },
      "source": [
        "您可将自己的数据导入 Colab 笔记本中，支持的数据来源有：Google 云端硬盘帐号（包括电子表格）、GitHub 以及其他很多来源。要详细了解如何导入数据及将 Colab 用于数据科学领域，请访问下方<a href=\"#working-with-data\">处理数据</a>下的链接。"
      ]
    },
    {
      "cell_type": "markdown",
      "metadata": {
        "id": "OwuxHmxllTwN"
      },
      "source": [
        "## 机器学习\n",
        "\n",
        "借助 Colab，您只需使用<a href=\"https://colab.research.google.com/github/tensorflow/docs/blob/master/site/en/tutorials/quickstart/beginner.ipynb\">几行代码</a>，即可导入图像数据集、用图像数据集训练图像分类器，以及评估模型。Colab 笔记本会在 Google 的云服务器中执行代码，也就是说，无论您所用机器的功能如何，您都可以利用 Google 硬件（包括 <a href=\"#using-accelerated-hardware\">GPU 和 TPU</a>）的强大性能。只要有个浏览器即可。"
      ]
    },
    {
      "cell_type": "markdown",
      "metadata": {
        "id": "ufxBm1yRnruN"
      },
      "source": [
        "Colab 在机器学习社区内得到了广泛应用，应用示例包括：\n",
        "- TensorFlow 使用入门\n",
        "- 开发和训练神经网络\n",
        "- 使用 TPU 进行实验\n",
        "- 推广 AI 研究\n",
        "- 创建教程\n",
        "\n",
        "要查看演示机器学习应用的示例 Colab 笔记本，请查看下方的<a href=\"#machine-learning-examples\">机器学习示例</a>。"
      ]
    },
    {
      "cell_type": "markdown",
      "metadata": {
        "id": "-Rh3-Vt9Nev9"
      },
      "source": [
        "## 更多资源\n",
        "\n",
        "### 在 Colab 中使用笔记本\n",
        "- [Colaboratory 概览](/notebooks/basic_features_overview.ipynb)\n",
        "- [Markdown 指南](/notebooks/markdown_guide.ipynb)\n",
        "- [导入库和安装依赖项](/notebooks/snippets/importing_libraries.ipynb)\n",
        "- [在 GitHub 中保存和加载笔记本](https://colab.research.google.com/github/googlecolab/colabtools/blob/master/notebooks/colab-github-demo.ipynb)\n",
        "- [互动表单](/notebooks/forms.ipynb)\n",
        "- [互动微件](/notebooks/widgets.ipynb)\n",
        "- <img src=\"/img/new.png\" height=\"20px\" align=\"left\" hspace=\"4px\" alt=\"New\"></img>\n",
        " [在 Colab 中使用 TensorFlow 2](/notebooks/tensorflow_version.ipynb)\n",
        "\n",
        "<a name=\"working-with-data\"></a>\n",
        "### 处理数据\n",
        "- [加载数据：云端硬盘、表格和 Google Cloud Storage](/notebooks/io.ipynb) \n",
        "- [图表：可视化数据](/notebooks/charts.ipynb)\n",
        "- [BigQuery 使用入门](/notebooks/bigquery.ipynb)\n",
        "\n",
        "### 机器学习速成课程\n",
        "以下是 Google 在线机器学习课程中的部分笔记本。请查看<a href=\"https://developers.google.com/machine-learning/crash-course/\">完整课程网站</a>了解详情。\n",
        "- [Pandas 简介](/notebooks/mlcc/intro_to_pandas.ipynb)\n",
        "- [Tensorflow 概念](/notebooks/mlcc/tensorflow_programming_concepts.ipynb)\n",
        "\n",
        "<a name=\"using-accelerated-hardware\"></a>\n",
        "### 使用加速硬件\n",
        "- [将 TensorFlow 与 GPU 配合使用](/notebooks/gpu.ipynb)\n",
        "- [将 TensorFlow 与 TPU 配合使用](/notebooks/tpu.ipynb)"
      ]
    },
    {
      "cell_type": "markdown",
      "metadata": {
        "id": "P-H6Lw1vyNNd"
      },
      "source": [
        "<a name=\"machine-learning-examples\"></a>\n",
        "\n",
        "## 机器学习示例\n",
        "\n",
        "如需查看 Colaboratory 能够实现的互动机器学习分析的端到端示例，请参阅这些使用 <a href=\"https://tfhub.dev\">TensorFlow Hub</a> 中的模型的教程。\n",
        "\n",
        "一些精选示例：\n",
        "\n",
        "- <a href=\"https://tensorflow.org/hub/tutorials/tf2_image_retraining\">重新训练图像分类器</a>：基于预训练的图像分类器，构建一个分辨花朵的 Keras 模型。\n",
        "- <a href=\"https://tensorflow.org/hub/tutorials/tf2_text_classification\">文本分类</a>：将 IMDB 影评分类为“褒义”<em></em>或<em></em>“贬义”。\n",
        "- <a href=\"https://tensorflow.org/hub/tutorials/tf2_arbitrary_image_stylization\">风格迁移</a>：使用深度学习在图像之间迁移风格。\n",
        "- <a href=\"https://tensorflow.org/hub/tutorials/retrieval_with_tf_hub_universal_encoder_qa\">Multilingual Universal Sentence Encoder Q&amp;A</a>：使用机器学习模型回答来自 SQuAD 数据集中的问题。\n",
        "- <a href=\"https://tensorflow.org/hub/tutorials/tweening_conv3d\">视频插帧</a>：预测视频第一帧和最后一帧之间有些什么。\n"
      ]
    },
    {
      "cell_type": "code",
      "metadata": {
        "id": "i3F3jjQL97y7",
        "outputId": "11b7f3fe-459b-4f27-8719-8c3b6b9f0027",
        "colab": {
          "base_uri": "https://localhost:8080/"
        }
      },
      "source": [
        "%tensorflow_version 1.x"
      ],
      "execution_count": 4,
      "outputs": [
        {
          "output_type": "stream",
          "text": [
            "TensorFlow 1.x selected.\n"
          ],
          "name": "stdout"
        }
      ]
    },
    {
      "cell_type": "code",
      "metadata": {
        "id": "KriaQBCc-TOY",
        "outputId": "294de3bd-d784-43d2-bad9-91249a41eb6a",
        "colab": {
          "base_uri": "https://localhost:8080/"
        }
      },
      "source": [
        "!pip install transformers"
      ],
      "execution_count": 5,
      "outputs": [
        {
          "output_type": "stream",
          "text": [
            "Requirement already satisfied: transformers in /usr/local/lib/python3.7/dist-packages (4.9.2)\n",
            "Requirement already satisfied: numpy>=1.17 in /usr/local/lib/python3.7/dist-packages (from transformers) (1.19.5)\n",
            "Requirement already satisfied: regex!=2019.12.17 in /usr/local/lib/python3.7/dist-packages (from transformers) (2019.12.20)\n",
            "Requirement already satisfied: pyyaml>=5.1 in /usr/local/lib/python3.7/dist-packages (from transformers) (5.4.1)\n",
            "Requirement already satisfied: requests in /usr/local/lib/python3.7/dist-packages (from transformers) (2.23.0)\n",
            "Requirement already satisfied: tokenizers<0.11,>=0.10.1 in /usr/local/lib/python3.7/dist-packages (from transformers) (0.10.3)\n",
            "Requirement already satisfied: sacremoses in /usr/local/lib/python3.7/dist-packages (from transformers) (0.0.45)\n",
            "Requirement already satisfied: tqdm>=4.27 in /usr/local/lib/python3.7/dist-packages (from transformers) (4.62.0)\n",
            "Requirement already satisfied: packaging in /usr/local/lib/python3.7/dist-packages (from transformers) (21.0)\n",
            "Requirement already satisfied: filelock in /usr/local/lib/python3.7/dist-packages (from transformers) (3.0.12)\n",
            "Requirement already satisfied: importlib-metadata in /usr/local/lib/python3.7/dist-packages (from transformers) (4.6.4)\n",
            "Requirement already satisfied: huggingface-hub==0.0.12 in /usr/local/lib/python3.7/dist-packages (from transformers) (0.0.12)\n",
            "Requirement already satisfied: typing-extensions in /usr/local/lib/python3.7/dist-packages (from huggingface-hub==0.0.12->transformers) (3.7.4.3)\n",
            "Requirement already satisfied: pyparsing>=2.0.2 in /usr/local/lib/python3.7/dist-packages (from packaging->transformers) (2.4.7)\n",
            "Requirement already satisfied: zipp>=0.5 in /usr/local/lib/python3.7/dist-packages (from importlib-metadata->transformers) (3.5.0)\n",
            "Requirement already satisfied: certifi>=2017.4.17 in /usr/local/lib/python3.7/dist-packages (from requests->transformers) (2021.5.30)\n",
            "Requirement already satisfied: idna<3,>=2.5 in /usr/local/lib/python3.7/dist-packages (from requests->transformers) (2.10)\n",
            "Requirement already satisfied: urllib3!=1.25.0,!=1.25.1,<1.26,>=1.21.1 in /usr/local/lib/python3.7/dist-packages (from requests->transformers) (1.24.3)\n",
            "Requirement already satisfied: chardet<4,>=3.0.2 in /usr/local/lib/python3.7/dist-packages (from requests->transformers) (3.0.4)\n",
            "Requirement already satisfied: joblib in /usr/local/lib/python3.7/dist-packages (from sacremoses->transformers) (1.0.1)\n",
            "Requirement already satisfied: click in /usr/local/lib/python3.7/dist-packages (from sacremoses->transformers) (7.1.2)\n",
            "Requirement already satisfied: six in /usr/local/lib/python3.7/dist-packages (from sacremoses->transformers) (1.15.0)\n"
          ],
          "name": "stdout"
        }
      ]
    },
    {
      "cell_type": "code",
      "metadata": {
        "id": "Nii0Y_U998sq",
        "outputId": "3e47e239-c049-4136-b9b8-3a440d723612",
        "colab": {
          "base_uri": "https://localhost:8080/"
        }
      },
      "source": [
        "from transformers import AutoTokenizer, AutoModel\n",
        "\n",
        "tokenizer = AutoTokenizer.from_pretrained(\"ethanyt/guwenbert-base\")\n",
        "\n",
        "model = AutoModel.from_pretrained(\"ethanyt/guwenbert-base\")"
      ],
      "execution_count": 6,
      "outputs": [
        {
          "output_type": "stream",
          "text": [
            "Some weights of the model checkpoint at ethanyt/guwenbert-base were not used when initializing RobertaModel: ['lm_head.dense.bias', 'lm_head.dense.weight', 'lm_head.layer_norm.bias', 'lm_head.decoder.weight', 'lm_head.bias', 'lm_head.decoder.bias', 'lm_head.layer_norm.weight']\n",
            "- This IS expected if you are initializing RobertaModel from the checkpoint of a model trained on another task or with another architecture (e.g. initializing a BertForSequenceClassification model from a BertForPreTraining model).\n",
            "- This IS NOT expected if you are initializing RobertaModel from the checkpoint of a model that you expect to be exactly identical (initializing a BertForSequenceClassification model from a BertForSequenceClassification model).\n"
          ],
          "name": "stderr"
        }
      ]
    },
    {
      "cell_type": "code",
      "metadata": {
        "id": "bBZupad5-ZlD"
      },
      "source": [
        "import argparse\n",
        "import os\n",
        "\n",
        "import numpy as np\n",
        "import tensorflow as tf\n",
        "import torch\n",
        "\n",
        "from transformers import BertModel\n",
        "\n",
        "\n",
        "def convert_pytorch_checkpoint_to_tf(model: BertModel, ckpt_dir: str, model_name: str):\n",
        "\n",
        "    \"\"\"\n",
        "    Args:\n",
        "        model: BertModel Pytorch model instance to be converted\n",
        "        ckpt_dir: Tensorflow model directory\n",
        "        model_name: model name\n",
        "    Currently supported HF models:\n",
        "        - Y BertModel\n",
        "        - N BertForMaskedLM\n",
        "        - N BertForPreTraining\n",
        "        - N BertForMultipleChoice\n",
        "        - N BertForNextSentencePrediction\n",
        "        - N BertForSequenceClassification\n",
        "        - N BertForQuestionAnswering\n",
        "    \"\"\"\n",
        "\n",
        "    tensors_to_transpose = (\"dense.weight\", \"attention.self.query\", \"attention.self.key\", \"attention.self.value\")\n",
        "\n",
        "    var_map = (\n",
        "        (\"layer.\", \"layer_\"),\n",
        "        (\"word_embeddings.weight\", \"word_embeddings\"),\n",
        "        (\"position_embeddings.weight\", \"position_embeddings\"),\n",
        "        (\"token_type_embeddings.weight\", \"token_type_embeddings\"),\n",
        "        (\".\", \"/\"),\n",
        "        (\"LayerNorm/weight\", \"LayerNorm/gamma\"),\n",
        "        (\"LayerNorm/bias\", \"LayerNorm/beta\"),\n",
        "        (\"weight\", \"kernel\"),\n",
        "    )\n",
        "\n",
        "    if not os.path.isdir(ckpt_dir):\n",
        "        os.makedirs(ckpt_dir)\n",
        "\n",
        "    state_dict = model.state_dict()\n",
        "\n",
        "    def to_tf_var_name(name: str):\n",
        "        for patt, repl in iter(var_map):\n",
        "            name = name.replace(patt, repl)\n",
        "        return f\"bert/{name}\"\n",
        "\n",
        "    def create_tf_var(tensor: np.ndarray, name: str, session: tf.Session):\n",
        "        tf_dtype = tf.dtypes.as_dtype(tensor.dtype)\n",
        "        tf_var = tf.get_variable(dtype=tf_dtype, shape=tensor.shape, name=name, initializer=tf.zeros_initializer())\n",
        "        session.run(tf.variables_initializer([tf_var]))\n",
        "        session.run(tf_var)\n",
        "        return tf_var\n",
        "\n",
        "    tf.reset_default_graph()\n",
        "    with tf.Session() as session:\n",
        "        for var_name in state_dict:\n",
        "            tf_name = to_tf_var_name(var_name)\n",
        "            torch_tensor = state_dict[var_name].numpy()\n",
        "            if any([x in var_name for x in tensors_to_transpose]):\n",
        "                torch_tensor = torch_tensor.T\n",
        "            tf_var = create_tf_var(tensor=torch_tensor, name=tf_name, session=session)\n",
        "            tf.keras.backend.set_value(tf_var, torch_tensor)\n",
        "            tf_weight = session.run(tf_var)\n",
        "            print(f\"Successfully created {tf_name}: {np.allclose(tf_weight, torch_tensor)}\")\n",
        "\n",
        "        saver = tf.train.Saver(tf.trainable_variables())\n",
        "        saver.save(session, os.path.join(ckpt_dir, model_name.replace(\"-\", \"_\") + \".ckpt\"))"
      ],
      "execution_count": 7,
      "outputs": []
    },
    {
      "cell_type": "code",
      "metadata": {
        "id": "Z5QzCBxj-3gT"
      },
      "source": [
        "# !pip install tensorflow==1.14"
      ],
      "execution_count": 11,
      "outputs": []
    },
    {
      "cell_type": "code",
      "metadata": {
        "id": "cv8rOCaI_o0m"
      },
      "source": [
        "# %tensorflow_version 1.x"
      ],
      "execution_count": 9,
      "outputs": []
    },
    {
      "cell_type": "code",
      "metadata": {
        "id": "l1uU1El4_mnu",
        "outputId": "b8772405-f7a9-440d-f28c-b32000952818",
        "colab": {
          "base_uri": "https://localhost:8080/"
        }
      },
      "source": [
        "import tensorflow\n",
        "print(tensorflow.__version__)"
      ],
      "execution_count": 10,
      "outputs": [
        {
          "output_type": "stream",
          "text": [
            "1.15.2\n"
          ],
          "name": "stdout"
        }
      ]
    },
    {
      "cell_type": "code",
      "metadata": {
        "id": "-EgtkeCj-RNo",
        "outputId": "129cdc60-2797-4a15-b3f9-f120314954b1",
        "colab": {
          "base_uri": "https://localhost:8080/"
        }
      },
      "source": [
        "convert_pytorch_checkpoint_to_tf(model=model, ckpt_dir='/content/tfguwen', model_name='guwenbert')"
      ],
      "execution_count": 11,
      "outputs": [
        {
          "output_type": "stream",
          "text": [
            "Successfully created bert/embeddings/position_ids: True\n",
            "Successfully created bert/embeddings/word_embeddings: True\n",
            "Successfully created bert/embeddings/position_embeddings: True\n",
            "Successfully created bert/embeddings/token_type_embeddings: True\n",
            "Successfully created bert/embeddings/LayerNorm/gamma: True\n",
            "Successfully created bert/embeddings/LayerNorm/beta: True\n",
            "Successfully created bert/encoder/layer_0/attention/self/query/kernel: True\n",
            "Successfully created bert/encoder/layer_0/attention/self/query/bias: True\n",
            "Successfully created bert/encoder/layer_0/attention/self/key/kernel: True\n",
            "Successfully created bert/encoder/layer_0/attention/self/key/bias: True\n",
            "Successfully created bert/encoder/layer_0/attention/self/value/kernel: True\n",
            "Successfully created bert/encoder/layer_0/attention/self/value/bias: True\n",
            "Successfully created bert/encoder/layer_0/attention/output/dense/kernel: True\n",
            "Successfully created bert/encoder/layer_0/attention/output/dense/bias: True\n",
            "Successfully created bert/encoder/layer_0/attention/output/LayerNorm/gamma: True\n",
            "Successfully created bert/encoder/layer_0/attention/output/LayerNorm/beta: True\n",
            "Successfully created bert/encoder/layer_0/intermediate/dense/kernel: True\n",
            "Successfully created bert/encoder/layer_0/intermediate/dense/bias: True\n",
            "Successfully created bert/encoder/layer_0/output/dense/kernel: True\n",
            "Successfully created bert/encoder/layer_0/output/dense/bias: True\n",
            "Successfully created bert/encoder/layer_0/output/LayerNorm/gamma: True\n",
            "Successfully created bert/encoder/layer_0/output/LayerNorm/beta: True\n",
            "Successfully created bert/encoder/layer_1/attention/self/query/kernel: True\n",
            "Successfully created bert/encoder/layer_1/attention/self/query/bias: True\n",
            "Successfully created bert/encoder/layer_1/attention/self/key/kernel: True\n",
            "Successfully created bert/encoder/layer_1/attention/self/key/bias: True\n",
            "Successfully created bert/encoder/layer_1/attention/self/value/kernel: True\n",
            "Successfully created bert/encoder/layer_1/attention/self/value/bias: True\n",
            "Successfully created bert/encoder/layer_1/attention/output/dense/kernel: True\n",
            "Successfully created bert/encoder/layer_1/attention/output/dense/bias: True\n",
            "Successfully created bert/encoder/layer_1/attention/output/LayerNorm/gamma: True\n",
            "Successfully created bert/encoder/layer_1/attention/output/LayerNorm/beta: True\n",
            "Successfully created bert/encoder/layer_1/intermediate/dense/kernel: True\n",
            "Successfully created bert/encoder/layer_1/intermediate/dense/bias: True\n",
            "Successfully created bert/encoder/layer_1/output/dense/kernel: True\n",
            "Successfully created bert/encoder/layer_1/output/dense/bias: True\n",
            "Successfully created bert/encoder/layer_1/output/LayerNorm/gamma: True\n",
            "Successfully created bert/encoder/layer_1/output/LayerNorm/beta: True\n",
            "Successfully created bert/encoder/layer_2/attention/self/query/kernel: True\n",
            "Successfully created bert/encoder/layer_2/attention/self/query/bias: True\n",
            "Successfully created bert/encoder/layer_2/attention/self/key/kernel: True\n",
            "Successfully created bert/encoder/layer_2/attention/self/key/bias: True\n",
            "Successfully created bert/encoder/layer_2/attention/self/value/kernel: True\n",
            "Successfully created bert/encoder/layer_2/attention/self/value/bias: True\n",
            "Successfully created bert/encoder/layer_2/attention/output/dense/kernel: True\n",
            "Successfully created bert/encoder/layer_2/attention/output/dense/bias: True\n",
            "Successfully created bert/encoder/layer_2/attention/output/LayerNorm/gamma: True\n",
            "Successfully created bert/encoder/layer_2/attention/output/LayerNorm/beta: True\n",
            "Successfully created bert/encoder/layer_2/intermediate/dense/kernel: True\n",
            "Successfully created bert/encoder/layer_2/intermediate/dense/bias: True\n",
            "Successfully created bert/encoder/layer_2/output/dense/kernel: True\n",
            "Successfully created bert/encoder/layer_2/output/dense/bias: True\n",
            "Successfully created bert/encoder/layer_2/output/LayerNorm/gamma: True\n",
            "Successfully created bert/encoder/layer_2/output/LayerNorm/beta: True\n",
            "Successfully created bert/encoder/layer_3/attention/self/query/kernel: True\n",
            "Successfully created bert/encoder/layer_3/attention/self/query/bias: True\n",
            "Successfully created bert/encoder/layer_3/attention/self/key/kernel: True\n",
            "Successfully created bert/encoder/layer_3/attention/self/key/bias: True\n",
            "Successfully created bert/encoder/layer_3/attention/self/value/kernel: True\n",
            "Successfully created bert/encoder/layer_3/attention/self/value/bias: True\n",
            "Successfully created bert/encoder/layer_3/attention/output/dense/kernel: True\n",
            "Successfully created bert/encoder/layer_3/attention/output/dense/bias: True\n",
            "Successfully created bert/encoder/layer_3/attention/output/LayerNorm/gamma: True\n",
            "Successfully created bert/encoder/layer_3/attention/output/LayerNorm/beta: True\n",
            "Successfully created bert/encoder/layer_3/intermediate/dense/kernel: True\n",
            "Successfully created bert/encoder/layer_3/intermediate/dense/bias: True\n",
            "Successfully created bert/encoder/layer_3/output/dense/kernel: True\n",
            "Successfully created bert/encoder/layer_3/output/dense/bias: True\n",
            "Successfully created bert/encoder/layer_3/output/LayerNorm/gamma: True\n",
            "Successfully created bert/encoder/layer_3/output/LayerNorm/beta: True\n",
            "Successfully created bert/encoder/layer_4/attention/self/query/kernel: True\n",
            "Successfully created bert/encoder/layer_4/attention/self/query/bias: True\n",
            "Successfully created bert/encoder/layer_4/attention/self/key/kernel: True\n",
            "Successfully created bert/encoder/layer_4/attention/self/key/bias: True\n",
            "Successfully created bert/encoder/layer_4/attention/self/value/kernel: True\n",
            "Successfully created bert/encoder/layer_4/attention/self/value/bias: True\n",
            "Successfully created bert/encoder/layer_4/attention/output/dense/kernel: True\n",
            "Successfully created bert/encoder/layer_4/attention/output/dense/bias: True\n",
            "Successfully created bert/encoder/layer_4/attention/output/LayerNorm/gamma: True\n",
            "Successfully created bert/encoder/layer_4/attention/output/LayerNorm/beta: True\n",
            "Successfully created bert/encoder/layer_4/intermediate/dense/kernel: True\n",
            "Successfully created bert/encoder/layer_4/intermediate/dense/bias: True\n",
            "Successfully created bert/encoder/layer_4/output/dense/kernel: True\n",
            "Successfully created bert/encoder/layer_4/output/dense/bias: True\n",
            "Successfully created bert/encoder/layer_4/output/LayerNorm/gamma: True\n",
            "Successfully created bert/encoder/layer_4/output/LayerNorm/beta: True\n",
            "Successfully created bert/encoder/layer_5/attention/self/query/kernel: True\n",
            "Successfully created bert/encoder/layer_5/attention/self/query/bias: True\n",
            "Successfully created bert/encoder/layer_5/attention/self/key/kernel: True\n",
            "Successfully created bert/encoder/layer_5/attention/self/key/bias: True\n",
            "Successfully created bert/encoder/layer_5/attention/self/value/kernel: True\n",
            "Successfully created bert/encoder/layer_5/attention/self/value/bias: True\n",
            "Successfully created bert/encoder/layer_5/attention/output/dense/kernel: True\n",
            "Successfully created bert/encoder/layer_5/attention/output/dense/bias: True\n",
            "Successfully created bert/encoder/layer_5/attention/output/LayerNorm/gamma: True\n",
            "Successfully created bert/encoder/layer_5/attention/output/LayerNorm/beta: True\n",
            "Successfully created bert/encoder/layer_5/intermediate/dense/kernel: True\n",
            "Successfully created bert/encoder/layer_5/intermediate/dense/bias: True\n",
            "Successfully created bert/encoder/layer_5/output/dense/kernel: True\n",
            "Successfully created bert/encoder/layer_5/output/dense/bias: True\n",
            "Successfully created bert/encoder/layer_5/output/LayerNorm/gamma: True\n",
            "Successfully created bert/encoder/layer_5/output/LayerNorm/beta: True\n",
            "Successfully created bert/encoder/layer_6/attention/self/query/kernel: True\n",
            "Successfully created bert/encoder/layer_6/attention/self/query/bias: True\n",
            "Successfully created bert/encoder/layer_6/attention/self/key/kernel: True\n",
            "Successfully created bert/encoder/layer_6/attention/self/key/bias: True\n",
            "Successfully created bert/encoder/layer_6/attention/self/value/kernel: True\n",
            "Successfully created bert/encoder/layer_6/attention/self/value/bias: True\n",
            "Successfully created bert/encoder/layer_6/attention/output/dense/kernel: True\n",
            "Successfully created bert/encoder/layer_6/attention/output/dense/bias: True\n",
            "Successfully created bert/encoder/layer_6/attention/output/LayerNorm/gamma: True\n",
            "Successfully created bert/encoder/layer_6/attention/output/LayerNorm/beta: True\n",
            "Successfully created bert/encoder/layer_6/intermediate/dense/kernel: True\n",
            "Successfully created bert/encoder/layer_6/intermediate/dense/bias: True\n",
            "Successfully created bert/encoder/layer_6/output/dense/kernel: True\n",
            "Successfully created bert/encoder/layer_6/output/dense/bias: True\n",
            "Successfully created bert/encoder/layer_6/output/LayerNorm/gamma: True\n",
            "Successfully created bert/encoder/layer_6/output/LayerNorm/beta: True\n",
            "Successfully created bert/encoder/layer_7/attention/self/query/kernel: True\n",
            "Successfully created bert/encoder/layer_7/attention/self/query/bias: True\n",
            "Successfully created bert/encoder/layer_7/attention/self/key/kernel: True\n",
            "Successfully created bert/encoder/layer_7/attention/self/key/bias: True\n",
            "Successfully created bert/encoder/layer_7/attention/self/value/kernel: True\n",
            "Successfully created bert/encoder/layer_7/attention/self/value/bias: True\n",
            "Successfully created bert/encoder/layer_7/attention/output/dense/kernel: True\n",
            "Successfully created bert/encoder/layer_7/attention/output/dense/bias: True\n",
            "Successfully created bert/encoder/layer_7/attention/output/LayerNorm/gamma: True\n",
            "Successfully created bert/encoder/layer_7/attention/output/LayerNorm/beta: True\n",
            "Successfully created bert/encoder/layer_7/intermediate/dense/kernel: True\n",
            "Successfully created bert/encoder/layer_7/intermediate/dense/bias: True\n",
            "Successfully created bert/encoder/layer_7/output/dense/kernel: True\n",
            "Successfully created bert/encoder/layer_7/output/dense/bias: True\n",
            "Successfully created bert/encoder/layer_7/output/LayerNorm/gamma: True\n",
            "Successfully created bert/encoder/layer_7/output/LayerNorm/beta: True\n",
            "Successfully created bert/encoder/layer_8/attention/self/query/kernel: True\n",
            "Successfully created bert/encoder/layer_8/attention/self/query/bias: True\n",
            "Successfully created bert/encoder/layer_8/attention/self/key/kernel: True\n",
            "Successfully created bert/encoder/layer_8/attention/self/key/bias: True\n",
            "Successfully created bert/encoder/layer_8/attention/self/value/kernel: True\n",
            "Successfully created bert/encoder/layer_8/attention/self/value/bias: True\n",
            "Successfully created bert/encoder/layer_8/attention/output/dense/kernel: True\n",
            "Successfully created bert/encoder/layer_8/attention/output/dense/bias: True\n",
            "Successfully created bert/encoder/layer_8/attention/output/LayerNorm/gamma: True\n",
            "Successfully created bert/encoder/layer_8/attention/output/LayerNorm/beta: True\n",
            "Successfully created bert/encoder/layer_8/intermediate/dense/kernel: True\n",
            "Successfully created bert/encoder/layer_8/intermediate/dense/bias: True\n",
            "Successfully created bert/encoder/layer_8/output/dense/kernel: True\n",
            "Successfully created bert/encoder/layer_8/output/dense/bias: True\n",
            "Successfully created bert/encoder/layer_8/output/LayerNorm/gamma: True\n",
            "Successfully created bert/encoder/layer_8/output/LayerNorm/beta: True\n",
            "Successfully created bert/encoder/layer_9/attention/self/query/kernel: True\n",
            "Successfully created bert/encoder/layer_9/attention/self/query/bias: True\n",
            "Successfully created bert/encoder/layer_9/attention/self/key/kernel: True\n",
            "Successfully created bert/encoder/layer_9/attention/self/key/bias: True\n",
            "Successfully created bert/encoder/layer_9/attention/self/value/kernel: True\n",
            "Successfully created bert/encoder/layer_9/attention/self/value/bias: True\n",
            "Successfully created bert/encoder/layer_9/attention/output/dense/kernel: True\n",
            "Successfully created bert/encoder/layer_9/attention/output/dense/bias: True\n",
            "Successfully created bert/encoder/layer_9/attention/output/LayerNorm/gamma: True\n",
            "Successfully created bert/encoder/layer_9/attention/output/LayerNorm/beta: True\n",
            "Successfully created bert/encoder/layer_9/intermediate/dense/kernel: True\n",
            "Successfully created bert/encoder/layer_9/intermediate/dense/bias: True\n",
            "Successfully created bert/encoder/layer_9/output/dense/kernel: True\n",
            "Successfully created bert/encoder/layer_9/output/dense/bias: True\n",
            "Successfully created bert/encoder/layer_9/output/LayerNorm/gamma: True\n",
            "Successfully created bert/encoder/layer_9/output/LayerNorm/beta: True\n",
            "Successfully created bert/encoder/layer_10/attention/self/query/kernel: True\n",
            "Successfully created bert/encoder/layer_10/attention/self/query/bias: True\n",
            "Successfully created bert/encoder/layer_10/attention/self/key/kernel: True\n",
            "Successfully created bert/encoder/layer_10/attention/self/key/bias: True\n",
            "Successfully created bert/encoder/layer_10/attention/self/value/kernel: True\n",
            "Successfully created bert/encoder/layer_10/attention/self/value/bias: True\n",
            "Successfully created bert/encoder/layer_10/attention/output/dense/kernel: True\n",
            "Successfully created bert/encoder/layer_10/attention/output/dense/bias: True\n",
            "Successfully created bert/encoder/layer_10/attention/output/LayerNorm/gamma: True\n",
            "Successfully created bert/encoder/layer_10/attention/output/LayerNorm/beta: True\n",
            "Successfully created bert/encoder/layer_10/intermediate/dense/kernel: True\n",
            "Successfully created bert/encoder/layer_10/intermediate/dense/bias: True\n",
            "Successfully created bert/encoder/layer_10/output/dense/kernel: True\n",
            "Successfully created bert/encoder/layer_10/output/dense/bias: True\n",
            "Successfully created bert/encoder/layer_10/output/LayerNorm/gamma: True\n",
            "Successfully created bert/encoder/layer_10/output/LayerNorm/beta: True\n",
            "Successfully created bert/encoder/layer_11/attention/self/query/kernel: True\n",
            "Successfully created bert/encoder/layer_11/attention/self/query/bias: True\n",
            "Successfully created bert/encoder/layer_11/attention/self/key/kernel: True\n",
            "Successfully created bert/encoder/layer_11/attention/self/key/bias: True\n",
            "Successfully created bert/encoder/layer_11/attention/self/value/kernel: True\n",
            "Successfully created bert/encoder/layer_11/attention/self/value/bias: True\n",
            "Successfully created bert/encoder/layer_11/attention/output/dense/kernel: True\n",
            "Successfully created bert/encoder/layer_11/attention/output/dense/bias: True\n",
            "Successfully created bert/encoder/layer_11/attention/output/LayerNorm/gamma: True\n",
            "Successfully created bert/encoder/layer_11/attention/output/LayerNorm/beta: True\n",
            "Successfully created bert/encoder/layer_11/intermediate/dense/kernel: True\n",
            "Successfully created bert/encoder/layer_11/intermediate/dense/bias: True\n",
            "Successfully created bert/encoder/layer_11/output/dense/kernel: True\n",
            "Successfully created bert/encoder/layer_11/output/dense/bias: True\n",
            "Successfully created bert/encoder/layer_11/output/LayerNorm/gamma: True\n",
            "Successfully created bert/encoder/layer_11/output/LayerNorm/beta: True\n",
            "Successfully created bert/pooler/dense/kernel: True\n",
            "Successfully created bert/pooler/dense/bias: True\n"
          ],
          "name": "stdout"
        }
      ]
    },
    {
      "cell_type": "code",
      "metadata": {
        "id": "GQTt-ZiqFIyd",
        "outputId": "b1bc2fc6-0cf2-40fa-ae0c-2229cb2952ed",
        "colab": {
          "base_uri": "https://localhost:8080/"
        }
      },
      "source": [
        "!ls"
      ],
      "execution_count": 12,
      "outputs": [
        {
          "output_type": "stream",
          "text": [
            "bertbase     config.json.1   pytorch_model.bin\ttfguwen\n",
            "config.json  guwenbert-base  sample_data\n"
          ],
          "name": "stdout"
        }
      ]
    },
    {
      "cell_type": "code",
      "metadata": {
        "id": "dwXUzw6gFJ8D",
        "outputId": "f38009cb-a08c-4b3a-da1f-49e1e66a19b1",
        "colab": {
          "base_uri": "https://localhost:8080/"
        }
      },
      "source": [
        "!zip -r tfguwen.zip tfguwen "
      ],
      "execution_count": 13,
      "outputs": [
        {
          "output_type": "stream",
          "text": [
            "  adding: tfguwen/ (stored 0%)\n",
            "  adding: tfguwen/guwenbert.ckpt.meta (deflated 92%)\n",
            "  adding: tfguwen/guwenbert.ckpt.index (deflated 69%)\n",
            "  adding: tfguwen/guwenbert.ckpt.data-00000-of-00001\n",
            "\n",
            "\n",
            "zip error: Interrupted (aborting)\n"
          ],
          "name": "stdout"
        }
      ]
    },
    {
      "cell_type": "code",
      "metadata": {
        "id": "0bo2tyD1FMy3",
        "outputId": "4a919a2e-c501-469e-c6ff-e9cbbbcad793",
        "colab": {
          "base_uri": "https://localhost:8080/"
        }
      },
      "source": [
        "!tar -czvf tfguwen.tar.gz tfguwen "
      ],
      "execution_count": 14,
      "outputs": [
        {
          "output_type": "stream",
          "text": [
            "tfguwen/\n",
            "tfguwen/guwenbert.ckpt.meta\n",
            "tfguwen/guwenbert.ckpt.index\n",
            "tfguwen/guwenbert.ckpt.data-00000-of-00001\n",
            "tfguwen/checkpoint\n"
          ],
          "name": "stdout"
        }
      ]
    },
    {
      "cell_type": "code",
      "metadata": {
        "id": "2VgDqS8XFl7B"
      },
      "source": [
        ""
      ],
      "execution_count": null,
      "outputs": []
    },
    {
      "cell_type": "code",
      "metadata": {
        "id": "hnp5LZ-rGQkx",
        "outputId": "2d1f262d-6ece-48a8-9de4-be47eb095270",
        "colab": {
          "base_uri": "https://localhost:8080/"
        }
      },
      "source": [
        "from google.colab import drive\n",
        "drive.mount('/content/drive')"
      ],
      "execution_count": 15,
      "outputs": [
        {
          "output_type": "stream",
          "text": [
            "Mounted at /content/drive\n"
          ],
          "name": "stdout"
        }
      ]
    },
    {
      "cell_type": "code",
      "metadata": {
        "id": "XpPTxBKDGRJJ"
      },
      "source": [
        ""
      ],
      "execution_count": null,
      "outputs": []
    }
  ]
}